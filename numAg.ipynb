{
 "cells": [
  {
   "cell_type": "code",
   "execution_count": 1,
   "metadata": {},
   "outputs": [],
   "source": [
    "import numpy as np\n",
    "from BPnumba.Individual import Ind\n",
    "from BPmodule.BPGen import GetInstance\n",
    "from BPnumba.AGH import createAG,GASearch\n",
    "import matplotlib.pyplot as plt\n",
    "from numba import types, njit,int64,jit,cuda,prange,vectorize\n",
    "from numba.typed import List as NumbaList\n",
    "from BPnumba.Poblation import CreateRotHPob,EvalPob\n",
    "from BPnumba.BoxN import create_ItemBin,ItemBin,InstaceBoxes\n",
    "from BPnumba.GeneticOperators import CrossOX,MutateInversion\n",
    "import math"
   ]
  },
  {
   "cell_type": "code",
   "execution_count": 2,
   "metadata": {},
   "outputs": [],
   "source": [
    "def zerovec(y, x): return np.zeros(shape=[x, y], dtype=np.float64)\n",
    "createText = lambda x,y : np.savetxt(\n",
    "    fname = \"Results/\"+x + \".csv\",\n",
    "    X= y,\n",
    "    delimiter=\" \",\n",
    "    fmt='%g'\n",
    ")"
   ]
  },
  {
   "cell_type": "code",
   "execution_count": 3,
   "metadata": {},
   "outputs": [],
   "source": [
    "@njit#(parallel=True)\n",
    "def BenchAG(i,boxes,bin,lst,lst2,lst3,maxItr,pop,rot):\n",
    "    #fi = NumbaList(np.zeros(maxItr,dtype=np.float64))\n",
    "    UBOXES = InstaceBoxes(boxes)\n",
    "    pob = CreateRotHPob(pop =pop, ITEMS = UBOXES, rotType=rot)\n",
    "    EvalPob(pob,UBOXES,bin,rot)\n",
    "    \n",
    "    ind:Ind=GASearch(maxItr=maxItr,ps=0.85,pc=0.75,pmr=0.05,mut=0,pob=pob.copy(),datos=UBOXES.copy(),contenedor=bin,rotType=rot)\n",
    "    ind2:Ind=GASearch(maxItr=maxItr,ps=0.85,pc=0.75,pmr=0.05,mut=1,pob=pob.copy(),datos=UBOXES.copy(),contenedor=bin,rotType=rot)\n",
    "    ind3:Ind=GASearch(maxItr=maxItr,ps=0.85,pc=0.75,pmr=0.05,mut=2,pob=pob.copy(),datos=UBOXES.copy(),contenedor=bin,rotType=rot)\n",
    "    \n",
    "    lst[i]=ind.fi\n",
    "    lst2[i] = ind2.fi\n",
    "    lst3[i] = ind3.fi\n",
    "@njit(parallel=True)\n",
    "def BAG(rango,contenedor,data:list[list[list[int]]],agL,agL2,agL3,maxItr,numpop,rotation):\n",
    "    for p in prange(rango):\n",
    "        BenchAG(i=p,boxes=data[p], bin=contenedor,maxItr= maxItr,lst= agL,lst2=agL2,lst3=agL3,pop=numpop,rot=rotation)"
   ]
  },
  {
   "cell_type": "code",
   "execution_count": 4,
   "metadata": {},
   "outputs": [
    {
     "ename": "TypingError",
     "evalue": "Failed in nopython mode pipeline (step: nopython frontend)\n\u001b[1m\u001b[1m\u001b[1m\u001b[1mFailed in nopython mode pipeline (step: nopython frontend)\n\u001b[1mNameError: name 'lst1' is not defined\u001b[0m\n\u001b[0m\u001b[1mDuring: resolving callee type: type(CPUDispatcher(<function BenchAG at 0x000001552888C3A0>))\u001b[0m\n\u001b[0m\u001b[1mDuring: typing of call at C:\\Users\\NicolasG\\AppData\\Local\\Temp\\ipykernel_10376\\3450416049.py (18)\n\u001b[0m\n\u001b[0m\u001b[1mDuring: resolving callee type: type(CPUDispatcher(<function BenchAG at 0x000001552888C3A0>))\u001b[0m\n\u001b[0m\u001b[1mDuring: typing of call at C:\\Users\\NicolasG\\AppData\\Local\\Temp\\ipykernel_10376\\3450416049.py (18)\n\u001b[0m\n\u001b[1m\nFile \"C:\\Users\\NicolasG\\AppData\\Local\\Temp\\ipykernel_10376\\3450416049.py\", line 18:\u001b[0m\n\u001b[1mdef BAG(rango,contenedor,data:list[list[list[int]]],agL,agL2,agL3,maxItr,numpop,rotation):\n    <source elided>\n    for p in prange(rango):\n\u001b[1m        BenchAG(i=p,boxes=data[p], bin=contenedor,maxItr= maxItr,lst= agL,lst2=agL2,lst3=agL3,pop=numpop,rot=rotation)\n\u001b[0m        \u001b[1m^\u001b[0m\u001b[0m\n",
     "output_type": "error",
     "traceback": [
      "\u001b[1;31m---------------------------------------------------------------------------\u001b[0m",
      "\u001b[1;31mTypingError\u001b[0m                               Traceback (most recent call last)",
      "\u001b[1;32ma:\\Documents\\python\\BPP3D\\numAg.ipynb Celda 4\u001b[0m in \u001b[0;36m<cell line: 7>\u001b[1;34m()\u001b[0m\n\u001b[0;32m      <a href='vscode-notebook-cell:/a%3A/Documents/python/BPP3D/numAg.ipynb#W1sZmlsZQ%3D%3D?line=3'>4</a>\u001b[0m agL2 \u001b[39m=\u001b[39m zerovec(\u001b[39m1\u001b[39m, \u001b[39m100\u001b[39m)\n\u001b[0;32m      <a href='vscode-notebook-cell:/a%3A/Documents/python/BPP3D/numAg.ipynb#W1sZmlsZQ%3D%3D?line=4'>5</a>\u001b[0m agL3 \u001b[39m=\u001b[39m zerovec(\u001b[39m1\u001b[39m, \u001b[39m100\u001b[39m)\n\u001b[1;32m----> <a href='vscode-notebook-cell:/a%3A/Documents/python/BPP3D/numAg.ipynb#W1sZmlsZQ%3D%3D?line=6'>7</a>\u001b[0m BAG(rango\u001b[39m=\u001b[39;49m\u001b[39m1\u001b[39;49m,contenedor\u001b[39m=\u001b[39;49mBR1[\u001b[39m0\u001b[39;49m],data\u001b[39m=\u001b[39;49mBR1[\u001b[39m1\u001b[39;49m],agL\u001b[39m=\u001b[39;49magL,agL2\u001b[39m=\u001b[39;49magL2,agL3\u001b[39m=\u001b[39;49magL3,maxItr\u001b[39m=\u001b[39;49m\u001b[39m500\u001b[39;49m,numpop\u001b[39m=\u001b[39;49m\u001b[39m50\u001b[39;49m,rotation\u001b[39m=\u001b[39;49m\u001b[39m6\u001b[39;49m)\n\u001b[0;32m      <a href='vscode-notebook-cell:/a%3A/Documents/python/BPP3D/numAg.ipynb#W1sZmlsZQ%3D%3D?line=8'>9</a>\u001b[0m createText(nm\u001b[39m+\u001b[39m\u001b[39m\"\u001b[39m\u001b[39m/AG/\u001b[39m\u001b[39m\"\u001b[39m\u001b[39m+\u001b[39m\u001b[39m\"\u001b[39m\u001b[39mAG\u001b[39m\u001b[39m\"\u001b[39m\u001b[39m+\u001b[39m\u001b[39mstr\u001b[39m(\u001b[39m0\u001b[39m),agL)\n\u001b[0;32m     <a href='vscode-notebook-cell:/a%3A/Documents/python/BPP3D/numAg.ipynb#W1sZmlsZQ%3D%3D?line=9'>10</a>\u001b[0m createText(nm\u001b[39m+\u001b[39m\u001b[39m\"\u001b[39m\u001b[39m/AG/\u001b[39m\u001b[39m\"\u001b[39m\u001b[39m+\u001b[39m\u001b[39m\"\u001b[39m\u001b[39mAG\u001b[39m\u001b[39m\"\u001b[39m\u001b[39m+\u001b[39m\u001b[39mstr\u001b[39m(\u001b[39m1\u001b[39m),agL2)\n",
      "File \u001b[1;32mc:\\Users\\NicolasG\\anaconda3\\lib\\site-packages\\numba\\core\\dispatcher.py:468\u001b[0m, in \u001b[0;36m_DispatcherBase._compile_for_args\u001b[1;34m(self, *args, **kws)\u001b[0m\n\u001b[0;32m    464\u001b[0m         msg \u001b[39m=\u001b[39m (\u001b[39mf\u001b[39m\u001b[39m\"\u001b[39m\u001b[39m{\u001b[39;00m\u001b[39mstr\u001b[39m(e)\u001b[39m.\u001b[39mrstrip()\u001b[39m}\u001b[39;00m\u001b[39m \u001b[39m\u001b[39m\\n\u001b[39;00m\u001b[39m\\n\u001b[39;00m\u001b[39mThis error may have been caused \u001b[39m\u001b[39m\"\u001b[39m\n\u001b[0;32m    465\u001b[0m                \u001b[39mf\u001b[39m\u001b[39m\"\u001b[39m\u001b[39mby the following argument(s):\u001b[39m\u001b[39m\\n\u001b[39;00m\u001b[39m{\u001b[39;00margs_str\u001b[39m}\u001b[39;00m\u001b[39m\\n\u001b[39;00m\u001b[39m\"\u001b[39m)\n\u001b[0;32m    466\u001b[0m         e\u001b[39m.\u001b[39mpatch_message(msg)\n\u001b[1;32m--> 468\u001b[0m     error_rewrite(e, \u001b[39m'\u001b[39;49m\u001b[39mtyping\u001b[39;49m\u001b[39m'\u001b[39;49m)\n\u001b[0;32m    469\u001b[0m \u001b[39mexcept\u001b[39;00m errors\u001b[39m.\u001b[39mUnsupportedError \u001b[39mas\u001b[39;00m e:\n\u001b[0;32m    470\u001b[0m     \u001b[39m# Something unsupported is present in the user code, add help info\u001b[39;00m\n\u001b[0;32m    471\u001b[0m     error_rewrite(e, \u001b[39m'\u001b[39m\u001b[39munsupported_error\u001b[39m\u001b[39m'\u001b[39m)\n",
      "File \u001b[1;32mc:\\Users\\NicolasG\\anaconda3\\lib\\site-packages\\numba\\core\\dispatcher.py:409\u001b[0m, in \u001b[0;36m_DispatcherBase._compile_for_args.<locals>.error_rewrite\u001b[1;34m(e, issue_type)\u001b[0m\n\u001b[0;32m    407\u001b[0m     \u001b[39mraise\u001b[39;00m e\n\u001b[0;32m    408\u001b[0m \u001b[39melse\u001b[39;00m:\n\u001b[1;32m--> 409\u001b[0m     \u001b[39mraise\u001b[39;00m e\u001b[39m.\u001b[39mwith_traceback(\u001b[39mNone\u001b[39;00m)\n",
      "\u001b[1;31mTypingError\u001b[0m: Failed in nopython mode pipeline (step: nopython frontend)\n\u001b[1m\u001b[1m\u001b[1m\u001b[1mFailed in nopython mode pipeline (step: nopython frontend)\n\u001b[1mNameError: name 'lst1' is not defined\u001b[0m\n\u001b[0m\u001b[1mDuring: resolving callee type: type(CPUDispatcher(<function BenchAG at 0x000001552888C3A0>))\u001b[0m\n\u001b[0m\u001b[1mDuring: typing of call at C:\\Users\\NicolasG\\AppData\\Local\\Temp\\ipykernel_10376\\3450416049.py (18)\n\u001b[0m\n\u001b[0m\u001b[1mDuring: resolving callee type: type(CPUDispatcher(<function BenchAG at 0x000001552888C3A0>))\u001b[0m\n\u001b[0m\u001b[1mDuring: typing of call at C:\\Users\\NicolasG\\AppData\\Local\\Temp\\ipykernel_10376\\3450416049.py (18)\n\u001b[0m\n\u001b[1m\nFile \"C:\\Users\\NicolasG\\AppData\\Local\\Temp\\ipykernel_10376\\3450416049.py\", line 18:\u001b[0m\n\u001b[1mdef BAG(rango,contenedor,data:list[list[list[int]]],agL,agL2,agL3,maxItr,numpop,rotation):\n    <source elided>\n    for p in prange(rango):\n\u001b[1m        BenchAG(i=p,boxes=data[p], bin=contenedor,maxItr= maxItr,lst= agL,lst2=agL2,lst3=agL3,pop=numpop,rot=rotation)\n\u001b[0m        \u001b[1m^\u001b[0m\u001b[0m\n"
     ]
    }
   ],
   "source": [
    "nm=\"P2A2\"\n",
    "BR1 = GetInstance(nm)\n",
    "agL = zerovec(1, 100)\n",
    "agL2 = zerovec(1, 100)\n",
    "agL3 = zerovec(1, 100)\n",
    "\n",
    "BAG(rango=1,contenedor=BR1[0],data=BR1[1],agL=agL,agL2=agL2,agL3=agL3,maxItr=500,numpop=50,rotation=6)\n",
    "\n",
    "createText(nm+\"/AG/\"+\"AG\"+str(0),agL)\n",
    "createText(nm+\"/AG/\"+\"AG\"+str(1),agL2)\n",
    "createText(nm+\"/AG/\"+\"AG\"+str(2),agL3)"
   ]
  },
  {
   "cell_type": "code",
   "execution_count": null,
   "metadata": {},
   "outputs": [],
   "source": [
    "n= len(DataSet)\n",
    "pop= 50\n",
    "maxItr=1000\n",
    "rot=6\n",
    "pr_selec=0.85\n",
    "pr_cruza = 0.75\n",
    "pr_mutR=0.05\n",
    "mutType=0\n",
    "n,pop"
   ]
  },
  {
   "cell_type": "code",
   "execution_count": null,
   "metadata": {},
   "outputs": [],
   "source": [
    "UBOXES = InstaceBoxes(DataSet)\n",
    "Pob =   CreateRotHPob(pop =pop, ITEMS = UBOXES.copy(), rotType=rot)\n",
    "EvalPob(Pob,UBOXES,contenedor,rot)"
   ]
  },
  {
   "cell_type": "code",
   "execution_count": null,
   "metadata": {},
   "outputs": [],
   "source": [
    "\n",
    "fi = NumbaList(np.zeros(maxItr,dtype=np.float64))\n",
    "ind2 = GASearch(maxItr=maxItr,ps=pr_selec,pc=pr_cruza,pmr=pr_mutR,mut=mutType,bestfi=fi,pob=Pob.copy(),datos=UBOXES.copy(),contenedor=contenedor,rotType=rot )"
   ]
  },
  {
   "cell_type": "code",
   "execution_count": null,
   "metadata": {},
   "outputs": [],
   "source": [
    "ag = createAG(\n",
    "    ps=pr_selec,\n",
    "    pc=pr_cruza,\n",
    "    pmr=pr_mutR,\n",
    "    adaptive=True,\n",
    "    mutType=1)\n",
    "ind = ag.Train(maxItr,Pob.copy(),NumbaList(UBOXES.copy()),contenedor,rot)"
   ]
  },
  {
   "cell_type": "code",
   "execution_count": null,
   "metadata": {},
   "outputs": [],
   "source": [
    "ag3 = createAG(\n",
    "    ps=pr_selec,\n",
    "    pc=pr_cruza,\n",
    "    pmr=pr_mutR,\n",
    "    adaptive=True,\n",
    "    mutType=2)\n",
    "ind3 = ag3.Train(maxItr,Pob.copy(),NumbaList(UBOXES.copy()),contenedor,rot)"
   ]
  },
  {
   "cell_type": "code",
   "execution_count": null,
   "metadata": {},
   "outputs": [],
   "source": [
    "ind.fi,ind2.fi,ind3.fi"
   ]
  },
  {
   "cell_type": "code",
   "execution_count": null,
   "metadata": {},
   "outputs": [],
   "source": [
    "n-ind.load,n-ind2.load,n-ind3.load"
   ]
  },
  {
   "cell_type": "code",
   "execution_count": null,
   "metadata": {},
   "outputs": [],
   "source": [
    "plt.figure()\n",
    "plt.plot(fi,color='red',label=\"MGAH\")\n",
    "plt.plot(ag.bestfi,color='blue',label=\"MGAH C1\")\n",
    "plt.plot(ag3.bestfi,color='green',label=\"MGAH C2\")\n",
    "plt.legend()\n",
    "plt.ylim(0.5,1)\n",
    "plt.show()"
   ]
  },
  {
   "cell_type": "code",
   "execution_count": null,
   "metadata": {},
   "outputs": [],
   "source": []
  }
 ],
 "metadata": {
  "kernelspec": {
   "display_name": "Python 3.9.12 ('base')",
   "language": "python",
   "name": "python3"
  },
  "language_info": {
   "codemirror_mode": {
    "name": "ipython",
    "version": 3
   },
   "file_extension": ".py",
   "mimetype": "text/x-python",
   "name": "python",
   "nbconvert_exporter": "python",
   "pygments_lexer": "ipython3",
   "version": "3.9.12"
  },
  "orig_nbformat": 4,
  "vscode": {
   "interpreter": {
    "hash": "c9548d78abac3d9c949fbd3fd187a460132993a1944635464947e6b8db26d483"
   }
  }
 },
 "nbformat": 4,
 "nbformat_minor": 2
}
