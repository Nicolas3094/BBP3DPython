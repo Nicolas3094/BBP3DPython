{
 "cells": [
  {
   "cell_type": "code",
   "execution_count": null,
   "metadata": {},
   "outputs": [],
   "source": [
    "import numpy as np\n",
    "from numba.typed import List as NumbaList\n",
    "from BPnumba.NumAG import InstancePob,TrainAG\n",
    "from BPmodule.BPGen  import PROBLEM2,PROBLEM3,PROBLEM4,PROBLEM5\n",
    "from BPnumba.NumFun import CreatePoblation\n",
    "from numba import njit,prange,objmode\n",
    "from typing import List\n",
    "from BPnumba.DFFAnumba import DFFtrain\n",
    "import time\n"
   ]
  },
  {
   "cell_type": "code",
   "execution_count": null,
   "metadata": {},
   "outputs": [],
   "source": [
    "P2A1 = PROBLEM2[0]\n",
    "P2A2 = PROBLEM2[1]\n",
    "P3A1 = PROBLEM3[0]\n",
    "P3A2 = PROBLEM3[1]\n",
    "P4A1 = PROBLEM4[0]\n",
    "P4A2 = PROBLEM4[1]\n",
    "P5A1 = PROBLEM5[0]\n",
    "P5A2 = PROBLEM5[1]\n",
    "pop = 50\n",
    "contenedor = np.asanyarray(P3A1[0],dtype=np.int64)\n",
    "datos =np.asanyarray(P3A1[1],dtype=np.int64)\n",
    "n =len(datos)\n",
    "gamma = 1/(len(datos)*2)\n",
    "initial = CreatePoblation(pop,datos)"
   ]
  },
  {
   "cell_type": "code",
   "execution_count": null,
   "metadata": {},
   "outputs": [],
   "source": [
    "Pob = InstancePob(NumbaList(initial.copy()),datos,contenedor)\n",
    "best =DFFtrain(100,NumbaList(Pob),gamma,NumbaList(datos),NumbaList(contenedor))\n",
    "best.fi"
   ]
  },
  {
   "cell_type": "code",
   "execution_count": null,
   "metadata": {},
   "outputs": [],
   "source": [
    "Pob = InstancePob(NumbaList(initial.copy()),datos,contenedor)\n",
    "best =DFFtrain(500,NumbaList(Pob),gamma,NumbaList(datos),NumbaList(contenedor))\n",
    "best.fi"
   ]
  },
  {
   "cell_type": "code",
   "execution_count": null,
   "metadata": {},
   "outputs": [],
   "source": [
    "x = np.arange(0,len(datos)+1)\n",
    "y = 1/( 1+gamma*(x**2) )"
   ]
  },
  {
   "cell_type": "code",
   "execution_count": null,
   "metadata": {},
   "outputs": [],
   "source": [
    "import matplotlib.pyplot as plt\n",
    "\n",
    "plt.plot(x,y)\n",
    "plt.xlabel('x')\n",
    "plt.ylabel('y')\n",
    "plt.title('Lab DLS')\n",
    "plt.show()\n"
   ]
  },
  {
   "cell_type": "code",
   "execution_count": null,
   "metadata": {},
   "outputs": [],
   "source": []
  }
 ],
 "metadata": {
  "interpreter": {
   "hash": "6161e517c3d4b81215da96e8bcd392bc9974967b9dec3b65fc82e2786b592859"
  },
  "kernelspec": {
   "display_name": "Python 3.9.7 ('base')",
   "language": "python",
   "name": "python3"
  },
  "language_info": {
   "codemirror_mode": {
    "name": "ipython",
    "version": 3
   },
   "file_extension": ".py",
   "mimetype": "text/x-python",
   "name": "python",
   "nbconvert_exporter": "python",
   "pygments_lexer": "ipython3",
   "version": "3.9.7"
  },
  "orig_nbformat": 4
 },
 "nbformat": 4,
 "nbformat_minor": 2
}
