{
 "cells": [
  {
   "cell_type": "code",
   "execution_count": 1,
   "metadata": {},
   "outputs": [],
   "source": [
    "import numpy as np\n",
    "from BPnumba.Individual import Ind\n",
    "from BPmodule.BPGen import GetInstance\n",
    "from BPnumba.AGH import GASearch\n",
    "import matplotlib.pyplot as plt\n",
    "from numba import types, njit,int64,jit,cuda,prange,vectorize\n",
    "from numba.typed import List as NumbaList\n",
    "from BPnumba.Poblation import CreateRotHPob,EvalPob\n",
    "from BPnumba.BoxN import create_ItemBin,ItemBin,InstaceBoxes\n",
    "from BPnumba.GeneticOperators import CrossOX,MutateInversion,RepairRan\n",
    "from BPnumba.BPPH import create_Bin,DBLF\n",
    "from BPmodule.DataLecture import ExpotarJSON,PossiblePositions\n",
    "import math"
   ]
  },
  {
   "cell_type": "code",
   "execution_count": 2,
   "metadata": {},
   "outputs": [],
   "source": [
    "def zerovec(y, x): return np.zeros(shape=[x, y], dtype=np.float64)\n",
    "createText = lambda x,y : np.savetxt(\n",
    "    fname = \"Results/\"+x + \".csv\",\n",
    "    X= y,\n",
    "    delimiter=\" \",\n",
    "    fmt='%g'\n",
    ")"
   ]
  },
  {
   "cell_type": "code",
   "execution_count": 3,
   "metadata": {},
   "outputs": [],
   "source": [
    "@njit#(parallel=True)\n",
    "def BenchAG(i,boxes,bin,lst,lst2,lst3,maxItr,pop,rot):\n",
    "    #fi = NumbaList(np.zeros(maxItr,dtype=np.float64))\n",
    "    UBOXES = InstaceBoxes(boxes)\n",
    "    pob = CreateRotHPob(pop =pop, ITEMS = UBOXES, rotType=rot)\n",
    "    EvalPob(pob,UBOXES,bin,rot)\n",
    "    \n",
    "    ind:Ind=GASearch(maxItr=maxItr,ps=0.85,pc=0.75,pmr=0.05,mut=0,pob=pob.copy(),datos=UBOXES.copy(),contenedor=bin,rotType=rot)\n",
    "    ind2:Ind=GASearch(maxItr=maxItr,ps=0.85,pc=0.75,pmr=0.05,mut=1,pob=pob.copy(),datos=UBOXES.copy(),contenedor=bin,rotType=rot)\n",
    "    ind3:Ind=GASearch(maxItr=maxItr,ps=0.85,pc=0.75,pmr=0.05,mut=2,pob=pob.copy(),datos=UBOXES.copy(),contenedor=bin,rotType=rot)\n",
    "    \n",
    "    lst[i]=ind.fi\n",
    "    lst2[i] = ind2.fi\n",
    "    lst3[i] = ind3.fi\n",
    "@njit(parallel=True)\n",
    "def BAG(rango,rango2,contenedor,data:list[list[list[int]]],agL,agL2,agL3,maxItr,numpop,rotation):\n",
    "    for p in prange(rango,rango2):\n",
    "        BenchAG(\n",
    "            i=p,\n",
    "            boxes=data[p], \n",
    "            bin=contenedor,\n",
    "            maxItr= maxItr,\n",
    "            lst= agL,\n",
    "            lst2=agL2,\n",
    "            lst3=agL3,\n",
    "            pop=numpop,\n",
    "            rot=rotation)"
   ]
  },
  {
   "cell_type": "code",
   "execution_count": 4,
   "metadata": {},
   "outputs": [],
   "source": [
    "def Bench(nm,r,subthread=True,n=4):\n",
    "    BR1 = GetInstance(nm)\n",
    "    agL = zerovec(1, 100)\n",
    "    agL2 = zerovec(1, 100)\n",
    "    agL3 = zerovec(1, 100)\n",
    "    if subthread:\n",
    "        for th in np.arange(0,r,4):\n",
    "            BAG(rango=th,rango2=th+n,contenedor=BR1[0],data=BR1[1],agL=agL,agL2=agL2,agL3=agL3,maxItr=1000,numpop=20,rotation=6)\n",
    "            createText(nm+\"/AG/\"+\"1AG\"+str(0),agL)\n",
    "            createText(nm+\"/AG/\"+\"1AG\"+str(1),agL2)\n",
    "            createText(nm+\"/AG/\"+\"1AG\"+str(2),agL3)\n",
    "    else:\n",
    "        BAG(rango=0,rango2=r,contenedor=BR1[0],data=BR1[1],agL=agL,agL2=agL2,agL3=agL3,maxItr=1000,numpop=20,rotation=6)\n",
    "        createText(nm+\"/AG/\"+\"1AG\"+str(0),agL)\n",
    "        createText(nm+\"/AG/\"+\"1AG\"+str(1),agL2)\n",
    "        createText(nm+\"/AG/\"+\"1AG\"+str(2),agL3)"
   ]
  },
  {
   "cell_type": "code",
   "execution_count": 5,
   "metadata": {},
   "outputs": [
    {
     "name": "stderr",
     "output_type": "stream",
     "text": [
      "a:\\Documents\\python\\BPP3D\\BPmodule\\BPGen.py:405: VisibleDeprecationWarning: Creating an ndarray from ragged nested sequences (which is a list-or-tuple of lists-or-tuples-or ndarrays with different lengths or shapes) is deprecated. If you meant to do this, you must specify 'dtype=object' when creating the ndarray.\n",
      "  bx= np.array(totalboxes)\n"
     ]
    }
   ],
   "source": [
    "BR1 = GetInstance(\"BR1\")"
   ]
  },
  {
   "cell_type": "code",
   "execution_count": 6,
   "metadata": {},
   "outputs": [],
   "source": [
    "UBOXES = InstaceBoxes(BR1[1][1])\n",
    "rot=2\n",
    "Pob = CreateRotHPob(pop =10, ITEMS = UBOXES.copy(), rotType=rot)"
   ]
  },
  {
   "cell_type": "code",
   "execution_count": 7,
   "metadata": {},
   "outputs": [
    {
     "data": {
      "text/plain": [
       "212"
      ]
     },
     "execution_count": 7,
     "metadata": {},
     "output_type": "execute_result"
    }
   ],
   "source": [
    "len(UBOXES)"
   ]
  },
  {
   "cell_type": "code",
   "execution_count": 29,
   "metadata": {},
   "outputs": [
    {
     "data": {
      "text/plain": [
       "(310, 30)"
      ]
     },
     "execution_count": 29,
     "metadata": {},
     "output_type": "execute_result"
    }
   ],
   "source": [
    "n= len(BR1[1][0])\n",
    "pop= 40\n",
    "maxItr=100\n",
    "rot=2\n",
    "pr_selec=0.85\n",
    "pr_cruza = 0.75\n",
    "pr_mutR=0.05\n",
    "mutType=0\n",
    "n,pop"
   ]
  },
  {
   "cell_type": "code",
   "execution_count": 31,
   "metadata": {},
   "outputs": [],
   "source": [
    "EvalPob(Pob,UBOXES,BR1[0],rot)"
   ]
  },
  {
   "cell_type": "code",
   "execution_count": 32,
   "metadata": {},
   "outputs": [
    {
     "data": {
      "text/plain": [
       "(ListType[int64]([136, 137, 138, 139, 140, 141, 142, 143, 144, 145, 146, 161, 147, 149, 150, 151, 152, 153, 154, 155, 156, 157, 158, 159, 148, 135, 110, 111, 112, 113, 114, 115, 116, 117, 118, 119, 120, 134, 121, 123, 124, 125, 126, 127, 128, 129, 130, 131, 132, 133, 122, 160, 189, 190, 191, 192, 193, 194, 195, 196, 197, 198, 199, 187, 200, 202, 203, 204, 205, 206, 207, 208, 209, 210, 211, 212, 201, 162, 188, 163, 164, 165, 166, 167, 168, 169, 170, 171, 172, 174, 186, 176, 177, 178, 179, 180, 181, 182, 183, 184, 185, 173, 175, 107, 109, 108, 106, 76, 75, 74, 73, 72, 71, 70, 69, 68, 67, 66, 65, 77, 64, 62, 61, 60, 59, 58, 57, 56, 55, 54, 52, 51, 50, 63, 53, 105, 104, 103, 102, 101, 100, 99, 98, 97, 96, 95, 94, 93, 78, 79, 80, 81, 82, 83, 84, 92, 91, 90, 89, 85, 88, 87, 86, 24, 23, 22, 21, 20, 19, 18, 17, 16, 15, 14, 12, 25, 11, 10, 9, 8, 7, 6, 5, 4, 3, 2, 13, 27, 49, 48, 47, 46, 45, 44, 43, 42, 41, 40, 39, 38, 37, 36, 35, 34, 33, 32, 31, 30, 29, 28, 1, 26, ...]),\n",
       " 0.8376313825166286)"
      ]
     },
     "execution_count": 32,
     "metadata": {},
     "output_type": "execute_result"
    }
   ],
   "source": [
    "Pob[0].genome,Pob[0].fi"
   ]
  },
  {
   "cell_type": "code",
   "execution_count": 33,
   "metadata": {},
   "outputs": [],
   "source": [
    "fi = NumbaList(np.zeros(maxItr,dtype=np.float64))\n",
    "ind = GASearch(maxItr=maxItr,ps=pr_selec,pc=pr_cruza,pmr=pr_mutR,mut=mutType,pob=Pob.copy(),datos=UBOXES.copy(),contenedor=BR1[0],rotType=rot )"
   ]
  },
  {
   "cell_type": "code",
   "execution_count": 34,
   "metadata": {},
   "outputs": [
    {
     "data": {
      "text/plain": [
       "0.8659488222184262"
      ]
     },
     "execution_count": 34,
     "metadata": {},
     "output_type": "execute_result"
    }
   ],
   "source": [
    "ind.fi"
   ]
  },
  {
   "cell_type": "code",
   "execution_count": 35,
   "metadata": {},
   "outputs": [
    {
     "data": {
      "text/plain": [
       "(ListType[int64]([155, 156, 157, 158, 159, 148, 135, 110, 111, 121, 123, 124, 125, 126, 127, 128, 129, 130, 131, 132, 133, 122, 160, 189, 190, 191, 192, 193, 194, 195, 196, 197, 198, 199, 187, 200, 202, 203, 204, 205, 206, 207, 208, 209, 210, 211, 212, 201, 162, 188, 163, 164, 165, 166, 167, 168, 169, 170, 171, 172, 174, 186, 176, 177, 178, 179, 180, 181, 182, 183, 184, 185, 173, 175, 25, 141, 137, 9, 3, 8, 145, 11, 143, 146, 138, 139, 2, 142, 7, 5, 140, 4, 13, 112, 113, 114, 115, 134, 120, 119, 116, 118, 117, 94, 95, 96, 97, 98, 99, 101, 93, 102, 103, 104, 105, 53, 100, 63, 79, 80, 81, 82, 83, 84, 92, 91, 90, 89, 85, 88, 87, 86, 78, 108, 107, 109, 106, 76, 75, 74, 73, 72, 71, 70, 69, 68, 67, 66, 50, 51, 52, 54, 55, 56, 57, 65, 77, 64, 62, 58, 61, 60, 59, 49, 48, 47, 46, 45, 44, 43, 42, 41, 40, 39, 37, 27, 36, 35, 34, 33, 32, 31, 30, 29, 28, 1, 38, 26, 24, 23, 22, 21, 20, 19, 18, 17, 16, 15, 14, 12, 136, 6, 10, 161, 144, 147, 149, 150, 151, 152, 153, 154, ...]),\n",
       " ListType[int64]([1, 0, 1, 1, 1, 0, 1, 1, 1, 1, 0, 0, 1, 1, 1, 1, 1, 1, 0, 1, 0, 0, 0, 1, 1, 1, 0, 0, 0, 0, 1, 1, 0, 1, 0, 1, 0, 0, 1, 0, 0, 1, 0, 1, 1, 0, 0, 0, 0, 0, 1, 1, 0, 0, 0, 0, 0, 0, 0, 0, 1, 1, 0, 0, 1, 0, 0, 1, 0, 1, 1, 1, 0, 0, 0, 0, 0, 1, 1, 0, 0, 1, 1, 1, 0, 1, 0, 0, 1, 1, 0, 0, 0, 1, 1, 1, 1, 1, 0, 0, 1, 0, 0, 0, 1, 1, 0, 1, 0, 1, 1, 1, 1, 0, 1, 1, 1, 1, 0, 1, 1, 1, 0, 1, 0, 1, 1, 0, 1, 1, 1, 1, 1, 0, 0, 0, 0, 1, 1, 0, 0, 1, 0, 0, 0, 0, 1, 0, 1, 0, 0, 1, 0, 1, 1, 0, 1, 0, 1, 1, 0, 1, 0, 1, 1, 1, 0, 0, 1, 0, 0, 1, 1, 0, 1, 1, 0, 1, 1, 0, 1, 0, 1, 0, 0, 1, 1, 0, 0, 0, 1, 0, 0, 1, 0, 1, 0, 0, 0, 1, 0, 0, 0, 0, 0, 0, 1, 0, 0, 0, 0, 1, ...]))"
      ]
     },
     "execution_count": 35,
     "metadata": {},
     "output_type": "execute_result"
    }
   ],
   "source": [
    "ind.genome,ind.genome_r"
   ]
  },
  {
   "cell_type": "code",
   "execution_count": 36,
   "metadata": {},
   "outputs": [],
   "source": [
    "bin = create_Bin(NumbaList(BR1[0]))"
   ]
  },
  {
   "cell_type": "code",
   "execution_count": 37,
   "metadata": {},
   "outputs": [],
   "source": [
    "DBLF(\n",
    "        bin = bin, \n",
    "        itemsToPack= ind.genome,\n",
    "        itemsRor= ind.genome_r,\n",
    "        BoxesData = UBOXES,\n",
    "        wayRotation=rot\n",
    "        ) #Implementa heuristica"
   ]
  },
  {
   "cell_type": "code",
   "execution_count": 38,
   "metadata": {},
   "outputs": [
    {
     "name": "stdout",
     "output_type": "stream",
     "text": [
      "Done!\n"
     ]
    }
   ],
   "source": [
    "path=r\"A:/Documents/Unity/BPP/Assets/bpp.json\"\n",
    "path2=r\"A:/Documents/Unity/BPP/Assets/points.json\"\n",
    "ExpotarJSON(path=path,rot=rot,Cont=bin,Data=UBOXES)\n",
    "PossiblePositions(path=path2,positions=bin.extrapts)"
   ]
  },
  {
   "cell_type": "code",
   "execution_count": null,
   "metadata": {},
   "outputs": [],
   "source": []
  }
 ],
 "metadata": {
  "kernelspec": {
   "display_name": "Python 3.9.12 ('base')",
   "language": "python",
   "name": "python3"
  },
  "language_info": {
   "codemirror_mode": {
    "name": "ipython",
    "version": 3
   },
   "file_extension": ".py",
   "mimetype": "text/x-python",
   "name": "python",
   "nbconvert_exporter": "python",
   "pygments_lexer": "ipython3",
   "version": "3.9.12"
  },
  "orig_nbformat": 4,
  "vscode": {
   "interpreter": {
    "hash": "c9548d78abac3d9c949fbd3fd187a460132993a1944635464947e6b8db26d483"
   }
  }
 },
 "nbformat": 4,
 "nbformat_minor": 2
}
