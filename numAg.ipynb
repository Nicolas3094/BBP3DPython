{
 "cells": [
  {
   "cell_type": "code",
   "execution_count": 1,
   "metadata": {},
   "outputs": [],
   "source": [
    "import numpy as np\n",
    "from BPmodule.BPGen import CreateData\n",
    "from BPnumba.GeneticOperators import CreatePoblation,InstancePob,CreateHeuristicPob\n",
    "from BPnumba.AGH import createAG\n",
    "import matplotlib.pyplot as plt\n",
    "from numba.typed import List as NumbaList\n"
   ]
  },
  {
   "cell_type": "code",
   "execution_count": 2,
   "metadata": {},
   "outputs": [],
   "source": [
    "contenedor,data = CreateData(algorithm=2,problem=3)\n"
   ]
  },
  {
   "cell_type": "code",
   "execution_count": 3,
   "metadata": {},
   "outputs": [],
   "source": [
    "datos = NumbaList(data[0])"
   ]
  },
  {
   "cell_type": "code",
   "execution_count": 4,
   "metadata": {},
   "outputs": [
    {
     "data": {
      "text/plain": [
       "(52, 50)"
      ]
     },
     "execution_count": 4,
     "metadata": {},
     "output_type": "execute_result"
    }
   ],
   "source": [
    "idBoxes = np.arange(1,len(datos)+1,dtype=np.int64)\n",
    "n= len(datos)\n",
    "pop= 50\n",
    "initial = CreateHeuristicPob(pop,datos,contenedor)\n",
    "maxItr=1000\n",
    "n,pop"
   ]
  },
  {
   "cell_type": "code",
   "execution_count": 5,
   "metadata": {},
   "outputs": [
    {
     "name": "stderr",
     "output_type": "stream",
     "text": [
      "c:\\Users\\NicolasG\\anaconda3\\lib\\site-packages\\numba\\typed\\typedlist.py:83: NumbaPendingDeprecationWarning: \u001b[1m\u001b[1m\n",
      "Encountered the use of a type that is scheduled for deprecation: type 'reflected list' found for argument 'item' of function 'impl_append.<locals>.impl'.\n",
      "\n",
      "For more information visit https://numba.readthedocs.io/en/stable/reference/deprecation.html#deprecation-of-reflection-for-list-and-set-types\n",
      "\u001b[1m\n",
      "File \"c:\\Users\\NicolasG\\anaconda3\\lib\\site-packages\\numba\\typed\\listobject.py\", line 599:\u001b[0m\n",
      "\u001b[1m\n",
      "\u001b[1m    def impl(l, item):\n",
      "\u001b[0m    \u001b[1m^\u001b[0m\u001b[0m\n",
      "\u001b[0m\u001b[0m\n",
      "  l.append(item)\n",
      "c:\\Users\\NicolasG\\anaconda3\\lib\\site-packages\\numba\\core\\ir_utils.py:2152: NumbaPendingDeprecationWarning: \u001b[1m\n",
      "Encountered the use of a type that is scheduled for deprecation: type 'reflected list' found for argument 'item' of function '_append'.\n",
      "\n",
      "For more information visit https://numba.readthedocs.io/en/stable/reference/deprecation.html#deprecation-of-reflection-for-list-and-set-types\n",
      "\u001b[1m\n",
      "File \"c:\\Users\\NicolasG\\anaconda3\\lib\\site-packages\\numba\\typed\\typedlist.py\", line 82:\u001b[0m\n",
      "\u001b[1m@njit\n",
      "\u001b[1mdef _append(l, item):\n",
      "\u001b[0m\u001b[1m^\u001b[0m\u001b[0m\n",
      "\u001b[0m\n",
      "  warnings.warn(NumbaPendingDeprecationWarning(msg, loc=loc))\n"
     ]
    }
   ],
   "source": [
    "Pob = InstancePob(NumbaList(initial),NumbaList(datos),contenedor)"
   ]
  },
  {
   "cell_type": "code",
   "execution_count": 6,
   "metadata": {},
   "outputs": [],
   "source": [
    "ag = createAG(ps=0.85,pc=0.75,adaptive=True,mutType=1)"
   ]
  },
  {
   "cell_type": "code",
   "execution_count": 7,
   "metadata": {},
   "outputs": [
    {
     "name": "stderr",
     "output_type": "stream",
     "text": [
      "<string>:3: NumbaPendingDeprecationWarning: \u001b[1m\u001b[1m\n",
      "Encountered the use of a type that is scheduled for deprecation: type 'reflected list' found for argument 'lst' of function 'ol_list_sort.<locals>.impl'.\n",
      "\n",
      "For more information visit https://numba.readthedocs.io/en/stable/reference/deprecation.html#deprecation-of-reflection-for-list-and-set-types\n",
      "\u001b[1m\n",
      "File \"c:\\Users\\NicolasG\\anaconda3\\lib\\site-packages\\numba\\cpython\\listobj.py\", line 1096:\u001b[0m\n",
      "\u001b[1m\n",
      "\u001b[1m    def impl(lst, key=None, reverse=False):\n",
      "\u001b[0m    \u001b[1m^\u001b[0m\u001b[0m\n",
      "\u001b[0m\u001b[0m\n",
      "<string>:3: NumbaPendingDeprecationWarning: \u001b[1m\u001b[1m\n",
      "Encountered the use of a type that is scheduled for deprecation: type 'reflected list' found for argument 'pob' of function 'NAG.Train'.\n",
      "\n",
      "For more information visit https://numba.readthedocs.io/en/stable/reference/deprecation.html#deprecation-of-reflection-for-list-and-set-types\n",
      "\u001b[1m\n",
      "File \"BPnumba\\AGH.py\", line 37:\u001b[0m\n",
      "\u001b[1m\n",
      "\u001b[1m    def Train(self,maxItr:int,pob:List[Ind],datos:List[List[int]],contenedor:List[int])->Ind:\n",
      "\u001b[0m    \u001b[1m^\u001b[0m\u001b[0m\n",
      "\u001b[0m\u001b[0m\n",
      "<string>:3: NumbaPendingDeprecationWarning: \u001b[1m\u001b[1m\u001b[1m\n",
      "Encountered the use of a type that is scheduled for deprecation: type 'reflected list' found for argument 'lst' of function 'ol_list_sort.<locals>.impl'.\n",
      "\n",
      "For more information visit https://numba.readthedocs.io/en/stable/reference/deprecation.html#deprecation-of-reflection-for-list-and-set-types\n",
      "\u001b[1m\n",
      "File \"c:\\Users\\NicolasG\\anaconda3\\lib\\site-packages\\numba\\cpython\\listobj.py\", line 1096:\u001b[0m\n",
      "\u001b[1m\n",
      "\u001b[1m    def impl(lst, key=None, reverse=False):\n",
      "\u001b[0m    \u001b[1m^\u001b[0m\u001b[0m\n",
      "\u001b[0m\u001b[0m\u001b[0m\n",
      "<string>:3: NumbaPendingDeprecationWarning: \u001b[1m\u001b[1m\u001b[1m\n",
      "Encountered the use of a type that is scheduled for deprecation: type 'reflected list' found for argument 'pob' of function 'NAG.NextGen'.\n",
      "\n",
      "For more information visit https://numba.readthedocs.io/en/stable/reference/deprecation.html#deprecation-of-reflection-for-list-and-set-types\n",
      "\u001b[1m\n",
      "File \"BPnumba\\AGH.py\", line 53:\u001b[0m\n",
      "\u001b[1m\n",
      "\u001b[1m    def NextGen(self,pob:List[Ind],datos,contenedor)->List[Ind]:\n",
      "\u001b[0m    \u001b[1m^\u001b[0m\u001b[0m\n",
      "\u001b[0m\u001b[0m\u001b[0m\n",
      "<string>:3: NumbaPendingDeprecationWarning: \u001b[1m\u001b[1m\u001b[1m\u001b[1m\n",
      "Encountered the use of a type that is scheduled for deprecation: type 'reflected list' found for argument 'lst' of function 'ol_list_sort.<locals>.impl'.\n",
      "\n",
      "For more information visit https://numba.readthedocs.io/en/stable/reference/deprecation.html#deprecation-of-reflection-for-list-and-set-types\n",
      "\u001b[1m\n",
      "File \"c:\\Users\\NicolasG\\anaconda3\\lib\\site-packages\\numba\\cpython\\listobj.py\", line 1096:\u001b[0m\n",
      "\u001b[1m\n",
      "\u001b[1m    def impl(lst, key=None, reverse=False):\n",
      "\u001b[0m    \u001b[1m^\u001b[0m\u001b[0m\n",
      "\u001b[0m\u001b[0m\u001b[0m\u001b[0m\n",
      "<string>:3: NumbaPendingDeprecationWarning: \u001b[1m\u001b[1m\u001b[1m\u001b[1m\n",
      "Encountered the use of a type that is scheduled for deprecation: type 'reflected list' found for argument 'poblation' of function 'NAG.Selection'.\n",
      "\n",
      "For more information visit https://numba.readthedocs.io/en/stable/reference/deprecation.html#deprecation-of-reflection-for-list-and-set-types\n",
      "\u001b[1m\n",
      "File \"BPnumba\\AGH.py\", line 93:\u001b[0m\n",
      "\u001b[1m\n",
      "\u001b[1m    def Selection(self,poblation:List[Ind])->int:\n",
      "\u001b[0m    \u001b[1m^\u001b[0m\u001b[0m\n",
      "\u001b[0m\u001b[0m\u001b[0m\u001b[0m\n",
      "<string>:3: NumbaPendingDeprecationWarning: \u001b[1m\u001b[1m\u001b[1m\u001b[1m\u001b[1m\n",
      "Encountered the use of a type that is scheduled for deprecation: type 'reflected list' found for argument 'Pob' of function 'Tournament'.\n",
      "\n",
      "For more information visit https://numba.readthedocs.io/en/stable/reference/deprecation.html#deprecation-of-reflection-for-list-and-set-types\n",
      "\u001b[1m\n",
      "File \"BPnumba\\GeneticOperators.py\", line 119:\u001b[0m\n",
      "\u001b[1m@njit\n",
      "\u001b[1mdef Tournament(Pob:List[Ind],pt:float=1.0)->int:\n",
      "\u001b[0m\u001b[1m^\u001b[0m\u001b[0m\n",
      "\u001b[0m\u001b[0m\u001b[0m\u001b[0m\u001b[0m\n"
     ]
    }
   ],
   "source": [
    "ag.Train(maxItr,Pob,NumbaList(datos),contenedor)"
   ]
  },
  {
   "cell_type": "code",
   "execution_count": null,
   "metadata": {},
   "outputs": [],
   "source": [
    "ag.BestInd.fi,ag.BestInd.codeSolution"
   ]
  },
  {
   "cell_type": "code",
   "execution_count": null,
   "metadata": {},
   "outputs": [],
   "source": [
    "n-ag.BestInd.load"
   ]
  },
  {
   "cell_type": "code",
   "execution_count": null,
   "metadata": {},
   "outputs": [],
   "source": [
    "plt.figure()\n",
    "plt.plot(ag.bestfi)\n",
    "plt.ylim(0,1)\n",
    "plt.show()"
   ]
  }
 ],
 "metadata": {
  "kernelspec": {
   "display_name": "Python 3.9.12 ('base')",
   "language": "python",
   "name": "python3"
  },
  "language_info": {
   "codemirror_mode": {
    "name": "ipython",
    "version": 3
   },
   "file_extension": ".py",
   "mimetype": "text/x-python",
   "name": "python",
   "nbconvert_exporter": "python",
   "pygments_lexer": "ipython3",
   "version": "3.9.12"
  },
  "orig_nbformat": 4,
  "vscode": {
   "interpreter": {
    "hash": "c9548d78abac3d9c949fbd3fd187a460132993a1944635464947e6b8db26d483"
   }
  }
 },
 "nbformat": 4,
 "nbformat_minor": 2
}
