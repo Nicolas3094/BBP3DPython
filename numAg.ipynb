{
 "cells": [
  {
   "cell_type": "code",
   "execution_count": 30,
   "metadata": {},
   "outputs": [],
   "source": [
    "import numpy as np\n",
    "from BPmodule.BPGen import GetInstance\n",
    "from BPnumba.AGH import createAG,GASearch\n",
    "import matplotlib.pyplot as plt\n",
    "from numba.typed import List as NumbaList\n",
    "from BPnumba.Poblation import CreateRotHPob,EvalPob\n",
    "from BPnumba.BoxN import create_ItemBin,ItemBin,InstaceBoxes\n",
    "from BPnumba.GeneticOperators import CrossOX,MutateInversion"
   ]
  },
  {
   "cell_type": "code",
   "execution_count": 31,
   "metadata": {},
   "outputs": [],
   "source": [
    "BR1 = GetInstance(\"BR1\")\n",
    "contenedor = BR1[0]\n",
    "DataSet = BR1[1][0]"
   ]
  },
  {
   "cell_type": "code",
   "execution_count": 33,
   "metadata": {},
   "outputs": [
    {
     "data": {
      "text/plain": [
       "(25, 20)"
      ]
     },
     "execution_count": 33,
     "metadata": {},
     "output_type": "execute_result"
    }
   ],
   "source": [
    "n= len(DataSet)\n",
    "pop= 20\n",
    "maxItr=100\n",
    "rot=6\n",
    "pr_selec=0.85\n",
    "pr_cruza = 0.75\n",
    "pr_mutR=0.05\n",
    "mutType=0\n",
    "n,pop"
   ]
  },
  {
   "cell_type": "code",
   "execution_count": 34,
   "metadata": {},
   "outputs": [],
   "source": [
    "UBOXES = InstaceBoxes(DataSet)\n",
    "Pob =   CreateRotHPob(pop =pop, ITEMS = UBOXES.copy(), rotType=rot)\n",
    "EvalPob(Pob,UBOXES,contenedor,rot)\n",
    "fi = NumbaList(np.zeros(maxItr,dtype=np.float64))\n",
    "ind2 = GASearch(maxItr=maxItr,ps=pr_selec,pc=pr_cruza,pmr=pr_mutR,mut=mutType,bestfi=fi,pob=Pob,datos=UBOXES,contenedor=contenedor,rotType=rot )"
   ]
  },
  {
   "cell_type": "code",
   "execution_count": 37,
   "metadata": {},
   "outputs": [],
   "source": [
    "UBOXES = InstaceBoxes(DataSet)\n",
    "Pob =   CreateRotHPob(pop =pop, ITEMS = UBOXES.copy(), rotType=rot)\n",
    "EvalPob(Pob,UBOXES,contenedor,rot)\n",
    "ag = createAG(\n",
    "    ps=pr_selec,\n",
    "    pc=pr_cruza,\n",
    "    pmr=pr_mutR,\n",
    "    adaptive=True,\n",
    "    mutType=1)\n",
    "ind = ag.Train(maxItr,Pob,NumbaList(UBOXES),contenedor,rot)"
   ]
  },
  {
   "cell_type": "code",
   "execution_count": 38,
   "metadata": {},
   "outputs": [],
   "source": [
    "UBOXES = InstaceBoxes(DataSet)\n",
    "Pob =   CreateRotHPob(pop =pop, ITEMS = UBOXES.copy(), rotType=rot)\n",
    "EvalPob(Pob,UBOXES,contenedor,rot)\n",
    "ag3 = createAG(\n",
    "    ps=pr_selec,\n",
    "    pc=pr_cruza,\n",
    "    pmr=pr_mutR,\n",
    "    adaptive=True,\n",
    "    mutType=2)\n",
    "ind3 = ag3.Train(maxItr,Pob,NumbaList(UBOXES),contenedor,rot)"
   ]
  },
  {
   "cell_type": "code",
   "execution_count": 39,
   "metadata": {},
   "outputs": [
    {
     "data": {
      "text/plain": [
       "(0.924224, 0.874672, 0.9136)"
      ]
     },
     "execution_count": 39,
     "metadata": {},
     "output_type": "execute_result"
    }
   ],
   "source": [
    "ind.fi,ind2.fi,ind3.fi"
   ]
  },
  {
   "cell_type": "code",
   "execution_count": 40,
   "metadata": {},
   "outputs": [
    {
     "data": {
      "text/plain": [
       "(4, 4, 2)"
      ]
     },
     "execution_count": 40,
     "metadata": {},
     "output_type": "execute_result"
    }
   ],
   "source": [
    "n-ind.load,n-ind2.load,n-ind3.load"
   ]
  },
  {
   "cell_type": "code",
   "execution_count": 42,
   "metadata": {},
   "outputs": [
    {
     "data": {
      "image/png": "[encoded data removed]",
      "text/plain": [
       "<Figure size 432x288 with 1 Axes>"
      ]
     },
     "metadata": {
      "needs_background": "light"
     },
     "output_type": "display_data"
    }
   ],
   "source": [
    "plt.figure()\n",
    "plt.plot(fi,color='red',label=\"MGAH\")\n",
    "plt.plot(ag.bestfi,color='blue',label=\"MGAH C1\")\n",
    "plt.plot(ag3.bestfi,color='green',label=\"MGAH C2\")\n",
    "plt.ylim(0.80,1)\n",
    "plt.show()"
   ]
  },
  {
   "cell_type": "code",
   "execution_count": null,
   "metadata": {},
   "outputs": [],
   "source": []
  }
 ],
 "metadata": {
  "kernelspec": {
   "display_name": "Python 3.9.12 ('base')",
   "language": "python",
   "name": "python3"
  },
  "language_info": {
   "codemirror_mode": {
    "name": "ipython",
    "version": 3
   },
   "file_extension": ".py",
   "mimetype": "text/x-python",
   "name": "python",
   "nbconvert_exporter": "python",
   "pygments_lexer": "ipython3",
   "version": "3.9.12"
  },
  "orig_nbformat": 4,
  "vscode": {
   "interpreter": {
    "hash": "c9548d78abac3d9c949fbd3fd187a460132993a1944635464947e6b8db26d483"
   }
  }
 },
 "nbformat": 4,
 "nbformat_minor": 2
}
