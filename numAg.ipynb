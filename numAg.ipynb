{
 "cells": [
  {
   "cell_type": "code",
   "execution_count": null,
   "metadata": {},
   "outputs": [],
   "source": [
    "import numpy as np\n",
    "from BPmodule.BPGen import CreateData\n",
    "from BPnumba.GeneticOperators import CreatePoblation,InstancePob,CreateHeuristicPob\n",
    "from BPnumba.AGH import createAG\n",
    "import matplotlib.pyplot as plt\n",
    "from numba.typed import List as NumbaList\n"
   ]
  },
  {
   "cell_type": "code",
   "execution_count": null,
   "metadata": {},
   "outputs": [],
   "source": [
    "contenedor,data = CreateData(algorithm=2,problem=3)\n"
   ]
  },
  {
   "cell_type": "code",
   "execution_count": null,
   "metadata": {},
   "outputs": [],
   "source": [
    "datos = NumbaList(data[0])"
   ]
  },
  {
   "cell_type": "code",
   "execution_count": null,
   "metadata": {},
   "outputs": [],
   "source": [
    "idBoxes = np.arange(1,len(datos)+1,dtype=np.int64)\n",
    "n= len(datos)\n",
    "pop= 50\n",
    "initial = CreateHeuristicPob(pop,datos,contenedor)\n",
    "maxItr=1000\n",
    "n,pop"
   ]
  },
  {
   "cell_type": "code",
   "execution_count": null,
   "metadata": {},
   "outputs": [],
   "source": [
    "Pob = InstancePob(NumbaList(initial),NumbaList(datos),contenedor)"
   ]
  },
  {
   "cell_type": "code",
   "execution_count": null,
   "metadata": {},
   "outputs": [],
   "source": [
    "ag = createAG(ps=0.85,pc=0.75,adaptive=True,mutType=1)"
   ]
  },
  {
   "cell_type": "code",
   "execution_count": null,
   "metadata": {},
   "outputs": [],
   "source": [
    "ag.Train(maxItr,Pob,NumbaList(datos),contenedor)"
   ]
  },
  {
   "cell_type": "code",
   "execution_count": null,
   "metadata": {},
   "outputs": [],
   "source": [
    "ag.BestInd.fi,ag.BestInd.codeSolution"
   ]
  },
  {
   "cell_type": "code",
   "execution_count": null,
   "metadata": {},
   "outputs": [],
   "source": [
    "n-ag.BestInd.load"
   ]
  },
  {
   "cell_type": "code",
   "execution_count": null,
   "metadata": {},
   "outputs": [],
   "source": [
    "plt.figure()\n",
    "plt.plot(ag.bestfi)\n",
    "plt.ylim(0,1)\n",
    "plt.show()"
   ]
  }
 ],
 "metadata": {
  "kernelspec": {
   "display_name": "Python 3.9.12 ('base')",
   "language": "python",
   "name": "python3"
  },
  "language_info": {
   "codemirror_mode": {
    "name": "ipython",
    "version": 3
   },
   "file_extension": ".py",
   "mimetype": "text/x-python",
   "name": "python",
   "nbconvert_exporter": "python",
   "pygments_lexer": "ipython3",
   "version": "3.9.12"
  },
  "orig_nbformat": 4,
  "vscode": {
   "interpreter": {
    "hash": "c9548d78abac3d9c949fbd3fd187a460132993a1944635464947e6b8db26d483"
   }
  }
 },
 "nbformat": 4,
 "nbformat_minor": 2
}
