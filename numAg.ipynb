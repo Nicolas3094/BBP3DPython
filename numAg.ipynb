{
 "cells": [
  {
   "cell_type": "code",
   "execution_count": 1,
   "metadata": {},
   "outputs": [],
   "source": [
    "import numpy as np\n",
    "from BPnumba.Individual import Ind\n",
    "from BPmodule.BPGen import GetInstance\n",
    "from BPnumba.AGH import createAG,GASearch\n",
    "import matplotlib.pyplot as plt\n",
    "from numba import types, njit,int64,jit,cuda,prange,vectorize\n",
    "from numba.typed import List as NumbaList\n",
    "from BPnumba.Poblation import CreateRotHPob,EvalPob\n",
    "from BPnumba.BoxN import create_ItemBin,ItemBin,InstaceBoxes\n",
    "from BPnumba.GeneticOperators import CrossOX,MutateInversion\n",
    "import math"
   ]
  },
  {
   "cell_type": "code",
   "execution_count": 2,
   "metadata": {},
   "outputs": [],
   "source": [
    "def zerovec(y, x): return np.zeros(shape=[x, y], dtype=np.float64)\n",
    "createText = lambda x,y : np.savetxt(\n",
    "    fname = \"Results/\"+x + \".csv\",\n",
    "    X= y,\n",
    "    delimiter=\" \",\n",
    "    fmt='%g'\n",
    ")"
   ]
  },
  {
   "cell_type": "code",
   "execution_count": 3,
   "metadata": {},
   "outputs": [],
   "source": [
    "@njit#(parallel=True)\n",
    "def BenchAG(i,boxes,bin,lst,lst2,lst3,maxItr,pop,rot):\n",
    "    #fi = NumbaList(np.zeros(maxItr,dtype=np.float64))\n",
    "    UBOXES = InstaceBoxes(boxes)\n",
    "    pob = CreateRotHPob(pop =pop, ITEMS = UBOXES, rotType=rot)\n",
    "    EvalPob(pob,UBOXES,bin,rot)\n",
    "    \n",
    "    ind:Ind=GASearch(maxItr=maxItr,ps=0.85,pc=0.75,pmr=0.05,mut=0,pob=pob.copy(),datos=UBOXES.copy(),contenedor=bin,rotType=rot)\n",
    "    ind2:Ind=GASearch(maxItr=maxItr,ps=0.85,pc=0.75,pmr=0.05,mut=1,pob=pob.copy(),datos=UBOXES.copy(),contenedor=bin,rotType=rot)\n",
    "    ind3:Ind=GASearch(maxItr=maxItr,ps=0.85,pc=0.75,pmr=0.05,mut=2,pob=pob.copy(),datos=UBOXES.copy(),contenedor=bin,rotType=rot)\n",
    "    \n",
    "    lst[i]=ind.fi\n",
    "    lst2[i] = ind2.fi\n",
    "    lst3[i] = ind3.fi\n",
    "@njit(parallel=True)\n",
    "def BAG(rango,rango2,contenedor,data:list[list[list[int]]],agL,agL2,agL3,maxItr,numpop,rotation):\n",
    "    for p in prange(rango,rango2):\n",
    "        BenchAG(\n",
    "            i=p,\n",
    "            boxes=data[p], \n",
    "            bin=contenedor,\n",
    "            maxItr= maxItr,\n",
    "            lst= agL,\n",
    "            lst2=agL2,\n",
    "            lst3=agL3,\n",
    "            pop=numpop,\n",
    "            rot=rotation)"
   ]
  },
  {
   "cell_type": "code",
   "execution_count": 7,
   "metadata": {},
   "outputs": [],
   "source": [
    "def Bench(nm,r,subthread=True,n=4):\n",
    "    BR1 = GetInstance(nm)\n",
    "    agL = zerovec(1, 100)\n",
    "    agL2 = zerovec(1, 100)\n",
    "    agL3 = zerovec(1, 100)\n",
    "    if subthread:\n",
    "        for th in np.arange(0,r,n):\n",
    "            BAG(rango=th,rango2=th+n,contenedor=BR1[0],data=BR1[1],agL=agL,agL2=agL2,agL3=agL3,maxItr=1000,numpop=20,rotation=6)\n",
    "            createText(nm+\"/AG/\"+\"1AG\"+str(0),agL)\n",
    "            createText(nm+\"/AG/\"+\"1AG\"+str(1),agL2)\n",
    "            createText(nm+\"/AG/\"+\"1AG\"+str(2),agL3)\n",
    "    else:\n",
    "        BAG(rango=0,rango2=r,contenedor=BR1[0],data=BR1[1],agL=agL,agL2=agL2,agL3=agL3,maxItr=1000,numpop=20,rotation=6)\n",
    "        createText(nm+\"/AG/\"+\"1AG\"+str(0),agL)\n",
    "        createText(nm+\"/AG/\"+\"1AG\"+str(1),agL2)\n",
    "        createText(nm+\"/AG/\"+\"1AG\"+str(2),agL3)"
   ]
  },
  {
   "cell_type": "code",
   "execution_count": 9,
   "metadata": {},
   "outputs": [],
   "source": [
    "r=100"
   ]
  },
  {
   "cell_type": "code",
   "execution_count": 10,
   "metadata": {},
   "outputs": [],
   "source": [
    "Bench(nm=\"P2A2\",r=r,subthread=False)"
   ]
  },
  {
   "cell_type": "code",
   "execution_count": 11,
   "metadata": {},
   "outputs": [],
   "source": [
    "Bench(\"P3A2\",r)"
   ]
  },
  {
   "cell_type": "code",
   "execution_count": null,
   "metadata": {},
   "outputs": [],
   "source": [
    "n= len(DataSet)\n",
    "pop= 50\n",
    "maxItr=1000\n",
    "rot=6\n",
    "pr_selec=0.85\n",
    "pr_cruza = 0.75\n",
    "pr_mutR=0.05\n",
    "mutType=0\n",
    "n,pop"
   ]
  },
  {
   "cell_type": "code",
   "execution_count": null,
   "metadata": {},
   "outputs": [],
   "source": [
    "UBOXES = InstaceBoxes(DataSet)\n",
    "Pob =   CreateRotHPob(pop =pop, ITEMS = UBOXES.copy(), rotType=rot)\n",
    "EvalPob(Pob,UBOXES,contenedor,rot)"
   ]
  },
  {
   "cell_type": "code",
   "execution_count": null,
   "metadata": {},
   "outputs": [],
   "source": [
    "\n",
    "fi = NumbaList(np.zeros(maxItr,dtype=np.float64))\n",
    "ind2 = GASearch(maxItr=maxItr,ps=pr_selec,pc=pr_cruza,pmr=pr_mutR,mut=mutType,bestfi=fi,pob=Pob.copy(),datos=UBOXES.copy(),contenedor=contenedor,rotType=rot )"
   ]
  },
  {
   "cell_type": "code",
   "execution_count": null,
   "metadata": {},
   "outputs": [],
   "source": [
    "ag = createAG(\n",
    "    ps=pr_selec,\n",
    "    pc=pr_cruza,\n",
    "    pmr=pr_mutR,\n",
    "    adaptive=True,\n",
    "    mutType=1)\n",
    "ind = ag.Train(maxItr,Pob.copy(),NumbaList(UBOXES.copy()),contenedor,rot)"
   ]
  },
  {
   "cell_type": "code",
   "execution_count": null,
   "metadata": {},
   "outputs": [],
   "source": [
    "ag3 = createAG(\n",
    "    ps=pr_selec,\n",
    "    pc=pr_cruza,\n",
    "    pmr=pr_mutR,\n",
    "    adaptive=True,\n",
    "    mutType=2)\n",
    "ind3 = ag3.Train(maxItr,Pob.copy(),NumbaList(UBOXES.copy()),contenedor,rot)"
   ]
  },
  {
   "cell_type": "code",
   "execution_count": null,
   "metadata": {},
   "outputs": [],
   "source": [
    "ind.fi,ind2.fi,ind3.fi"
   ]
  },
  {
   "cell_type": "code",
   "execution_count": null,
   "metadata": {},
   "outputs": [],
   "source": [
    "n-ind.load,n-ind2.load,n-ind3.load"
   ]
  },
  {
   "cell_type": "code",
   "execution_count": null,
   "metadata": {},
   "outputs": [],
   "source": [
    "plt.figure()\n",
    "plt.plot(fi,color='red',label=\"MGAH\")\n",
    "plt.plot(ag.bestfi,color='blue',label=\"MGAH C1\")\n",
    "plt.plot(ag3.bestfi,color='green',label=\"MGAH C2\")\n",
    "plt.legend()\n",
    "plt.ylim(0.5,1)\n",
    "plt.show()"
   ]
  },
  {
   "cell_type": "code",
   "execution_count": null,
   "metadata": {},
   "outputs": [],
   "source": []
  }
 ],
 "metadata": {
  "kernelspec": {
   "display_name": "Python 3.9.12 ('base')",
   "language": "python",
   "name": "python3"
  },
  "language_info": {
   "codemirror_mode": {
    "name": "ipython",
    "version": 3
   },
   "file_extension": ".py",
   "mimetype": "text/x-python",
   "name": "python",
   "nbconvert_exporter": "python",
   "pygments_lexer": "ipython3",
   "version": "3.9.12"
  },
  "orig_nbformat": 4,
  "vscode": {
   "interpreter": {
    "hash": "c9548d78abac3d9c949fbd3fd187a460132993a1944635464947e6b8db26d483"
   }
  }
 },
 "nbformat": 4,
 "nbformat_minor": 2
}
