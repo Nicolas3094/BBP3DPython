{
 "cells": [
  {
   "cell_type": "code",
   "execution_count": 1,
   "metadata": {},
   "outputs": [],
   "source": [
    "import numpy as np\n",
    "from BPnumba.NumAG import createAG\n",
    "from BPmodule.BPGen  import PROBLEM2,PROBLEM3,PROBLEM4,PROBLEM5\n",
    "from BPnumba.GeneticOperators import CreatePoblation,InstancePob,create_intidivual,Ind\n",
    "from BPnumba.DFFA import createDFFA\n",
    "from BPnumba.ABCnum import createDABC\n",
    "from numba import njit,objmode,prange\n",
    "import time\n",
    "from numba.typed import List as NumbaList\n",
    "import matplotlib.pyplot as plt\n",
    "from typing import List\n"
   ]
  },
  {
   "cell_type": "code",
   "execution_count": 16,
   "metadata": {},
   "outputs": [],
   "source": [
    "P2A1 = PROBLEM2[0]\n",
    "P2A2 = PROBLEM2[1]\n",
    "P3A1 = PROBLEM3[0]\n",
    "P3A2 = PROBLEM3[1]\n",
    "P4A1 = PROBLEM4[0]\n",
    "P4A2 = PROBLEM4[1]\n",
    "P5A1 = PROBLEM5[0]\n",
    "P5A2 = PROBLEM5[1]\n",
    "numTest=20\n",
    "n = 4\n",
    "zerovec = lambda y,x : np.zeros(shape=[x,y],dtype=np.float64)\n",
    "ag2= zerovec(n,numTest)\n",
    "ab2= zerovec(n,numTest)\n",
    "fa2 = zerovec(n,numTest)\n",
    "ag3= zerovec(n,numTest)\n",
    "ab3= zerovec(n,numTest)\n",
    "fa3 = zerovec(n,numTest)\n",
    "ag4=zerovec(n,numTest)\n",
    "ab4=zerovec(n,numTest)\n",
    "fa4 = zerovec(n,numTest)\n",
    "ag5=  zerovec(n,numTest)\n",
    "ab5=zerovec(n,numTest)\n",
    "fa5 = zerovec(n,numTest)"
   ]
  },
  {
   "cell_type": "code",
   "execution_count": 17,
   "metadata": {},
   "outputs": [],
   "source": [
    "@njit(parallel=True)\n",
    "def Test(num_test: int,agL: List[List[float]], abL: List[List[float]], ffL: List[List[float]], datos:List[List[int]], contenedor:List[int]):\n",
    "    maxItr = 500\n",
    "    pr_selec = 0.85\n",
    "    pr_cross = 0.75\n",
    "    pr_mut = 0.25\n",
    "    pop = 50\n",
    "    n = len(datos)\n",
    "    sameInstance = CreatePoblation(pop,idBoxes)\n",
    "    Pob = InstancePob(sameInstance, datos, contenedor)\n",
    "    for _ in prange(num_test):\n",
    "            Pob = InstancePob(sameInstance, datos, contenedor)\n",
    "            ag = createAG(pr_selec, pr_cross, pr_mut)\n",
    "            with objmode(time1='f8'):\n",
    "                time1 = time.perf_counter()\n",
    "            ag.Train(maxItr, Pob, datos, contenedor)\n",
    "            with objmode(last='f8'):\n",
    "                last = time.perf_counter() - time1\n",
    "            agL[_] = np.array([ag.BestInd.fi,n-ag.BestInd.load,len(ag.bestfi),last],dtype=np.float64)\n",
    "    for _ in prange(num_test):\n",
    "            Pob = InstancePob(sameInstance, datos, contenedor)\n",
    "            ffa = createDFFA(len(Pob),1/n)\n",
    "            with objmode(time1='f8'):\n",
    "                time1 = time.perf_counter()\n",
    "            ffa.Train(maxItr, Pob, datos, contenedor)\n",
    "            with objmode(last='f8'):\n",
    "                last = time.perf_counter() - time1\n",
    "            ffL[_] = np.array([ffa.BestInd.fi,n-ffa.BestInd.load,len(ffa.bestfi),last],dtype=np.float64)\n",
    "    for _ in prange(num_test):\n",
    "            Pob = InstancePob(sameInstance, datos, contenedor)\n",
    "            abc = createDABC(len(Pob),n)\n",
    "            with objmode(time1='f8'):\n",
    "                time1 = time.perf_counter()\n",
    "            abc.Train(maxItr, Pob, datos, contenedor)\n",
    "            with objmode(last='f8'):\n",
    "                last = time.perf_counter() - time1\n",
    "            abL[_] = np.array([abc.BestInd.fi,n-abc.BestInd.load,len(abc.bestfi),last],dtype=np.float64)"
   ]
  },
  {
   "cell_type": "code",
   "execution_count": 18,
   "metadata": {},
   "outputs": [],
   "source": [
    "contenedor =np.array( P2A1[0],dtype=np.int64)\n",
    "datos =np.array(P2A1[1],dtype=np.int64)\n",
    "idBoxes = np.arange(1, len(datos)+1, dtype=np.int64)\n",
    "pop = 50\n",
    "sameInstance = CreatePoblation(pop,idBoxes)\n",
    "Pob = InstancePob(sameInstance, datos, contenedor)\n"
   ]
  },
  {
   "cell_type": "code",
   "execution_count": 19,
   "metadata": {},
   "outputs": [],
   "source": [
    "Test(numTest,ag2,ab2,fa2,datos,contenedor)"
   ]
  },
  {
   "cell_type": "code",
   "execution_count": null,
   "metadata": {},
   "outputs": [],
   "source": [
    "contenedor =np.array( P3A1[0],dtype=np.int64)\n",
    "datos =np.array(P3A1[1],dtype=np.int64)\n",
    "idBoxes = np.arange(1, len(datos)+1, dtype=np.int64)\n",
    "Test(numTest,ag3,ab3,fa3,datos,contenedor)"
   ]
  },
  {
   "cell_type": "code",
   "execution_count": null,
   "metadata": {},
   "outputs": [],
   "source": [
    "contenedor =np.array( P4A1[0],dtype=np.int64)\n",
    "datos =np.array(P4A1[1],dtype=np.int64)\n",
    "idBoxes = np.arange(1, len(datos)+1, dtype=np.int64)\n",
    "Test(numTest,ag4,ab4,fa4,datos,contenedor)"
   ]
  },
  {
   "cell_type": "code",
   "execution_count": null,
   "metadata": {},
   "outputs": [],
   "source": [
    "contenedor =np.array( P5A1[0],dtype=np.int64)\n",
    "datos =np.array(P5A1[1],dtype=np.int64)\n",
    "idBoxes = np.arange(1, len(datos)+1, dtype=np.int64)\n",
    "Test(numTest,ag5,ab5,fa5,datos,contenedor)"
   ]
  }
 ],
 "metadata": {
  "interpreter": {
   "hash": "6161e517c3d4b81215da96e8bcd392bc9974967b9dec3b65fc82e2786b592859"
  },
  "kernelspec": {
   "display_name": "Python 3.9.7 ('base')",
   "language": "python",
   "name": "python3"
  },
  "language_info": {
   "codemirror_mode": {
    "name": "ipython",
    "version": 3
   },
   "file_extension": ".py",
   "mimetype": "text/x-python",
   "name": "python",
   "nbconvert_exporter": "python",
   "pygments_lexer": "ipython3",
   "version": "3.9.7"
  },
  "orig_nbformat": 4
 },
 "nbformat": 4,
 "nbformat_minor": 2
}
