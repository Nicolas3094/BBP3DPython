{
 "cells": [
  {
   "cell_type": "code",
   "execution_count": 1,
   "metadata": {},
   "outputs": [],
   "source": [
    "import numpy as np\n",
    "import pandas as pd\n",
    "from numba import njit, objmode, prange,deferred_type,cuda,jit,vectorize\n",
    "from numba.typed import Dict\n",
    "from numba.core import types\n",
    "import time\n",
    "import string\n",
    "from numba.typed import List as NumbaList\n",
    "import matplotlib.pyplot as plt\n",
    "from typing import List\n",
    "from numpy import savetxt\n",
    "import math\n",
    "from BPnumba.DFFA import createDFFA,DFFA\n",
    "from BPnumba.EDFFA import createEDFFA,EDFFA\n",
    "from BPnumba.DABC import DABC, createDABC\n",
    "from BPnumba.EDABC import createEDABC ,EDABC\n",
    "from BPnumba.AGH import createAG,NAG,FlipMutation,GASearch\n",
    "from BPnumba.BoxN import create_ItemBin,ItemBin,InstaceBoxes\n",
    "from BPnumba.BPPH import create_Bin\n",
    "from BPnumba.Individual import Ind, createR_intidivual,create_intidivual\n",
    "from BPnumba.Poblation import CreateHeuristicPob,CreateRotHPob,EvalPob\n",
    "from BPmodule.BPGen import createPA,GetInstance,createInstance,createPA\n",
    "from BPnumba.BPPH import create_Bin\n",
    "\n",
    "from collections import OrderedDict\n",
    "from numba.experimental import jitclass"
   ]
  },
  {
   "cell_type": "code",
   "execution_count": 2,
   "metadata": {},
   "outputs": [],
   "source": [
    "@njit\n",
    "def factorial(n):\n",
    "    return math.gamma(n+1)"
   ]
  },
  {
   "cell_type": "code",
   "execution_count": 3,
   "metadata": {},
   "outputs": [
    {
     "name": "stdout",
     "output_type": "stream",
     "text": [
      "2\n",
      "4\n",
      "6\n",
      "8\n"
     ]
    }
   ],
   "source": [
    "for i in range(2,10,2):\n",
    "    print(i)"
   ]
  },
  {
   "cell_type": "code",
   "execution_count": 4,
   "metadata": {},
   "outputs": [
    {
     "data": {
      "text/plain": [
       "3.041409320171338e+64"
      ]
     },
     "execution_count": 4,
     "metadata": {},
     "output_type": "execute_result"
    }
   ],
   "source": [
    "factorial(50)"
   ]
  },
  {
   "cell_type": "code",
   "execution_count": 5,
   "metadata": {},
   "outputs": [],
   "source": [
    "@vectorize\n",
    "def flip(x, y,pm,rot):\n",
    "    if x > pm:\n",
    "        return y\n",
    "    else:\n",
    "        if y == rot-1:\n",
    "            return 0\n",
    "        else: \n",
    "            return y+1"
   ]
  },
  {
   "cell_type": "code",
   "execution_count": 6,
   "metadata": {},
   "outputs": [
    {
     "name": "stdout",
     "output_type": "stream",
     "text": [
      "[0.82738608 0.8867776  0.13143091 0.45345953 0.43241336 0.17683647\n",
      " 0.86870151 0.28817298 0.62667314 0.99502144 0.7517776  0.10701578\n",
      " 0.23753305 0.04420331 0.66181079 0.354109   0.91641784 0.26824803\n",
      " 0.74884291 0.43226484 0.34452357 0.75183956 0.3380186  0.58116387\n",
      " 0.64077832 0.75140454 0.71388026 0.67425076 0.90886342 0.49347534\n",
      " 0.27080982 0.16336588 0.02017487 0.61934294 0.94301792 0.08443567\n",
      " 0.72135589 0.07652353 0.35451425 0.43009625 0.6353873  0.48829436\n",
      " 0.63156088 0.15347767 0.7965493  0.6637613  0.53721306 0.94516181\n",
      " 0.37915411 0.148293  ]\n",
      "[3 3 1 0 4 0 4 1 1 5 1 4 2 1 5 3 0 3 5 1 1 2 2 0 4 1 3 3 2 5 0 4 3 3 0 0 4\n",
      " 5 4 2 1 1 2 1 2 4 0 5 3 1]\n"
     ]
    },
    {
     "data": {
      "text/plain": [
       "array([3, 3, 1, 0, 4, 0, 4, 1, 1, 5, 1, 4, 2, 2, 5, 3, 0, 3, 5, 1, 1, 2,\n",
       "       2, 0, 4, 1, 3, 3, 2, 5, 0, 4, 4, 3, 0, 0, 4, 5, 4, 2, 1, 1, 2, 1,\n",
       "       2, 4, 0, 5, 3, 1], dtype=int64)"
      ]
     },
     "execution_count": 6,
     "metadata": {},
     "output_type": "execute_result"
    }
   ],
   "source": [
    "N = 50\n",
    "pr=0.05\n",
    "a = np.random.random(size=N)\n",
    "b= np.random.randint(6,size=N)\n",
    "print(a)\n",
    "print(b)\n",
    "flip(a,b,pr,6)"
   ]
  },
  {
   "cell_type": "code",
   "execution_count": 7,
   "metadata": {},
   "outputs": [
    {
     "name": "stdout",
     "output_type": "stream",
     "text": [
      "[0.06304468 0.85010965 0.89027626 0.4577143  0.85089979 0.41988353\n",
      " 0.25331813 0.98443725 0.01668185 0.27065843 0.03226356 0.68393126\n",
      " 0.3164178  0.504042   0.81807564 0.51309104 0.97010878 0.02413332\n",
      " 0.69762183 0.72182999 0.45566888 0.44055259 0.81148299 0.94310762\n",
      " 0.33638134 0.39873731 0.49021039 0.09812638 0.48499601 0.19535669\n",
      " 0.84560813 0.49650223 0.02935615 0.6208775  0.69649646 0.24002339\n",
      " 0.4115094  0.31791572 0.31492863 0.53234546 0.97629799 0.27307316\n",
      " 0.17482221 0.2820342  0.30047044 0.17584113 0.56262004 0.4934088\n",
      " 0.6233629  0.62137018] [0.06304468 0.85010965 0.89027626 0.4577143  0.85089979 0.41988353\n",
      " 0.25331813 0.98443725 0.01668185 0.27065843 0.03226356 0.68393126\n",
      " 0.3164178  0.504042   0.81807564 0.51309104 0.97010878 0.02413332\n",
      " 0.69762183 0.72182999 0.45566888 0.44055259 0.81148299 0.94310762\n",
      " 0.33638134 0.39873731 0.49021039 0.09812638 0.48499601 0.19535669\n",
      " 0.84560813 0.49650223 0.02935615 0.6208775  0.69649646 0.24002339\n",
      " 0.4115094  0.31791572 0.31492863 0.53234546 0.97629799 0.27307316\n",
      " 0.17482221 0.2820342  0.30047044 0.17584113 0.56262004 0.4934088\n",
      " 0.6233629  0.62137018]\n"
     ]
    },
    {
     "name": "stderr",
     "output_type": "stream",
     "text": [
      "c:\\Users\\NicolasG\\anaconda3\\lib\\site-packages\\numba\\cuda\\compiler.py:726: NumbaPerformanceWarning: \u001b[1mGrid size (4) < 2 * SM count (76) will likely result in GPU under utilization due to low occupancy.\u001b[0m\n",
      "  warn(NumbaPerformanceWarning(msg))\n"
     ]
    },
    {
     "name": "stdout",
     "output_type": "stream",
     "text": [
      "[0. 0. 0. 0. 0. 0. 0. 0. 1. 0. 1. 0. 0. 0. 0. 0. 0. 1. 0. 0. 0. 0. 0. 0.\n",
      " 0. 0. 0. 0. 0. 0. 0. 0. 0. 0. 0. 0. 0. 0. 0. 0. 0. 0. 0. 0. 0. 0. 0. 0.\n",
      " 0. 0.]\n"
     ]
    },
    {
     "name": "stderr",
     "output_type": "stream",
     "text": [
      "c:\\Users\\NicolasG\\anaconda3\\lib\\site-packages\\numba\\cuda\\cudadrv\\devicearray.py:885: NumbaPerformanceWarning: \u001b[1mHost array used in CUDA kernel will incur copy overhead to/from device.\u001b[0m\n",
      "  warn(NumbaPerformanceWarning(msg))\n"
     ]
    }
   ],
   "source": [
    "@cuda.jit\n",
    "def add_array(a, b, c,pm):\n",
    "    i = cuda.threadIdx.x + cuda.blockDim.x * cuda.blockIdx.x\n",
    "    if i < a.size:\n",
    "        if a[i]>pm:\n",
    "            c[i] = a[i] - b[i]\n",
    "        else:\n",
    "            c[i] = 1\n",
    "@njit\n",
    "def FlipMutation(gen, pm:float,rotType:int):\n",
    "    for i in np.arange(len(gen)):\n",
    "        r = random.random()\n",
    "        if r<=pm:\n",
    "            if rotType == 6:\n",
    "                aux = np.random.randint(rotType)\n",
    "                if gen[i] == aux:\n",
    "                    gen[i]+=1\n",
    "                    if gen[i] >= rotType-1:\n",
    "                        gen[i]=0\n",
    "            else:\n",
    "                if(gen[i]==0):\n",
    "                    aux=1\n",
    "                else:\n",
    "                    aux=0\n",
    "            gen[i] = aux\n",
    "N = 50\n",
    "pr=0.05\n",
    "a = np.random.random(size=N)\n",
    "b = a\n",
    "print(a,b)\n",
    "dev_c = cuda.device_array_like(a)\n",
    "\n",
    "add_array[4, 8](a, b, dev_c,pr)\n",
    "c = dev_c.copy_to_host()\n",
    "print(c)"
   ]
  },
  {
   "cell_type": "code",
   "execution_count": 8,
   "metadata": {},
   "outputs": [],
   "source": [
    "@cuda.jit\n",
    "def FlipMutation(a, b, c,pm,rot):\n",
    "    i = cuda.grid(1)\n",
    "    if i < a.size:\n",
    "        if a[i]>pm:\n",
    "            c[i] = b[i]\n",
    "        else:\n",
    "            if c[i]==rot:\n",
    "                c[i] = 0\n",
    "            else:\n",
    "                c[i] = b[i]+1\n",
    "\n",
    "def mn(b):\n",
    "    N = 50     \n",
    "    a = np.random.random(size=N)\n",
    "   \n",
    "    print(b)\n",
    "    dev_a = cuda.to_device(a)\n",
    "    dev_b = cuda.to_device(b)\n",
    "\n",
    "    threads_per_block = 256\n",
    "    blocks_per_grid = (N + (threads_per_block - 1)) // threads_per_block\n",
    "    dev_c = cuda.device_array_like(b)\n",
    "    FlipMutation[blocks_per_grid, threads_per_block](dev_a, dev_b, dev_c,0.05,6)\n",
    "\n",
    "    c = dev_c.copy_to_host()\n",
    "    print(c)"
   ]
  },
  {
   "cell_type": "code",
   "execution_count": null,
   "metadata": {},
   "outputs": [],
   "source": [
    "mn(np.random.randint(7,size=50))"
   ]
  },
  {
   "cell_type": "code",
   "execution_count": null,
   "metadata": {},
   "outputs": [],
   "source": [
    "rn = np.random.randint(50,size=50,dtype=np.int64)\n",
    "rn"
   ]
  },
  {
   "cell_type": "code",
   "execution_count": null,
   "metadata": {},
   "outputs": [],
   "source": [
    "np.random.random(size=50)"
   ]
  },
  {
   "cell_type": "code",
   "execution_count": null,
   "metadata": {},
   "outputs": [],
   "source": [
    "BR1 = GetInstance(\"BR1\")\n",
    "contenedor = BR1[0]\n",
    "DataSet = BR1[1][0]"
   ]
  },
  {
   "cell_type": "code",
   "execution_count": null,
   "metadata": {},
   "outputs": [],
   "source": [
    "from BPnumba.BPPH import DBLF\n",
    "from BPnumba.Individual import CalcFi\n",
    "\n",
    "\n",
    "@njit\n",
    "def mn(cont, data,rot):\n",
    "    UBOXES = InstaceBoxes(data)\n",
    "    hpob = CreateRotHPob(pop =20, ITEMS = UBOXES.copy(), rotType=rot)\n",
    "    EvalPob(hpob,UBOXES,cont,rot)\n",
    "    ind = hpob[0]\n",
    "    print(ind.fi)"
   ]
  },
  {
   "cell_type": "code",
   "execution_count": null,
   "metadata": {},
   "outputs": [],
   "source": [
    "mn(contenedor, DataSet,6)"
   ]
  },
  {
   "cell_type": "code",
   "execution_count": null,
   "metadata": {},
   "outputs": [],
   "source": [
    "def zerovec(y, x): return np.zeros(shape=[x, y], dtype=np.float64)\n",
    "\n",
    "createText = lambda x,y : savetxt(\n",
    "    fname = \"Results/\"+x + \".csv\",\n",
    "    X= y,\n",
    "    delimiter=\" \",\n",
    "    fmt='%g'\n",
    ")\n",
    "\n",
    "numTest = 20\n",
    "num = 5\n",
    "agL = zerovec(num, 2*numTest)\n",
    "dabcL = zerovec(num, 2*numTest)\n",
    "ffaL = zerovec(num, 2*numTest)\n",
    "\n",
    "pr_selec = 0.85\n",
    "pr_cross = 0.75\n",
    "maxItr=1000\n",
    "pop = 50"
   ]
  },
  {
   "cell_type": "code",
   "execution_count": null,
   "metadata": {},
   "outputs": [],
   "source": [
    "\n",
    "@njit(parallel=True)\n",
    "def BenchAG(boxes:List[List[List[int]]],bin:List[int],maxItr: int, lst: List[List[float]], heuristic:int=0):\n",
    "    for i in prange(20):\n",
    "        alg:NAG = createAG(ps=pr_selec,pc=pr_cross,adaptive=True,heuristic=0,mutType=heuristic)\n",
    "        alg.Train(maxItr,  InstancePob(CreateHeuristicPob(50,NumbaList(boxes[i]),bin),NumbaList(boxes[i]), bin, 0), NumbaList(boxes[i]), bin)\n",
    "        lst[i] =alg.BestInd.fi\n",
    "\n",
    "def TestAG(algorithms, problems, tp):\n",
    "    nm:string=\"\"\n",
    "    if tp==1:\n",
    "        nm=\"c1HAG\"\n",
    "        print(\"Empieza\",nm)\n",
    "    elif tp == 2:\n",
    "        nm=\"c2HAG\"\n",
    "        print(\"Empieza\",nm)\n",
    "    else:\n",
    "        nm=\"HAG\"\n",
    "        print(\"Empieza\",nm)\n",
    "    for problem in problems:\n",
    "        for algoritm in algorithms:\n",
    "            \n",
    "            agL = zerovec(1, numTest)\n",
    "            contenedor,datos = CreateData(algorithm=algoritm,problem=problem)\n",
    "            BenchAG(datos.copy(),contenedor, maxItr, agL,tp)\n",
    "            if problem!=1 and algoritm!=1: createText(\"P\"+str(problem)+\"A\"+str(algoritm)+\"/AG/\"+nm,agL)"
   ]
  },
  {
   "cell_type": "code",
   "execution_count": null,
   "metadata": {},
   "outputs": [],
   "source": [
    "@njit(parallel=True)\n",
    "def BenchABC(boxes:List[List[List[int]]],bin:List[int],maxItr: int, lst: List[List[float]], heuristic:int=0):\n",
    "    n=len(boxes[0])\n",
    "    for i in prange(20):\n",
    "        if(heuristic==0):\n",
    "            alg:DABC = createDABC()\n",
    "            alg.Train(numItr=maxItr,ColonyWorker=InstancePob(CreateHeuristicPob(50,NumbaList(boxes[i]),bin),NumbaList(boxes[i]), bin, 0),datos= NumbaList(boxes[i]),contenedor= bin)\n",
    "            lst[i] =alg.BestInd.fi\n",
    "\n",
    "        else:\n",
    "            alg:EDABC = createEDABC()\n",
    "            alg.Train(numItr=maxItr,ColonyWorker=InstancePob(CreateHeuristicPob(50,NumbaList(boxes[i]),bin),NumbaList(boxes[i]), bin, 0),datos= NumbaList(boxes[i]),contenedor= bin)\n",
    "            lst[i] =alg.BestInd.fi\n",
    "def TestEDABC(algorithms, problems,tp:int):\n",
    "    nm:string=\"\"\n",
    "    if tp != 0:\n",
    "        nm=\"c2EDABC\"\n",
    "        print(\"Inicia c2EDABC\")\n",
    "    else:\n",
    "        nm=\"DABC\"\n",
    "        print(\"Inicia DABC\")\n",
    "    for problem in problems:\n",
    "        for algoritm in algorithms:\n",
    "            agL = zerovec(1, numTest)\n",
    "            contenedor,datos = CreateData(algorithm=algoritm,problem=problem)\n",
    "            start_time = time.time()\n",
    "            BenchABC(datos.copy(),contenedor, maxItr, agL,heuristic =tp)\n",
    "            seconds = np.abs( start_time - time.time())\n",
    "            hours = int(seconds/3600.0) \n",
    "            minutes = int(seconds/60) % 60\n",
    "            sec = int(seconds % 60)\n",
    "            print(\"termina P\", problem, \"A\",algoritm,\" | \",hours,\"h :\",minutes,\"m :\",sec,\"s\")\n",
    "            if algoritm!=1: createText(\"P\"+str(problem)+\"A\"+str(algoritm)+\"/ABC/\"+nm,agL)\n",
    "           "
   ]
  },
  {
   "cell_type": "code",
   "execution_count": null,
   "metadata": {},
   "outputs": [],
   "source": [
    "@njit(parallel=True)\n",
    "def BenchFFA(\n",
    "    boxes:List[List[List[int]]],\n",
    "    bin:List[int],\n",
    "    maxItr: int, \n",
    "    lst: List[List[float]],\n",
    "    tp:int=0\n",
    "    ):\n",
    "  \n",
    "    for i in prange(20):\n",
    "        alg:DFFA = createDFFA(mutType=0)\n",
    "        alg.Train(Maxitr=maxItr,fireflyPob=InstancePob(CreateHeuristicPob(50,NumbaList(boxes[i]),bin),NumbaList(boxes[i]), bin, 0), datos= NumbaList(boxes[i]),contenedor= bin)\n",
    "        lst[i] =alg.BestInd.fi\n",
    "\n",
    "@njit(parallel=True)\n",
    "def BenchEFFA(\n",
    "    boxes:List[List[List[int]]],\n",
    "    bin:List[int],\n",
    "    maxItr: int, \n",
    "    lst: List[List[float]],\n",
    "    tp:int=0,\n",
    "    updateIndex:int=5,\n",
    "    ):\n",
    "   for i in prange(20): \n",
    "        alg:EDFFA = createEDFFA(mutType=0)\n",
    "        alg.Train(updateIndex,maxItr, InstancePob(NumbaList( CreateHeuristicPob(pop,boxes[i],True)),boxes[i],bin),boxes[i],bin)\n",
    "        lst[i] =alg.BestInd.fi"
   ]
  },
  {
   "cell_type": "code",
   "execution_count": null,
   "metadata": {},
   "outputs": [],
   "source": [
    "def TestFFA(\n",
    "    algorithms:list[int], \n",
    "    problems:list[int],\n",
    "    tp:int, \n",
    "    evolutive:bool,\n",
    "    updateIndex:int\n",
    "    ):\n",
    "    nm:string = \"\"\n",
    "    if evolutive:\n",
    "        if tp==1:\n",
    "            nm=\"c1EDFFA\"\n",
    "            print(\"Inicia\",nm)\n",
    "        elif  tp==2:\n",
    "            nm=\"c2EDFFA\"\n",
    "            print(\"Inicia\", nm)\n",
    "        else:\n",
    "            nm=\"EDFFA\"\n",
    "            print(\"Inicia\",nm)\n",
    "    else:\n",
    "        if tp==1:\n",
    "            nm=\"c1DFFA\"\n",
    "            print(\"Inicia\",nm)\n",
    "        elif tp==2:\n",
    "            nm=\"c2DFFA\"\n",
    "            print(\"Inicia\",nm)\n",
    "        elif tp==3:\n",
    "            nm=\"invDFFA\"\n",
    "            print(\"Inicia\",nm)\n",
    "        else:\n",
    "            nm=\"DFFA\"\n",
    "            print(\"Inicia\",nm)\n",
    "   \n",
    "    for problem in problems:\n",
    "        for algoritm in algorithms:\n",
    "            agL = zerovec(1, numTest)\n",
    "            contenedor,datos = CreateData(algorithm=algoritm,problem=problem)\n",
    "            start_time = time.time()\n",
    "            if not evolutive:\n",
    "                BenchFFA(boxes=datos,bin=contenedor, maxItr=maxItr,lst= agL,tp=tp)\n",
    "            else:\n",
    "                BenchEFFA(boxes=datos,bin=contenedor, maxItr=maxItr,lst= agL,tp=tp,updateIndex=updateIndex)\n",
    "            seconds = np.abs( start_time - time.time())\n",
    "            hours = int(seconds/3600.0) \n",
    "            minutes = int(seconds/60) % 60\n",
    "            sec = int(seconds % 60)\n",
    "            print(\"Termina P\", problem, \"A\",algoritm,\" | \",hours,\"h :\",minutes,\"m :\",sec,\"s\")\n",
    "            if algoritm!=1: createText(\"P\"+str(problem)+\"A\"+str(algoritm)+\"/FFA/\"+nm,agL)"
   ]
  },
  {
   "cell_type": "code",
   "execution_count": null,
   "metadata": {},
   "outputs": [],
   "source": [
    "def Compile():\n",
    "    UPDATE_INDEX:int=10\n",
    "    ALGORITHM=[1]\n",
    "    PROBLEM=[1]\n",
    "    for _ in np.arange(4):\n",
    "        TestFFA(\n",
    "            algorithms=ALGORITHM,\n",
    "            problems=PROBLEM,\n",
    "            tp=_,\n",
    "            evolutive=True,\n",
    "            updateIndex=UPDATE_INDEX,\n",
    "        )\n",
    "        if _ == 3: continue\n",
    "        TestFFA(\n",
    "            algorithms=ALGORITHM,\n",
    "            problems=PROBLEM, \n",
    "            tp=_,\n",
    "            evolutive=False,\n",
    "            updateIndex=UPDATE_INDEX,\n",
    "        )\n",
    "    TestEDABC(ALGORITHM,PROBLEM,0)\n",
    "    TestEDABC(ALGORITHM,PROBLEM,1)"
   ]
  },
  {
   "cell_type": "code",
   "execution_count": null,
   "metadata": {},
   "outputs": [],
   "source": [
    "Compile()"
   ]
  },
  {
   "cell_type": "code",
   "execution_count": null,
   "metadata": {},
   "outputs": [],
   "source": [
    "TestEDABC([2],[3],0)"
   ]
  },
  {
   "cell_type": "code",
   "execution_count": null,
   "metadata": {},
   "outputs": [],
   "source": [
    "\n",
    "TestEDABC([2],[3],1)\n"
   ]
  },
  {
   "cell_type": "code",
   "execution_count": null,
   "metadata": {},
   "outputs": [],
   "source": [
    "UPDATE_INDEX:int=10\n",
    "\n",
    "\n",
    "TestFFA(\n",
    "        algorithms=[4],\n",
    "        problems=[2],\n",
    "        tp=0,\n",
    "        evolutive=True,\n",
    "        updateIndex=UPDATE_INDEX\n",
    "    )\n",
    "\n",
    "TestFFA(\n",
    "        algorithms=[4],\n",
    "        problems=[2],\n",
    "        tp=1,\n",
    "        evolutive=True,\n",
    "        updateIndex=UPDATE_INDEX\n",
    "    )\n",
    "TestFFA(\n",
    "        algorithms=[4],\n",
    "        problems=[2],\n",
    "        tp=2,\n",
    "        evolutive=True,\n",
    "        updateIndex=UPDATE_INDEX\n",
    "    )"
   ]
  },
  {
   "cell_type": "code",
   "execution_count": null,
   "metadata": {},
   "outputs": [],
   "source": [
    "\n",
    "TestFFA(\n",
    "        algorithms=[2],\n",
    "        problems=[3],\n",
    "        tp=2,\n",
    "        evolutive=True,\n",
    "        updateIndex=UPDATE_INDEX\n",
    ")\n",
    "\n",
    "TestEDABC([2],[4],0)\n",
    "TestEDABC([2],[4],1)\n",
    "\n",
    "TestFFA(\n",
    "    algorithms=[2],\n",
    "    problems=[4],\n",
    "    tp=0,\n",
    "    evolutive=True,\n",
    "    updateIndex=UPDATE_INDEX\n",
    ")\n",
    "TestFFA(\n",
    "    algorithms=[2],\n",
    "    problems=[4],\n",
    "    tp=1,\n",
    "    evolutive=True,\n",
    "    updateIndex=UPDATE_INDEX\n",
    ")\n",
    "TestFFA(\n",
    "    algorithms=[2],\n",
    "    problems=[4],\n",
    "    tp=2,\n",
    "    evolutive=True,\n",
    "    updateIndex=UPDATE_INDEX\n",
    ")\n",
    "TestFFA(\n",
    "        algorithms=[2],\n",
    "        problems=[4],\n",
    "        tp=0,\n",
    "        evolutive=False,\n",
    "        updateIndex=UPDATE_INDEX\n",
    ")"
   ]
  },
  {
   "cell_type": "code",
   "execution_count": null,
   "metadata": {},
   "outputs": [],
   "source": []
  }
 ],
 "metadata": {
  "kernelspec": {
   "display_name": "Python 3.9.12 ('base')",
   "language": "python",
   "name": "python3"
  },
  "language_info": {
   "codemirror_mode": {
    "name": "ipython",
    "version": 3
   },
   "file_extension": ".py",
   "mimetype": "text/x-python",
   "name": "python",
   "nbconvert_exporter": "python",
   "pygments_lexer": "ipython3",
   "version": "3.9.12"
  },
  "vscode": {
   "interpreter": {
    "hash": "c9548d78abac3d9c949fbd3fd187a460132993a1944635464947e6b8db26d483"
   }
  }
 },
 "nbformat": 4,
 "nbformat_minor": 2
}
