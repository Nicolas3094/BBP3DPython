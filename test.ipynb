{
 "cells": [
  {
   "cell_type": "code",
   "execution_count": 2,
   "metadata": {},
   "outputs": [],
   "source": [
    "import numpy as np\n",
    "from BPnumba.AGH import createAG\n",
    "from BPmodule.BPGen import PROBLEM2, PROBLEM3, PROBLEM4, PROBLEM5,PROBLEM1\n",
    "from BPnumba.GeneticOperators import CreatePoblation, InstancePob,CreateHeuristicPob,Ind\n",
    "from BPnumba.DFFA import createDFFA,createEDFFA\n",
    "from BPnumba.DABC import createDABC\n",
    "from numba import njit, objmode, prange\n",
    "import time\n",
    "from numba.typed import List as NumbaList\n",
    "import matplotlib.pyplot as plt\n",
    "from typing import List\n",
    "from numpy import savetxt\n"
   ]
  },
  {
   "cell_type": "code",
   "execution_count": 3,
   "metadata": {},
   "outputs": [],
   "source": [
    "P1A1 = PROBLEM1[0]\n",
    "P2A1 = PROBLEM2[0]\n",
    "P2A2 = PROBLEM2[1]\n",
    "P3A1 = PROBLEM3[0]\n",
    "P3A2 = PROBLEM3[1]\n",
    "P4A1 = PROBLEM4[0]\n",
    "P4A2 = PROBLEM4[1]\n",
    "P5A1 = PROBLEM5[0]\n",
    "P5A2 = PROBLEM5[1]\n",
    "numTest = 50\n",
    "n = 4\n",
    "def zerovec(y, x): return np.zeros(shape=[x, y], dtype=np.float64)\n",
    "\n",
    "createText = lambda x,y : savetxt(\n",
    "    fname = x + \".csv\",\n",
    "    X= y,\n",
    "    delimiter=\", \",\n",
    "    header=\" Fi BoxesPacked MaxItr Time(s) | 50 individuos\",\n",
    "    fmt='%g'\n",
    ")\n",
    "\n",
    "ag2 = zerovec(n, 2*numTest)\n",
    "ab2 = zerovec(n, 2*numTest)\n",
    "fa2 = zerovec(n, 2*numTest)\n",
    "ag3 = zerovec(n,2*numTest)\n",
    "ab3 = zerovec(n, 2*numTest)\n",
    "fa3 = zerovec(n, 2*numTest)\n",
    "ag4 = zerovec(n, 2*numTest)\n",
    "ab4 = zerovec(n, 2*numTest)\n",
    "fa4 = zerovec(n, 2*numTest)\n",
    "ag5 = zerovec(n, 2*numTest)\n",
    "ab5 = zerovec(n, 2*numTest)\n",
    "fa5 = zerovec(n, 2*numTest)"
   ]
  },
  {
   "cell_type": "code",
   "execution_count": 4,
   "metadata": {},
   "outputs": [],
   "source": [
    "@njit(parallel=True)\n",
    "def Test(num_test: int, ag, sameInstance: List[int], maxItr: int, agL: List[List[float]], datos: List[List[List[int]]], contenedor: List[int],heuristic:int=0):\n",
    "    n = len(datos)\n",
    "    for _ in prange(num_test):\n",
    "        Pob = InstancePob(sameInstance, datos, contenedor, heuristic)\n",
    "        with objmode(time1='f8'):\n",
    "            time1 = time.perf_counter()\n",
    "        bestInd:Ind = ag.Train(maxItr, Pob, datos, contenedor)\n",
    "        epochs = len(ag.bestfi)\n",
    "        with objmode(last='f8'):\n",
    "            last = time.perf_counter() - time1\n",
    "        if heuristic == 0:\n",
    "            agL[_] = np.array([bestInd.fi, n-bestInd.load,\n",
    "                            epochs, last], dtype=np.float64)\n",
    "        else:\n",
    "             agL[num_test+_] = np.array([bestInd.fi, n-bestInd.load,\n",
    "                            epochs, last], dtype=np.float64)\n"
   ]
  },
  {
   "cell_type": "code",
   "execution_count": 5,
   "metadata": {},
   "outputs": [],
   "source": [
    "pr_selec = 0.85\n",
    "pr_cross = 0.75\n",
    "pr_mut = 0.2\n",
    "gamma = 1/(n)\n",
    "maxItr=500"
   ]
  },
  {
   "cell_type": "code",
   "execution_count": 6,
   "metadata": {},
   "outputs": [],
   "source": [
    "contenedor = P1A1[0][0]\n",
    "datos = P1A1[1]\n",
    "pop = 50\n",
    "n = len(datos)\n",
    "sameInstance = NumbaList(CreateHeuristicPob(pop, datos,True))\n",
    "\n",
    "ag = createAG(pr_selec, pr_cross, pr_mut)\n",
    "Test(numTest, ag,sameInstance, maxItr, ag2, datos, contenedor)\n",
    "\n",
    "ag = createAG(pr_selec, pr_cross, pr_mut,2)\n",
    "Test(numTest, ag,sameInstance, maxItr, ag2, datos, contenedor,2)\n",
    "\n",
    "abc = createDABC(pop,n)\n",
    "Test(numTest, abc,sameInstance, maxItr, ab2, datos, contenedor)\n",
    "\n",
    "abc = createDABC(pop,n,2)\n",
    "Test(numTest, abc,sameInstance, maxItr, ab2, datos, contenedor,2)\n",
    "\n",
    "ffa = createEDFFA(gamma)\n",
    "Test(numTest, ffa,sameInstance, maxItr, fa2, datos, contenedor)\n",
    "\n",
    "ffa = createEDFFA(gamma,2)\n",
    "Test(numTest, ffa,sameInstance, maxItr, fa2, datos, contenedor,2)"
   ]
  },
  {
   "cell_type": "code",
   "execution_count": null,
   "metadata": {},
   "outputs": [],
   "source": [
    "contenedor = P2A1[0][0]\n",
    "datos = P2A1[1]\n",
    "pop = 26\n",
    "n = len(datos)\n",
    "sameInstance = NumbaList(CreateHeuristicPob(pop, datos,True))"
   ]
  },
  {
   "cell_type": "code",
   "execution_count": null,
   "metadata": {},
   "outputs": [],
   "source": [
    "\n",
    "\n",
    "ag = createAG(pr_selec, pr_cross, pr_mut)\n",
    "Test(numTest, ag,sameInstance, maxItr, ag2, datos, contenedor)\n",
    "createText(\"AGp2\",ag2)\n",
    "\n",
    "ag = createAG(pr_selec, pr_cross, pr_mut,2)\n",
    "Test(numTest, ag,sameInstance, maxItr, ag2, datos, contenedor,2)\n",
    "createText(\"AGp2\",ag2)\n",
    "\n",
    "abc = createDABC(pop,n)\n",
    "Test(numTest, abc,sameInstance, maxItr, ab2, datos, contenedor)\n",
    "createText(\"DABCp2\",ab2)\n",
    "\n",
    "abc = createDABC(pop,n,2)\n",
    "Test(numTest, abc,sameInstance, maxItr, ab2, datos, contenedor,2)\n",
    "createText(\"DABCp2\",ab2)"
   ]
  },
  {
   "cell_type": "code",
   "execution_count": null,
   "metadata": {},
   "outputs": [],
   "source": [
    "ffa = createEDFFA(gamma)\n",
    "Test(numTest, ffa,sameInstance, maxItr, fa2, datos, contenedor)\n",
    "createText(\"DFFAp2\",fa2)\n",
    "\n",
    "ffa = createEDFFA(gamma,2)\n",
    "Test(numTest, ffa,sameInstance, maxItr, fa2, datos, contenedor,2)\n",
    "createText(\"DFFAp2\",fa2)"
   ]
  },
  {
   "cell_type": "code",
   "execution_count": null,
   "metadata": {},
   "outputs": [],
   "source": [
    "contenedor = P3A1[0][0]\n",
    "datos = P3A1[1]\n",
    "pop = 36\n",
    "n = len(datos)\n",
    "sameInstance = NumbaList(CreateHeuristicPob(pop, datos,True))\n",
    "\n",
    "ag = createAG(pr_selec, pr_cross, pr_mut)\n",
    "Test(numTest, ag,sameInstance, maxItr, ag3, datos, contenedor)\n",
    "createText(\"AGp3\",ag3)\n",
    "\n",
    "ag = createAG(pr_selec, pr_cross, pr_mut,2)\n",
    "Test(numTest, ag,sameInstance, maxItr, ag3, datos, contenedor,2)\n",
    "createText(\"AGp3\",ag3)"
   ]
  },
  {
   "cell_type": "code",
   "execution_count": null,
   "metadata": {},
   "outputs": [],
   "source": [
    "abc = createDABC(pop,n)\n",
    "Test(numTest, abc,sameInstance, maxItr, ab3, datos, contenedor)\n",
    "createText(\"DABCp3\",ab3)\n",
    "\n",
    "abc = createDABC(pop,n,2)\n",
    "Test(numTest, abc,sameInstance, maxItr, ab3, datos, contenedor,2)\n",
    "createText(\"DABCp3\",ab3)"
   ]
  },
  {
   "cell_type": "code",
   "execution_count": null,
   "metadata": {},
   "outputs": [],
   "source": [
    "ffa = createDFFA(gamma)\n",
    "Test(numTest, ffa,sameInstance, maxItr, fa3, datos, contenedor)\n",
    "createText(\"DFFAp3\",fa3)\n",
    "\n",
    "ffa = createDFFA(gamma,2)\n",
    "Test(numTest, ffa,sameInstance, maxItr, fa3, datos, contenedor,2)\n",
    "createText(\"DFFAp3\",fa3)"
   ]
  },
  {
   "cell_type": "code",
   "execution_count": null,
   "metadata": {},
   "outputs": [],
   "source": [
    "contenedor = P4A1[0][0]\n",
    "datos = P4A1[1]\n",
    "pop = 36\n",
    "n = len(datos)\n",
    "sameInstance = NumbaList(CreateHeuristicPob(pop, datos,True))\n",
    "\n",
    "ag = createAG(pr_selec, pr_cross, pr_mut)\n",
    "Test(numTest, ag,sameInstance, maxItr, ag4, datos, contenedor)\n",
    "createText(\"AGp4\",ag4)\n",
    "\n",
    "ag = createAG(pr_selec, pr_cross, pr_mut,2)\n",
    "Test(numTest, ag,sameInstance, maxItr, ag4, datos, contenedor,2)\n",
    "createText(\"AGp4\",ag4)\n",
    "\n",
    "abc = createDABC(pop,n)\n",
    "Test(numTest, abc,sameInstance, maxItr, ab4, datos, contenedor)\n",
    "createText(\"DABCp4\",ab4)\n",
    "\n",
    "abc = createDABC(pop,n,2)\n",
    "Test(numTest, abc,sameInstance, maxItr, ab4, datos, contenedor,2)\n",
    "createText(\"DABCp4\",ab4)\n",
    "\n",
    "ffa = createDFFA(gamma)\n",
    "Test(numTest, ffa,sameInstance, maxItr, fa4, datos, contenedor)\n",
    "createText(\"DFFAp4\",fa4)\n",
    "\n",
    "ffa = createDFFA(gamma,2)\n",
    "Test(numTest, ffa,sameInstance, maxItr, fa4, datos, contenedor,2)\n",
    "createText(\"DFFAp4\",fa4)"
   ]
  },
  {
   "cell_type": "code",
   "execution_count": null,
   "metadata": {},
   "outputs": [],
   "source": [
    "contenedor = P5A1[0][0]\n",
    "datos = P5A1[1]\n",
    "pop = 36\n",
    "n = len(datos)\n",
    "sameInstance = NumbaList(CreateHeuristicPob(pop, datos,True))\n",
    "\n",
    "ag = createAG(pr_selec, pr_cross, pr_mut)\n",
    "Test(numTest, ag,sameInstance, maxItr, ag5, datos, contenedor)\n",
    "createText(\"AGp5\",ag5)\n",
    "\n",
    "ag = createAG(pr_selec, pr_cross, pr_mut,2)\n",
    "Test(numTest, ag,sameInstance, maxItr, ag5, datos, contenedor,2)\n",
    "createText(\"AGp5\",ag5)\n",
    "\n",
    "abc = createDABC(pop,n)\n",
    "Test(numTest, abc,sameInstance, maxItr, ab5, datos, contenedor)\n",
    "createText(\"DABCp5\",ab5)\n",
    "\n",
    "abc = createDABC(pop,n,2)\n",
    "Test(numTest, abc,sameInstance, maxItr, ab5, datos, contenedor,2)\n",
    "createText(\"DABCp5\",ab5)\n",
    "\n",
    "ffa = createDFFA(gamma)\n",
    "Test(numTest, ffa,sameInstance, maxItr, fa5, datos, contenedor)\n",
    "createText(\"DFFAp5\",fa5)\n",
    "\n",
    "ffa = createDFFA(gamma,2)\n",
    "Test(numTest, ffa,sameInstance, maxItr, fa5, datos, contenedor,2)\n",
    "createText(\"DFFAp5\",fa5)"
   ]
  },
  {
   "cell_type": "code",
   "execution_count": null,
   "metadata": {},
   "outputs": [],
   "source": [
    "np.random.randint(1,20,size=10)"
   ]
  },
  {
   "cell_type": "code",
   "execution_count": null,
   "metadata": {},
   "outputs": [],
   "source": [
    "np.random.choice(20,10, replace=False)"
   ]
  },
  {
   "cell_type": "code",
   "execution_count": null,
   "metadata": {},
   "outputs": [],
   "source": [
    "np.random.choice(15,14, replace=False)+1"
   ]
  },
  {
   "cell_type": "code",
   "execution_count": null,
   "metadata": {},
   "outputs": [],
   "source": []
  }
 ],
 "metadata": {
  "interpreter": {
   "hash": "87e33b45fe6ce535d8335dace4aac9a5bd82763cdf92e61610f46d04c830148b"
  },
  "kernelspec": {
   "display_name": "Python 3.9.7 ('base')",
   "language": "python",
   "name": "python3"
  },
  "language_info": {
   "codemirror_mode": {
    "name": "ipython",
    "version": 3
   },
   "file_extension": ".py",
   "mimetype": "text/x-python",
   "name": "python",
   "nbconvert_exporter": "python",
   "pygments_lexer": "ipython3",
   "version": "3.9.7"
  },
  "orig_nbformat": 4
 },
 "nbformat": 4,
 "nbformat_minor": 2
}
