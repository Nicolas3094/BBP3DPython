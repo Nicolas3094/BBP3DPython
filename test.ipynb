{
 "cells": [
  {
   "cell_type": "code",
   "execution_count": 11,
   "metadata": {},
   "outputs": [],
   "source": [
    "import numpy as np\n",
    "from numba.typed import List as NumbaList\n",
    "from BPnumba.NumAG import TrainAG\n",
    "from BPmodule.BPGen  import PROBLEM2,PROBLEM3,PROBLEM4,PROBLEM5\n",
    "from BPnumba.GeneticOperators import CreatePoblation,InstancePob\n",
    "from BPnumba.DFFA import DFFtrain\n",
    "from numba import njit,prange,objmode\n",
    "from typing import List\n",
    "import time\n"
   ]
  },
  {
   "cell_type": "code",
   "execution_count": 12,
   "metadata": {},
   "outputs": [],
   "source": [
    "P2A1 = PROBLEM2[0]\n",
    "P2A2 = PROBLEM2[1]\n",
    "P3A1 = PROBLEM3[0]\n",
    "P3A2 = PROBLEM3[1]\n",
    "P4A1 = PROBLEM4[0]\n",
    "P4A2 = PROBLEM4[1]\n",
    "P5A1 = PROBLEM5[0]\n",
    "P5A2 = PROBLEM5[1]\n"
   ]
  },
  {
   "cell_type": "code",
   "execution_count": 13,
   "metadata": {},
   "outputs": [],
   "source": [
    "@njit(parallel=True)\n",
    "def TestAlg(maxTest, maxItr,pop,datos, contenedor,title):\n",
    "    initial = CreatePoblation(pop,datos)\n",
    "    ps = 0.75\n",
    "    pc = 0.85\n",
    "    pm = 0.2\n",
    "    gamma = 0.004\n",
    "    with objmode():\n",
    "         f.write(title)\n",
    "         f.write('#Dimensiones_Contenedor: {} '.format(contenedor))\n",
    "         f.write('#Cajas totales: {} '.format(len(datos)))\n",
    "         f.write('\\n## Inicia DFF ##\\n')\n",
    "         f.write('#Num_pop: {} \\n'.format(pop))\n",
    "         f.write('#Max_itr: {} \\n'.format(maxItr))\n",
    "         f.write('#Gamma: {} \\n'.format(gamma))\n",
    "         f.write('aptitud\\t cajas_faltantes\\ttiempo(s) \\n')\n",
    "    for _ in prange(maxTest):\n",
    "        with objmode(time1='f8'):\n",
    "            time1 = time.perf_counter()\n",
    "        Pob = InstancePob(NumbaList(initial.copy()),datos,contenedor)\n",
    "        best =DFFtrain(maxItr,NumbaList(Pob),gamma,NumbaList(datos),NumbaList(contenedor))\n",
    "        with objmode():\n",
    "            f.write('{}\\t '.format(best.fi))\n",
    "            f.write('{}\\t '.format(len(datos)-best.load))\n",
    "            f.write('{}\\n'.format(round(time.perf_counter() - time1 , 2)))\n",
    "    with objmode():\n",
    "            f.write('\\n## Inicia AG ## \\n')\n",
    "            f.write('#Num_pop: {} \\n'.format(pop))\n",
    "            f.write('#Max_itr: {} \\n'.format(maxItr))\n",
    "            f.write('#Prob_cruza: {} \\n'.format(pc))\n",
    "            f.write('#Prob_seleccion: {} \\n'.format(ps))\n",
    "            f.write('#Prob_mutacion: {} \\n'.format(pm))\n",
    "            f.write('aptitud\\t cajas_faltantes\\ttiempo(s) \\n')\n",
    "    for _ in prange(maxTest):\n",
    "        with objmode(time1='f8'):\n",
    "            time1 = time.perf_counter()\n",
    "        Pob = InstancePob(NumbaList(initial.copy()),datos,contenedor)\n",
    "        best =TrainAG(maxItr,NumbaList(Pob),ps,pc,pm,NumbaList(datos),NumbaList(contenedor))\n",
    "        with objmode():\n",
    "            f.write('{}\\t '.format(best.fi))\n",
    "            f.write('{}\\t'.format(best.load))\n",
    "            f.write('{}\\n'.format(round(time.perf_counter() - time1 , 2)))\n",
    "            \n"
   ]
  },
  {
   "cell_type": "code",
   "execution_count": 14,
   "metadata": {},
   "outputs": [],
   "source": [
    "f = open('p2a2.txt',\"w\")\n",
    "contenedor =np.asanyarray( P2A2[0],dtype=np.int64)\n",
    "datos =np.asanyarray(P2A2[1],dtype=np.int64)\n",
    "TestAlg(50,500,50,datos,contenedor,'## Problema 2 Algoritmo 2')\n",
    "f.close() "
   ]
  },
  {
   "cell_type": "code",
   "execution_count": 15,
   "metadata": {},
   "outputs": [],
   "source": [
    "f = open('p2a1.txt',\"w\")\n",
    "contenedor =np.asanyarray( P2A1[0],dtype=np.int64)\n",
    "datos =np.asanyarray(P2A1[1],dtype=np.int64)\n",
    "TestAlg(50,500,50,datos,contenedor,'## Problema 2 Algoritmo 1')"
   ]
  },
  {
   "cell_type": "code",
   "execution_count": null,
   "metadata": {},
   "outputs": [],
   "source": []
  }
 ],
 "metadata": {
  "interpreter": {
   "hash": "6161e517c3d4b81215da96e8bcd392bc9974967b9dec3b65fc82e2786b592859"
  },
  "kernelspec": {
   "display_name": "Python 3.9.7 ('base')",
   "language": "python",
   "name": "python3"
  },
  "language_info": {
   "codemirror_mode": {
    "name": "ipython",
    "version": 3
   },
   "file_extension": ".py",
   "mimetype": "text/x-python",
   "name": "python",
   "nbconvert_exporter": "python",
   "pygments_lexer": "ipython3",
   "version": "3.9.7"
  },
  "orig_nbformat": 4
 },
 "nbformat": 4,
 "nbformat_minor": 2
}
