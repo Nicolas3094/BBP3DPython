{
 "cells": [
  {
   "cell_type": "code",
   "execution_count": 1,
   "metadata": {},
   "outputs": [],
   "source": [
    "import numpy as np\n",
    "#from BPmodule.BPGen import BIN_CLSI,BIN_CLSVII,BIN_CLSVIII,BIN_CLSV,BIN_CLSIV,BIN_CLSVI\n",
    "#from BPmodule.BPGen import CLASS_I50,CLASS_I100,CLASS_I150,CLASS_I1V00,CLASS_I200,CLASS_IV200,CLASS_IV50,CLASS_V100,CLASS_V200,CLASS_V50,CLASS_VI100,CLASS_VI200,CLASS_VI50,CLASS_VII100,CLASS_VII200,CLASS_VII50,CLASS_VIII100,CLASS_VIII200,CLASS_VIII50\n",
    "from BPmodule.BPGen import CreateData\n",
    "import pandas as pd\n",
    "from numba import njit, objmode, prange\n",
    "from numba.typed import Dict\n",
    "from numba.core import types\n",
    "import time\n",
    "from numba.typed import List as NumbaList\n",
    "import matplotlib.pyplot as plt\n",
    "from typing import List\n",
    "from numpy import savetxt\n",
    "from BPnumba.GeneticOperators import CreateHeuristicPob,InstancePob,Ind\n",
    "from BPnumba.Bench import Test\n",
    "from BPnumba.DFFA import createDFFA\n",
    "from BPnumba.EDFFA import createEDFFA\n",
    "from BPnumba.DABC import createDABC\n",
    "from BPnumba.EDABC import createEDABC \n",
    "from BPnumba.AGH import createAG,NAG  "
   ]
  },
  {
   "cell_type": "code",
   "execution_count": 2,
   "metadata": {},
   "outputs": [],
   "source": [
    "def zerovec(y, x): return np.zeros(shape=[x, y], dtype=np.float64)\n",
    "\n",
    "createText = lambda x,y : savetxt(\n",
    "    fname = \"Results/\"+x + \".csv\",\n",
    "    X= y,\n",
    "    delimiter=\", \",\n",
    "    header=\" Fi BoxesPacked MaxItr Time(s) | 50 individuos\",\n",
    "    fmt='%g'\n",
    ")\n",
    "problems = [2,3,4,5]\n",
    "algoritms = [1,2]\n",
    "numTest = 20\n",
    "num = 4\n",
    "agL = zerovec(num, 2*numTest)\n",
    "dabcL = zerovec(num, 2*numTest)\n",
    "ffaL = zerovec(num, 2*numTest)\n",
    "\n",
    "pr_selec = 0.85\n",
    "pr_cross = 0.75\n",
    "maxItr=1000\n",
    "pop = 50"
   ]
  },
  {
   "cell_type": "code",
   "execution_count": 3,
   "metadata": {},
   "outputs": [],
   "source": [
    "problem,algoritm=1,2\n",
    "contenedor,datos = CreateData(algorithm=algoritm,problem=problem)"
   ]
  },
  {
   "cell_type": "code",
   "execution_count": 4,
   "metadata": {},
   "outputs": [
    {
     "data": {
      "text/plain": [
       "'for problem in problems>\\n    for algoritm in algoritms:\\n\\n        aga = createAG(ps=pr_selec,pc=pr_cross,adaptive=True)\\n        Test(datos.copy(),contenedor,aga, maxItr, agL)\\n        createText(\"P\"+str(problem)+\"A\"+str(algoritm)+\"/HAG\",agL)\\n        aga = createAG(ps=pr_selec,pc=pr_cross,adaptive=True,heuristic=1)\\n        Test(datos.copy(),contenedor,aga, maxItr, agL,1)\\n        createText(\"P\"+str(problem)+\"A\"+str(algoritm)+\"/HAG\",agL)\\n\\n\\n        dabc = createDABC(50,len(datos.copy()))\\n        Test(datos.copy(),contenedor, dabc,maxItr, dabcL)\\n        createText(\"P\"+str(problem)+\"A\"+str(algoritm)+\"/DABC\",dabcL)\\n        dabc = createDABC(50,len(datos.copy()),1)\\n        Test(datos.copy(),contenedor, dabc,maxItr, dabcL,1)\\n        createText(\"P\"+str(problem)+\"A\"+str(algoritm)+\"/DABC\",dabcL)\\n\\n\\n        eabc = createEDABC(50,len(datos[0]))\\n        Test(NumbaList(datos.copy()),contenedor, eabc,maxItr, dabcL)\\n        createText(\"P\"+str(problem)+\"A\"+str(algoritm)+\"/EDABC\",dabcL)\\n        eabc = createEDABC(50,len(datos[0]),1)\\n        Test(NumbaList(datos.copy()),contenedor, eabc,maxItr, dabcL,1)\\n        createText(\"P\"+str(problem)+\"A\"+str(algoritm)+\"/EDABC\",dabcL)\\n\\n        effa = createEDFFA()\\n        Test(datos,contenedor, effa,maxItr, ffaL)\\n        createText(\"P\"+str(problem)+\"A\"+str(algoritm)+\"/EDFFA\",ffaL)\\n        ffa = createEDFFA(heuristic= 1)\\n        Test(datos,contenedor, effa,maxItr, ffaL,1)\\n        createText(\"P\"+str(problem)+\"A\"+str(algoritm)+\"/EDFFA\",ffaL'"
      ]
     },
     "execution_count": 4,
     "metadata": {},
     "output_type": "execute_result"
    }
   ],
   "source": [
    "\"\"\"for problem in problems>\n",
    "    for algoritm in algoritms:\n",
    "\n",
    "        aga = createAG(ps=pr_selec,pc=pr_cross,adaptive=True)\n",
    "        Test(datos.copy(),contenedor,aga, maxItr, agL)\n",
    "        createText(\"P\"+str(problem)+\"A\"+str(algoritm)+\"/HAG\",agL)\n",
    "        aga = createAG(ps=pr_selec,pc=pr_cross,adaptive=True,heuristic=1)\n",
    "        Test(datos.copy(),contenedor,aga, maxItr, agL,1)\n",
    "        createText(\"P\"+str(problem)+\"A\"+str(algoritm)+\"/HAG\",agL)\n",
    "\n",
    "\n",
    "        dabc = createDABC(50,len(datos.copy()))\n",
    "        Test(datos.copy(),contenedor, dabc,maxItr, dabcL)\n",
    "        createText(\"P\"+str(problem)+\"A\"+str(algoritm)+\"/DABC\",dabcL)\n",
    "        dabc = createDABC(50,len(datos.copy()),1)\n",
    "        Test(datos.copy(),contenedor, dabc,maxItr, dabcL,1)\n",
    "        createText(\"P\"+str(problem)+\"A\"+str(algoritm)+\"/DABC\",dabcL)\n",
    "\n",
    "\n",
    "        eabc = createEDABC(50,len(datos[0]))\n",
    "        Test(NumbaList(datos.copy()),contenedor, eabc,maxItr, dabcL)\n",
    "        createText(\"P\"+str(problem)+\"A\"+str(algoritm)+\"/EDABC\",dabcL)\n",
    "        eabc = createEDABC(50,len(datos[0]),1)\n",
    "        Test(NumbaList(datos.copy()),contenedor, eabc,maxItr, dabcL,1)\n",
    "        createText(\"P\"+str(problem)+\"A\"+str(algoritm)+\"/EDABC\",dabcL)\n",
    "\n",
    "        effa = createEDFFA()\n",
    "        Test(datos,contenedor, effa,maxItr, ffaL)\n",
    "        createText(\"P\"+str(problem)+\"A\"+str(algoritm)+\"/EDFFA\",ffaL)\n",
    "        ffa = createEDFFA(heuristic= 1)\n",
    "        Test(datos,contenedor, effa,maxItr, ffaL,1)\n",
    "        createText(\"P\"+str(problem)+\"A\"+str(algoritm)+\"/EDFFA\",ffaL\"\"\""
   ]
  },
  {
   "cell_type": "code",
   "execution_count": 5,
   "metadata": {},
   "outputs": [
    {
     "data": {
      "text/plain": [
       "'aga = createAG(ps=pr_selec,pc=pr_cross,adaptive=True)\\nTest(datos.copy(),contenedor,aga, maxItr, agL)\\ncreateText(\"P\"+str(problem)+\"A\"+str(algoritm)+\"/HAG\",agL)\\naga = createAG(ps=pr_selec,pc=pr_cross,adaptive=True,heuristic=1)\\nTest(datos.copy(),contenedor,aga, maxItr, agL,1)\\ncreateText(\"P\"+str(problem)+\"A\"+str(algoritm)+\"/HAG\",agL)'"
      ]
     },
     "execution_count": 5,
     "metadata": {},
     "output_type": "execute_result"
    }
   ],
   "source": [
    "\"\"\"aga = createAG(ps=pr_selec,pc=pr_cross,adaptive=True)\n",
    "Test(datos.copy(),contenedor,aga, maxItr, agL)\n",
    "createText(\"P\"+str(problem)+\"A\"+str(algoritm)+\"/HAG\",agL)\n",
    "aga = createAG(ps=pr_selec,pc=pr_cross,adaptive=True,heuristic=1)\n",
    "Test(datos.copy(),contenedor,aga, maxItr, agL,1)\n",
    "createText(\"P\"+str(problem)+\"A\"+str(algoritm)+\"/HAG\",agL)\"\"\""
   ]
  },
  {
   "cell_type": "code",
   "execution_count": 6,
   "metadata": {},
   "outputs": [
    {
     "data": {
      "text/plain": [
       "'eabc = createEDABC(pop_num=50,n=len(datos[0][0]))\\nTest(datos.copy(),contenedor, eabc,maxItr, dabcL)\\ncreateText(\"P\"+str(problem)+\"A\"+str(algoritm)+\"/EDABC\",dabcL)'"
      ]
     },
     "execution_count": 6,
     "metadata": {},
     "output_type": "execute_result"
    }
   ],
   "source": [
    "\"\"\"eabc = createEDABC(pop_num=50,n=len(datos[0][0]))\n",
    "Test(datos.copy(),contenedor, eabc,maxItr, dabcL)\n",
    "createText(\"P\"+str(problem)+\"A\"+str(algoritm)+\"/EDABC\",dabcL)\"\"\""
   ]
  },
  {
   "cell_type": "code",
   "execution_count": 7,
   "metadata": {},
   "outputs": [
    {
     "data": {
      "text/plain": [
       "'eabc = createEDABC(pop_num=50,n=len(datos[0][0]),heuristic=1)\\nTest(datos.copy(),contenedor, eabc,maxItr, dabcL,1)\\ncreateText(\"P\"+str(problem)+\"A\"+str(algoritm)+\"/EDABC\",dabcL)'"
      ]
     },
     "execution_count": 7,
     "metadata": {},
     "output_type": "execute_result"
    }
   ],
   "source": [
    "\"\"\"eabc = createEDABC(pop_num=50,n=len(datos[0][0]),heuristic=1)\n",
    "Test(datos.copy(),contenedor, eabc,maxItr, dabcL,1)\n",
    "createText(\"P\"+str(problem)+\"A\"+str(algoritm)+\"/EDABC\",dabcL)\"\"\""
   ]
  },
  {
   "cell_type": "code",
   "execution_count": 8,
   "metadata": {},
   "outputs": [
    {
     "data": {
      "text/plain": [
       "'ffa = createEDFFA()\\nTest(datos.copy(),contenedor, ffa,maxItr, ffaL)\\ncreateText(\"P\"+str(problem)+\"A\"+str(algoritm)+\"/EDFFA\",ffaL)'"
      ]
     },
     "execution_count": 8,
     "metadata": {},
     "output_type": "execute_result"
    }
   ],
   "source": [
    "\"\"\"ffa = createEDFFA()\n",
    "Test(datos.copy(),contenedor, ffa,maxItr, ffaL)\n",
    "createText(\"P\"+str(problem)+\"A\"+str(algoritm)+\"/EDFFA\",ffaL)\"\"\""
   ]
  },
  {
   "cell_type": "code",
   "execution_count": 9,
   "metadata": {},
   "outputs": [
    {
     "data": {
      "text/plain": [
       "'ffa = createEDFFA(heuristic= 1)\\nTest(datos.copy(),contenedor, ffa,maxItr, ffaL,1)\\ncreateText(\"P\"+str(problem)+\"A\"+str(algoritm)+\"/EDFFA\",ffaL)'"
      ]
     },
     "execution_count": 9,
     "metadata": {},
     "output_type": "execute_result"
    }
   ],
   "source": [
    "\"\"\"ffa = createEDFFA(heuristic= 1)\n",
    "Test(datos.copy(),contenedor, ffa,maxItr, ffaL,1)\n",
    "createText(\"P\"+str(problem)+\"A\"+str(algoritm)+\"/EDFFA\",ffaL)\"\"\""
   ]
  },
  {
   "cell_type": "code",
   "execution_count": 10,
   "metadata": {},
   "outputs": [
    {
     "name": "stdout",
     "output_type": "stream",
     "text": [
      "0\n",
      "1\n",
      "2\n",
      "3\n",
      "4\n",
      "5\n",
      "6\n",
      "7\n",
      "8\n",
      "9\n",
      "10\n",
      "11\n",
      "12\n",
      "13\n",
      "14\n",
      "15\n",
      "16\n",
      "17\n",
      "18\n",
      "19\n",
      "20\n",
      "21\n",
      "22\n",
      "23\n",
      "24\n",
      "25\n",
      "26\n",
      "27\n",
      "28\n",
      "29\n",
      "30\n",
      "31\n",
      "32\n",
      "33\n",
      "34\n",
      "35\n",
      "36\n",
      "37\n",
      "38\n",
      "39\n",
      "40\n",
      "41\n",
      "42\n",
      "43\n",
      "44\n",
      "45\n",
      "46\n",
      "47\n",
      "48\n",
      "49\n"
     ]
    },
    {
     "ename": "ValueError",
     "evalue": "empty range for randrange()",
     "output_type": "error",
     "traceback": [
      "\u001b[1;31m---------------------------------------------------------------------------\u001b[0m",
      "\u001b[1;31mValueError\u001b[0m                                Traceback (most recent call last)",
      "\u001b[1;32m~\\AppData\\Local\\Temp/ipykernel_18000/479766607.py\u001b[0m in \u001b[0;36m<module>\u001b[1;34m\u001b[0m\n\u001b[0;32m      1\u001b[0m \u001b[0mdabc\u001b[0m \u001b[1;33m=\u001b[0m \u001b[0mcreateDABC\u001b[0m\u001b[1;33m(\u001b[0m\u001b[1;36m50\u001b[0m\u001b[1;33m,\u001b[0m\u001b[0mlen\u001b[0m\u001b[1;33m(\u001b[0m\u001b[0mdatos\u001b[0m\u001b[1;33m.\u001b[0m\u001b[0mcopy\u001b[0m\u001b[1;33m(\u001b[0m\u001b[1;33m)\u001b[0m\u001b[1;33m)\u001b[0m\u001b[1;33m)\u001b[0m\u001b[1;33m\u001b[0m\u001b[1;33m\u001b[0m\u001b[0m\n\u001b[1;32m----> 2\u001b[1;33m \u001b[0mTest\u001b[0m\u001b[1;33m(\u001b[0m\u001b[0mboxes\u001b[0m\u001b[1;33m=\u001b[0m\u001b[0mdatos\u001b[0m\u001b[1;33m.\u001b[0m\u001b[0mcopy\u001b[0m\u001b[1;33m(\u001b[0m\u001b[1;33m)\u001b[0m\u001b[1;33m,\u001b[0m\u001b[0mbin\u001b[0m\u001b[1;33m=\u001b[0m\u001b[0mcontenedor\u001b[0m\u001b[1;33m,\u001b[0m\u001b[0malg\u001b[0m\u001b[1;33m=\u001b[0m \u001b[0mdabc\u001b[0m\u001b[1;33m,\u001b[0m \u001b[0mmaxItr\u001b[0m \u001b[1;33m=\u001b[0m\u001b[0mmaxItr\u001b[0m\u001b[1;33m,\u001b[0m\u001b[0mlst\u001b[0m\u001b[1;33m=\u001b[0m \u001b[0mdabcL\u001b[0m\u001b[1;33m)\u001b[0m\u001b[1;33m\u001b[0m\u001b[1;33m\u001b[0m\u001b[0m\n\u001b[0m\u001b[0;32m      3\u001b[0m \u001b[0mcreateText\u001b[0m\u001b[1;33m(\u001b[0m\u001b[1;34m\"P\"\u001b[0m\u001b[1;33m+\u001b[0m\u001b[0mstr\u001b[0m\u001b[1;33m(\u001b[0m\u001b[0mproblem\u001b[0m\u001b[1;33m)\u001b[0m\u001b[1;33m+\u001b[0m\u001b[1;34m\"A\"\u001b[0m\u001b[1;33m+\u001b[0m\u001b[0mstr\u001b[0m\u001b[1;33m(\u001b[0m\u001b[0malgoritm\u001b[0m\u001b[1;33m)\u001b[0m\u001b[1;33m+\u001b[0m\u001b[1;34m\"/DABC\"\u001b[0m\u001b[1;33m,\u001b[0m\u001b[0mdabcL\u001b[0m\u001b[1;33m)\u001b[0m\u001b[1;33m\u001b[0m\u001b[1;33m\u001b[0m\u001b[0m\n",
      "\u001b[1;31mValueError\u001b[0m: empty range for randrange()"
     ]
    }
   ],
   "source": [
    "dabc = createDABC(50,len(datos.copy()))\n",
    "Test(boxes=datos.copy(),bin=contenedor,alg= dabc, maxItr =maxItr,lst= dabcL)\n",
    "createText(\"P\"+str(problem)+\"A\"+str(algoritm)+\"/DABC\",dabcL)"
   ]
  },
  {
   "cell_type": "code",
   "execution_count": null,
   "metadata": {},
   "outputs": [],
   "source": [
    "dabc = createDABC(50,len(datos.copy()),1)\n",
    "Test(datos.copy(),contenedor, dabc,maxItr, dabcL,1)\n",
    "createText(\"P\"+str(problem)+\"A\"+str(algoritm)+\"/DABC\",dabcL)"
   ]
  }
 ],
 "metadata": {
  "interpreter": {
   "hash": "6161e517c3d4b81215da96e8bcd392bc9974967b9dec3b65fc82e2786b592859"
  },
  "kernelspec": {
   "display_name": "Python 3.9.7 ('base')",
   "language": "python",
   "name": "python3"
  },
  "language_info": {
   "codemirror_mode": {
    "name": "ipython",
    "version": 3
   },
   "file_extension": ".py",
   "mimetype": "text/x-python",
   "name": "python",
   "nbconvert_exporter": "python",
   "pygments_lexer": "ipython3",
   "version": "3.9.7"
  },
  "orig_nbformat": 4
 },
 "nbformat": 4,
 "nbformat_minor": 2
}
