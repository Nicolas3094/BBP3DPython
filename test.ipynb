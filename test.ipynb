{
 "cells": [
  {
   "cell_type": "code",
   "execution_count": 7,
   "metadata": {},
   "outputs": [],
   "source": [
    "import numpy as np\n",
    "from numba import njit, vectorize\n",
    "from BPnumba.GeneticOperators import CrossOX\n",
    "from numba.typed import List as NumbaList\n"
   ]
  },
  {
   "cell_type": "code",
   "execution_count": 21,
   "metadata": {},
   "outputs": [
    {
     "ename": "TypeError",
     "evalue": "not enough arguments: expected 5, got 3",
     "output_type": "error",
     "traceback": [
      "\u001b[1;31m---------------------------------------------------------------------------\u001b[0m",
      "\u001b[1;31mTypeError\u001b[0m                                 Traceback (most recent call last)",
      "Cell \u001b[1;32mIn[21], line 9\u001b[0m\n\u001b[0;32m      6\u001b[0m chromosome2 \u001b[39m=\u001b[39m NumbaList([\u001b[39m2\u001b[39m,\u001b[39m8\u001b[39m,\u001b[39m5\u001b[39m,\u001b[39m1\u001b[39m,\u001b[39m9\u001b[39m,\u001b[39m6\u001b[39m,\u001b[39m3\u001b[39m,\u001b[39m4\u001b[39m,\u001b[39m7\u001b[39m,\u001b[39m10\u001b[39m])\n\u001b[0;32m      7\u001b[0m chromosomeR \u001b[39m=\u001b[39m NumbaList([\u001b[39m0\u001b[39m,\u001b[39m0\u001b[39m,\u001b[39m0\u001b[39m,\u001b[39m0\u001b[39m,\u001b[39m0\u001b[39m,\u001b[39m0\u001b[39m,\u001b[39m0\u001b[39m,\u001b[39m0\u001b[39m,\u001b[39m0\u001b[39m,\u001b[39m0\u001b[39m])\n\u001b[1;32m----> 9\u001b[0m RSS(chromosome2,\u001b[39m2\u001b[39;49m,\u001b[39m4\u001b[39;49m)\n",
      "\u001b[1;31mTypeError\u001b[0m: not enough arguments: expected 5, got 3"
     ]
    }
   ],
   "source": [
    "\n",
    "\n",
    "from BPnumba.GeneticOperators import RI, RIS, RRIS, RS, RSS\n",
    "\n",
    "\n",
    "chromosome = NumbaList([1,2,3,4,5,6,7,8,9,10])\n",
    "chromosomeR = NumbaList([0,0,0,0,0,0,0,0,0,0])\n",
    "chromosome2 = NumbaList([2,8,5,1,9,6,3,4,7,10])\n",
    "chromosomeR = NumbaList([0,0,0,0,0,0,0,0,0,0])\n",
    "\n",
    "RSS(chromosome2,2,4, 6,8)"
   ]
  },
  {
   "cell_type": "code",
   "execution_count": null,
   "metadata": {},
   "outputs": [],
   "source": []
  },
  {
   "cell_type": "code",
   "execution_count": null,
   "metadata": {},
   "outputs": [],
   "source": []
  }
 ],
 "metadata": {
  "kernelspec": {
   "display_name": "Python 3.9.12 ('base')",
   "language": "python",
   "name": "python3"
  },
  "language_info": {
   "codemirror_mode": {
    "name": "ipython",
    "version": 3
   },
   "file_extension": ".py",
   "mimetype": "text/x-python",
   "name": "python",
   "nbconvert_exporter": "python",
   "pygments_lexer": "ipython3",
   "version": "3.10.9"
  },
  "vscode": {
   "interpreter": {
    "hash": "c9548d78abac3d9c949fbd3fd187a460132993a1944635464947e6b8db26d483"
   }
  }
 },
 "nbformat": 4,
 "nbformat_minor": 2
}
