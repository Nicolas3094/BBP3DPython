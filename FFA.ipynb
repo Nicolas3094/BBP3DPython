{
 "cells": [
  {
   "cell_type": "code",
   "execution_count": 1,
   "metadata": {},
   "outputs": [],
   "source": [
    "import numpy as np\n",
    "from numba.typed import List as NumbaList\n",
    "from BPmodule.BPGen  import PROBLEM2,PROBLEM3,PROBLEM4,PROBLEM5,PROBLEM1\n",
    "from BPnumba.GeneticOperators import CreateHeuristicPob,InstancePob,CrossOX,Hamming,InverseMutation\n",
    "from BPnumba.DFFA import createDFFA,createEDFFA\n",
    "import matplotlib.pyplot as plt"
   ]
  },
  {
   "cell_type": "code",
   "execution_count": 23,
   "metadata": {},
   "outputs": [
    {
     "data": {
      "text/plain": [
       "50"
      ]
     },
     "execution_count": 23,
     "metadata": {},
     "output_type": "execute_result"
    }
   ],
   "source": [
    "P1A1 = PROBLEM1[0]\n",
    "P2A1 = PROBLEM2[0]\n",
    "P2A2 = PROBLEM2[1]\n",
    "P3A1 = PROBLEM3[0]\n",
    "P3A2 = PROBLEM3[1]\n",
    "P4A1 = PROBLEM4[0]\n",
    "P4A2 = PROBLEM4[1]\n",
    "P5A1 = PROBLEM5[0]\n",
    "P5A2 = PROBLEM5[1]\n",
    "contenedor =P3A2[0][0]\n",
    "datos = P3A2[1]\n",
    "n= len(datos)\n",
    "n"
   ]
  },
  {
   "cell_type": "code",
   "execution_count": 24,
   "metadata": {},
   "outputs": [],
   "source": [
    "pop= 50\n",
    "initial = CreateHeuristicPob(pop,datos,True)\n",
    "gamma= 1/n\n",
    "maxItr=500"
   ]
  },
  {
   "cell_type": "code",
   "execution_count": 25,
   "metadata": {},
   "outputs": [],
   "source": [
    "Pob = InstancePob(NumbaList(initial),datos,contenedor)"
   ]
  },
  {
   "cell_type": "code",
   "execution_count": 26,
   "metadata": {},
   "outputs": [],
   "source": [
    "edffa = createEDFFA(gamma)"
   ]
  },
  {
   "cell_type": "code",
   "execution_count": 27,
   "metadata": {},
   "outputs": [
    {
     "data": {
      "text/plain": [
       "<numba.experimental.jitclass.boxing.Ind at 0x1ded14ec1c0>"
      ]
     },
     "execution_count": 27,
     "metadata": {},
     "output_type": "execute_result"
    }
   ],
   "source": [
    "edffa.Train(maxItr,NumbaList(Pob.copy()),datos,contenedor)"
   ]
  },
  {
   "cell_type": "code",
   "execution_count": 28,
   "metadata": {},
   "outputs": [
    {
     "data": {
      "text/plain": [
       "1.0"
      ]
     },
     "execution_count": 28,
     "metadata": {},
     "output_type": "execute_result"
    }
   ],
   "source": [
    "edffa.BestInd.fi"
   ]
  },
  {
   "cell_type": "code",
   "execution_count": 30,
   "metadata": {},
   "outputs": [
    {
     "data": {
      "text/plain": [
       "ListType[float64]([0.999694, 0.999694, 0.999868, 0.999868, 0.999868, 0.999948, 0.999974, 0.999974, 0.999974, 0.999974, 0.999974, 0.999974, 0.999974, 0.999974, 0.999974, 0.999974, 0.999974, 0.999974, 0.999974, 0.999974, 0.999974, 0.999974, 0.999974, 0.999974, 0.999974, 0.999974, 0.999974, 0.999974, 0.999974, 0.999974, 0.999974, 0.999974, 0.999974, 0.999974, 0.999974, 0.999974, 0.999974, 0.999974, 0.999974, 0.999974, 0.999974, 0.999974, 0.999974, 0.999974, 0.999974, 0.999974, 0.999974, 0.999974, 0.999974, 0.999974, 0.999974, 0.999974, 0.999974, 0.999974, 0.999974, 0.999974, 0.999974, 0.999974, 0.999974, 0.999974, 0.999974, 0.999974, 0.999974, 0.999974, 0.999974, 0.999974, 0.999974, 0.999974, 0.999974, 0.999974, 0.999974, 0.999974, 0.999974, 0.999974, 0.999974, 0.999974, 0.999974, 0.999974, 0.999974, 0.999974, 0.999974, 0.999974, 0.999974, 0.999974, 0.999974, 0.999974, 0.999974, 0.999974, 0.999974, 0.999974, 0.999974, 0.999974, 0.999974, 0.999974, 0.999974, 0.999974, 0.999974, 0.999974, 0.999974, 0.999974, 0.999974, 0.999974, 0.999974, 0.999974, 0.999974, 0.999974, 0.999974, 0.999974, 1.0, ...])"
      ]
     },
     "execution_count": 30,
     "metadata": {},
     "output_type": "execute_result"
    }
   ],
   "source": [
    "edffa.bestfi"
   ]
  },
  {
   "cell_type": "code",
   "execution_count": 29,
   "metadata": {},
   "outputs": [
    {
     "data": {
      "image/png": "[encoded data removed]",
      "text/plain": [
       "<Figure size 432x288 with 1 Axes>"
      ]
     },
     "metadata": {
      "needs_background": "light"
     },
     "output_type": "display_data"
    }
   ],
   "source": [
    "plt.figure()\n",
    "plt.plot(edffa.bestfi,color='blue')\n",
    "plt.ylim(0,1)\n",
    "plt.show()"
   ]
  },
  {
   "cell_type": "code",
   "execution_count": null,
   "metadata": {},
   "outputs": [],
   "source": []
  }
 ],
 "metadata": {
  "interpreter": {
   "hash": "87e33b45fe6ce535d8335dace4aac9a5bd82763cdf92e61610f46d04c830148b"
  },
  "kernelspec": {
   "display_name": "Python 3.9.7 ('base')",
   "language": "python",
   "name": "python3"
  },
  "language_info": {
   "codemirror_mode": {
    "name": "ipython",
    "version": 3
   },
   "file_extension": ".py",
   "mimetype": "text/x-python",
   "name": "python",
   "nbconvert_exporter": "python",
   "pygments_lexer": "ipython3",
   "version": "3.9.7"
  },
  "orig_nbformat": 4
 },
 "nbformat": 4,
 "nbformat_minor": 2
}
