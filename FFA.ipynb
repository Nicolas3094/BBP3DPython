{
 "cells": [
  {
   "cell_type": "code",
   "execution_count": null,
   "metadata": {},
   "outputs": [],
   "source": [
    "import numpy as np\n",
    "from numba import types, njit,int64,jit,cuda,prange,vectorize\n",
    "from numba.typed import List as NumbaList\n",
    "from BPmodule.BPGen import GetInstance\n",
    "from BPnumba.GeneticOperators import MutateC2\n",
    "from BPnumba.DFFA import createDFFA\n",
    "from BPnumba.EDFFA import FFSearch\n",
    "import matplotlib.pyplot as plt\n",
    "from BPnumba.BoxN import create_ItemBin,ItemBin,InstaceBoxes\n",
    "from BPnumba.Poblation import CreateRotHPob,EvalPob"
   ]
  },
  {
   "cell_type": "code",
   "execution_count": null,
   "metadata": {},
   "outputs": [],
   "source": [
    "def zerovec(y, x): return np.zeros(shape=[x, y], dtype=np.float64)\n",
    "createText = lambda x,y : np.savetxt(\n",
    "    fname = \"Results/\"+x + \".csv\",\n",
    "    X= y,\n",
    "    delimiter=\" \",\n",
    "    fmt='%g')"
   ]
  },
  {
   "cell_type": "code",
   "execution_count": null,
   "metadata": {},
   "outputs": [],
   "source": [
    "@njit#(parallel=True)\n",
    "def BenchFFA(i,boxes,bin,lst,lst2,lst3,maxItr,pop,rot):\n",
    "    #fi = NumbaList(np.zeros(maxItr,dtype=np.float64))\n",
    "    UBOXES = InstaceBoxes(boxes)\n",
    "    pob = CreateRotHPob(pop =pop, ITEMS = UBOXES.copy(), rotType=rot)\n",
    "    \n",
    "    EvalPob(pob= pob,boxData=UBOXES.copy(),container=bin,rotation=rot)\n",
    "    \n",
    "    ind = FFSearch(mutType=0,upIndex=4,Maxitr=maxItr,fireflyPob=pob.copy(),datos=UBOXES.copy(),contenedor=bin,rot=rot)   \n",
    "    ind2 = FFSearch(mutType=1,upIndex=4,Maxitr=maxItr,fireflyPob=pob.copy(),datos=UBOXES.copy(),contenedor=bin,rot=rot)   \n",
    "    ind3 = FFSearch(mutType=2,upIndex=4,Maxitr=maxItr,fireflyPob=pob.copy(),datos=UBOXES.copy(),contenedor=bin,rot=rot)    \n",
    "\n",
    "    lst[i]=ind.fi\n",
    "    lst2[i] = ind2.fi\n",
    "    lst3[i] = ind3.fi"
   ]
  },
  {
   "cell_type": "code",
   "execution_count": null,
   "metadata": {},
   "outputs": [],
   "source": [
    "@njit(parallel=True)\n",
    "def BFFA(rango,rango2,contenedor,data:list[list[list[int]]],agL,agL2,agL3,maxItr,numpop,rotation):\n",
    "    for p in prange(rango,rango2):\n",
    "        BenchFFA(\n",
    "                i=p,\n",
    "                boxes=data[p], \n",
    "                bin=contenedor,\n",
    "                maxItr= maxItr,\n",
    "                lst= agL,\n",
    "                lst2=agL2,\n",
    "                lst3=agL3,\n",
    "                pop=numpop,\n",
    "                rot=rotation)\n"
   ]
  },
  {
   "cell_type": "code",
   "execution_count": null,
   "metadata": {},
   "outputs": [],
   "source": [
    "def Bench(nm,r):\n",
    "    BR1 = GetInstance(nm)\n",
    "    agL = zerovec(1, 100)\n",
    "    \n",
    "    agL2 = zerovec(1, 100)\n",
    "   \n",
    "    agL3 = zerovec(1, 100)\n",
    "   \n",
    "    for th in np.arange(32,r,4):\n",
    "        BFFA(rango=th,rango2=th+4,contenedor=BR1[0],data=BR1[1],agL=agL,agL2=agL2,agL3=agL3,maxItr=1000,numpop=20,rotation=6)\n",
    "        createText(nm+\"/FFA/\"+\"1FFA\"+str(0),agL)\n",
    "        createText(nm+\"/FFA/\"+\"1FFA\"+str(1),agL2)\n",
    "        createText(nm+\"/FFA/\"+\"1FFA\"+str(2),agL3)"
   ]
  },
  {
   "cell_type": "code",
   "execution_count": null,
   "metadata": {},
   "outputs": [],
   "source": [
    "r=100\n",
    "agL = zerovec(1, 100)\n",
    "agL2 = zerovec(1, 100)\n",
    "agL3 = zerovec(1, 100)\n",
    "BR1 = GetInstance(\"BR1\")\n",
    "cont = BR1[0]\n",
    "dataBoxes=BR1[1]\n",
    "boxes = dataBoxes[0]"
   ]
  },
  {
   "cell_type": "code",
   "execution_count": null,
   "metadata": {},
   "outputs": [],
   "source": [
    " BenchFFA(\n",
    "            i=0,\n",
    "            boxes=boxes, \n",
    "            bin=cont,\n",
    "            maxItr= 1000,\n",
    "            lst= agL,\n",
    "            lst2=agL2,\n",
    "            lst3=agL3,\n",
    "            pop=20,\n",
    "            rot=6)"
   ]
  },
  {
   "cell_type": "code",
   "execution_count": null,
   "metadata": {},
   "outputs": [],
   "source": [
    "Bench(\"P3A2\",100)"
   ]
  },
  {
   "cell_type": "code",
   "execution_count": 26,
   "metadata": {},
   "outputs": [],
   "source": [
    "pop=20\n",
    "maxItr=20\n",
    "rot=2\n",
    "m=4\n",
    "mut=0"
   ]
  },
  {
   "cell_type": "code",
   "execution_count": 27,
   "metadata": {},
   "outputs": [
    {
     "name": "stderr",
     "output_type": "stream",
     "text": [
      "a:\\Documents\\python\\BPP3D\\BPmodule\\BPGen.py:405: VisibleDeprecationWarning: Creating an ndarray from ragged nested sequences (which is a list-or-tuple of lists-or-tuples-or ndarrays with different lengths or shapes) is deprecated. If you meant to do this, you must specify 'dtype=object' when creating the ndarray.\n",
      "  bx= np.array(totalboxes)\n"
     ]
    }
   ],
   "source": [
    "BR1 = GetInstance(\"BR1\")\n",
    "cont = BR1[0]\n",
    "dataBoxes=BR1[1]\n",
    "boxes = dataBoxes[1]"
   ]
  },
  {
   "cell_type": "code",
   "execution_count": 28,
   "metadata": {},
   "outputs": [],
   "source": [
    "UBOXES = InstaceBoxes(boxes)\n",
    "pob = CreateRotHPob(pop =pop, ITEMS = UBOXES, rotType=rot)\n",
    "EvalPob(pob,UBOXES,cont,rot)"
   ]
  },
  {
   "cell_type": "code",
   "execution_count": 29,
   "metadata": {},
   "outputs": [],
   "source": [
    "ind = FFSearch(mutType=mut,upIndex=m,Maxitr=maxItr,fireflyPob=pob.copy(),datos=UBOXES.copy(),contenedor=cont,rot=rot)"
   ]
  },
  {
   "cell_type": "code",
   "execution_count": null,
   "metadata": {},
   "outputs": [
    {
     "data": {
      "text/plain": [
       "0.8525806906168971"
      ]
     },
     "execution_count": 24,
     "metadata": {},
     "output_type": "execute_result"
    }
   ],
   "source": [
    "ind.fi"
   ]
  },
  {
   "cell_type": "code",
   "execution_count": null,
   "metadata": {},
   "outputs": [
    {
     "data": {
      "text/plain": [
       "(ListType[int64]([67, 16, 90, 144, 96, 41, 165, 149, 133, 42, 137, 104, 201, 2, 196, 113, 62, 40, 182, 163, 10, 155, 34, 91, 30, 108, 18, 115, 103, 211, 51, 37, 208, 33, 101, 152, 83, 159, 127, 181, 52, 190, 95, 57, 38, 20, 1, 86, 188, 131, 106, 148, 92, 192, 87, 199, 73, 76, 102, 19, 212, 193, 170, 154, 153, 141, 136, 132, 130, 126, 120, 119, 118, 117, 116, 114, 112, 111, 110, 109, 107, 29, 31, 32, 35, 36, 39, 43, 44, 45, 46, 47, 48, 49, 50, 53, 54, 55, 56, 58, 59, 60, 61, 63, 64, 65, 66, 68, 69, 70, 71, 72, 74, 75, 77, 78, 79, 80, 81, 82, 84, 85, 88, 89, 93, 94, 97, 98, 99, 100, 105, 28, 27, 26, 25, 24, 23, 22, 21, 17, 15, 14, 13, 12, 11, 9, 8, 7, 6, 5, 4, 3, 197, 121, 122, 123, 124, 125, 128, 129, 134, 135, 138, 139, 140, 142, 143, 145, 146, 147, 150, 151, 156, 157, 158, 160, 161, 162, 164, 166, 167, 168, 169, 171, 172, 173, 174, 175, 176, 177, 178, 179, 180, 183, 184, 185, 186, 187, 189, 191, 194, 195, 198, 200, 202, 203, 204, 205, 206, 207, 209, 210, ...]),\n",
       " ListType[int64]([1, 0, 0, 1, 1, 0, 1, 0, 0, 0, 0, 0, 1, 1, 0, 0, 1, 1, 1, 0, 1, 1, 0, 0, 1, 0, 1, 1, 1, 0, 0, 0, 1, 0, 0, 1, 0, 1, 1, 1, 1, 0, 0, 0, 0, 1, 0, 0, 0, 0, 0, 0, 1, 1, 1, 1, 1, 1, 1, 1, 0, 1, 0, 0, 0, 1, 0, 1, 0, 0, 0, 0, 0, 1, 1, 1, 1, 1, 0, 1, 0, 0, 1, 1, 1, 1, 0, 1, 1, 0, 0, 1, 1, 1, 1, 1, 0, 0, 1, 0, 0, 1, 1, 1, 0, 0, 1, 0, 1, 0, 1, 1, 0, 1, 0, 0, 1, 1, 0, 1, 0, 1, 1, 1, 0, 1, 0, 1, 1, 1, 0, 1, 0, 1, 0, 1, 1, 1, 1, 0, 1, 0, 1, 1, 0, 1, 0, 0, 0, 1, 1, 1, 1, 0, 1, 1, 0, 0, 1, 0, 0, 0, 1, 0, 1, 1, 0, 1, 1, 0, 0, 1, 0, 1, 0, 0, 1, 1, 0, 1, 1, 0, 1, 1, 1, 0, 0, 1, 0, 1, 0, 1, 1, 0, 1, 0, 1, 1, 0, 0, 0, 1, 1, 1, 1, 1, 1, 0, 0, 1, 0, 1, ...]))"
      ]
     },
     "execution_count": 25,
     "metadata": {},
     "output_type": "execute_result"
    }
   ],
   "source": [
    "ind.genome,ind.genome_r"
   ]
  },
  {
   "cell_type": "code",
   "execution_count": null,
   "metadata": {},
   "outputs": [],
   "source": []
  }
 ],
 "metadata": {
  "kernelspec": {
   "display_name": "Python 3.9.12 ('base')",
   "language": "python",
   "name": "python3"
  },
  "language_info": {
   "codemirror_mode": {
    "name": "ipython",
    "version": 3
   },
   "file_extension": ".py",
   "mimetype": "text/x-python",
   "name": "python",
   "nbconvert_exporter": "python",
   "pygments_lexer": "ipython3",
   "version": "3.9.12"
  },
  "orig_nbformat": 4,
  "vscode": {
   "interpreter": {
    "hash": "c9548d78abac3d9c949fbd3fd187a460132993a1944635464947e6b8db26d483"
   }
  }
 },
 "nbformat": 4,
 "nbformat_minor": 2
}
