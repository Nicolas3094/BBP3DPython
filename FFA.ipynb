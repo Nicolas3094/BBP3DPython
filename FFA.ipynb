{
 "cells": [
  {
   "cell_type": "code",
   "execution_count": 1,
   "metadata": {},
   "outputs": [],
   "source": [
    "import numpy as np\n",
    "from numba.typed import List as NumbaList\n",
    "from BPmodule.BPGen  import PROBLEM2,PROBLEM3,PROBLEM4,PROBLEM5\n",
    "from BPnumba.GeneticOperators import CreateHeuristicPob,InstancePob,create_intidivual\n",
    "from BPnumba.DFFA import createDFFA,AlphaStep,BettaStep,Hamming\n",
    "import matplotlib.pyplot as plt\n"
   ]
  },
  {
   "cell_type": "code",
   "execution_count": 2,
   "metadata": {},
   "outputs": [
    {
     "data": {
      "text/plain": [
       "29"
      ]
     },
     "execution_count": 2,
     "metadata": {},
     "output_type": "execute_result"
    }
   ],
   "source": [
    "P2A1 = PROBLEM2[0]\n",
    "P2A2 = PROBLEM2[1]\n",
    "P3A1 = PROBLEM3[0]\n",
    "P3A2 = PROBLEM3[1]\n",
    "P4A1 = PROBLEM4[0]\n",
    "P4A2 = PROBLEM4[1]\n",
    "P5A1 = PROBLEM5[0]\n",
    "P5A2 = PROBLEM5[1]\n",
    "pop=50\n",
    "contenedor =P2A1[0][0]\n",
    "datos = P2A1[1]\n",
    "idBoxes = np.arange(1,len(datos)+1,dtype=np.int64)\n",
    "initial = CreateHeuristicPob(pop,datos)\n",
    "n= len(datos)\n",
    "gamma= 1/(n**2)\n",
    "maxItr=500\n",
    "n"
   ]
  },
  {
   "cell_type": "code",
   "execution_count": 3,
   "metadata": {},
   "outputs": [],
   "source": [
    "Pob = InstancePob(NumbaList(initial),datos,contenedor)"
   ]
  },
  {
   "cell_type": "code",
   "execution_count": 4,
   "metadata": {},
   "outputs": [],
   "source": [
    "dffa = createDFFA(gamma)"
   ]
  },
  {
   "cell_type": "code",
   "execution_count": 5,
   "metadata": {},
   "outputs": [
    {
     "name": "stderr",
     "output_type": "stream",
     "text": [
      "<string>:3: NumbaPendingDeprecationWarning: \u001b[1m\u001b[1m\n",
      "Encountered the use of a type that is scheduled for deprecation: type 'reflected list' found for argument 'fireflyPob' of function 'DFFA.Train'.\n",
      "\n",
      "For more information visit https://numba.pydata.org/numba-doc/latest/reference/deprecation.html#deprecation-of-reflection-for-list-and-set-types\n",
      "\u001b[1m\n",
      "File \"BPnumba\\DFFA.py\", line 59:\u001b[0m\n",
      "\u001b[1m\n",
      "\u001b[1m    def Train(self, Maxitr: int, fireflyPob: List[Ind], datos: List[List[int]], contenedor: List[int]):\n",
      "\u001b[0m    \u001b[1m^\u001b[0m\u001b[0m\n",
      "\u001b[0m\u001b[0m\n",
      "<string>:3: NumbaPendingDeprecationWarning: \u001b[1m\u001b[1m\n",
      "Encountered the use of a type that is scheduled for deprecation: type 'reflected list' found for argument 'lst' of function 'ol_list_sort.<locals>.impl'.\n",
      "\n",
      "For more information visit https://numba.pydata.org/numba-doc/latest/reference/deprecation.html#deprecation-of-reflection-for-list-and-set-types\n",
      "\u001b[1m\n",
      "File \"..\\..\\Anaconda3\\lib\\site-packages\\numba\\cpython\\listobj.py\", line 1095:\u001b[0m\n",
      "\u001b[1m\n",
      "\u001b[1m    def impl(lst, key=None, reverse=False):\n",
      "\u001b[0m    \u001b[1m^\u001b[0m\u001b[0m\n",
      "\u001b[0m\u001b[0m\n",
      "<string>:3: NumbaPendingDeprecationWarning: \u001b[1m\u001b[1m\u001b[1m\n",
      "Encountered the use of a type that is scheduled for deprecation: type 'reflected list' found for argument 'lst' of function 'ol_list_sort.<locals>.impl'.\n",
      "\n",
      "For more information visit https://numba.pydata.org/numba-doc/latest/reference/deprecation.html#deprecation-of-reflection-for-list-and-set-types\n",
      "\u001b[1m\n",
      "File \"..\\..\\Anaconda3\\lib\\site-packages\\numba\\cpython\\listobj.py\", line 1095:\u001b[0m\n",
      "\u001b[1m\n",
      "\u001b[1m    def impl(lst, key=None, reverse=False):\n",
      "\u001b[0m    \u001b[1m^\u001b[0m\u001b[0m\n",
      "\u001b[0m\u001b[0m\u001b[0m\n"
     ]
    },
    {
     "data": {
      "text/plain": [
       "<numba.experimental.jitclass.boxing.Ind at 0x1a31ebdea30>"
      ]
     },
     "execution_count": 5,
     "metadata": {},
     "output_type": "execute_result"
    }
   ],
   "source": [
    "dffa.Train(maxItr,Pob,datos,contenedor)"
   ]
  },
  {
   "cell_type": "code",
   "execution_count": 9,
   "metadata": {},
   "outputs": [
    {
     "data": {
      "text/plain": [
       "'|5|9|8|24|7|23|26|29|6|20|14|19|21|28|27|15|16|17|22|25|18|13|12|11|10|1|3|2|4|'"
      ]
     },
     "execution_count": 9,
     "metadata": {},
     "output_type": "execute_result"
    }
   ],
   "source": [
    "dffa.BestInd.codeSolution"
   ]
  },
  {
   "cell_type": "code",
   "execution_count": 7,
   "metadata": {},
   "outputs": [
    {
     "name": "stdout",
     "output_type": "stream",
     "text": [
      "0.570784\n",
      "0.559072\n",
      "0.753088\n",
      "0.7088\n",
      "0.54352\n",
      "0.537664\n",
      "0.669376\n",
      "0.669376\n",
      "0.618688\n",
      "1.0\n",
      "0.8848\n",
      "0.733888\n",
      "0.669376\n",
      "0.733888\n",
      "0.669376\n",
      "0.486976\n",
      "0.54256\n",
      "0.961536\n",
      "0.674272\n",
      "0.8848\n",
      "0.733888\n",
      "0.669376\n",
      "0.618688\n",
      "0.532256\n",
      "0.733888\n",
      "0.498688\n",
      "0.935488\n",
      "0.8848\n",
      "0.54256\n",
      "0.574336\n",
      "0.803776\n",
      "0.498688\n",
      "0.602176\n",
      "0.669376\n",
      "0.669376\n",
      "0.492832\n",
      "0.565888\n",
      "0.875872\n",
      "0.537664\n",
      "0.669376\n",
      "0.714112\n",
      "0.559072\n",
      "0.903776\n",
      "0.486976\n",
      "0.669376\n",
      "0.6304\n",
      "0.8848\n",
      "0.8848\n",
      "0.54352\n",
      "0.733888\n"
     ]
    }
   ],
   "source": [
    "len(dffa.bestfi)\n",
    "for ind in Pob:\n",
    "    print(ind.fi)"
   ]
  },
  {
   "cell_type": "code",
   "execution_count": 8,
   "metadata": {},
   "outputs": [
    {
     "data": {
      "image/png": "[encoded data removed]",
      "text/plain": [
       "<Figure size 432x288 with 1 Axes>"
      ]
     },
     "metadata": {
      "needs_background": "light"
     },
     "output_type": "display_data"
    }
   ],
   "source": [
    "plt.figure()\n",
    "plt.plot(dffa.bestfi)\n",
    "plt.ylim(0,1)\n",
    "plt.show()"
   ]
  },
  {
   "cell_type": "code",
   "execution_count": null,
   "metadata": {},
   "outputs": [],
   "source": []
  }
 ],
 "metadata": {
  "interpreter": {
   "hash": "6161e517c3d4b81215da96e8bcd392bc9974967b9dec3b65fc82e2786b592859"
  },
  "kernelspec": {
   "display_name": "Python 3.9.7 ('base')",
   "language": "python",
   "name": "python3"
  },
  "language_info": {
   "codemirror_mode": {
    "name": "ipython",
    "version": 3
   },
   "file_extension": ".py",
   "mimetype": "text/x-python",
   "name": "python",
   "nbconvert_exporter": "python",
   "pygments_lexer": "ipython3",
   "version": "3.9.7"
  },
  "orig_nbformat": 4
 },
 "nbformat": 4,
 "nbformat_minor": 2
}
