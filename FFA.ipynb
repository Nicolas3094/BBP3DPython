{
 "cells": [
  {
   "cell_type": "code",
   "execution_count": null,
   "metadata": {},
   "outputs": [],
   "source": [
    "import numpy as np\n",
    "from numba.typed import List as NumbaList\n",
    "from BPmodule.BPGen import CreateData\n",
    "from BPnumba.GeneticOperators import CreateHeuristicPob,InstancePob,MutateC2\n",
    "from BPnumba.DFFA import createDFFA\n",
    "from BPnumba.EDFFA import createEDFFA\n",
    "import matplotlib.pyplot as plt"
   ]
  },
  {
   "cell_type": "code",
   "execution_count": null,
   "metadata": {},
   "outputs": [],
   "source": [
    "contenedor,data = CreateData(algorithm=2,problem=2)\n",
    "datos = NumbaList(data[0])\n",
    "n= len(datos)\n",
    "n"
   ]
  },
  {
   "cell_type": "code",
   "execution_count": null,
   "metadata": {},
   "outputs": [],
   "source": [
    "pop= 50\n",
    "gamma= 1/n\n",
    "maxItr=1000"
   ]
  },
  {
   "cell_type": "code",
   "execution_count": null,
   "metadata": {},
   "outputs": [],
   "source": [
    "gamma"
   ]
  },
  {
   "cell_type": "code",
   "execution_count": 5,
   "metadata": {},
   "outputs": [
    {
     "name": "stdout",
     "output_type": "stream",
     "text": [
      "1.0\n"
     ]
    },
    {
     "data": {
      "image/png": "[encoded data removed]",
      "text/plain": [
       "<Figure size 432x288 with 1 Axes>"
      ]
     },
     "metadata": {
      "needs_background": "light"
     },
     "output_type": "display_data"
    }
   ],
   "source": [
    "edffa = createEDFFA(mutType=0)\n",
    "edffa.Train(7,maxItr, InstancePob(NumbaList( CreateHeuristicPob(pop,datos,True)),datos,contenedor),datos,contenedor)\n",
    "print(edffa.BestInd.fi)\n",
    "plt.figure()\n",
    "plt.plot(edffa.bestfi,color='red')\n",
    "plt.ylim(0.8,1)\n",
    "plt.show()"
   ]
  },
  {
   "cell_type": "code",
   "execution_count": 6,
   "metadata": {},
   "outputs": [
    {
     "name": "stderr",
     "output_type": "stream",
     "text": [
      "<string>:3: NumbaPendingDeprecationWarning: \u001b[1m\u001b[1m\n",
      "Encountered the use of a type that is scheduled for deprecation: type 'reflected list' found for argument 'fireflyPob' of function 'DFFA.Train'.\n",
      "\n",
      "For more information visit https://numba.readthedocs.io/en/stable/reference/deprecation.html#deprecation-of-reflection-for-list-and-set-types\n",
      "\u001b[1m\n",
      "File \"BPnumba\\DFFA.py\", line 84:\u001b[0m\n",
      "\u001b[1m\n",
      "\u001b[1m    def Train(self, Maxitr: int, fireflyPob: List[Ind], datos: List[List[int]], contenedor: List[int])->Ind:\n",
      "\u001b[0m    \u001b[1m^\u001b[0m\u001b[0m\n",
      "\u001b[0m\u001b[0m\n",
      "<string>:3: NumbaPendingDeprecationWarning: \u001b[1m\u001b[1m\n",
      "Encountered the use of a type that is scheduled for deprecation: type 'reflected list' found for argument 'lst' of function 'ol_list_sort.<locals>.impl'.\n",
      "\n",
      "For more information visit https://numba.readthedocs.io/en/stable/reference/deprecation.html#deprecation-of-reflection-for-list-and-set-types\n",
      "\u001b[1m\n",
      "File \"c:\\Users\\NicolasG\\anaconda3\\lib\\site-packages\\numba\\cpython\\listobj.py\", line 1096:\u001b[0m\n",
      "\u001b[1m\n",
      "\u001b[1m    def impl(lst, key=None, reverse=False):\n",
      "\u001b[0m    \u001b[1m^\u001b[0m\u001b[0m\n",
      "\u001b[0m\u001b[0m\n",
      "<string>:3: NumbaPendingDeprecationWarning: \u001b[1m\u001b[1m\u001b[1m\n",
      "Encountered the use of a type that is scheduled for deprecation: type 'reflected list' found for argument 'lst' of function 'ol_list_sort.<locals>.impl'.\n",
      "\n",
      "For more information visit https://numba.readthedocs.io/en/stable/reference/deprecation.html#deprecation-of-reflection-for-list-and-set-types\n",
      "\u001b[1m\n",
      "File \"c:\\Users\\NicolasG\\anaconda3\\lib\\site-packages\\numba\\cpython\\listobj.py\", line 1096:\u001b[0m\n",
      "\u001b[1m\n",
      "\u001b[1m    def impl(lst, key=None, reverse=False):\n",
      "\u001b[0m    \u001b[1m^\u001b[0m\u001b[0m\n",
      "\u001b[0m\u001b[0m\u001b[0m\n"
     ]
    },
    {
     "name": "stdout",
     "output_type": "stream",
     "text": [
      "1.0\n"
     ]
    },
    {
     "data": {
      "image/png": "[encoded data removed]",
      "text/plain": [
       "<Figure size 432x288 with 1 Axes>"
      ]
     },
     "metadata": {
      "needs_background": "light"
     },
     "output_type": "display_data"
    }
   ],
   "source": [
    "dffa = createDFFA(mutType=0)\n",
    "dffa.Train(maxItr, InstancePob(NumbaList( CreateHeuristicPob(pop,datos,True)),datos,contenedor),datos,contenedor)\n",
    "print(dffa.BestInd.fi)\n",
    "plt.figure()\n",
    "plt.plot(dffa.bestfi,color='red')\n",
    "plt.ylim(0.8,1)\n",
    "plt.show()"
   ]
  },
  {
   "cell_type": "code",
   "execution_count": 7,
   "metadata": {},
   "outputs": [
    {
     "name": "stdout",
     "output_type": "stream",
     "text": [
      "1.0\n"
     ]
    },
    {
     "data": {
      "image/png": "[encoded data removed]",
      "text/plain": [
       "<Figure size 432x288 with 1 Axes>"
      ]
     },
     "metadata": {
      "needs_background": "light"
     },
     "output_type": "display_data"
    }
   ],
   "source": [
    "dffa = createDFFA(mutType=3)\n",
    "dffa.Train(maxItr, InstancePob(NumbaList( CreateHeuristicPob(pop,datos,True)),datos,contenedor),datos,contenedor)\n",
    "print(dffa.BestInd.fi)\n",
    "plt.figure()\n",
    "plt.plot(dffa.bestfi,color='red')\n",
    "plt.ylim(0,1)\n",
    "plt.show()"
   ]
  },
  {
   "cell_type": "code",
   "execution_count": null,
   "metadata": {},
   "outputs": [],
   "source": []
  }
 ],
 "metadata": {
  "kernelspec": {
   "display_name": "Python 3.9.12 ('base')",
   "language": "python",
   "name": "python3"
  },
  "language_info": {
   "codemirror_mode": {
    "name": "ipython",
    "version": 3
   },
   "file_extension": ".py",
   "mimetype": "text/x-python",
   "name": "python",
   "nbconvert_exporter": "python",
   "pygments_lexer": "ipython3",
   "version": "3.9.12"
  },
  "orig_nbformat": 4,
  "vscode": {
   "interpreter": {
    "hash": "c9548d78abac3d9c949fbd3fd187a460132993a1944635464947e6b8db26d483"
   }
  }
 },
 "nbformat": 4,
 "nbformat_minor": 2
}
