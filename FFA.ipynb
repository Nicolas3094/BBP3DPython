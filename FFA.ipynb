{
 "cells": [
  {
   "cell_type": "code",
   "execution_count": 1,
   "metadata": {},
   "outputs": [],
   "source": [
    "import numpy as np\n",
    "from numba.typed import List as NumbaList\n",
    "from BPmodule.BPGen import CreateData\n",
    "from BPnumba.GeneticOperators import CreateHeuristicPob,InstancePob,MutateC2\n",
    "from BPnumba.DFFA import createDFFA\n",
    "from BPnumba.EDFFA import createEDFFA\n",
    "import matplotlib.pyplot as plt"
   ]
  },
  {
   "cell_type": "code",
   "execution_count": 2,
   "metadata": {},
   "outputs": [],
   "source": [
    "maxItr=1000\n",
    "pop= 50\n"
   ]
  },
  {
   "cell_type": "code",
   "execution_count": 3,
   "metadata": {},
   "outputs": [],
   "source": [
    "def TestFFA(alg, prb):\n",
    "    contenedor,data = CreateData(algorithm=alg,problem=prb)\n",
    "    datos = NumbaList(data[0])\n",
    "    n= len(datos)\n",
    "    gamma= 1/n\n",
    "    datos = NumbaList(data[0])\n",
    "    edffa = createEDFFA(mutType=1)\n",
    "    edffa.Train(11,maxItr, InstancePob(NumbaList( CreateHeuristicPob(pop,datos,True)),datos,contenedor),datos,contenedor)\n",
    "    dffa = createDFFA(mutType=0)\n",
    "    dffa.Train(maxItr, InstancePob(NumbaList( CreateHeuristicPob(pop,datos,True)),datos,contenedor),datos,contenedor)"
   ]
  },
  {
   "cell_type": "code",
   "execution_count": 6,
   "metadata": {},
   "outputs": [],
   "source": [
    "TestFFA(1,1)"
   ]
  },
  {
   "cell_type": "code",
   "execution_count": 9,
   "metadata": {},
   "outputs": [],
   "source": [
    "contenedor,data = CreateData(algorithm=2,problem=3)\n",
    "datos = NumbaList(data[0])\n",
    "n= len(datos)\n",
    "gamma= 1/n"
   ]
  },
  {
   "cell_type": "code",
   "execution_count": 10,
   "metadata": {},
   "outputs": [
    {
     "data": {
      "text/plain": [
       "<numba.experimental.jitclass.boxing.Ind at 0x1df2410ea30>"
      ]
     },
     "execution_count": 10,
     "metadata": {},
     "output_type": "execute_result"
    }
   ],
   "source": [
    "datos = NumbaList(data[0])\n",
    "edffa = createEDFFA(mutType=1)\n",
    "edffa.Train(11,maxItr, InstancePob(NumbaList( CreateHeuristicPob(pop,datos,True)),datos,contenedor),datos,contenedor)"
   ]
  },
  {
   "cell_type": "code",
   "execution_count": 11,
   "metadata": {},
   "outputs": [
    {
     "data": {
      "text/plain": [
       "<numba.experimental.jitclass.boxing.Ind at 0x1df21634610>"
      ]
     },
     "execution_count": 11,
     "metadata": {},
     "output_type": "execute_result"
    }
   ],
   "source": [
    "dffa = createDFFA()\n",
    "dffa.Train(maxItr, InstancePob(NumbaList( CreateHeuristicPob(pop,datos,True)),datos,contenedor),datos,contenedor)"
   ]
  },
  {
   "cell_type": "code",
   "execution_count": 12,
   "metadata": {},
   "outputs": [
    {
     "name": "stdout",
     "output_type": "stream",
     "text": [
      "edffa best Fi:  0.986182\n",
      "dffa bestFi:  0.966636\n"
     ]
    }
   ],
   "source": [
    "print(\"edffa best Fi: \",edffa.BestInd.fi)\n",
    "print(\"dffa bestFi: \",dffa.BestInd.fi)"
   ]
  },
  {
   "cell_type": "code",
   "execution_count": 14,
   "metadata": {},
   "outputs": [
    {
     "data": {
      "image/png": "[encoded data removed]",
      "text/plain": [
       "<Figure size 432x288 with 1 Axes>"
      ]
     },
     "metadata": {
      "needs_background": "light"
     },
     "output_type": "display_data"
    }
   ],
   "source": [
    "plt.figure()\n",
    "plt.plot(edffa.bestfi,color='red',label=\"EDFFA(C2)\")\n",
    "plt.plot(dffa.bestfi,color='blue',label=\"DFFA\")\n",
    "plt.legend()\n",
    "plt.ylim(0.8,1)\n",
    "plt.show()"
   ]
  },
  {
   "cell_type": "code",
   "execution_count": 13,
   "metadata": {},
   "outputs": [],
   "source": [
    "dffa = createDFFA(mutType=0)\n",
    "dffa.Train(maxItr, InstancePob(NumbaList( CreateHeuristicPob(pop,datos,True)),datos,contenedor),datos,contenedor)\n",
    "print(dffa.BestInd.fi)\n",
    "plt.figure()\n",
    "plt.plot(dffa.bestfi,color='red')\n",
    "plt.ylim(0.8,1)\n",
    "plt.show()"
   ]
  },
  {
   "cell_type": "code",
   "execution_count": null,
   "metadata": {},
   "outputs": [],
   "source": []
  }
 ],
 "metadata": {
  "kernelspec": {
   "display_name": "Python 3.9.12 ('base')",
   "language": "python",
   "name": "python3"
  },
  "language_info": {
   "codemirror_mode": {
    "name": "ipython",
    "version": 3
   },
   "file_extension": ".py",
   "mimetype": "text/x-python",
   "name": "python",
   "nbconvert_exporter": "python",
   "pygments_lexer": "ipython3",
   "version": "3.9.12"
  },
  "orig_nbformat": 4,
  "vscode": {
   "interpreter": {
    "hash": "c9548d78abac3d9c949fbd3fd187a460132993a1944635464947e6b8db26d483"
   }
  }
 },
 "nbformat": 4,
 "nbformat_minor": 2
}
