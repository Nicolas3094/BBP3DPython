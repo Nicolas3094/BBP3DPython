{
 "cells": [
  {
   "cell_type": "code",
   "execution_count": 8,
   "metadata": {},
   "outputs": [],
   "source": [
    "import numpy as np\n",
    "from numba import types, njit,int64,jit,cuda,prange,vectorize\n",
    "from numba.typed import List as NumbaList\n",
    "from BPmodule.BPGen import GetInstance\n",
    "from BPnumba.GeneticOperators import MutateC2\n",
    "from BPnumba.DFFA import createDFFA\n",
    "from BPnumba.EDFFA import createEDFFA,FFSearch\n",
    "import matplotlib.pyplot as plt\n",
    "from BPnumba.BoxN import create_ItemBin,ItemBin,InstaceBoxes\n",
    "from BPnumba.Poblation import CreateRotHPob,EvalPob"
   ]
  },
  {
   "cell_type": "code",
   "execution_count": 9,
   "metadata": {},
   "outputs": [],
   "source": [
    "def zerovec(y, x): return np.zeros(shape=[x, y], dtype=np.float64)\n",
    "createText = lambda x,y : np.savetxt(\n",
    "    fname = \"Results/\"+x + \".csv\",\n",
    "    X= y,\n",
    "    delimiter=\" \",\n",
    "    fmt='%g')"
   ]
  },
  {
   "cell_type": "code",
   "execution_count": 54,
   "metadata": {},
   "outputs": [],
   "source": [
    "@njit#(parallel=True)\n",
    "def BenchFFA(i,boxes,bin,lst,lst2,lst3,maxItr,pop,rot):\n",
    "    #fi = NumbaList(np.zeros(maxItr,dtype=np.float64))\n",
    "    UBOXES = InstaceBoxes(boxes)\n",
    "    pob = CreateRotHPob(pop =pop, ITEMS = UBOXES, rotType=rot)\n",
    "    \n",
    "    EvalPob(pob= pob,boxData=UBOXES,container=bin,rotation=rot)\n",
    "    \n",
    "    ind = FFSearch(mutType=0,upIndex=4,Maxitr=maxItr,fireflyPob=pob.copy(),datos=UBOXES.copy(),contenedor=bin,rot=rot)   \n",
    "    ind2 = FFSearch(mutType=1,upIndex=4,Maxitr=maxItr,fireflyPob=pob.copy(),datos=UBOXES.copy(),contenedor=bin,rot=rot)   \n",
    "    ind3 = FFSearch(mutType=2,upIndex=4,Maxitr=maxItr,fireflyPob=pob.copy(),datos=UBOXES.copy(),contenedor=bin,rot=rot)    \n",
    "\n",
    "    lst[i]=ind.fi\n",
    "    lst2[i] = ind2.fi\n",
    "    lst3[i] = ind3.fi"
   ]
  },
  {
   "cell_type": "code",
   "execution_count": 64,
   "metadata": {},
   "outputs": [],
   "source": [
    "@njit(parallel=True)\n",
    "def BFFA(rango,rango2,contenedor,data:list[list[list[int]]],agL,agL2,agL3,maxItr,numpop,rotation):\n",
    "    for p in prange(rango,rango2):\n",
    "        BenchFFA(\n",
    "                i=p,\n",
    "                boxes=data[p], \n",
    "                bin=contenedor,\n",
    "                maxItr= maxItr,\n",
    "                lst= agL,\n",
    "                lst2=agL2,\n",
    "                lst3=agL3,\n",
    "                pop=numpop,\n",
    "                rot=rotation)\n"
   ]
  },
  {
   "cell_type": "code",
   "execution_count": 65,
   "metadata": {},
   "outputs": [],
   "source": [
    "def Bench(nm,r):\n",
    "    BR1 = GetInstance(nm)\n",
    "    agL = zerovec(1, 100)\n",
    "    agL2 = zerovec(1, 100)\n",
    "    agL3 = zerovec(1, 100)\n",
    "    for th in np.arange(0,r,4):\n",
    "        BFFA(rango=th,rango2=th+4,contenedor=BR1[0],data=BR1[1],agL=agL,agL2=agL2,agL3=agL3,maxItr=1000,numpop=20,rotation=6)\n",
    "        createText(nm+\"/FFA/\"+\"FFA\"+str(0),agL)\n",
    "        createText(nm+\"/FFA/\"+\"FFA\"+str(1),agL2)\n",
    "        createText(nm+\"/FFA/\"+\"FFA\"+str(2),agL3)"
   ]
  },
  {
   "cell_type": "code",
   "execution_count": 66,
   "metadata": {},
   "outputs": [],
   "source": [
    "r=100\n",
    "agL = zerovec(1, 100)\n",
    "agL2 = zerovec(1, 100)\n",
    "agL3 = zerovec(1, 100)\n",
    "BR1 = GetInstance(\"P2A2\")\n",
    "cont = BR1[0]\n",
    "dataBoxes=BR1[1]\n",
    "boxes = dataBoxes[0]"
   ]
  },
  {
   "cell_type": "code",
   "execution_count": 60,
   "metadata": {},
   "outputs": [],
   "source": [
    " BenchFFA(\n",
    "            i=0,\n",
    "            boxes=boxes, \n",
    "            bin=cont,\n",
    "            maxItr= 1000,\n",
    "            lst= agL,\n",
    "            lst2=agL2,\n",
    "            lst3=agL3,\n",
    "            pop=20,\n",
    "            rot=6)"
   ]
  },
  {
   "cell_type": "code",
   "execution_count": 68,
   "metadata": {},
   "outputs": [],
   "source": [
    "Bench(\"P2A2\",100)"
   ]
  },
  {
   "cell_type": "code",
   "execution_count": null,
   "metadata": {},
   "outputs": [],
   "source": [
    "Bench(\"P3A2\",100)"
   ]
  },
  {
   "cell_type": "code",
   "execution_count": null,
   "metadata": {},
   "outputs": [],
   "source": [
    "pop=20\n",
    "maxItr=1000\n",
    "rot=6\n",
    "m=4\n",
    "mut=0"
   ]
  },
  {
   "cell_type": "code",
   "execution_count": null,
   "metadata": {},
   "outputs": [],
   "source": [
    "BR1 = GetInstance(\"P2A2\")\n",
    "cont = BR1[0]\n",
    "dataBoxes=BR1[1]\n",
    "boxes = dataBoxes[0]"
   ]
  },
  {
   "cell_type": "code",
   "execution_count": null,
   "metadata": {},
   "outputs": [],
   "source": [
    "UBOXES = InstaceBoxes(boxes)\n",
    "pob = CreateRotHPob(pop =pop, ITEMS = UBOXES, rotType=rot)\n",
    "EvalPob(pob,UBOXES,cont,rot)"
   ]
  },
  {
   "cell_type": "code",
   "execution_count": null,
   "metadata": {},
   "outputs": [],
   "source": [
    "ind = FFSearch(mutType=mut,upIndex=m,Maxitr=maxItr,fireflyPob=pob.copy(),datos=UBOXES.copy(),contenedor=cont,rot=6)"
   ]
  },
  {
   "cell_type": "code",
   "execution_count": null,
   "metadata": {},
   "outputs": [],
   "source": [
    "ind2 = FFSearch(mutType=2,upIndex=m,Maxitr=maxItr,fireflyPob=pob.copy(),datos=UBOXES.copy(),contenedor=cont,rot=6)\n"
   ]
  },
  {
   "cell_type": "code",
   "execution_count": null,
   "metadata": {},
   "outputs": [],
   "source": [
    "ind1 = FFSearch(mutType=1,upIndex=m,Maxitr=maxItr,fireflyPob=pob.copy(),datos=UBOXES.copy(),contenedor=cont,rot=6)\n"
   ]
  },
  {
   "cell_type": "code",
   "execution_count": null,
   "metadata": {},
   "outputs": [],
   "source": [
    "ind.fi,ind1.fi,ind2.fi"
   ]
  }
 ],
 "metadata": {
  "kernelspec": {
   "display_name": "Python 3.9.12 ('base')",
   "language": "python",
   "name": "python3"
  },
  "language_info": {
   "codemirror_mode": {
    "name": "ipython",
    "version": 3
   },
   "file_extension": ".py",
   "mimetype": "text/x-python",
   "name": "python",
   "nbconvert_exporter": "python",
   "pygments_lexer": "ipython3",
   "version": "3.9.12"
  },
  "orig_nbformat": 4,
  "vscode": {
   "interpreter": {
    "hash": "c9548d78abac3d9c949fbd3fd187a460132993a1944635464947e6b8db26d483"
   }
  }
 },
 "nbformat": 4,
 "nbformat_minor": 2
}
