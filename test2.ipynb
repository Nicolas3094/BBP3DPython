{
 "cells": [
  {
   "cell_type": "code",
   "execution_count": 2,
   "metadata": {},
   "outputs": [],
   "source": [
    "import pandas as pd\n",
    "import numpy as np"
   ]
  },
  {
   "cell_type": "markdown",
   "metadata": {},
   "source": [
    "# Problema 2 Algoritmo 1\n",
    "### No. de individuos: 30\n",
    "### Max. Iteraciones: 1000\n",
    "### Max. Aptitud: 1.0\n",
    "### Num de test: 20\n",
    "### Cajas: 29\n",
    "Se utiliza la misma instancia para las 20 pruebas, es decir, los algoritmos empiezan con los mismos individuos iniciales en cada test"
   ]
  },
  {
   "cell_type": "code",
   "execution_count": 3,
   "metadata": {},
   "outputs": [],
   "source": [
    "ag2 =pd.read_csv(\"AGP2.csv\")\n",
    "ag3 = pd.read_csv(\"AGp3.csv\")\n",
    "\n",
    "ab2 =pd.read_csv(\"ABCP2.csv\")\n",
    "ab3 = pd.read_csv(\"ABCp3.csv\")\n",
    "\n",
    "ff2 =pd.read_csv(\"FFAP2.csv\")\n",
    "ff3 = pd.read_csv(\"FFAp3.csv\")"
   ]
  },
  {
   "cell_type": "markdown",
   "metadata": {},
   "source": [
    "Resultados del AG\n",
    "\n",
    "    Fi  CajasFaltantes Iteracion Tiempo\n",
    "1. Máx. 0.9877 6   1000 56.71\n",
    "2. Mín. 0.9344 1   1000 38.64\n",
    "3. Prom. 0.961 2.2 1000 48.28"
   ]
  },
  {
   "cell_type": "markdown",
   "metadata": {},
   "source": [
    "Resultados DFFA\n",
    "\n",
    "    Fi  CajasFaltantes Iteracion Tiempo\n",
    "1. Máx. 0.976 6   1000 573.3\n",
    "2. Mín. 0.724 1   1000 33.2387\n",
    "3. Prom. 0.896 3.6 1000 199.94"
   ]
  },
  {
   "cell_type": "markdown",
   "metadata": {},
   "source": [
    "Resultados DABC\n",
    "\n",
    "    Fi  CajasFaltantes Iteracion Tiempo\n",
    "1. Máx. 1 0  15 21.54\n",
    "2. Mín. 1 0  0 0.67\n",
    "3. Prom. 1 0 7.5 12.51"
   ]
  },
  {
   "cell_type": "markdown",
   "metadata": {},
   "source": [
    "# Problema 3 Algoritmo 1\n",
    "### No. de individuos: 50\n",
    "### Max. Iteraciones: 1000\n",
    "### Max. Aptitud: 1.0\n",
    "### Num de test: 20\n",
    "### Cajas: 50"
   ]
  },
  {
   "cell_type": "markdown",
   "metadata": {},
   "source": [
    "Resultados DABC\n",
    "\n",
    "    Fi  CajasFaltantes Iteracion Tiempo\n",
    "1. Máx. 0.997 2   1000 5726.63\n",
    "2. Mín. 0.996 1   1000 3983.83\n",
    "3. Prom. 0.996 1.6 1000 4973.48"
   ]
  },
  {
   "cell_type": "markdown",
   "metadata": {},
   "source": [
    "Resultados DFFA\n",
    "\n",
    "    Fi  CajasFaltantes Iteracion Tiempo\n",
    "1. Máx. 0.941 4   1000 354.717\n",
    "2. Mín. 0.826 3   1000 134.75\n",
    "3. Prom. 0.919 3.4 1000 208.11"
   ]
  },
  {
   "cell_type": "markdown",
   "metadata": {},
   "source": [
    "Resultados AG\n",
    "\n",
    "    Fi  CajasFaltantes Iteracion Tiempo\n",
    "1. Máx. 0.963 7   1000 227.13\n",
    "2. Mín. 0.89 2   1000 154.54\n",
    "3. Prom. 0.911 2.9 1000 196.61"
   ]
  }
 ],
 "metadata": {
  "interpreter": {
   "hash": "87e33b45fe6ce535d8335dace4aac9a5bd82763cdf92e61610f46d04c830148b"
  },
  "kernelspec": {
   "display_name": "Python 3 (ipykernel)",
   "language": "python",
   "name": "python3"
  },
  "language_info": {
   "codemirror_mode": {
    "name": "ipython",
    "version": 3
   },
   "file_extension": ".py",
   "mimetype": "text/x-python",
   "name": "python",
   "nbconvert_exporter": "python",
   "pygments_lexer": "ipython3",
   "version": "3.9.7"
  }
 },
 "nbformat": 4,
 "nbformat_minor": 2
}
