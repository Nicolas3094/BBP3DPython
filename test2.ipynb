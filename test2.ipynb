{
 "cells": [
  {
   "cell_type": "code",
   "execution_count": 1,
   "metadata": {},
   "outputs": [],
   "source": [
    "import numpy as np\n",
    "from BPnumba.NumAG import createAG\n",
    "from BPmodule.BPGen import PROBLEM2, PROBLEM3, PROBLEM4, PROBLEM5\n",
    "from BPnumba.GeneticOperators import CreatePoblation, InstancePob,Hamming,SwapPointValue\n",
    "from BPnumba.DFFA import createDFFA, BettaStep,AlphaStep\n",
    "from BPnumba.ABCnum import createDABC\n",
    "from numba import njit, objmode, prange\n",
    "import time\n",
    "from numba.typed import List as NumbaList\n",
    "import matplotlib.pyplot as plt\n",
    "from typing import List\n",
    "from numpy import savetxt\n"
   ]
  },
  {
   "cell_type": "code",
   "execution_count": 2,
   "metadata": {},
   "outputs": [
    {
     "data": {
      "text/plain": [
       "29"
      ]
     },
     "execution_count": 2,
     "metadata": {},
     "output_type": "execute_result"
    }
   ],
   "source": [
    "P2A1 = PROBLEM2[0]\n",
    "P2A2 = PROBLEM2[1]\n",
    "P3A1 = PROBLEM3[0]\n",
    "P3A2 = PROBLEM3[1]\n",
    "P4A1 = PROBLEM4[0]\n",
    "P4A2 = PROBLEM4[1]\n",
    "P5A1 = PROBLEM5[0]\n",
    "P5A2 = PROBLEM5[1]\n",
    "pop=50\n",
    "contenedor =P2A1[0][0]\n",
    "datos = P2A1[1]\n",
    "idBoxes = np.arange(1,len(datos)+1,dtype=np.int64)\n",
    "initial = CreatePoblation(pop,idBoxes)\n",
    "n= len(datos)\n",
    "gamma= 1/n\n",
    "maxItr=500\n",
    "n"
   ]
  },
  {
   "cell_type": "code",
   "execution_count": 3,
   "metadata": {},
   "outputs": [],
   "source": [
    "Pob = InstancePob(initial,datos,contenedor)"
   ]
  },
  {
   "cell_type": "code",
   "execution_count": 4,
   "metadata": {},
   "outputs": [
    {
     "data": {
      "text/plain": [
       "(0.4096,\n",
       " ListType[int64]([19, 25, 27, 22, 11, 16, 4, 15, 21, 8, 10, 17, 5, 9, 2, 23, 14, 3, 6, 1, 29, 28, 13, 20, 26, 18, 12, 24, 7, ...]),\n",
       " 0.505792,\n",
       " ListType[int64]([12, 20, 10, 16, 15, 28, 19, 7, 13, 21, 1, 14, 11, 18, 8, 23, 2, 29, 3, 26, 9, 27, 22, 24, 25, 5, 17, 4, 6, ...]))"
      ]
     },
     "execution_count": 4,
     "metadata": {},
     "output_type": "execute_result"
    }
   ],
   "source": [
    "d1 = Pob[11]\n",
    "\n",
    "d2 = Pob[0]\n",
    "d1.fi,d1.genome,d2.fi,d2.genome"
   ]
  },
  {
   "cell_type": "code",
   "execution_count": 5,
   "metadata": {},
   "outputs": [
    {
     "name": "stdout",
     "output_type": "stream",
     "text": [
      "28.0\n",
      "0.5175384615384616\n",
      "[19, 20, 10, 28, 11, 16, 4, 6, 22, 21, 25, 8, 5, 15, 2, 23, 14, 3, 29, 1, 9, 27, 13, 17, 26, 18, 12, 24, 7, ...]\n",
      "13.0\n"
     ]
    }
   ],
   "source": [
    "gamma= 1/(n*n)\n",
    "dist = Hamming(d1.genome,d2.genome)\n",
    "print(dist)\n",
    "betta:float = 1/(1+gamma*dist*dist)\n",
    "print(betta)\n",
    "BettaStep(d2.genome,d1.genome,betta)\n",
    "print(d2.genome)\n",
    "print(Hamming(d2.genome,d1.genome))"
   ]
  },
  {
   "cell_type": "code",
   "execution_count": 6,
   "metadata": {},
   "outputs": [
    {
     "name": "stdout",
     "output_type": "stream",
     "text": [
      "0.8326732673267326\n",
      "[19, 25, 27, 22, 11, 16, 4, 15, 17, 8, 10, 21, 5, 9, 2, 23, 14, 3, 6, 1, 29, 28, 13, 20, 26, 18, 12, 24, 7, ...]\n"
     ]
    }
   ],
   "source": [
    "dist = Hamming(d2.genome,d1.genome)\n",
    "betta:float = 1/(1+gamma*dist*dist)\n",
    "print(betta)\n",
    "BettaStep(d2.genome,d1.genome,betta)\n",
    "print(d2.genome)\n"
   ]
  },
  {
   "cell_type": "code",
   "execution_count": 36,
   "metadata": {},
   "outputs": [
    {
     "name": "stdout",
     "output_type": "stream",
     "text": [
      "0.10626992561105209\n"
     ]
    },
    {
     "data": {
      "image/png": "[encoded data removed]",
      "text/plain": [
       "<Figure size 432x288 with 1 Axes>"
      ]
     },
     "metadata": {
      "needs_background": "light"
     },
     "output_type": "display_data"
    }
   ],
   "source": [
    "gamma= 1/(n*n)\n",
    "x = np.arange(n)\n",
    "Maxitr =500\n",
    "cicle = np.arange(maxItr)\n",
    "alpha = np.floor(n-1-((cicle)/Maxitr)*(n-1))\n",
    "y= 1/(1+gamma*(x**2))\n",
    "sim = np.power(1 - x/n,2)\n",
    "beta =1/(1+gamma*x*x)\n",
    "print(1-beta[10])\n",
    "plt.figure()\n",
    "plt.plot(x,beta)\n",
    "\n",
    "plt.show()"
   ]
  },
  {
   "cell_type": "code",
   "execution_count": null,
   "metadata": {},
   "outputs": [],
   "source": []
  }
 ],
 "metadata": {
  "interpreter": {
   "hash": "6161e517c3d4b81215da96e8bcd392bc9974967b9dec3b65fc82e2786b592859"
  },
  "kernelspec": {
   "display_name": "Python 3.9.7 ('base')",
   "language": "python",
   "name": "python3"
  },
  "language_info": {
   "codemirror_mode": {
    "name": "ipython",
    "version": 3
   },
   "file_extension": ".py",
   "mimetype": "text/x-python",
   "name": "python",
   "nbconvert_exporter": "python",
   "pygments_lexer": "ipython3",
   "version": "3.9.7"
  },
  "orig_nbformat": 4
 },
 "nbformat": 4,
 "nbformat_minor": 2
}
