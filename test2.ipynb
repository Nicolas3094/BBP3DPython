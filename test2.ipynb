{
 "cells": [
  {
   "cell_type": "code",
   "execution_count": 1,
   "metadata": {},
   "outputs": [],
   "source": [
    "import pandas as pd\n",
    "import numpy as np\n",
    "import matplotlib.pyplot as plt"
   ]
  },
  {
   "cell_type": "code",
   "execution_count": 17,
   "metadata": {},
   "outputs": [],
   "source": [
    "np.set_printoptions(suppress=True)"
   ]
  },
  {
   "cell_type": "code",
   "execution_count": 39,
   "metadata": {},
   "outputs": [
    {
     "name": "stdout",
     "output_type": "stream",
     "text": [
      "add 1 1\n",
      "add 1 2\n",
      "add 2 1\n",
      "add 2 2\n"
     ]
    }
   ],
   "source": [
    "path = \"Results/P1A1/\"\n",
    "\n",
    "problems = [1,2]\n",
    "alg = [1,2]\n",
    "\n",
    "agMean1 = []\n",
    "agMean2 = []\n",
    "\n",
    "c1agMean1 = []\n",
    "c2agMean2 = []\n",
    "\n",
    "dabc1 = []\n",
    "dabc2 = []\n",
    "edabc1 = []\n",
    "edabc2 = []\n",
    "\n",
    "dFfa1=[]\n",
    "dFfa2=[]\n",
    "edFfa1=[]\n",
    "edFfa2=[]\n",
    "c1edFfa1=[]\n",
    "c1edFfa2=[]\n",
    "c2edFfa1=[]\n",
    "c2edFfa2=[]\n",
    "\n",
    "for p in problems:\n",
    "    for a in alg:\n",
    "        \n",
    "        path=\"Results/P\"+str(p)+\"A\"+str(a)+\"/\"\n",
    "\n",
    "        agp1a1 =np.array(pd.read_csv(path+\"HAG.csv\",sep=\",\",header=None))\n",
    "        h1 = agp1a1[:20]\n",
    "        meanh1 = np.mean(h1,axis=0) \n",
    "        h2 = agp1a1[20::]\n",
    "        meanh2 = np.mean(h2,axis=0)\n",
    "\n",
    "        agMean1.append(meanh1)\n",
    "        agMean2.append(meanh2)\n",
    "\n",
    "        print(\"add\", p,a)\n",
    "\n",
    "        c1agp1a1 =np.array(pd.read_csv(path+\"c1HAG.csv\",header=None))\n",
    "        c1h1 = c1agp1a1[:20]\n",
    "        c1meanh1 = np.mean(c1h1,axis=0) \n",
    "        c1h2 = c1agp1a1[20:]\n",
    "        c1meanh2 = np.mean(c1h2,axis=0)\n",
    "\n",
    "        c1agMean1.append(c1meanh1)\n",
    "        c2agMean2.append(c1meanh2)\n",
    "\n",
    "        dabc =np.array(pd.read_csv(path+\"DABC.csv\",sep=\",\",header=None))\n",
    "        abch1 = dabc[:20]\n",
    "        abcmeanh1 = np.mean(abch1,axis=0) \n",
    "        abch2 = dabc[20:]\n",
    "        abcmeanh2 = np.mean(abch2,axis=0)\n",
    "\n",
    "        dabc1.append(abcmeanh1)\n",
    "        dabc2.append(abcmeanh2)\n",
    "\n",
    "        edabc =np.array(pd.read_csv(path+\"EDABC.csv\",sep=\",\",header=None))\n",
    "        eabch1 = edabc[:20]\n",
    "        eabcmeanh1 = np.mean(eabch1,axis=0) \n",
    "        eabch2 = edabc[20:]\n",
    "        eabcmeanh2 = np.mean(eabch2,axis=0)\n",
    "\n",
    "        edabc1.append(eabcmeanh1)\n",
    "        edabc2.append(eabcmeanh2)\n",
    "\n",
    "        dffa =np.array(pd.read_csv(path+\"DFFA.csv\",sep=\",\",header=None))\n",
    "        dffa1 = dffa[:20]\n",
    "        dffamean1 = np.mean(dffa1,axis=0) \n",
    "        dffa2 = dffa[20:]\n",
    "        dffamean2 = np.mean(dffa2,axis=0)\n",
    "\n",
    "        dFfa1.append(dffamean1)\n",
    "        dFfa2.append(dffamean2)\n",
    "\n",
    "        edffa =np.array(pd.read_csv(path+\"EDFFA.csv\",sep=\",\",header=None))\n",
    "        edffa1 = edffa[:20]\n",
    "        edffamean1 = np.mean(edffa1,axis=0) \n",
    "        edffa2 = edffa[20:]\n",
    "        edffamean2 = np.mean(edffa2,axis=0)\n",
    "\n",
    "        edFfa1.append(edffamean1)\n",
    "        edFfa2.append(edffamean2)\n",
    "\n",
    "        c1edffa =np.array(pd.read_csv(path+\"c1EDFFA.csv\",sep=\",\",header=None))\n",
    "        c1edffa1 = c1edffa[:20]\n",
    "        c1edffamean1 = np.mean(c1edffa1,axis=0) \n",
    "        c1edffa2 = c1edffa[20:]\n",
    "        c1edffamean2 = np.mean(c1edffa2,axis=0)\n",
    "\n",
    "        c1edFfa1.append(c1edffamean1)\n",
    "        c1edFfa2.append(c1edffamean2)\n",
    "\n",
    "        c2edffa =np.array(pd.read_csv(path+\"c2EDFFA.csv\",sep=\",\",header=None))\n",
    "        c2edffa1 = c2edffa[:20]\n",
    "        c2edffamean1 = np.mean(c2edffa1,axis=0) \n",
    "        c2edffa2 = c2edffa[20:]\n",
    "        c2edffamean2 = np.mean(c2edffa2,axis=0)\n",
    "\n",
    "        c2edFfa1.append(c2edffamean1)\n",
    "        c2edFfa2.append(c2edffamean2)\n"
   ]
  },
  {
   "cell_type": "code",
   "execution_count": 104,
   "metadata": {},
   "outputs": [
    {
     "data": {
      "text/plain": [
       "array([1.        , 0.        , 1.75      , 0.12817665])"
      ]
     },
     "execution_count": 104,
     "metadata": {},
     "output_type": "execute_result"
    }
   ],
   "source": [
    "c1edFfa1[0]"
   ]
  },
  {
   "cell_type": "code",
   "execution_count": 78,
   "metadata": {},
   "outputs": [
    {
     "data": {
      "text/plain": [
       "(8, 8)"
      ]
     },
     "execution_count": 78,
     "metadata": {},
     "output_type": "execute_result"
    }
   ],
   "source": [
    "names = ['HGA', 'HGA (C1)', 'DABC', 'EDABC', 'DFFA','EDFFA', 'EDFFA (C1)', 'EDFFA (C2)']\n",
    "algs = [[agMean1[0][-1],c1agMean1[0][-1],dabc1[0][-1],edabc1[0][-1],dFfa1[0][-1],\n",
    "        edFfa1[0][-1],c1edFfa1[0][-1],c2edFfa1[0][-1]],\n",
    "        [agMean1[1][-1],c1agMean1[1][-1],dabc1[1][-1],edabc1[1][-1],dFfa1[1][-1],\n",
    "        edFfa1[1][-1],c1edFfa1[1][-1],c2edFfa1[1][-1]],\n",
    "        [agMean1[2][-1],c1agMean1[2][-1],dabc1[2][-1],edabc1[2][-1],dFfa1[2][-1],\n",
    "        edFfa1[2][-1],c1edFfa1[2][-1],c2edFfa1[2][-1]],\n",
    "        [agMean1[3][-1],c1agMean1[3][-1],dabc1[3][-1],edabc1[3][-1],dFfa1[3][-1],\n",
    "        edFfa1[3][-1],c1edFfa1[3][-1],c2edFfa1[3][-1]],\n",
    "        ]\n",
    "algs2 = [[agMean2[0][-1],c2agMean2[0][-1],dabc2[0][-1],edabc2[0][-1],dFfa2[0][-1],\n",
    "        edFfa2[0][-1],c1edFfa2[0][-1],c2edFfa2[0][-1]],\n",
    "        [agMean2[1][-1],c2agMean2[1][-1],dabc2[1][-1],edabc2[1][-1],dFfa2[1][-1],\n",
    "        edFfa2[1][-1],c1edFfa2[1][-1],c2edFfa2[1][-1]],\n",
    "        [agMean2[2][-1],c2agMean2[2][-1],dabc2[2][-1],edabc2[2][-1],dFfa2[2][-1],\n",
    "        edFfa2[2][-1],c1edFfa2[2][-1],c2edFfa2[2][-1]],\n",
    "        [agMean2[3][-1],c2agMean2[3][-1],dabc2[3][-1],edabc2[3][-1],dFfa2[3][-1],\n",
    "        edFfa2[3][-1],c1edFfa2[3][-1],c2edFfa2[3][-1]],\n",
    "        ]\n",
    "len(names),len(algs[0])"
   ]
  },
  {
   "cell_type": "code",
   "execution_count": 100,
   "metadata": {},
   "outputs": [
    {
     "data": {
      "text/plain": [
       "<matplotlib.legend.Legend at 0x2229c763b50>"
      ]
     },
     "execution_count": 100,
     "metadata": {},
     "output_type": "execute_result"
    },
    {
     "data": {
      "image/png": "[encoded data removed]",
      "text/plain": [
       "<Figure size 432x288 with 1 Axes>"
      ]
     },
     "metadata": {
      "needs_background": "light"
     },
     "output_type": "display_data"
    }
   ],
   "source": [
    "X=np.arange(len(names))\n",
    "fig = plt.figure()\n",
    "ax = fig.add_axes([0,0,1,1])\n",
    "ax.bar(X+0, algs[0],color='b',width=0.35,label=\"DBLF\")\n",
    "ax.bar(X+0.35, algs2[0],color='r',width=0.35,label=\"DBLF2\")\n",
    "plt.xticks(X,names)\n",
    "plt.ylabel(\"Tiempo (s)\")\n",
    "plt.title(\"P1A1\")\n",
    "plt.legend()"
   ]
  },
  {
   "cell_type": "code",
   "execution_count": 101,
   "metadata": {},
   "outputs": [
    {
     "data": {
      "text/plain": [
       "<matplotlib.legend.Legend at 0x2229c81dee0>"
      ]
     },
     "execution_count": 101,
     "metadata": {},
     "output_type": "execute_result"
    },
    {
     "data": {
      "image/png": "[encoded data removed]",
      "text/plain": [
       "<Figure size 432x288 with 1 Axes>"
      ]
     },
     "metadata": {
      "needs_background": "light"
     },
     "output_type": "display_data"
    }
   ],
   "source": [
    "X=np.arange(len(names))\n",
    "fig = plt.figure()\n",
    "ax = fig.add_axes([0,0,1,1])\n",
    "ax.bar(X+0, algs[1],color='b',width=0.35,label=\"DBLF\")\n",
    "ax.bar(X+0.35, algs2[1],color='r',width=0.35,label=\"DBLF2\")\n",
    "plt.xticks(X,names)\n",
    "plt.ylabel(\"Tiempo (s)\")\n",
    "plt.title(\"P1A2\")\n",
    "plt.legend()"
   ]
  },
  {
   "cell_type": "code",
   "execution_count": 102,
   "metadata": {},
   "outputs": [
    {
     "data": {
      "text/plain": [
       "<matplotlib.legend.Legend at 0x2229c8be0d0>"
      ]
     },
     "execution_count": 102,
     "metadata": {},
     "output_type": "execute_result"
    },
    {
     "data": {
      "image/png": "[encoded data removed]",
      "text/plain": [
       "<Figure size 432x288 with 1 Axes>"
      ]
     },
     "metadata": {
      "needs_background": "light"
     },
     "output_type": "display_data"
    }
   ],
   "source": [
    "X=np.arange(len(names))\n",
    "fig = plt.figure()\n",
    "ax = fig.add_axes([0,0,1,1])\n",
    "ax.bar(X+0, algs[2],color='b',width=0.35,label=\"DBLF\")\n",
    "ax.bar(X+0.35, algs2[2],color='r',width=0.35,label=\"DBLF2\")\n",
    "plt.xticks(X,names)\n",
    "plt.ylabel(\"Tiempo (s)\")\n",
    "plt.title(\"P2A1\")\n",
    "plt.legend()"
   ]
  },
  {
   "cell_type": "code",
   "execution_count": 103,
   "metadata": {},
   "outputs": [
    {
     "data": {
      "text/plain": [
       "<matplotlib.legend.Legend at 0x2229c93ce50>"
      ]
     },
     "execution_count": 103,
     "metadata": {},
     "output_type": "execute_result"
    },
    {
     "data": {
      "image/png": "[encoded data removed]",
      "text/plain": [
       "<Figure size 432x288 with 1 Axes>"
      ]
     },
     "metadata": {
      "needs_background": "light"
     },
     "output_type": "display_data"
    }
   ],
   "source": [
    "X=np.arange(len(names))\n",
    "fig = plt.figure()\n",
    "ax = fig.add_axes([0,0,1,1])\n",
    "ax.bar(X+0, algs[3],color='b',width=0.35,label=\"DBLF\")\n",
    "ax.bar(X+0.35, algs2[3],color='r',width=0.35,label=\"DBLF2\")\n",
    "plt.xticks(X,names)\n",
    "plt.ylabel(\"Tiempo (s)\")\n",
    "plt.title(\"P2A2\")\n",
    "plt.legend()"
   ]
  },
  {
   "cell_type": "code",
   "execution_count": null,
   "metadata": {},
   "outputs": [],
   "source": []
  }
 ],
 "metadata": {
  "interpreter": {
   "hash": "87e33b45fe6ce535d8335dace4aac9a5bd82763cdf92e61610f46d04c830148b"
  },
  "kernelspec": {
   "display_name": "Python 3 (ipykernel)",
   "language": "python",
   "name": "python3"
  },
  "language_info": {
   "codemirror_mode": {
    "name": "ipython",
    "version": 3
   },
   "file_extension": ".py",
   "mimetype": "text/x-python",
   "name": "python",
   "nbconvert_exporter": "python",
   "pygments_lexer": "ipython3",
   "version": "3.9.7"
  }
 },
 "nbformat": 4,
 "nbformat_minor": 2
}
