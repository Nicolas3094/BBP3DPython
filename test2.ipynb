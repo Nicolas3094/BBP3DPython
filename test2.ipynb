{
 "cells": [
  {
   "cell_type": "code",
   "execution_count": 1,
   "metadata": {},
   "outputs": [],
   "source": [
    "import pandas as pd\n",
    "import numpy as np\n",
    "import matplotlib.pyplot as plt\n"
   ]
  },
  {
   "cell_type": "code",
   "execution_count": 4,
   "metadata": {},
   "outputs": [
    {
     "data": {
      "image/png": "[encoded data removed]",
      "text/plain": [
       "<Figure size 864x504 with 1 Axes>"
      ]
     },
     "metadata": {
      "needs_background": "light"
     },
     "output_type": "display_data"
    }
   ],
   "source": [
    "n=16\n",
    "gamma=lambda x:1/x\n",
    "betta = lambda x,y: 1/(1+x*y*y)\n",
    "\n",
    "x = np.arange(n)\n",
    "\n",
    "fig = plt.figure(figsize=(12,7))\n",
    "plt.plot(betta(gamma(25),np.arange(25)))\n",
    "#plt.plot(betta(gamma(100),np.arange(100)))\n",
    "plt.xlim((0,25))\n",
    "plt.ylim((0,0.5))\n",
    "plt.grid()\n",
    "plt.show()"
   ]
  },
  {
   "cell_type": "code",
   "execution_count": 5,
   "metadata": {},
   "outputs": [
    {
     "name": "stderr",
     "output_type": "stream",
     "text": [
      "c:\\Users\\NicolasG\\anaconda3\\lib\\site-packages\\numpy\\core\\fromnumeric.py:3440: RuntimeWarning: Mean of empty slice.\n",
      "  return _methods._mean(a, axis=axis, dtype=dtype,\n",
      "c:\\Users\\NicolasG\\anaconda3\\lib\\site-packages\\numpy\\core\\_methods.py:181: RuntimeWarning: invalid value encountered in true_divide\n",
      "  ret = um.true_divide(\n",
      "c:\\Users\\NicolasG\\anaconda3\\lib\\site-packages\\numpy\\core\\_methods.py:262: RuntimeWarning: Degrees of freedom <= 0 for slice\n",
      "  ret = _var(a, axis=axis, dtype=dtype, out=out, ddof=ddof,\n",
      "c:\\Users\\NicolasG\\anaconda3\\lib\\site-packages\\numpy\\core\\_methods.py:222: RuntimeWarning: invalid value encountered in true_divide\n",
      "  arrmean = um.true_divide(arrmean, div, out=arrmean, casting='unsafe',\n",
      "c:\\Users\\NicolasG\\anaconda3\\lib\\site-packages\\numpy\\core\\_methods.py:251: RuntimeWarning: invalid value encountered in true_divide\n",
      "  ret = um.true_divide(\n",
      "c:\\Users\\NicolasG\\anaconda3\\lib\\site-packages\\numpy\\core\\fromnumeric.py:3440: RuntimeWarning: Mean of empty slice.\n",
      "  return _methods._mean(a, axis=axis, dtype=dtype,\n",
      "c:\\Users\\NicolasG\\anaconda3\\lib\\site-packages\\numpy\\core\\_methods.py:181: RuntimeWarning: invalid value encountered in true_divide\n",
      "  ret = um.true_divide(\n",
      "c:\\Users\\NicolasG\\anaconda3\\lib\\site-packages\\numpy\\core\\_methods.py:262: RuntimeWarning: Degrees of freedom <= 0 for slice\n",
      "  ret = _var(a, axis=axis, dtype=dtype, out=out, ddof=ddof,\n",
      "c:\\Users\\NicolasG\\anaconda3\\lib\\site-packages\\numpy\\core\\_methods.py:222: RuntimeWarning: invalid value encountered in true_divide\n",
      "  arrmean = um.true_divide(arrmean, div, out=arrmean, casting='unsafe',\n",
      "c:\\Users\\NicolasG\\anaconda3\\lib\\site-packages\\numpy\\core\\_methods.py:251: RuntimeWarning: invalid value encountered in true_divide\n",
      "  ret = um.true_divide(\n",
      "C:\\Users\\NicolasG\\AppData\\Local\\Temp\\ipykernel_9276\\1206159559.py:82: MatplotlibDeprecationWarning: The 'b' parameter of grid() has been renamed 'visible' since Matplotlib 3.5; support for the old name will be dropped two minor releases later.\n",
      "  ax.grid(b=True,axis=\"y\")\n"
     ]
    },
    {
     "data": {
      "image/png": "[encoded data removed]",
      "text/plain": [
       "<Figure size 1008x504 with 1 Axes>"
      ]
     },
     "metadata": {
      "needs_background": "light"
     },
     "output_type": "display_data"
    }
   ],
   "source": [
    "np.set_printoptions(suppress=True)\n",
    "\n",
    "def getData(name:str,problemas:list[list[int]]):\n",
    "    problems = problemas[0]\n",
    "    alg = problemas[1]\n",
    "    lst1=[]\n",
    "    lst2=[]\n",
    "    error1=[]\n",
    "    error2=[]\n",
    "    for p in problems:\n",
    "        for a in alg:\n",
    "            path=\"Results/P\"+str(p)+\"A\"+str(a)+\"/\"\n",
    "            data = np.array(pd.read_csv(path+name+\".csv\",sep=\" \",header=None))\n",
    "            h1 = data[:20]\n",
    "            h2 = data[20:]\n",
    "            h1[:,0] = ((1-h1[:,0])/h1[:,0])*100\n",
    "            h2[:,0] = ((1-h2[:,0])/h2[:,0])*100\n",
    "            mean1 = np.mean(h1,axis=0)  \n",
    "            mean2 = np.mean(h2,axis=0)\n",
    "            var1 = (np.std(h1,axis=0)/np.sqrt(np.size(h1)))*1.96\n",
    "            var2 = (np.std(h2,axis=0)/np.sqrt(np.size(h2)))*1.96\n",
    "            error1.append(var1)\n",
    "            error2.append(var2)\n",
    "            lst1.append(mean1)\n",
    "            lst2.append(mean2)\n",
    "    return (lst1,lst2,error1,error2)\n",
    "def CreateDataMean(names:list[str],problemas:list[list[int]]):\n",
    "    g1=[]\n",
    "    g2=[]\n",
    "    e1=[]\n",
    "    e2=[]\n",
    "    for nm in names:\n",
    "        lst1,lst2,err1,err2 = getData(nm,problemas)\n",
    "        g1.append(lst1)\n",
    "        g2.append(lst2)\n",
    "        e1.append(err1)\n",
    "        e2.append(err2)\n",
    "    return (g1,g2,e1,e2)\n",
    "\n",
    "def GetParam(ix:int,names:list[str],problemas:list[list[int]]):\n",
    "    lst1 = []\n",
    "    lst2=[]\n",
    "    err1=[]\n",
    "    err2=[]\n",
    "    g1,g2,e1,e2 =CreateDataMean(names,problemas)\n",
    "\n",
    "    for i in np.arange(len(g1[0])):\n",
    "        aux = []\n",
    "        aux2=[]\n",
    "        er1=[]\n",
    "        er2=[]\n",
    "        for j in np.arange(len(g1)):\n",
    "            aux.append(g1[j][i][ix])\n",
    "            aux2.append(g2[j][i][ix])\n",
    "            er1.append(e1[j][i][ix])\n",
    "            er2.append(e2[j][i][ix])\n",
    "        err1.append(er1)\n",
    "        err2.append(er2)\n",
    "        lst1.append(aux)\n",
    "        lst2.append(aux2)\n",
    "    return lst1,lst2,err1,err2\n",
    "def PlotBar(algs:list,algs2:list,err1:list,err2:list,names:list[str],title:str,param:int):\n",
    "    if param ==0:\n",
    "        yname=\"Error medio relativo (%)\"\n",
    "    elif param == 1:\n",
    "        yname=\"Cajas faltantes promedio\"\n",
    "    elif param == 2:\n",
    "        yname = \"Iteración media\"\n",
    "    elif param == 3:\n",
    "        yname = \"Tiempo medio (s)\"\n",
    "    else:\n",
    "        yname=\"Tiempo/iteración media (s)\"\n",
    "    \n",
    "    X=np.arange(len(names))\n",
    "    fig, ax = plt.subplots(figsize=(14, 7))\n",
    "    ax.bar(X+0, algs,color='blue',width=0.35,label=\"DBLF\",yerr=err1, ecolor='black', capsize=10)\n",
    "    #ax.bar(X+0.35, algs2,color='orangered',width=0.35,label=\"DBLF2\",yerr=err2, ecolor='black', capsize=10)\n",
    "    ax.set_title(label=title,fontdict={\"fontsize\":12})\n",
    "    ax.set_ylabel(yname,{\"fontsize\":14})\n",
    "    ax.legend(prop={\"size\":12})\n",
    "    plt.xticks(ticks=X,labels=names,fontsize=14)\n",
    "    ax.grid(b=True,axis=\"y\")\n",
    "    #fig.savefig(\"Images/\"+foldernm+\"/\"+title+'.jpg')\n",
    "    fig.tight_layout()\n",
    "\n",
    "namesHAG = ['HAG','c2HAG']\n",
    "pathAG=['HAG','c2HAG']\n",
    "namesABC=['DABC','EDABC']\n",
    "pathABC=[\"DABC\",\"EDABC\"]\n",
    "namesFFA=['DFFA',\"EDFFA\",\"EDFFA(C1)\",\"EDFFA(C2)\"]\n",
    "pathFFA=['DFFA',\"EDFFA\",\"c1EDFFA\",\"c2EDFFA\"]\n",
    "\n",
    "algsNm=[\"P5A2\"]\n",
    "\n",
    "param = 0\n",
    "\n",
    "algs,algs2,err1,err2 = GetParam(param,pathAG,[[5],[2]])\n",
    "for i in np.arange(len(algs)):\n",
    "    PlotBar(algs[i],algs2[i],err1[i],err2[i],namesHAG,algsNm[i],param)"
   ]
  },
  {
   "cell_type": "code",
   "execution_count": null,
   "metadata": {},
   "outputs": [],
   "source": []
  }
 ],
 "metadata": {
  "kernelspec": {
   "display_name": "Python 3.9.12 ('base')",
   "language": "python",
   "name": "python3"
  },
  "language_info": {
   "codemirror_mode": {
    "name": "ipython",
    "version": 3
   },
   "file_extension": ".py",
   "mimetype": "text/x-python",
   "name": "python",
   "nbconvert_exporter": "python",
   "pygments_lexer": "ipython3",
   "version": "3.9.12"
  },
  "vscode": {
   "interpreter": {
    "hash": "c9548d78abac3d9c949fbd3fd187a460132993a1944635464947e6b8db26d483"
   }
  }
 },
 "nbformat": 4,
 "nbformat_minor": 2
}
