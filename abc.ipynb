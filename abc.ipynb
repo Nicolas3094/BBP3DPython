{
 "cells": [
  {
   "cell_type": "code",
   "execution_count": 5,
   "metadata": {},
   "outputs": [],
   "source": [
    "import numpy as np\n",
    "from BPnumba.DABC import createDABC\n",
    "from BPnumba.EDABC import createEDABC \n",
    "from BPnumba.GeneticOperators import InstancePob,CreatePoblation,CreateHeuristicPob,RRIS\n",
    "import matplotlib.pyplot as plt\n",
    "from BPmodule.BPGen import CreateData\n",
    "from numba.typed import List as NumbaList\n",
    "import random as rd\n",
    "import numba as nb\n",
    "import random"
   ]
  },
  {
   "cell_type": "code",
   "execution_count": 10,
   "metadata": {},
   "outputs": [
    {
     "ename": "ValueError",
     "evalue": "The truth value of an array with more than one element is ambiguous. Use a.any() or a.all()",
     "output_type": "error",
     "traceback": [
      "\u001b[1;31m---------------------------------------------------------------------------\u001b[0m",
      "\u001b[1;31mValueError\u001b[0m                                Traceback (most recent call last)",
      "\u001b[1;32mc:\\Users\\nicoo\\OneDrive\\Documentos\\BPP3D\\abc.ipynb Celda 2\u001b[0m in \u001b[0;36m<cell line: 6>\u001b[1;34m()\u001b[0m\n\u001b[0;32m      <a href='vscode-notebook-cell:/c%3A/Users/nicoo/OneDrive/Documentos/BPP3D/abc.ipynb#W2sZmlsZQ%3D%3D?line=3'>4</a>\u001b[0m numItr \u001b[39m=\u001b[39m \u001b[39m500\u001b[39m\n\u001b[0;32m      <a href='vscode-notebook-cell:/c%3A/Users/nicoo/OneDrive/Documentos/BPP3D/abc.ipynb#W2sZmlsZQ%3D%3D?line=4'>5</a>\u001b[0m num_pop\u001b[39m=\u001b[39m \u001b[39m50\u001b[39m\n\u001b[1;32m----> <a href='vscode-notebook-cell:/c%3A/Users/nicoo/OneDrive/Documentos/BPP3D/abc.ipynb#W2sZmlsZQ%3D%3D?line=5'>6</a>\u001b[0m poblation \u001b[39m=\u001b[39m CreateHeuristicPob(num_pop, NumbaList(datos),NumbaList(contenedor))\n\u001b[0;32m      <a href='vscode-notebook-cell:/c%3A/Users/nicoo/OneDrive/Documentos/BPP3D/abc.ipynb#W2sZmlsZQ%3D%3D?line=6'>7</a>\u001b[0m n\n",
      "File \u001b[1;32mc:\\ProgramData\\Anaconda3\\lib\\site-packages\\numba\\np\\arrayobj.py:5540\u001b[0m, in \u001b[0;36mimpl\u001b[1;34m()\u001b[0m\n\u001b[0;32m   5537\u001b[0m \u001b[39melse\u001b[39;00m:\n\u001b[0;32m   5538\u001b[0m     msg \u001b[39m=\u001b[39m (\u001b[39m\"\u001b[39m\u001b[39mThe truth value of an array with more than one element \u001b[39m\u001b[39m\"\u001b[39m\n\u001b[0;32m   5539\u001b[0m            \u001b[39m\"\u001b[39m\u001b[39mis ambiguous. Use a.any() or a.all()\u001b[39m\u001b[39m\"\u001b[39m)\n\u001b[1;32m-> 5540\u001b[0m     \u001b[39mraise\u001b[39;00m \u001b[39mValueError\u001b[39;00m(msg)\n",
      "\u001b[1;31mValueError\u001b[0m: The truth value of an array with more than one element is ambiguous. Use a.any() or a.all()"
     ]
    }
   ],
   "source": [
    "contenedor,datos = CreateData(algorithm=2,problem=3)\n",
    "\n",
    "n=len(datos)\n",
    "numItr = 500\n",
    "num_pop= 50\n",
    "poblation = CreateHeuristicPob(50,datos,contenedor)\n",
    "n"
   ]
  },
  {
   "cell_type": "code",
   "execution_count": null,
   "metadata": {},
   "outputs": [],
   "source": [
    "abc = createDABC(num_pop,n)"
   ]
  },
  {
   "cell_type": "code",
   "execution_count": null,
   "metadata": {},
   "outputs": [],
   "source": [
    "edabc = createEDABC(num_pop,n)"
   ]
  },
  {
   "cell_type": "code",
   "execution_count": null,
   "metadata": {},
   "outputs": [],
   "source": [
    "ColonyWorker = InstancePob(NumbaList(poblation),datos,contenedor)"
   ]
  },
  {
   "cell_type": "code",
   "execution_count": null,
   "metadata": {},
   "outputs": [
    {
     "data": {
      "text/plain": [
       "<numba.experimental.jitclass.boxing.Ind at 0x1db6db74370>"
      ]
     },
     "execution_count": 80,
     "metadata": {},
     "output_type": "execute_result"
    }
   ],
   "source": [
    "edabc.Train(numItr,ColonyWorker,datos,contenedor)"
   ]
  },
  {
   "cell_type": "code",
   "execution_count": null,
   "metadata": {},
   "outputs": [
    {
     "data": {
      "text/plain": [
       "<numba.experimental.jitclass.boxing.Ind at 0x1db6da43520>"
      ]
     },
     "execution_count": 81,
     "metadata": {},
     "output_type": "execute_result"
    }
   ],
   "source": [
    "abc.Train(numItr,ColonyWorker,datos,contenedor)"
   ]
  },
  {
   "cell_type": "code",
   "execution_count": null,
   "metadata": {},
   "outputs": [
    {
     "data": {
      "text/plain": [
       "(0.9598, 0.9899)"
      ]
     },
     "execution_count": 82,
     "metadata": {},
     "output_type": "execute_result"
    }
   ],
   "source": [
    "edabc.BestInd.fi,abc.BestInd.fi"
   ]
  },
  {
   "cell_type": "code",
   "execution_count": null,
   "metadata": {},
   "outputs": [
    {
     "data": {
      "image/png": "[encoded data removed]",
      "text/plain": [
       "<Figure size 432x288 with 1 Axes>"
      ]
     },
     "metadata": {
      "needs_background": "light"
     },
     "output_type": "display_data"
    }
   ],
   "source": [
    "plt.figure()\n",
    "plt.plot(abc.bestfi)\n",
    "plt.plot(edabc.bestfi,color='red')\n",
    "plt.ylim(0,1)\n",
    "plt.show()"
   ]
  },
  {
   "cell_type": "code",
   "execution_count": null,
   "metadata": {},
   "outputs": [
    {
     "data": {
      "text/plain": [
       "2"
      ]
     },
     "execution_count": 84,
     "metadata": {},
     "output_type": "execute_result"
    }
   ],
   "source": [
    "np.random.randint(0,3)"
   ]
  },
  {
   "cell_type": "code",
   "execution_count": null,
   "metadata": {},
   "outputs": [],
   "source": []
  }
 ],
 "metadata": {
  "kernelspec": {
   "display_name": "Python 3.9.12 ('base')",
   "language": "python",
   "name": "python3"
  },
  "language_info": {
   "codemirror_mode": {
    "name": "ipython",
    "version": 3
   },
   "file_extension": ".py",
   "mimetype": "text/x-python",
   "name": "python",
   "nbconvert_exporter": "python",
   "pygments_lexer": "ipython3",
   "version": "3.9.12"
  },
  "orig_nbformat": 4,
  "vscode": {
   "interpreter": {
    "hash": "ad2bdc8ecc057115af97d19610ffacc2b4e99fae6737bb82f5d7fb13d2f2c186"
   }
  }
 },
 "nbformat": 4,
 "nbformat_minor": 2
}
