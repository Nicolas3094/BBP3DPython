{
 "cells": [
  {
   "cell_type": "code",
   "execution_count": null,
   "metadata": {},
   "outputs": [],
   "source": [
    "import numpy as np\n",
    "from BPnumba.ABCnum import DABC,createDABC\n",
    "from BPnumba.GeneticOperators import InstancePob,CreatePoblation,CreateHeuristicPob\n",
    "import matplotlib.pyplot as plt\n",
    "from BPmodule.BPGen  import PROBLEM2,PROBLEM3,PROBLEM4,PROBLEM5\n",
    "from numba.typed import List as NumbaList\n",
    "import random as rd\n",
    "import numba as nb"
   ]
  },
  {
   "cell_type": "code",
   "execution_count": null,
   "metadata": {},
   "outputs": [],
   "source": [
    "P2A1 = PROBLEM2[0]\n",
    "P2A2 = PROBLEM2[1]\n",
    "P3A1 = PROBLEM3[0]\n",
    "P3A2 = PROBLEM3[1]\n",
    "P4A1 = PROBLEM4[0]\n",
    "P4A2 = PROBLEM4[1]\n",
    "P5A1 = PROBLEM5[0]\n",
    "P5A2 = PROBLEM5[1]"
   ]
  },
  {
   "cell_type": "code",
   "execution_count": null,
   "metadata": {},
   "outputs": [],
   "source": [
    "contenedor =P3A1[0][0]\n",
    "datos =P3A1[1]\n",
    "idBoxes = np.arange(1,len(datos)+1,dtype=np.int64)\n",
    "n=len(datos)\n",
    "numItr = 1000\n",
    "num_pop= 50\n",
    "poblation = NumbaList(CreateHeuristicPob(num_pop, datos))\n",
    "n"
   ]
  },
  {
   "cell_type": "code",
   "execution_count": null,
   "metadata": {},
   "outputs": [],
   "source": [
    "abc = createDABC(num_pop,n)"
   ]
  },
  {
   "cell_type": "code",
   "execution_count": null,
   "metadata": {},
   "outputs": [],
   "source": [
    "ColonyWorker = InstancePob(poblation,datos,contenedor)"
   ]
  },
  {
   "cell_type": "code",
   "execution_count": 6,
   "metadata": {},
   "outputs": [
    {
     "data": {
      "text/plain": [
       "<numba.experimental.jitclass.boxing.Ind at 0x277289fc670>"
      ]
     },
     "execution_count": 6,
     "metadata": {},
     "output_type": "execute_result"
    }
   ],
   "source": [
    "abc.Train(numItr,ColonyWorker,datos,contenedor)"
   ]
  },
  {
   "cell_type": "code",
   "execution_count": 7,
   "metadata": {},
   "outputs": [
    {
     "data": {
      "text/plain": [
       "(0.91504, 1)"
      ]
     },
     "execution_count": 7,
     "metadata": {},
     "output_type": "execute_result"
    }
   ],
   "source": [
    "abc.BestInd.fi,n-abc.BestInd.load"
   ]
  },
  {
   "cell_type": "code",
   "execution_count": 8,
   "metadata": {},
   "outputs": [
    {
     "data": {
      "text/plain": [
       "49"
      ]
     },
     "execution_count": 8,
     "metadata": {},
     "output_type": "execute_result"
    }
   ],
   "source": [
    "abc.BestInd.load"
   ]
  },
  {
   "cell_type": "code",
   "execution_count": 9,
   "metadata": {},
   "outputs": [
    {
     "data": {
      "text/plain": [
       "'|3|28|26|48|50|8|22|24|44|9|7|20|11|46|41|34|37|25|5|10|30|32|35|39|40|29|36|38|42|33|27|23|31|19|14|15|2|16|49|47|13|12|17|18|4|43|6|45|21|'"
      ]
     },
     "execution_count": 9,
     "metadata": {},
     "output_type": "execute_result"
    }
   ],
   "source": [
    "abc.BestInd.codeSolution"
   ]
  },
  {
   "cell_type": "code",
   "execution_count": 10,
   "metadata": {},
   "outputs": [
    {
     "data": {
      "image/png": "[encoded data removed]",
      "text/plain": [
       "<Figure size 432x288 with 1 Axes>"
      ]
     },
     "metadata": {
      "needs_background": "light"
     },
     "output_type": "display_data"
    }
   ],
   "source": [
    "plt.figure()\n",
    "plt.plot(abc.bestfi)\n",
    "plt.ylim(0,1)\n",
    "plt.show()"
   ]
  },
  {
   "cell_type": "code",
   "execution_count": null,
   "metadata": {},
   "outputs": [],
   "source": []
  }
 ],
 "metadata": {
  "interpreter": {
   "hash": "6161e517c3d4b81215da96e8bcd392bc9974967b9dec3b65fc82e2786b592859"
  },
  "kernelspec": {
   "display_name": "Python 3.9.7 ('base')",
   "language": "python",
   "name": "python3"
  },
  "language_info": {
   "codemirror_mode": {
    "name": "ipython",
    "version": 3
   },
   "file_extension": ".py",
   "mimetype": "text/x-python",
   "name": "python",
   "nbconvert_exporter": "python",
   "pygments_lexer": "ipython3",
   "version": "3.9.7"
  },
  "orig_nbformat": 4
 },
 "nbformat": 4,
 "nbformat_minor": 2
}
