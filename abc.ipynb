{
 "cells": [
  {
   "cell_type": "code",
   "execution_count": 1,
   "metadata": {},
   "outputs": [],
   "source": [
    "import numpy as np\n",
    "from numba.typed import List as NumbaList\n",
    "from BPnumba.NumAG import CalcFi,create_intidivual,Ind\n",
    "from BPnumba.GeneticOperators import InstancePob,CreatePoblation,CreatePermutation,InverseMutation\n",
    "\n",
    "from BPmodule.BPGen  import PROBLEM2,PROBLEM3,PROBLEM4,PROBLEM5\n",
    "from numba import njit,prange,objmode\n",
    "from typing import List\n",
    "import time\n",
    "import random"
   ]
  },
  {
   "cell_type": "code",
   "execution_count": 2,
   "metadata": {},
   "outputs": [],
   "source": [
    "P2A1 = PROBLEM2[0]\n",
    "P2A2 = PROBLEM2[1]\n",
    "P3A1 = PROBLEM3[0]\n",
    "P3A2 = PROBLEM3[1]\n",
    "P4A1 = PROBLEM4[0]\n",
    "P4A2 = PROBLEM4[1]\n",
    "P5A1 = PROBLEM5[0]\n",
    "P5A2 = PROBLEM5[1]\n",
    "contenedor =np.asanyarray( P2A2[0],dtype=np.int64)\n",
    "datos =np.asanyarray(P2A2[1],dtype=np.int64)\n",
    "idBoxes = np.arange(1,len(datos)+1,dtype=np.int64)\n",
    "n=len(datos)"
   ]
  },
  {
   "cell_type": "code",
   "execution_count": 1017,
   "metadata": {},
   "outputs": [
    {
     "data": {
      "text/plain": [
       "array([ 1,  4,  5,  2,  3,  6, 10, 11, 22], dtype=int64)"
      ]
     },
     "execution_count": 1017,
     "metadata": {},
     "output_type": "execute_result"
    }
   ],
   "source": [
    "lst = np.asanyarray([1,4,5,2,3,6,10,11,22],dtype=np.int64)\n",
    "lst"
   ]
  },
  {
   "cell_type": "code",
   "execution_count": 1022,
   "metadata": {},
   "outputs": [
    {
     "name": "stdout",
     "output_type": "stream",
     "text": [
      "[ 6 10 11 22] [1 4 5 2]\n"
     ]
    },
    {
     "data": {
      "text/plain": [
       "array([ 6, 10, 11, 22,  3,  1,  4,  5,  2], dtype=int64)"
      ]
     },
     "execution_count": 1022,
     "metadata": {},
     "output_type": "execute_result"
    }
   ],
   "source": [
    "SwapSeqIndex(lst,4)"
   ]
  },
  {
   "cell_type": "code",
   "execution_count": 1012,
   "metadata": {},
   "outputs": [
    {
     "data": {
      "text/plain": [
       "array([22, 11, 10,  6,  3,  1,  4,  5,  2], dtype=int64)"
      ]
     },
     "execution_count": 1012,
     "metadata": {},
     "output_type": "execute_result"
    }
   ],
   "source": [
    "RRIS(lst,4)"
   ]
  },
  {
   "cell_type": "code",
   "execution_count": 861,
   "metadata": {},
   "outputs": [
    {
     "name": "stdout",
     "output_type": "stream",
     "text": [
      "compiled InstancePob\n"
     ]
    }
   ],
   "source": [
    "InstancePob(CreatePoblation(10,idBoxes),datos,contenedor)\n",
    "print('compiled InstancePob')"
   ]
  },
  {
   "cell_type": "code",
   "execution_count": null,
   "metadata": {},
   "outputs": [],
   "source": [
    "poblation = CreatePoblation(50,idBoxes)"
   ]
  },
  {
   "cell_type": "code",
   "execution_count": null,
   "metadata": {},
   "outputs": [],
   "source": [
    "ColonyWorker = InstancePob(poblation,datos,contenedor)"
   ]
  },
  {
   "cell_type": "code",
   "execution_count": null,
   "metadata": {},
   "outputs": [],
   "source": []
  },
  {
   "cell_type": "code",
   "execution_count": null,
   "metadata": {},
   "outputs": [],
   "source": [
    "#Busqueda local de abejas para todas las trabajadoras y calcila Pi\n",
    "fail = np.zeros(len(ColonyWorker))\n",
    "for i in np.arange(len(ColonyWorker)):\n",
    "    k = random.randint(0,len(datos)-1)\n",
    "    j = random.randint(0,len(ColonyWorker)-1)\n",
    "    while i == j:\n",
    "        j = random.randint(0,len(ColonyWorker)-1)\n",
    "    beeK = ColonyWorker[j]\n",
    "    b2gen = ColonyWorker[i].genome.copy()\n",
    "    b2gen[k] = ColonyWorker[i].genome[k] + round(random.uniform(-1,1)*(ColonyWorker[i].genome[k]-beeK.genome[k]))\n",
    "    if b2gen[k] < 1:\n",
    "        if ColonyWorker[i].genome[k] ==1:\n",
    "            b2gen[k] = 2\n",
    "        else:\n",
    "            b2gen[k] = 1\n",
    "    elif b2gen[k] >n:\n",
    "        if ColonyWorker[i].genome[k] ==n:\n",
    "            b2gen[k] = n-1\n",
    "        else:\n",
    "            b2gen[k] = n\n",
    "    for l in np.arange(len(datos)):\n",
    "        if l != k  and b2gen[l] == ColonyWorker[i].genome[k]:\n",
    "            b2gen[l]=ColonyWorker[i].genome[k]\n",
    "            break\n",
    "    bee = create_intidivual(b2gen)\n",
    "    CalcFi(bee,datos,contenedor)\n",
    "    if bee.fi > ColonyWorker[i].fi:\n",
    "        ColonyWorker[i]=bee\n",
    "    else:\n",
    "        fail[i]+=1\n"
   ]
  },
  {
   "cell_type": "code",
   "execution_count": null,
   "metadata": {},
   "outputs": [],
   "source": [
    "fail"
   ]
  },
  {
   "cell_type": "code",
   "execution_count": null,
   "metadata": {},
   "outputs": [],
   "source": []
  }
 ],
 "metadata": {
  "interpreter": {
   "hash": "6161e517c3d4b81215da96e8bcd392bc9974967b9dec3b65fc82e2786b592859"
  },
  "kernelspec": {
   "display_name": "Python 3.9.7 ('base')",
   "language": "python",
   "name": "python3"
  },
  "language_info": {
   "codemirror_mode": {
    "name": "ipython",
    "version": 3
   },
   "file_extension": ".py",
   "mimetype": "text/x-python",
   "name": "python",
   "nbconvert_exporter": "python",
   "pygments_lexer": "ipython3",
   "version": "3.9.7"
  },
  "orig_nbformat": 4
 },
 "nbformat": 4,
 "nbformat_minor": 2
}
