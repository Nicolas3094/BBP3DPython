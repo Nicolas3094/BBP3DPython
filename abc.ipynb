{
 "cells": [
  {
   "cell_type": "code",
   "execution_count": null,
   "metadata": {},
   "outputs": [],
   "source": [
    "import numpy as np\n",
    "from BPnumba.ABCnum import DABC,createDABC\n",
    "from BPnumba.GeneticOperators import InstancePob,CreatePoblation\n",
    "import matplotlib.pyplot as plt\n",
    "from BPmodule.BPGen  import PROBLEM2,PROBLEM3,PROBLEM4,PROBLEM5\n"
   ]
  },
  {
   "cell_type": "code",
   "execution_count": null,
   "metadata": {},
   "outputs": [],
   "source": [
    "P2A1 = PROBLEM2[0]\n",
    "P2A2 = PROBLEM2[1]\n",
    "P3A1 = PROBLEM3[0]\n",
    "P3A2 = PROBLEM3[1]\n",
    "P4A1 = PROBLEM4[0]\n",
    "P4A2 = PROBLEM4[1]\n",
    "P5A1 = PROBLEM5[0]\n",
    "P5A2 = PROBLEM5[1]"
   ]
  },
  {
   "cell_type": "code",
   "execution_count": 19,
   "metadata": {},
   "outputs": [
    {
     "data": {
      "text/plain": [
       "29"
      ]
     },
     "execution_count": 19,
     "metadata": {},
     "output_type": "execute_result"
    }
   ],
   "source": [
    "contenedor =np.asanyarray( P2A1[0],dtype=np.int64)\n",
    "datos =np.asanyarray(P2A1[1],dtype=np.int64)\n",
    "idBoxes = np.arange(1,len(datos)+1,dtype=np.int64)\n",
    "n=len(datos)\n",
    "numItr = 500\n",
    "num_pop= 100\n",
    "n"
   ]
  },
  {
   "cell_type": "code",
   "execution_count": 20,
   "metadata": {},
   "outputs": [],
   "source": [
    "abc = createDABC(int(np.ceil(20/2)),n)\n",
    "poblation = CreatePoblation(int(np.ceil(20/2)),idBoxes)\n",
    "ColonyWorker = InstancePob(poblation,datos,contenedor)\n",
    "abc.Train(2,ColonyWorker,datos,contenedor)"
   ]
  },
  {
   "cell_type": "code",
   "execution_count": 21,
   "metadata": {},
   "outputs": [],
   "source": [
    "abc = createDABC(int(np.ceil(num_pop/2)),n)\n",
    "poblation = CreatePoblation(int(np.ceil(num_pop/2)),idBoxes)\n",
    "ColonyWorker = InstancePob(poblation,datos,contenedor)"
   ]
  },
  {
   "cell_type": "code",
   "execution_count": 22,
   "metadata": {},
   "outputs": [],
   "source": [
    "abc.Train(numItr,ColonyWorker,datos,contenedor)"
   ]
  },
  {
   "cell_type": "code",
   "execution_count": 23,
   "metadata": {},
   "outputs": [
    {
     "data": {
      "text/plain": [
       "(0.99208, 1)"
      ]
     },
     "execution_count": 23,
     "metadata": {},
     "output_type": "execute_result"
    }
   ],
   "source": [
    "abc.BestInd.fi,n-abc.BestInd.load"
   ]
  },
  {
   "cell_type": "code",
   "execution_count": 24,
   "metadata": {},
   "outputs": [
    {
     "data": {
      "image/png": "[encoded data removed]",
      "text/plain": [
       "<Figure size 432x288 with 1 Axes>"
      ]
     },
     "metadata": {
      "needs_background": "light"
     },
     "output_type": "display_data"
    }
   ],
   "source": [
    "plt.figure()\n",
    "plt.plot(abc.bestfi)\n",
    "plt.ylim(0,1)\n",
    "plt.show()"
   ]
  },
  {
   "cell_type": "code",
   "execution_count": null,
   "metadata": {},
   "outputs": [],
   "source": []
  }
 ],
 "metadata": {
  "interpreter": {
   "hash": "6161e517c3d4b81215da96e8bcd392bc9974967b9dec3b65fc82e2786b592859"
  },
  "kernelspec": {
   "display_name": "Python 3.9.7 ('base')",
   "language": "python",
   "name": "python3"
  },
  "language_info": {
   "codemirror_mode": {
    "name": "ipython",
    "version": 3
   },
   "file_extension": ".py",
   "mimetype": "text/x-python",
   "name": "python",
   "nbconvert_exporter": "python",
   "pygments_lexer": "ipython3",
   "version": "3.9.7"
  },
  "orig_nbformat": 4
 },
 "nbformat": 4,
 "nbformat_minor": 2
}
