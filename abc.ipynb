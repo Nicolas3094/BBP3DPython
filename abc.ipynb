{
 "cells": [
  {
   "cell_type": "code",
   "execution_count": null,
   "metadata": {},
   "outputs": [],
   "source": [
    "import numpy as np\n",
    "from numba.typed import List as NumbaList\n",
    "from BPnumba.NumAG import CalcFi,create_intidivual,Ind\n",
    "from BPnumba.GeneticOperators import InstancePob,CreatePoblation,CreatePermutation,RouletteWheel\n",
    "\n",
    "from BPmodule.BPGen  import PROBLEM2,PROBLEM3,PROBLEM4,PROBLEM5\n",
    "from numba import njit\n",
    "from typing import List\n",
    "import random"
   ]
  },
  {
   "cell_type": "code",
   "execution_count": null,
   "metadata": {},
   "outputs": [],
   "source": [
    "P2A1 = PROBLEM2[0]\n",
    "P2A2 = PROBLEM2[1]\n",
    "P3A1 = PROBLEM3[0]\n",
    "P3A2 = PROBLEM3[1]\n",
    "P4A1 = PROBLEM4[0]\n",
    "P4A2 = PROBLEM4[1]\n",
    "P5A1 = PROBLEM5[0]\n",
    "P5A2 = PROBLEM5[1]"
   ]
  },
  {
   "cell_type": "code",
   "execution_count": null,
   "metadata": {},
   "outputs": [],
   "source": [
    "@njit\n",
    "def ImproveB(i:int,ColonyWorker:List[Ind],n:int)->List[int]:\n",
    "    k = random.randint(0,n-1)\n",
    "    j = random.randint(0,len(ColonyWorker)-1)\n",
    "    while i == j:\n",
    "        j = random.randint(0,len(ColonyWorker)-1)\n",
    "    beeK = ColonyWorker[j]\n",
    "    vik = abs(round(ColonyWorker[i].genome[k] + random.uniform(-1,1)*(ColonyWorker[i].genome[k]-beeK.genome[k])))\n",
    "    if vik > n:\n",
    "        vik=n\n",
    "    elif vik<1:\n",
    "        vik=1\n",
    "    original = ColonyWorker[i].genome.copy()\n",
    "    prev = original[k]\n",
    "    original[k] = vik\n",
    "    for l in np.arange(n):\n",
    "        if l != k and original[l]==vik:\n",
    "            original[l]=prev\n",
    "            break\n",
    "    return original\n",
    "@njit\n",
    "def CreateRandomSoltion(n:int,boxes:List[List[int]],container:List[int])->Ind:\n",
    "    xmin =1\n",
    "    xmax= n \n",
    "    visited = [ False for i in np.arange(n+1)]\n",
    "    newcode = np.zeros(n,dtype=np.int64)\n",
    "    for i in np.arange(n):\n",
    "        xj = round(xmin + random.uniform(0,1)*(xmax-1))\n",
    "        if xj <= xmin:\n",
    "            xj=xmin\n",
    "            xmin +=1\n",
    "        elif xj>= xmax:\n",
    "            xj=xmax\n",
    "            xmax -=1\n",
    "        while visited[xj]:\n",
    "            xj = round(xmin + random.uniform(0,1)*(xmax-1))\n",
    "            if xj <= xmin:\n",
    "                xj=xmin\n",
    "                xmin +=1\n",
    "            elif xj>= xmax:\n",
    "                xj=xmax\n",
    "                xmax -=1\n",
    "        newcode[i] = xj\n",
    "        visited[xj]=True   \n",
    "    nwbee = create_intidivual(NumbaList(newcode))\n",
    "    CalcFi(nwbee,boxes,container)\n",
    "    return nwbee"
   ]
  },
  {
   "cell_type": "code",
   "execution_count": null,
   "metadata": {},
   "outputs": [],
   "source": [
    "@njit\n",
    "def ABCTrain(numItr:int,ColonyWorker:List[Ind],n:int,datos,contenedor,register:List[float])->Ind:\n",
    "    fail = np.zeros(len(ColonyWorker))\n",
    "    Limit = (len(ColonyWorker)-1)*n*100\n",
    "    bestBee=ColonyWorker[0]\n",
    "    maxIdex=0\n",
    "    maxFail = 0\n",
    "    for _ in np.arange(numItr):\n",
    "    #Busqueda local de abejas para todas las trabajadoras y calcila Pi\n",
    "        for i in np.arange(len(ColonyWorker)):\n",
    "            b2gen=ImproveB(i,ColonyWorker,n)\n",
    "            nwbee = create_intidivual(b2gen)\n",
    "            CalcFi(nwbee,datos,contenedor)\n",
    "            if nwbee.fi > ColonyWorker[i].fi:\n",
    "                ColonyWorker[i]=nwbee\n",
    "                fail[i]=0\n",
    "                if maxIdex == i:\n",
    "                    maxFail=0\n",
    "            else:\n",
    "                fail[i]+=1\n",
    "                if fail[i]>maxFail:\n",
    "                    maxFail=fail[i]\n",
    "                    maxIdex=i\n",
    "            if bestBee.fi < ColonyWorker[i].fi:\n",
    "                bestBee=ColonyWorker[i]\n",
    "        #Busqueda Onlooker bee\n",
    "        for i in np.arange(len(ColonyWorker)):\n",
    "            j = RouletteWheel(ColonyWorker)\n",
    "            b2gen=ImproveB(j,ColonyWorker,n)\n",
    "            nwbee = create_intidivual(b2gen)\n",
    "            CalcFi(nwbee,datos,contenedor)\n",
    "            if nwbee.fi > ColonyWorker[j].fi:\n",
    "                ColonyWorker[j]=nwbee\n",
    "                fail[j]=0\n",
    "                if maxIdex == i:\n",
    "                    maxFail=0\n",
    "            else:\n",
    "                fail[j]+=1\n",
    "                if fail[i]>maxFail:\n",
    "                    maxFail=fail[i]\n",
    "                    maxIdex=i\n",
    "            if bestBee.fi < ColonyWorker[i].fi:\n",
    "                bestBee=ColonyWorker[i]\n",
    "        if maxFail>=Limit:\n",
    "            ColonyWorker[maxIdex] = CreateRandomSoltion(n,datos,contenedor)\n",
    "            maxFail=0\n",
    "            fail[maxIdex]=0\n",
    "        register[_]=bestBee.fi\n",
    "        if bestBee.fi==1:\n",
    "            return bestBee\n",
    "    return bestBee"
   ]
  },
  {
   "cell_type": "code",
   "execution_count": null,
   "metadata": {},
   "outputs": [],
   "source": [
    "contenedor =np.asanyarray( P3A2[0],dtype=np.int64)\n",
    "datos =np.asanyarray(P3A2[1],dtype=np.int64)\n",
    "idBoxes = np.arange(1,len(datos)+1,dtype=np.int64)\n",
    "n=len(datos)\n"
   ]
  },
  {
   "cell_type": "code",
   "execution_count": null,
   "metadata": {},
   "outputs": [],
   "source": [
    "numItr = 4\n",
    "bestBeesFi = np.zeros(numItr,dtype=np.float64)\n",
    "comGen=CreatePoblation(2,idBoxes)\n",
    "comPob= InstancePob(comGen,datos,contenedor)\n",
    "ABCTrain(numItr,comPob,n,datos,contenedor,bestBeesFi)\n",
    "print('compiled InstancePob')"
   ]
  },
  {
   "cell_type": "code",
   "execution_count": 41,
   "metadata": {},
   "outputs": [],
   "source": [
    "poblation = CreatePoblation(26,idBoxes)\n",
    "ColonyWorker = InstancePob(poblation,datos,contenedor)\n",
    "numItr = 500\n",
    "bestBeesFi = np.zeros(numItr,dtype=np.float64)"
   ]
  },
  {
   "cell_type": "code",
   "execution_count": 42,
   "metadata": {},
   "outputs": [],
   "source": [
    "bee =ABCTrain(numItr,ColonyWorker,n,datos,contenedor,bestBeesFi)"
   ]
  },
  {
   "cell_type": "code",
   "execution_count": 43,
   "metadata": {},
   "outputs": [
    {
     "data": {
      "text/plain": [
       "0.981244"
      ]
     },
     "execution_count": 43,
     "metadata": {},
     "output_type": "execute_result"
    }
   ],
   "source": [
    "bee.fi"
   ]
  },
  {
   "cell_type": "code",
   "execution_count": 44,
   "metadata": {},
   "outputs": [],
   "source": [
    "import matplotlib.pyplot as plt"
   ]
  },
  {
   "cell_type": "code",
   "execution_count": 45,
   "metadata": {},
   "outputs": [
    {
     "data": {
      "image/png": "[encoded data removed]",
      "text/plain": [
       "<Figure size 432x288 with 1 Axes>"
      ]
     },
     "metadata": {
      "needs_background": "light"
     },
     "output_type": "display_data"
    }
   ],
   "source": [
    "plt.figure()\n",
    "plt.plot(bestBeesFi)\n",
    "plt.show()"
   ]
  },
  {
   "cell_type": "code",
   "execution_count": null,
   "metadata": {},
   "outputs": [],
   "source": []
  }
 ],
 "metadata": {
  "interpreter": {
   "hash": "6161e517c3d4b81215da96e8bcd392bc9974967b9dec3b65fc82e2786b592859"
  },
  "kernelspec": {
   "display_name": "Python 3.9.7 ('base')",
   "language": "python",
   "name": "python3"
  },
  "language_info": {
   "codemirror_mode": {
    "name": "ipython",
    "version": 3
   },
   "file_extension": ".py",
   "mimetype": "text/x-python",
   "name": "python",
   "nbconvert_exporter": "python",
   "pygments_lexer": "ipython3",
   "version": "3.9.7"
  },
  "orig_nbformat": 4
 },
 "nbformat": 4,
 "nbformat_minor": 2
}
