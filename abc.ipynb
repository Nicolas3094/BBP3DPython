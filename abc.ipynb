{
 "cells": [
  {
   "cell_type": "code",
   "execution_count": 43,
   "metadata": {},
   "outputs": [],
   "source": [
    "import numpy as np\n",
    "from numba import types, njit,int64,jit,cuda,prange,vectorize\n",
    "from BPnumba.DABC import createDABC\n",
    "from BPnumba.EDABC import createEDABC,BeeSearch\n",
    "from BPnumba.BoxN import create_ItemBin,ItemBin,InstaceBoxes\n",
    "from BPnumba.Poblation import CreateRotHPob,EvalPob\n",
    "import matplotlib.pyplot as plt\n",
    "from BPmodule.BPGen import GetInstance\n",
    "from numba.typed import List as NumbaList\n",
    "import random as rd\n",
    "import numba as nb\n",
    "import random"
   ]
  },
  {
   "cell_type": "code",
   "execution_count": 44,
   "metadata": {},
   "outputs": [],
   "source": [
    "def zerovec(y, x): return np.zeros(shape=[x, y], dtype=np.float64)\n",
    "createText = lambda x,y : np.savetxt(\n",
    "    fname = \"Results/\"+x + \".csv\",\n",
    "    X= y,\n",
    "    delimiter=\" \",\n",
    "    fmt='%g')"
   ]
  },
  {
   "cell_type": "code",
   "execution_count": 45,
   "metadata": {},
   "outputs": [],
   "source": [
    "@njit#(parallel=True)\n",
    "def BenchABC(i,boxes,bin,lst,lst2,lst3,maxItr,pop,rot):\n",
    "    #fi = NumbaList(np.zeros(maxItr,dtype=np.float64))\n",
    "    UBOXES = InstaceBoxes(boxes)\n",
    "    pob = CreateRotHPob(pop =pop, ITEMS = UBOXES, rotType=rot)\n",
    "    EvalPob(pob= pob,boxData=UBOXES,container=bin,rotation=rot)\n",
    "    \n",
    "    ind = BeeSearch(\n",
    "    mutType=0,\n",
    "    numItr=maxItr,\n",
    "    m_sites=4,\n",
    "    elite_sites=2,\n",
    "    elite_bees=4,\n",
    "    nonelite_bees=2,\n",
    "    ColonyWorker=pob.copy(),\n",
    "    datos=UBOXES.copy(),\n",
    "    contenedor=bin,\n",
    "    rot=rot)\n",
    "    \n",
    "    ind2 = BeeSearch(\n",
    "    mutType=1,\n",
    "    numItr=maxItr,\n",
    "    m_sites=4,\n",
    "    elite_sites=2,\n",
    "    elite_bees=4,\n",
    "    nonelite_bees=2,\n",
    "    ColonyWorker=pob.copy(),\n",
    "    datos=UBOXES.copy(),\n",
    "    contenedor=bin,\n",
    "    rot=rot)\n",
    "    \n",
    "    ind3 = BeeSearch(\n",
    "    mutType=2,\n",
    "    numItr=maxItr,\n",
    "    m_sites=4,\n",
    "    elite_sites=2,\n",
    "    elite_bees=4,\n",
    "    nonelite_bees=2,\n",
    "    ColonyWorker=pob.copy(),\n",
    "    datos=UBOXES.copy(),\n",
    "    contenedor=bin,\n",
    "    rot=rot)\n",
    "\n",
    "    lst[i]=ind.fi\n",
    "    lst2[i] = ind2.fi\n",
    "    lst3[i] = ind3.fi"
   ]
  },
  {
   "cell_type": "code",
   "execution_count": 46,
   "metadata": {},
   "outputs": [],
   "source": [
    "@njit(parallel=True)\n",
    "def BABC(rango,rango2,contenedor,data:list[list[list[int]]],agL,agL2,agL3,maxItr,numpop,rotation):\n",
    "    for p in prange(rango,rango2):\n",
    "        BenchABC(\n",
    "                i=p,\n",
    "                boxes=data[p], \n",
    "                bin=contenedor,\n",
    "                maxItr= maxItr,\n",
    "                lst= agL,\n",
    "                lst2=agL2,\n",
    "                lst3=agL3,\n",
    "                pop=numpop,\n",
    "                rot=rotation)"
   ]
  },
  {
   "cell_type": "code",
   "execution_count": 58,
   "metadata": {},
   "outputs": [],
   "source": [
    "def Bench(nm,r):\n",
    "    BR1 = GetInstance(nm)\n",
    "    agL = zerovec(1, 100)\n",
    "    agL2 = zerovec(1, 100)\n",
    "    agL3 = zerovec(1, 100)\n",
    "    for th in np.arange(0,r,4):\n",
    "        BABC(rango=th,rango2=th+4,contenedor=BR1[0],data=BR1[1],agL=agL,agL2=agL2,agL3=agL3,maxItr=1000,numpop=20,rotation=6)\n",
    "        createText(nm+\"/ABC/\"+\"ABC\"+str(0),agL)\n",
    "        createText(nm+\"/ABC/\"+\"ABC\"+str(1),agL2)\n",
    "        createText(nm+\"/ABC/\"+\"ABC\"+str(2),agL3)"
   ]
  },
  {
   "cell_type": "code",
   "execution_count": 54,
   "metadata": {},
   "outputs": [
    {
     "name": "stdout",
     "output_type": "stream",
     "text": [
      "0123\n",
      "4567\n"
     ]
    }
   ],
   "source": [
    "for th in np.arange(0,8,4):\n",
    "    st = \"\"\n",
    "    for t in range(th,th+4):\n",
    "        st += str(t)\n",
    "    print(st)\n",
    "        "
   ]
  },
  {
   "cell_type": "code",
   "execution_count": 48,
   "metadata": {},
   "outputs": [],
   "source": [
    "r=100\n",
    "agL = zerovec(1, 100)\n",
    "agL2 = zerovec(1, 100)\n",
    "agL3 = zerovec(1, 100)\n",
    "BR1 = GetInstance(\"P2A2\")\n",
    "cont = BR1[0]\n",
    "dataBoxes=BR1[1]\n",
    "boxes = dataBoxes[0]"
   ]
  },
  {
   "cell_type": "code",
   "execution_count": 50,
   "metadata": {},
   "outputs": [],
   "source": [
    "BenchABC(\n",
    "                i=0,\n",
    "                boxes=boxes, \n",
    "                bin=cont,\n",
    "                maxItr= 1000,\n",
    "                lst= agL,\n",
    "                \n",
    "                lst2=agL2,\n",
    "                lst3=agL3,\n",
    "                pop=20,\n",
    "                rot=6)"
   ]
  },
  {
   "cell_type": "code",
   "execution_count": 60,
   "metadata": {},
   "outputs": [],
   "source": [
    "Bench(\"P2A2\",100)"
   ]
  },
  {
   "cell_type": "code",
   "execution_count": null,
   "metadata": {},
   "outputs": [],
   "source": [
    "Bench(\"P3A2\",100)"
   ]
  },
  {
   "cell_type": "code",
   "execution_count": 19,
   "metadata": {},
   "outputs": [],
   "source": [
    "pop=20\n",
    "maxItr=1000\n",
    "rot=6\n",
    "mut=0\n",
    "m=4 #good sites\n",
    "e=2  #elite sites\n",
    "nep=4 #elite bees\n",
    "nsp=2 #non elite bees\n"
   ]
  },
  {
   "cell_type": "code",
   "execution_count": 26,
   "metadata": {},
   "outputs": [],
   "source": [
    "BR1 = GetInstance(\"P2A2\")\n",
    "cont = BR1[0]\n",
    "dataBoxes=BR1[1]\n",
    "boxes = dataBoxes[0]"
   ]
  },
  {
   "cell_type": "code",
   "execution_count": 27,
   "metadata": {},
   "outputs": [],
   "source": [
    "UBOXES = InstaceBoxes(boxes)\n",
    "pob = CreateRotHPob(pop =pop, ITEMS = UBOXES, rotType=rot)\n",
    "EvalPob(pob,UBOXES,cont,rot)"
   ]
  },
  {
   "cell_type": "code",
   "execution_count": 28,
   "metadata": {},
   "outputs": [],
   "source": [
    "ind = BeeSearch(\n",
    "    mutType=mut,\n",
    "    numItr=maxItr,\n",
    "    m_sites=m,\n",
    "    elite_sites=e,\n",
    "    elite_bees=nep,\n",
    "    nonelite_bees=nsp,\n",
    "    ColonyWorker=pob.copy(),\n",
    "    datos=UBOXES.copy(),\n",
    "    contenedor=cont,\n",
    "    rot=rot)"
   ]
  },
  {
   "cell_type": "code",
   "execution_count": 29,
   "metadata": {},
   "outputs": [],
   "source": [
    "ind1 = BeeSearch(\n",
    "    mutType=1,\n",
    "    numItr=maxItr,\n",
    "    m_sites=m,\n",
    "    elite_sites=e,\n",
    "    elite_bees=nep,\n",
    "    nonelite_bees=nsp,\n",
    "    ColonyWorker=pob.copy(),\n",
    "    datos=UBOXES.copy(),\n",
    "    contenedor=cont,\n",
    "    rot=rot)"
   ]
  },
  {
   "cell_type": "code",
   "execution_count": 30,
   "metadata": {},
   "outputs": [],
   "source": [
    "ind2 = BeeSearch(\n",
    "    mutType=2,\n",
    "    numItr=maxItr,\n",
    "    m_sites=m,\n",
    "    elite_sites=e,\n",
    "    elite_bees=nep,\n",
    "    nonelite_bees=nsp,\n",
    "    ColonyWorker=pob.copy(),\n",
    "    datos=UBOXES.copy(),\n",
    "    contenedor=cont,\n",
    "    rot=rot)"
   ]
  },
  {
   "cell_type": "code",
   "execution_count": 31,
   "metadata": {},
   "outputs": [
    {
     "data": {
      "text/plain": [
       "(0.980944, 0.92704, 0.967488)"
      ]
     },
     "execution_count": 31,
     "metadata": {},
     "output_type": "execute_result"
    }
   ],
   "source": [
    "ind.fi,ind1.fi,ind2.fi"
   ]
  }
 ],
 "metadata": {
  "kernelspec": {
   "display_name": "Python 3.9.12 ('base')",
   "language": "python",
   "name": "python3"
  },
  "language_info": {
   "codemirror_mode": {
    "name": "ipython",
    "version": 3
   },
   "file_extension": ".py",
   "mimetype": "text/x-python",
   "name": "python",
   "nbconvert_exporter": "python",
   "pygments_lexer": "ipython3",
   "version": "3.9.12"
  },
  "orig_nbformat": 4,
  "vscode": {
   "interpreter": {
    "hash": "c9548d78abac3d9c949fbd3fd187a460132993a1944635464947e6b8db26d483"
   }
  }
 },
 "nbformat": 4,
 "nbformat_minor": 2
}
