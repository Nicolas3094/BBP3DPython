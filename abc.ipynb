{
 "cells": [
  {
   "cell_type": "code",
   "execution_count": 20,
   "metadata": {},
   "outputs": [],
   "source": [
    "import numpy as np\n",
    "from BPnumba.DABC import createDABC\n",
    "from BPnumba.EDABC import createEDABC \n",
    "from BPnumba.GeneticOperators import InstancePob,CreatePoblation,CreateHeuristicPob,RRIS\n",
    "import matplotlib.pyplot as plt\n",
    "from BPmodule.BPGen import CreateData\n",
    "from numba.typed import List as NumbaList\n",
    "import random as rd\n",
    "import numba as nb\n",
    "import random"
   ]
  },
  {
   "cell_type": "code",
   "execution_count": 65,
   "metadata": {},
   "outputs": [
    {
     "data": {
      "text/plain": [
       "array([[23, 50, 24],\n",
       "       [22, 50, 13],\n",
       "       [22, 50, 13],\n",
       "       [ 5, 50, 13],\n",
       "       [ 1, 50, 10],\n",
       "       [ 1, 50,  3],\n",
       "       [ 4, 50,  3],\n",
       "       [ 6, 50, 20],\n",
       "       [21, 50, 20],\n",
       "       [ 2, 50,  3],\n",
       "       [ 2, 50,  1],\n",
       "       [ 4, 50,  3],\n",
       "       [ 4, 50,  1],\n",
       "       [ 5, 50,  2],\n",
       "       [ 5, 50,  2],\n",
       "       [16, 50,  2],\n",
       "       [16, 50,  2],\n",
       "       [23, 14,  6],\n",
       "       [23, 36,  6],\n",
       "       [23, 14, 20],\n",
       "       [23, 36, 20],\n",
       "       [ 2, 50,  8],\n",
       "       [ 2, 50,  2],\n",
       "       [ 2, 50,  8],\n",
       "       [ 2, 50,  2]], dtype=int64)"
      ]
     },
     "execution_count": 65,
     "metadata": {},
     "output_type": "execute_result"
    }
   ],
   "source": [
    "contenedor,data = CreateData(algorithm=2,problem=2)\n",
    "datos = data[0]\n",
    "\n",
    "n=len(datos)\n",
    "numItr = 1000\n",
    "num_pop= int((n)/2)*2\n",
    "datos"
   ]
  },
  {
   "cell_type": "code",
   "execution_count": 66,
   "metadata": {},
   "outputs": [],
   "source": [
    "pob  = CreateHeuristicPob(num_pop,NumbaList(datos),contenedor)"
   ]
  },
  {
   "cell_type": "code",
   "execution_count": 67,
   "metadata": {},
   "outputs": [],
   "source": [
    "instanced =NumbaList( InstancePob(NumbaList(pob),NumbaList(datos), contenedor,0))"
   ]
  },
  {
   "cell_type": "code",
   "execution_count": 68,
   "metadata": {},
   "outputs": [],
   "source": [
    "alg = createDABC()"
   ]
  },
  {
   "cell_type": "code",
   "execution_count": 69,
   "metadata": {},
   "outputs": [
    {
     "data": {
      "text/plain": [
       "0.9448"
      ]
     },
     "execution_count": 69,
     "metadata": {},
     "output_type": "execute_result"
    }
   ],
   "source": [
    "alg.Train(numItr,instanced,datos,contenedor)\n",
    "alg.BestInd.fi"
   ]
  },
  {
   "cell_type": "code",
   "execution_count": 70,
   "metadata": {},
   "outputs": [
    {
     "data": {
      "image/png": "[encoded data removed]",
      "text/plain": [
       "<Figure size 432x288 with 1 Axes>"
      ]
     },
     "metadata": {
      "needs_background": "light"
     },
     "output_type": "display_data"
    }
   ],
   "source": [
    "plt.figure()\n",
    "plt.plot(alg.bestfi)\n",
    "plt.ylim(0,1)\n",
    "plt.show()"
   ]
  },
  {
   "cell_type": "code",
   "execution_count": null,
   "metadata": {},
   "outputs": [],
   "source": []
  },
  {
   "cell_type": "code",
   "execution_count": null,
   "metadata": {},
   "outputs": [],
   "source": []
  }
 ],
 "metadata": {
  "kernelspec": {
   "display_name": "Python 3.9.12 ('base')",
   "language": "python",
   "name": "python3"
  },
  "language_info": {
   "codemirror_mode": {
    "name": "ipython",
    "version": 3
   },
   "file_extension": ".py",
   "mimetype": "text/x-python",
   "name": "python",
   "nbconvert_exporter": "python",
   "pygments_lexer": "ipython3",
   "version": "3.9.12"
  },
  "orig_nbformat": 4,
  "vscode": {
   "interpreter": {
    "hash": "c9548d78abac3d9c949fbd3fd187a460132993a1944635464947e6b8db26d483"
   }
  }
 },
 "nbformat": 4,
 "nbformat_minor": 2
}
