{
 "cells": [
  {
   "cell_type": "code",
   "execution_count": 1,
   "metadata": {},
   "outputs": [],
   "source": [
    "import numpy as np\n",
    "from numba import types, njit,int64,jit,cuda,prange,vectorize\n",
    "from BPnumba.DABC import createDABC\n",
    "from BPnumba.EDABC import createEDABC,BeeSearch\n",
    "from BPnumba.BoxN import create_ItemBin,ItemBin,InstaceBoxes\n",
    "from BPnumba.Poblation import CreateRotHPob,EvalPob\n",
    "import matplotlib.pyplot as plt\n",
    "from BPmodule.BPGen import GetInstance\n",
    "from numba.typed import List as NumbaList\n",
    "import random as rd\n",
    "import numba as nb\n",
    "import random"
   ]
  },
  {
   "cell_type": "code",
   "execution_count": 2,
   "metadata": {},
   "outputs": [],
   "source": [
    "def zerovec(y, x): return np.zeros(shape=[x, y], dtype=np.float64)\n",
    "createText = lambda x,y : np.savetxt(\n",
    "    fname = \"Results/\"+x + \".csv\",\n",
    "    X= y,\n",
    "    delimiter=\" \",\n",
    "    fmt='%g')"
   ]
  },
  {
   "cell_type": "code",
   "execution_count": 3,
   "metadata": {},
   "outputs": [],
   "source": [
    "@njit#(parallel=True)\n",
    "def BenchABC(i,boxes,bin,lst,lst2,lst3,maxItr,pop,rot):\n",
    "    fi = NumbaList(np.zeros(maxItr,dtype=np.float64))\n",
    "    UBOXES = InstaceBoxes(boxes)\n",
    "    pob = CreateRotHPob(pop =pop, ITEMS = UBOXES.copy(), rotType=rot)\n",
    "    EvalPob(pob= pob,boxData=UBOXES.copy(),container=bin,rotation=rot)\n",
    "    \n",
    "    ind = BeeSearch(\n",
    "    mutType=0,\n",
    "    numItr=maxItr,\n",
    "    m_sites=4,\n",
    "    elite_sites=2,\n",
    "    elite_bees=4,\n",
    "    nonelite_bees=2,\n",
    "    ColonyWorker=pob.copy(),\n",
    "    datos=UBOXES.copy(),\n",
    "    contenedor=bin,\n",
    "    rot=rot)\n",
    "    \n",
    "    ind2 = BeeSearch(\n",
    "    mutType=1,\n",
    "    numItr=maxItr,\n",
    "    m_sites=4,\n",
    "    elite_sites=2,\n",
    "    elite_bees=4,\n",
    "    nonelite_bees=2,\n",
    "    ColonyWorker=pob.copy(),\n",
    "    datos=UBOXES.copy(),\n",
    "    contenedor=bin,\n",
    "    rot=rot)\n",
    "    \n",
    "    ind3 = BeeSearch(\n",
    "    mutType=2,\n",
    "    numItr=maxItr,\n",
    "    m_sites=4,\n",
    "    elite_sites=2,\n",
    "    elite_bees=4,\n",
    "    nonelite_bees=2,\n",
    "    ColonyWorker=pob.copy(),\n",
    "    datos=UBOXES.copy(),\n",
    "    contenedor=bin,\n",
    "    rot=rot)\n",
    "\n",
    "    lst[i]=ind.fi\n",
    "    lst2[i] = ind2.fi\n",
    "    lst3[i] = ind3.fi"
   ]
  },
  {
   "cell_type": "code",
   "execution_count": 4,
   "metadata": {},
   "outputs": [],
   "source": [
    "@njit(parallel=True)\n",
    "def BABC(rango,rango2,contenedor,data,agL,agL2,agL3,maxItr,numpop,rotation):\n",
    "    for p in prange(rango,rango2):\n",
    "        BenchABC(\n",
    "                i=p,\n",
    "                boxes=data[p], \n",
    "                bin=contenedor,\n",
    "                maxItr= maxItr,\n",
    "                lst= agL,\n",
    "                lst2=agL2,\n",
    "                lst3=agL3,\n",
    "                pop=numpop,\n",
    "                rot=rotation)"
   ]
  },
  {
   "cell_type": "code",
   "execution_count": 5,
   "metadata": {},
   "outputs": [],
   "source": [
    "def Bench(nm,r):\n",
    "    BR1 = GetInstance(nm)\n",
    "    agL = zerovec(1, 100)\n",
    "\n",
    "    agL2 = zerovec(1, 100)\n",
    "\n",
    "    agL3 = zerovec(1, 100)\n",
    "    for th in np.arange(66,r,4):\n",
    "        BABC(rango=th,rango2=th+4,contenedor=BR1[0],data= BR1[1],agL=agL,agL2=agL2,agL3=agL3,maxItr=1000,numpop=20,rotation=6)\n",
    "        createText(nm+\"/ABC/\"+\"2ABC\"+str(0),agL)\n",
    "        createText(nm+\"/ABC/\"+\"2ABC\"+str(1),agL2)\n",
    "        createText(nm+\"/ABC/\"+\"2ABC\"+str(2),agL3)"
   ]
  },
  {
   "cell_type": "code",
   "execution_count": 2,
   "metadata": {},
   "outputs": [
    {
     "ename": "NameError",
     "evalue": "name 'zerovec' is not defined",
     "output_type": "error",
     "traceback": [
      "\u001b[1;31m---------------------------------------------------------------------------\u001b[0m",
      "\u001b[1;31mNameError\u001b[0m                                 Traceback (most recent call last)",
      "\u001b[1;32ma:\\Documents\\python\\BPP3D\\abc.ipynb Celda 6\u001b[0m in \u001b[0;36m<cell line: 2>\u001b[1;34m()\u001b[0m\n\u001b[0;32m      <a href='vscode-notebook-cell:/a%3A/Documents/python/BPP3D/abc.ipynb#W5sZmlsZQ%3D%3D?line=0'>1</a>\u001b[0m r\u001b[39m=\u001b[39m\u001b[39m100\u001b[39m\n\u001b[1;32m----> <a href='vscode-notebook-cell:/a%3A/Documents/python/BPP3D/abc.ipynb#W5sZmlsZQ%3D%3D?line=1'>2</a>\u001b[0m agL \u001b[39m=\u001b[39m zerovec(\u001b[39m1\u001b[39m, \u001b[39m100\u001b[39m)\n\u001b[0;32m      <a href='vscode-notebook-cell:/a%3A/Documents/python/BPP3D/abc.ipynb#W5sZmlsZQ%3D%3D?line=2'>3</a>\u001b[0m agL2 \u001b[39m=\u001b[39m zerovec(\u001b[39m1\u001b[39m, \u001b[39m100\u001b[39m)\n\u001b[0;32m      <a href='vscode-notebook-cell:/a%3A/Documents/python/BPP3D/abc.ipynb#W5sZmlsZQ%3D%3D?line=3'>4</a>\u001b[0m agL3 \u001b[39m=\u001b[39m zerovec(\u001b[39m1\u001b[39m, \u001b[39m100\u001b[39m)\n",
      "\u001b[1;31mNameError\u001b[0m: name 'zerovec' is not defined"
     ]
    }
   ],
   "source": [
    "r=100\n",
    "agL = zerovec(1, 100)\n",
    "agL2 = zerovec(1, 100)\n",
    "agL3 = zerovec(1, 100)\n",
    "BR1 = GetInstance(\"P2A2\")\n",
    "cont = BR1[0]\n",
    "dataBoxes = BR1[1]\n",
    "boxes:np.ndarray = dataBoxes[0]\n",
    "num: int = dataBoxes[0][0][0][0]"
   ]
  },
  {
   "cell_type": "code",
   "execution_count": 7,
   "metadata": {},
   "outputs": [],
   "source": [
    "UBOXES = InstaceBoxes(boxes)"
   ]
  },
  {
   "cell_type": "code",
   "execution_count": 8,
   "metadata": {},
   "outputs": [],
   "source": [
    "BenchABC(\n",
    "               i=0,\n",
    "               boxes=boxes, \n",
    "               bin=cont,\n",
    "              maxItr= 1000,\n",
    "               lst= agL,\n",
    "              lst2=agL2,\n",
    "              lst3=agL3,                pop=20,\n",
    "             rot=6)"
   ]
  },
  {
   "cell_type": "code",
   "execution_count": 9,
   "metadata": {},
   "outputs": [],
   "source": [
    "Bench(\"P3A2\",98)"
   ]
  },
  {
   "cell_type": "code",
   "execution_count": 11,
   "metadata": {},
   "outputs": [],
   "source": [
    "pop=20\n",
    "maxItr=100\n",
    "rot=2\n",
    "mut=0\n",
    "m=4 #good sites\n",
    "e=2  #elite sites\n",
    "nep=4 #elite bees\n",
    "nsp=2 #non elite bees\n"
   ]
  },
  {
   "cell_type": "code",
   "execution_count": 12,
   "metadata": {},
   "outputs": [
    {
     "name": "stderr",
     "output_type": "stream",
     "text": [
      "a:\\Documents\\python\\BPP3D\\BPmodule\\BPGen.py:405: VisibleDeprecationWarning: Creating an ndarray from ragged nested sequences (which is a list-or-tuple of lists-or-tuples-or ndarrays with different lengths or shapes) is deprecated. If you meant to do this, you must specify 'dtype=object' when creating the ndarray.\n",
      "  bx= np.array(totalboxes)\n"
     ]
    }
   ],
   "source": [
    "BR1 = GetInstance(\"BR1\")\n",
    "cont = BR1[0]\n",
    "dataBoxes=BR1[1]\n",
    "boxes = dataBoxes[1]"
   ]
  },
  {
   "cell_type": "code",
   "execution_count": 13,
   "metadata": {},
   "outputs": [],
   "source": [
    "UBOXES = InstaceBoxes(boxes)\n",
    "pob = CreateRotHPob(pop =pop, ITEMS = UBOXES.copy(), rotType=rot)\n",
    "EvalPob(pob,UBOXES,cont,rot)"
   ]
  },
  {
   "cell_type": "code",
   "execution_count": 14,
   "metadata": {},
   "outputs": [],
   "source": [
    "ind = BeeSearch(\n",
    "    mutType=mut,\n",
    "    numItr=maxItr,\n",
    "    m_sites=m,\n",
    "    elite_sites=e,\n",
    "    elite_bees=nep,\n",
    "    nonelite_bees=nsp,\n",
    "    ColonyWorker=pob.copy(),\n",
    "    datos=UBOXES.copy(),\n",
    "    contenedor=cont,\n",
    "    rot=rot)"
   ]
  },
  {
   "cell_type": "code",
   "execution_count": 15,
   "metadata": {},
   "outputs": [
    {
     "data": {
      "text/plain": [
       "0.8786526051176452"
      ]
     },
     "execution_count": 15,
     "metadata": {},
     "output_type": "execute_result"
    }
   ],
   "source": [
    "ind.fi"
   ]
  },
  {
   "cell_type": "code",
   "execution_count": null,
   "metadata": {},
   "outputs": [],
   "source": []
  }
 ],
 "metadata": {
  "kernelspec": {
   "display_name": "Python 3.9.12 ('base')",
   "language": "python",
   "name": "python3"
  },
  "language_info": {
   "codemirror_mode": {
    "name": "ipython",
    "version": 3
   },
   "file_extension": ".py",
   "mimetype": "text/x-python",
   "name": "python",
   "nbconvert_exporter": "python",
   "pygments_lexer": "ipython3",
   "version": "3.9.12"
  },
  "orig_nbformat": 4,
  "vscode": {
   "interpreter": {
    "hash": "c9548d78abac3d9c949fbd3fd187a460132993a1944635464947e6b8db26d483"
   }
  }
 },
 "nbformat": 4,
 "nbformat_minor": 2
}
