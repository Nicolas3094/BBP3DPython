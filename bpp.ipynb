{
 "cells": [
  {
   "cell_type": "markdown",
   "id": "035cfbf2",
   "metadata": {
    "id": "035cfbf2"
   },
   "source": [
    "# **Bin Packing 3D**\n",
    "\n",
    " Los datos vienen del dataset: 'data/Boxes/series1/1ULD/27boxes/box4.csv' del artículo:\n",
    "\n",
    "\"Paquay, Célia et al. “Three dimensional Bin Packing Problem applied to air transport.”(2012)\n",
    "\n",
    " Web-artículo: https://orbi.uliege.be/bitstream/2268/107302/1/sil_2011%20Bin%20packing.pdf\n",
    "\n",
    " Drive de datos: https://drive.google.com/drive/folders/1On_rsK8vNeY_cFC-45jEO4W6WcjA40dv?usp=sharing\n",
    "\n",
    " El autor precisa que los datos se manejan de la siguiente forma:\n",
    "\n",
    "$$length; width; height; weight; l+; w+; h+; fragile$$\n",
    "\n",
    " Sólo se tomará los datos, no el modelo del artículo para resolver el BPP3D. Como sólo considero las variables: $length, width$ y $height$, sólamente se tomaran los primeros 3 datos de cada línea. \n",
    "\n",
    " Convenientemente, se extiende este vector de características para añadir el VOLUMEN y el IDENTIFICADOR de la caja. Es decir, el vector de características final quedaría de la siguiente forma:\n",
    "$$(length, width, height)$$\n",
    " El identificador sólo se utilizará para la codificación."
   ]
  },
  {
   "cell_type": "code",
   "execution_count": 1,
   "id": "ce8a7f6f",
   "metadata": {
    "id": "ce8a7f6f"
   },
   "outputs": [],
   "source": [
    "import numpy as np\n",
    "import matplotlib.pyplot as plt\n",
    "from Contenedor import Bin\n",
    "from AG import AG\n",
    "from BinPacking import BBP,BPP3DInstanceGenerator,PROBLEM1,PROBLEM2,PROBLEM3,PROBLEM4,PROBLEM5\n",
    "from PackingH import DBLF,DBLF2\n",
    "\n",
    "from DataLecture import ExpotarJSON"
   ]
  },
  {
   "cell_type": "code",
   "execution_count": 2,
   "id": "c3b045c2",
   "metadata": {},
   "outputs": [],
   "source": [
    "GEN, num_pob = 500, 50\n",
    "pt, pc, pm = 0.85, 0.75, 0.20"
   ]
  },
  {
   "cell_type": "code",
   "execution_count": 3,
   "id": "8063d6bf",
   "metadata": {},
   "outputs": [
    {
     "data": {
      "text/plain": [
       "[20, 20, 20]"
      ]
     },
     "execution_count": 3,
     "metadata": {},
     "output_type": "execute_result"
    }
   ],
   "source": [
    "contenedor  = PROBLEM1[0][0]\n",
    "datos = PROBLEM1[0][1]\n",
    "contenedor\n"
   ]
  },
  {
   "cell_type": "code",
   "execution_count": 5,
   "id": "849100f8",
   "metadata": {
    "scrolled": true
   },
   "outputs": [
    {
     "data": {
      "text/plain": [
       "1.0"
      ]
     },
     "execution_count": 5,
     "metadata": {},
     "output_type": "execute_result"
    }
   ],
   "source": [
    "genetic = AG( pc = pc, pt = pt,  pm = pm )\n",
    "SingleContainer = BBP(Bins=[Bin(dimensiones=contenedor,n=len(datos))])\n",
    "SingleContainer.DefinePackingMethod(DBLF)\n",
    "genetic.DefineProblem(SingleContainer)\n",
    "genetic.ConfigFi(lambda binpack : binpack.getBin().getLoadVol()/np.prod(binpack.getBin().dimensions))\n",
    "genetic.RandomInitPob(N = num_pob, BoxSeq = datos, Heuristic = True)\n",
    "vol=0\n",
    "for itm in datos:\n",
    "    vol += np.prod(itm)\n",
    "vol/np.prod(contenedor)"
   ]
  },
  {
   "cell_type": "code",
   "execution_count": 6,
   "id": "3ca4a8cc",
   "metadata": {},
   "outputs": [
    {
     "name": "stdout",
     "output_type": "stream",
     "text": [
      "0.6\n"
     ]
    }
   ],
   "source": [
    "\n",
    "individuo = genetic.pob[5]\n",
    "SingleContainer.DefinePackingMethod(DBLF2)\n",
    "individuo.AddParameter(SingleContainer)\n",
    "individuo.params.solve(BoxesToPack=individuo.code,IdBoxes=datos)\n",
    "print(individuo.params.GetBin().getLoadVol()/np.prod(contenedor))\n",
    "#print(individuo.code)\n",
    "#print([item.id for item in individuo.params.GetBin().getBoxes()])\n"
   ]
  },
  {
   "cell_type": "code",
   "execution_count": 7,
   "id": "4b8621bb",
   "metadata": {},
   "outputs": [],
   "source": [
    "path=r\"C:/Users/nicoo/My project/Assets/bpp.json\"\n",
    "binPacked:Bin = individuo.params.GetBin()\n",
    "itemsPacked = binPacked._loadedItems\n",
    "ExpotarJSON(path=path, cajas= itemsPacked,bin = contenedor)"
   ]
  },
  {
   "cell_type": "code",
   "execution_count": null,
   "id": "cfcb9cce",
   "metadata": {},
   "outputs": [],
   "source": []
  }
 ],
 "metadata": {
  "colab": {
   "collapsed_sections": [],
   "name": "bpp.ipynb",
   "provenance": []
  },
  "kernelspec": {
   "display_name": "Python 3 (ipykernel)",
   "language": "python",
   "name": "python3"
  },
  "language_info": {
   "codemirror_mode": {
    "name": "ipython",
    "version": 3
   },
   "file_extension": ".py",
   "mimetype": "text/x-python",
   "name": "python",
   "nbconvert_exporter": "python",
   "pygments_lexer": "ipython3",
   "version": "3.9.7"
  }
 },
 "nbformat": 4,
 "nbformat_minor": 5
}
