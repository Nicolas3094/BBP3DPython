{
 "cells": [
  {
   "cell_type": "code",
   "execution_count": 1,
   "id": "ce8a7f6f",
   "metadata": {
    "id": "ce8a7f6f"
   },
   "outputs": [],
   "source": [
    "from AG import AG\n",
    "from BPGen import PROBLEM3\n",
    "from Poblacion import Genome,Poblation\n",
    "from BinPacking import Bin\n",
    "from PackingH import DBLF\n"
   ]
  },
  {
   "cell_type": "code",
   "execution_count": 2,
   "id": "bbda2abd",
   "metadata": {},
   "outputs": [
    {
     "name": "stdout",
     "output_type": "stream",
     "text": [
      "Numero de cajas:  50\n",
      "Contenedor:  [100, 100, 100]\n"
     ]
    }
   ],
   "source": [
    "#contenedor:list[int] = UDLPROBLEM[\"UDL1\"][\"dimension\"]\n",
    "#datos =  UDLPROBLEM[\"UDL1\"][\"27boxes\"][0]\n",
    "contenedor = PROBLEM3[0][0]\n",
    "datos = PROBLEM3[0][1]\n",
    "print(\"Numero de cajas: \",len(datos))\n",
    "print(\"Contenedor: \", contenedor)"
   ]
  },
  {
   "cell_type": "code",
   "execution_count": 3,
   "id": "bc0eee0f",
   "metadata": {},
   "outputs": [],
   "source": [
    "genetic = AG(pc=0.75,pt=0.85,pm=0.2)"
   ]
  },
  {
   "cell_type": "code",
   "execution_count": 4,
   "id": "515afd3b",
   "metadata": {},
   "outputs": [],
   "source": [
    "genetic.RandomInitPob(100,datos,True)\n",
    "genetic.PackingMethod(DBLF)"
   ]
  },
  {
   "cell_type": "code",
   "execution_count": 5,
   "id": "c1b2857b",
   "metadata": {},
   "outputs": [
    {
     "name": "stdout",
     "output_type": "stream",
     "text": [
      "0.2013, 0.2951, 0.2951, 0.33, 0.33, 0.33, 0.4238, "
     ]
    },
    {
     "ename": "KeyboardInterrupt",
     "evalue": "",
     "output_type": "error",
     "traceback": [
      "\u001b[1;31m---------------------------------------------------------------------------\u001b[0m",
      "\u001b[1;31mKeyboardInterrupt\u001b[0m                         Traceback (most recent call last)",
      "\u001b[1;32m~\\AppData\\Local\\Temp/ipykernel_12388/2076134472.py\u001b[0m in \u001b[0;36m<module>\u001b[1;34m\u001b[0m\n\u001b[1;32m----> 1\u001b[1;33m \u001b[0mgenetic\u001b[0m\u001b[1;33m.\u001b[0m\u001b[0mtrain\u001b[0m\u001b[1;33m(\u001b[0m\u001b[1;36m100\u001b[0m\u001b[1;33m,\u001b[0m\u001b[0mcontenedor\u001b[0m\u001b[1;33m=\u001b[0m\u001b[0mcontenedor\u001b[0m\u001b[1;33m,\u001b[0m\u001b[0mData\u001b[0m\u001b[1;33m=\u001b[0m\u001b[0mdatos\u001b[0m\u001b[1;33m)\u001b[0m\u001b[1;33m\u001b[0m\u001b[1;33m\u001b[0m\u001b[0m\n\u001b[0m",
      "\u001b[1;32md:\\Python2BPP\\AG.py\u001b[0m in \u001b[0;36mtrain\u001b[1;34m(self, maxGen, contenedor, Data)\u001b[0m\n\u001b[0;32m     57\u001b[0m         \u001b[0mself\u001b[0m\u001b[1;33m.\u001b[0m\u001b[0m_gen\u001b[0m \u001b[1;33m=\u001b[0m \u001b[0mmaxGen\u001b[0m\u001b[1;33m\u001b[0m\u001b[1;33m\u001b[0m\u001b[0m\n\u001b[0;32m     58\u001b[0m         \u001b[1;32mfor\u001b[0m \u001b[0m_\u001b[0m \u001b[1;32min\u001b[0m \u001b[0mnp\u001b[0m\u001b[1;33m.\u001b[0m\u001b[0marange\u001b[0m\u001b[1;33m(\u001b[0m\u001b[0mmaxGen\u001b[0m\u001b[1;33m)\u001b[0m\u001b[1;33m:\u001b[0m\u001b[1;33m\u001b[0m\u001b[1;33m\u001b[0m\u001b[0m\n\u001b[1;32m---> 59\u001b[1;33m             \u001b[0mself\u001b[0m\u001b[1;33m.\u001b[0m\u001b[0mEvaluateFitness\u001b[0m\u001b[1;33m(\u001b[0m\u001b[0mself\u001b[0m\u001b[1;33m.\u001b[0m\u001b[0mpob\u001b[0m\u001b[1;33m,\u001b[0m\u001b[0mcontenedor\u001b[0m\u001b[1;33m,\u001b[0m\u001b[0mData\u001b[0m\u001b[1;33m)\u001b[0m\u001b[1;33m\u001b[0m\u001b[1;33m\u001b[0m\u001b[0m\n\u001b[0m\u001b[0;32m     60\u001b[0m             \u001b[0mprint\u001b[0m\u001b[1;33m(\u001b[0m\u001b[0mself\u001b[0m\u001b[1;33m.\u001b[0m\u001b[0mpob\u001b[0m\u001b[1;33m[\u001b[0m\u001b[1;33m-\u001b[0m\u001b[1;36m1\u001b[0m\u001b[1;33m]\u001b[0m\u001b[1;33m.\u001b[0m\u001b[0mfi\u001b[0m\u001b[1;33m,\u001b[0m\u001b[0mend\u001b[0m\u001b[1;33m=\u001b[0m\u001b[1;34m\", \"\u001b[0m\u001b[1;33m)\u001b[0m\u001b[1;33m\u001b[0m\u001b[1;33m\u001b[0m\u001b[0m\n\u001b[0;32m     61\u001b[0m             \u001b[0mself\u001b[0m\u001b[1;33m.\u001b[0m\u001b[0m_RegistrarDatos__\u001b[0m\u001b[1;33m(\u001b[0m\u001b[1;33m)\u001b[0m\u001b[1;33m\u001b[0m\u001b[1;33m\u001b[0m\u001b[0m\n",
      "\u001b[1;32md:\\Python2BPP\\AG.py\u001b[0m in \u001b[0;36mEvaluateFitness\u001b[1;34m(self, pobl, dimBin, DataSet)\u001b[0m\n\u001b[0;32m     68\u001b[0m             \u001b[1;32mif\u001b[0m \u001b[0mindividuo\u001b[0m\u001b[1;33m.\u001b[0m\u001b[0mfi\u001b[0m \u001b[1;32mis\u001b[0m \u001b[1;32mNone\u001b[0m\u001b[1;33m:\u001b[0m\u001b[1;33m\u001b[0m\u001b[1;33m\u001b[0m\u001b[0m\n\u001b[0;32m     69\u001b[0m                 \u001b[0mbin\u001b[0m\u001b[1;33m:\u001b[0m\u001b[0mBin\u001b[0m \u001b[1;33m=\u001b[0m \u001b[0mBin\u001b[0m\u001b[1;33m(\u001b[0m\u001b[0mdimensiones\u001b[0m\u001b[1;33m=\u001b[0m\u001b[0mdimBin\u001b[0m\u001b[1;33m,\u001b[0m \u001b[0mn\u001b[0m\u001b[1;33m=\u001b[0m\u001b[0mlen\u001b[0m\u001b[1;33m(\u001b[0m\u001b[0mDataSet\u001b[0m\u001b[1;33m)\u001b[0m\u001b[1;33m)\u001b[0m\u001b[1;33m\u001b[0m\u001b[1;33m\u001b[0m\u001b[0m\n\u001b[1;32m---> 70\u001b[1;33m                 \u001b[0mself\u001b[0m\u001b[1;33m.\u001b[0m\u001b[0m_packing\u001b[0m\u001b[1;33m(\u001b[0m\u001b[0mbin\u001b[0m\u001b[1;33m=\u001b[0m\u001b[0mbin\u001b[0m\u001b[1;33m,\u001b[0m\u001b[0mitemsToPack\u001b[0m\u001b[1;33m=\u001b[0m\u001b[0mindividuo\u001b[0m\u001b[1;33m.\u001b[0m\u001b[0mgenome\u001b[0m\u001b[1;33m,\u001b[0m \u001b[0mITEMSDATA\u001b[0m\u001b[1;33m=\u001b[0m\u001b[0mDataSet\u001b[0m\u001b[1;33m)\u001b[0m\u001b[1;33m\u001b[0m\u001b[1;33m\u001b[0m\u001b[0m\n\u001b[0m\u001b[0;32m     71\u001b[0m                 \u001b[0mindividuo\u001b[0m\u001b[1;33m.\u001b[0m\u001b[0mfi\u001b[0m \u001b[1;33m=\u001b[0m \u001b[0mbin\u001b[0m\u001b[1;33m.\u001b[0m\u001b[0mgetLoadVol\u001b[0m\u001b[1;33m(\u001b[0m\u001b[1;33m)\u001b[0m\u001b[1;33m/\u001b[0m\u001b[0mnp\u001b[0m\u001b[1;33m.\u001b[0m\u001b[0mprod\u001b[0m\u001b[1;33m(\u001b[0m\u001b[0mdimBin\u001b[0m\u001b[1;33m)\u001b[0m\u001b[1;33m\u001b[0m\u001b[1;33m\u001b[0m\u001b[0m\n\u001b[0;32m     72\u001b[0m         \u001b[0mpobl\u001b[0m\u001b[1;33m.\u001b[0m\u001b[0mpoblation\u001b[0m\u001b[1;33m.\u001b[0m\u001b[0msort\u001b[0m\u001b[1;33m(\u001b[0m\u001b[0mkey\u001b[0m\u001b[1;33m=\u001b[0m \u001b[1;32mlambda\u001b[0m \u001b[0mx\u001b[0m \u001b[1;33m:\u001b[0m \u001b[0mx\u001b[0m\u001b[1;33m.\u001b[0m\u001b[0mfi\u001b[0m\u001b[1;33m,\u001b[0m\u001b[0mreverse\u001b[0m\u001b[1;33m=\u001b[0m\u001b[1;32mTrue\u001b[0m\u001b[1;33m)\u001b[0m\u001b[1;33m\u001b[0m\u001b[1;33m\u001b[0m\u001b[0m\n",
      "\u001b[1;32md:\\Python2BPP\\PackingH.py\u001b[0m in \u001b[0;36mDBLF\u001b[1;34m(bin, itemsToPack, ITEMSDATA)\u001b[0m\n\u001b[0;32m     59\u001b[0m             \u001b[0mitemV\u001b[0m \u001b[1;33m=\u001b[0m \u001b[0mITEMSDATA\u001b[0m\u001b[1;33m[\u001b[0m\u001b[0mitemId\u001b[0m\u001b[1;33m-\u001b[0m\u001b[1;36m1\u001b[0m\u001b[1;33m]\u001b[0m\u001b[1;33m\u001b[0m\u001b[1;33m\u001b[0m\u001b[0m\n\u001b[0;32m     60\u001b[0m             \u001b[1;32mif\u001b[0m \u001b[0mbin\u001b[0m\u001b[1;33m.\u001b[0m\u001b[0mPlacement\u001b[0m\u001b[1;33m(\u001b[0m \u001b[0mPosiblePoint\u001b[0m\u001b[1;33m=\u001b[0m \u001b[0mnp\u001b[0m\u001b[1;33m.\u001b[0m\u001b[0marray\u001b[0m\u001b[1;33m(\u001b[0m\u001b[0mactualPoint\u001b[0m\u001b[1;33m)\u001b[0m\u001b[1;33m+\u001b[0m \u001b[0mnp\u001b[0m\u001b[1;33m.\u001b[0m\u001b[0marray\u001b[0m\u001b[1;33m(\u001b[0m\u001b[0mitemV\u001b[0m\u001b[1;33m)\u001b[0m \u001b[1;33m)\u001b[0m\u001b[1;33m:\u001b[0m\u001b[1;33m\u001b[0m\u001b[1;33m\u001b[0m\u001b[0m\n\u001b[1;32m---> 61\u001b[1;33m                 \u001b[1;32mif\u001b[0m \u001b[1;32mnot\u001b[0m \u001b[0mbin\u001b[0m\u001b[1;33m.\u001b[0m\u001b[0mOverlap\u001b[0m\u001b[1;33m(\u001b[0m\u001b[0mpos\u001b[0m\u001b[1;33m=\u001b[0m\u001b[0mactualPoint\u001b[0m\u001b[1;33m,\u001b[0m \u001b[0mbox\u001b[0m \u001b[1;33m=\u001b[0m  \u001b[0mitemV\u001b[0m\u001b[1;33m)\u001b[0m\u001b[1;33m:\u001b[0m\u001b[1;33m\u001b[0m\u001b[1;33m\u001b[0m\u001b[0m\n\u001b[0m\u001b[0;32m     62\u001b[0m                     \u001b[0mIterateDBLF\u001b[0m\u001b[1;33m(\u001b[0m\u001b[0mitemV\u001b[0m\u001b[1;33m,\u001b[0m\u001b[0mactualPoint\u001b[0m\u001b[1;33m,\u001b[0m\u001b[0mbin\u001b[0m\u001b[1;33m)\u001b[0m\u001b[1;33m\u001b[0m\u001b[1;33m\u001b[0m\u001b[0m\n\u001b[0;32m     63\u001b[0m                     \u001b[0mbin\u001b[0m\u001b[1;33m.\u001b[0m\u001b[0maddBox\u001b[0m\u001b[1;33m(\u001b[0m\u001b[0mid\u001b[0m\u001b[1;33m=\u001b[0m\u001b[0mitemId\u001b[0m\u001b[1;33m,\u001b[0m \u001b[0mpos\u001b[0m \u001b[1;33m=\u001b[0m \u001b[0mactualPoint\u001b[0m\u001b[1;33m,\u001b[0m \u001b[0mdimensions\u001b[0m\u001b[1;33m=\u001b[0m \u001b[0mitemV\u001b[0m\u001b[1;33m)\u001b[0m\u001b[1;33m\u001b[0m\u001b[1;33m\u001b[0m\u001b[0m\n",
      "\u001b[1;32md:\\Python2BPP\\Contenedor.py\u001b[0m in \u001b[0;36mOverlap\u001b[1;34m(self, pos, box)\u001b[0m\n\u001b[0;32m     55\u001b[0m     \u001b[1;32mdef\u001b[0m \u001b[0mOverlap\u001b[0m\u001b[1;33m(\u001b[0m\u001b[0mself\u001b[0m\u001b[1;33m,\u001b[0m\u001b[0mpos\u001b[0m\u001b[1;33m:\u001b[0m\u001b[0mlist\u001b[0m\u001b[1;33m,\u001b[0m \u001b[0mbox\u001b[0m\u001b[1;33m:\u001b[0m\u001b[0mlist\u001b[0m \u001b[1;33m)\u001b[0m\u001b[1;33m->\u001b[0m\u001b[0mbool\u001b[0m\u001b[1;33m:\u001b[0m\u001b[1;33m\u001b[0m\u001b[1;33m\u001b[0m\u001b[0m\n\u001b[0;32m     56\u001b[0m         \u001b[0mAmin\u001b[0m \u001b[1;33m=\u001b[0m \u001b[0mnp\u001b[0m\u001b[1;33m.\u001b[0m\u001b[0marray\u001b[0m\u001b[1;33m(\u001b[0m\u001b[0mpos\u001b[0m\u001b[1;33m)\u001b[0m\u001b[1;33m\u001b[0m\u001b[1;33m\u001b[0m\u001b[0m\n\u001b[1;32m---> 57\u001b[1;33m         \u001b[0mAmax\u001b[0m \u001b[1;33m=\u001b[0m \u001b[0mAmin\u001b[0m \u001b[1;33m+\u001b[0m \u001b[0mnp\u001b[0m\u001b[1;33m.\u001b[0m\u001b[0marray\u001b[0m\u001b[1;33m(\u001b[0m\u001b[0mbox\u001b[0m\u001b[1;33m)\u001b[0m\u001b[1;33m\u001b[0m\u001b[1;33m\u001b[0m\u001b[0m\n\u001b[0m\u001b[0;32m     58\u001b[0m         \u001b[1;32mfor\u001b[0m \u001b[0mloadItem\u001b[0m \u001b[1;32min\u001b[0m \u001b[0mself\u001b[0m\u001b[1;33m.\u001b[0m\u001b[0m_loadedItems\u001b[0m\u001b[1;33m:\u001b[0m\u001b[1;33m\u001b[0m\u001b[1;33m\u001b[0m\u001b[0m\n\u001b[0;32m     59\u001b[0m             \u001b[0mBmin\u001b[0m \u001b[1;33m=\u001b[0m \u001b[0mloadItem\u001b[0m\u001b[1;33m.\u001b[0m\u001b[0mMinV\u001b[0m\u001b[1;33m\u001b[0m\u001b[1;33m\u001b[0m\u001b[0m\n",
      "\u001b[1;31mKeyboardInterrupt\u001b[0m: "
     ]
    }
   ],
   "source": [
    "genetic.train(1000,contenedor=contenedor,Data=datos)"
   ]
  },
  {
   "cell_type": "code",
   "execution_count": null,
   "id": "5b984ff7",
   "metadata": {},
   "outputs": [],
   "source": [
    "path=r\"C:/Users/nicoo/BPP/Assets/bpp.json\"\n",
    "binPacked = genetic.pob[0]\n",
    "print(binPacked)\n",
    "#ExpotarJSON(path=path, cajas= binPacked.params.GetBin().getBoxes(),bin = contenedor)"
   ]
  },
  {
   "cell_type": "code",
   "execution_count": null,
   "id": "2d7ceefc",
   "metadata": {},
   "outputs": [],
   "source": [
    "from DataLecture import ExpotarJSON\n",
    "bin = Bin(contenedor,len(datos))\n",
    "DBLF(bin,binPacked.genome,datos)\n",
    "ExpotarJSON(path=path, cajas= bin.getBoxes(),bin = contenedor)"
   ]
  },
  {
   "cell_type": "code",
   "execution_count": null,
   "id": "2b17795f",
   "metadata": {},
   "outputs": [],
   "source": [
    "import matplotlib.pyplot as plt\n",
    "\n",
    "bsx = genetic.fiWorst\n",
    "bxy = genetic.fiBest\n",
    "plt.plot([i for i in range(len(bsx))],bsx)\n",
    "plt.plot([i for i in range(len(bxy))],bxy)\n",
    "plt.show()"
   ]
  },
  {
   "cell_type": "code",
   "execution_count": null,
   "id": "387ac78b",
   "metadata": {},
   "outputs": [],
   "source": []
  }
 ],
 "metadata": {
  "colab": {
   "collapsed_sections": [],
   "name": "bpp.ipynb",
   "provenance": []
  },
  "kernelspec": {
   "display_name": "Python 3 (ipykernel)",
   "language": "python",
   "name": "python3"
  },
  "language_info": {
   "codemirror_mode": {
    "name": "ipython",
    "version": 3
   },
   "file_extension": ".py",
   "mimetype": "text/x-python",
   "name": "python",
   "nbconvert_exporter": "python",
   "pygments_lexer": "ipython3",
   "version": "3.9.7"
  }
 },
 "nbformat": 4,
 "nbformat_minor": 5
}
