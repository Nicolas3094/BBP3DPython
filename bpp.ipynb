{
 "cells": [
  {
   "cell_type": "code",
   "execution_count": null,
   "id": "ce8a7f6f",
   "metadata": {
    "id": "ce8a7f6f"
   },
   "outputs": [],
   "source": [
    "from AG import AG\n",
    "from BPGen import PROBLEM1, PROBLEM2, PROBLEM3,PROBLEM4,PROBLEM5\n",
    "from PackingH import DBLF2,DBLF\n",
    "from Contenedor import Bin\n",
    "import matplotlib.pyplot as plt\n",
    "import time"
   ]
  },
  {
   "cell_type": "code",
   "execution_count": null,
   "id": "3d43201f",
   "metadata": {},
   "outputs": [],
   "source": [
    "def SolveSingleLoading(problema,num, packer,j, algoritmo):\n",
    "    contenedor = problema[algoritmo][0]\n",
    "    datos = problema[algoritmo][1]\n",
    "    print(\"Problema\"+str(num), \" DBLF\"+str(j),\"Alg.\"+str(algoritmo+1))\n",
    "    print(\"\\nNumero de cajas: \",len(datos))\n",
    "    print(\"Contenedor: \", contenedor)\n",
    "    genetic = AG(pc=0.75,pt=0.85,pm=0.2)\n",
    "    genetic.RandomInitPob(50,datos,True)\n",
    "    genetic.PackingMethod(packer)\n",
    "    start_time = time.time()\n",
    "    genetic.train(500,contenedor=contenedor,Data=datos)\n",
    "    print(\"--- %s seconds ---\" % (time.time() - start_time))\n",
    "    bin = Bin(contenedor,len(datos))\n",
    "    packer(bin,genetic.Best().genome,datos)\n",
    "    print(\"Cajas empacadas \", len(bin.getBoxes()))\n",
    "    print(\"Mejor individuo \", genetic.Best().fi)\n",
    "    bsx = genetic.fiWorst\n",
    "    bxy = genetic.fiBest\n",
    "    plt.plot([i for i in range(len(bsx))],bsx)\n",
    "    plt.plot([i for i in range(len(bxy))],bxy)\n",
    "    plt.title(\"Problema\"+str(num)+\"  | DBLF\"+str(j)+\" | Alg.\"+str(algoritmo+1))\n",
    "    plt.xlabel(\"No. Generaciones\")\n",
    "    plt.ylabel(\"Aptitud\")\n",
    "    plt.ylim(0,1)\n",
    "    plt.show()"
   ]
  },
  {
   "cell_type": "code",
   "execution_count": null,
   "id": "93690935",
   "metadata": {},
   "outputs": [],
   "source": [
    "#contenedor:list[int] = UDLPROBLEM[\"UDL1\"][\"dimension\"]\n",
    "#datos =  UDLPROBLEM[\"UDL1\"][\"27boxes\"][0]\n",
    "PROBLEMAS= [(PROBLEM3,3)]\n",
    "HEURISTICAS = [DBLF,DBLF2]\n",
    "\n",
    "for i in range(10):\n",
    "    for problema,num in PROBLEMAS:\n",
    "        for j,packer in enumerate(HEURISTICAS):\n",
    "            for algoritmo in [0,1]:\n",
    "                SolveSingleLoading(problema,num,packer,j,algoritmo)\n",
    "            "
   ]
  },
  {
   "cell_type": "code",
   "execution_count": null,
   "id": "08a5d803",
   "metadata": {},
   "outputs": [],
   "source": []
  }
 ],
 "metadata": {
  "colab": {
   "collapsed_sections": [],
   "name": "bpp.ipynb",
   "provenance": []
  },
  "kernelspec": {
   "display_name": "Python 3 (ipykernel)",
   "language": "python",
   "name": "python3"
  },
  "language_info": {
   "codemirror_mode": {
    "name": "ipython",
    "version": 3
   },
   "file_extension": ".py",
   "mimetype": "text/x-python",
   "name": "python",
   "nbconvert_exporter": "python",
   "pygments_lexer": "ipython3",
   "version": "3.9.7"
  }
 },
 "nbformat": 4,
 "nbformat_minor": 5
}
