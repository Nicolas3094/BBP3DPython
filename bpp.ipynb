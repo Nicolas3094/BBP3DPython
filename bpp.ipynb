{
 "cells": [
  {
   "cell_type": "code",
   "execution_count": 1,
   "id": "ce8a7f6f",
   "metadata": {
    "id": "ce8a7f6f"
   },
   "outputs": [],
   "source": [
    "from AG import AG\n",
    "from BPGen import PROBLEM1, PROBLEM2, PROBLEM3,PROBLEM4,PROBLEM5,UDLPROBLEM\n",
    "from PackingH import DBLF2,DBLF\n",
    "from Contenedor import Bin\n",
    "import matplotlib.pyplot as plt\n",
    "import time\n",
    "from DataLecture import ExpotarJSON"
   ]
  },
  {
   "cell_type": "code",
   "execution_count": 2,
   "id": "6b395fbb",
   "metadata": {},
   "outputs": [],
   "source": [
    "class Problem:\n",
    "    def __init__(self, problem:list, id:int, algorithm:int):\n",
    "        self.problem = problem\n",
    "        self.id =id\n",
    "        self.algorithm  = algorithm\n",
    "class Heuristic:\n",
    "    def __init__(self,algoritm, name:str):\n",
    "        self.heuristic = algoritm\n",
    "        self.name = name\n"
   ]
  },
  {
   "cell_type": "code",
   "execution_count": 3,
   "id": "9532420d",
   "metadata": {},
   "outputs": [],
   "source": [
    "P1A1 = Problem(problem = PROBLEM1,id = 1,algorithm = 1)\n",
    "P1A2 = Problem(PROBLEM1,1,2)\n",
    "\n",
    "P2A1 = Problem(PROBLEM2,2,1)\n",
    "P2A2 = Problem(PROBLEM2,2,2)\n",
    "\n",
    "P3A1 = Problem(PROBLEM3,3,1)\n",
    "P3A2 = Problem(PROBLEM3,3,2)\n",
    "\n",
    "P4A1 = Problem(PROBLEM4,4,1)\n",
    "P4A2 = Problem(PROBLEM4,4,2)\n",
    "\n",
    "P5A1 = Problem(PROBLEM5,5,1)\n",
    "P5A2 = Problem(PROBLEM5,5,2)"
   ]
  },
  {
   "cell_type": "code",
   "execution_count": 4,
   "id": "dbca2471",
   "metadata": {},
   "outputs": [],
   "source": [
    "h1 = Heuristic(DBLF,\"DBLF\")\n",
    "h2 = Heuristic(DBLF2,\"DBLF2\")\n"
   ]
  },
  {
   "cell_type": "code",
   "execution_count": 5,
   "id": "3d43201f",
   "metadata": {},
   "outputs": [
    {
     "name": "stdout",
     "output_type": "stream",
     "text": [
      "Problema UDL1\n",
      "\n",
      "Numero de cajas:  27\n",
      "Contenedor:  [1250  604  640]\n"
     ]
    }
   ],
   "source": [
    "for i in range(len(UDLPROBLEM[\"UDL1\"][\"27boxes\"])):\n",
    "    contenedor = UDLPROBLEM[\"UDL1\"][\"dimension\"]\n",
    "    datos = UDLPROBLEM[\"UDL1\"][\"27boxes\"][i]\n",
    "    print(\"Problema UDL1\")\n",
    "    print(\"\\nNumero de cajas: \",len(datos))\n",
    "    print(\"Contenedor: \", contenedor)\n",
    "    genetic = AG(pc=0.75,pt=0.85,pm=0.2)\n",
    "    genetic.RandomInitPob(50,datos,True)\n",
    "    genetic.PackingMethod(DBLF2)\n",
    "    start_time = time.time()\n",
    "    genetic.train(500,contenedor=contenedor,Data=datos)\n",
    "    print(\"--- %s minutes ---\" % (time.time()/60 - start_time/60))\n",
    "    bin = Bin(contenedor,len(datos))\n",
    "    DBLF2(bin,genetic.Best().genome,datos)\n",
    "    print(\"Cajas empacadas \", len(bin.getBoxes()))\n",
    "    print(\"Mejor individuo \", genetic.Best().fi)\n",
    "    bsx = genetic.fiWorst\n",
    "    bxy = genetic.fiBest\n",
    "    plt.figure(figsize=(15, 10))\n",
    "    plt.plot([i for i in range(len(bxy))],bxy,label=\"Best\")\n",
    "    plt.plot([i for i in range(len(bsx))],bsx,label=\"Worst\")\n",
    "    plt.title(\"Instancia\"+str(1)+\"  | \"+\"|No. Cajas: \"+str(len(datos))+\"|Contenedor: (\"+str(contenedor[0])+\",\"+str(contenedor[1])+\",\"+str(contenedor[2])+\")\") \n",
    "    plt.xlabel(\"No. Generaciones\\n Mejor individuo:\"+str(genetic.Best().fi)+\", cajas: \"+str(len(bin.getBoxes())))\n",
    "    plt.ylabel(\"Aptitud\")\n",
    "    plt.ylim(0,1)\n",
    "    plt.legend()\n",
    "    nameFIgure = \"imagesUDL12/\"+str(i)\n",
    "    plt.savefig(nameFIgure+'.png')\n",
    "    plt.show()\n",
    "    #ExpotarJSON(\"C:/Users/nicoo/BPP/Assets/bpp.json\",bin.getBoxes(),bin.dimensions)"
   ]
  },
  {
   "cell_type": "code",
   "execution_count": null,
   "id": "05a77ad0",
   "metadata": {},
   "outputs": [],
   "source": [
    "for i in range(len(UDLPROBLEM[\"UDL2\"][\"24boxes\"])):\n",
    "    contenedor = UDLPROBLEM[\"UDL2\"][\"dimension\"]\n",
    "    datos = UDLPROBLEM[\"UDL2\"][\"24boxes\"][i]\n",
    "    print(\"Problema UDL2\")\n",
    "    print(\"\\nNumero de cajas: \",len(datos))\n",
    "    print(\"Contenedor: \", contenedor)\n",
    "    genetic = AG(pc=0.75,pt=0.85,pm=0.2)\n",
    "    genetic.RandomInitPob(50,datos,True)\n",
    "    genetic.PackingMethod(DBLF2)\n",
    "    start_time = time.time()\n",
    "    genetic.train(500,contenedor=contenedor,Data=datos)\n",
    "    print(\"--- %s minutes ---\" % (time.time()/60 - start_time/60))\n",
    "    bin = Bin(contenedor,len(datos))\n",
    "    DBLF2(bin,genetic.Best().genome,datos)\n",
    "    print(\"Cajas empacadas \", len(bin.getBoxes()))\n",
    "    print(\"Mejor individuo \", genetic.Best().fi)\n",
    "    bsx = genetic.fiWorst\n",
    "    bxy = genetic.fiBest\n",
    "    plt.figure(figsize=(15, 10))\n",
    "    plt.plot([i for i in range(len(bxy))],bxy,label=\"Best\")\n",
    "    plt.plot([i for i in range(len(bsx))],bsx,label=\"Worst\")\n",
    "    plt.title(\"Instancia\"+str(1)+\"  | \"+\"|No. Cajas: \"+str(len(datos))+\"|Contenedor: (\"+str(contenedor[0])+\",\"+str(contenedor[1])+\",\"+str(contenedor[2])+\")\") \n",
    "    plt.xlabel(\"No. Generaciones\\n Mejor individuo:\"+str(genetic.Best().fi)+\", cajas: \"+str(len(bin.getBoxes())))\n",
    "    plt.ylabel(\"Aptitud\")\n",
    "    plt.ylim(0,1)\n",
    "    plt.legend()\n",
    "    nameFIgure = \"imagesUDL224/\"+str(i)\n",
    "    plt.savefig(nameFIgure+'.png')\n",
    "    plt.show()\n",
    "   # ExpotarJSON(\"C:/Users/nicoo/BPP/Assets/bpp.json\",bin.getBoxes(),bin.dimensions)"
   ]
  },
  {
   "cell_type": "code",
   "execution_count": null,
   "id": "26e89041",
   "metadata": {},
   "outputs": [],
   "source": [
    "for i in range(len(UDLPROBLEM[\"UDL1\"][\"27boxes\"])):\n",
    "    contenedor = UDLPROBLEM[\"UDL1\"][\"dimension\"]\n",
    "    datos = UDLPROBLEM[\"UDL1\"][\"27boxes\"][i]\n",
    "    print(\"Problema UDL1\")\n",
    "    print(\"\\nNumero de cajas: \",len(datos))\n",
    "    print(\"Contenedor: \", contenedor)\n",
    "    genetic = AG(pc=0.75,pt=0.85,pm=0.2)\n",
    "    genetic.RandomInitPob(50,datos,True)\n",
    "    genetic.PackingMethod(DBLF2)\n",
    "    start_time = time.time()\n",
    "    genetic.train2(500,contenedor=contenedor,Data=datos)\n",
    "    print(\"--- %s minutes ---\" % (time.time()/60 - start_time/60))\n",
    "    bin = Bin(contenedor,len(datos))\n",
    "    DBLF2(bin,genetic.Best().genome,datos)\n",
    "    print(\"Cajas empacadas \", len(bin.getBoxes()))\n",
    "    print(\"Mejor individuo \", genetic.Best().fi)\n",
    "    bsx = genetic.fiWorst\n",
    "    bxy = genetic.fiBest\n",
    "    plt.figure(figsize=(15, 10))\n",
    "    plt.plot([i for i in range(len(bxy))],bxy,label=\"Best\")\n",
    "    plt.plot([i for i in range(len(bsx))],bsx,label=\"Worst\")\n",
    "    plt.title(\"Instancia\"+str(1)+\"  | \"+\"|No. Cajas: \"+str(len(datos))+\"|Contenedor: (\"+str(contenedor[0])+\",\"+str(contenedor[1])+\",\"+str(contenedor[2])+\")\") \n",
    "    plt.xlabel(\"No. Generaciones\\n Mejor individuo:\"+str(genetic.Best().fi)+\", cajas: \"+str(len(bin.getBoxes())))\n",
    "    plt.ylabel(\"Aptitud\")\n",
    "    plt.ylim(0,1)\n",
    "    plt.legend()\n",
    "    nameFIgure = \"2imagesUDL12/\"+str(i)\n",
    "    plt.savefig(nameFIgure+'.png')\n",
    "    plt.show()\n",
    "    #ExpotarJSON(\"C:/Users/nicoo/BPP/Assets/bpp.json\",bin.getBoxes(),bin.dimensions)"
   ]
  },
  {
   "cell_type": "code",
   "execution_count": null,
   "id": "29b72c40",
   "metadata": {},
   "outputs": [],
   "source": [
    "for i in range(len(UDLPROBLEM[\"UDL2\"][\"24boxes\"])):\n",
    "    contenedor = UDLPROBLEM[\"UDL2\"][\"dimension\"]\n",
    "    datos = UDLPROBLEM[\"UDL2\"][\"24boxes\"][i]\n",
    "    print(\"Problema UDL2\")\n",
    "    print(\"\\nNumero de cajas: \",len(datos))\n",
    "    print(\"Contenedor: \", contenedor)\n",
    "    genetic = AG(pc=0.75,pt=0.85,pm=0.2)\n",
    "    genetic.RandomInitPob(50,datos,True)\n",
    "    genetic.PackingMethod(DBLF2)\n",
    "    start_time = time.time()\n",
    "    genetic.train2(500,contenedor=contenedor,Data=datos)\n",
    "    print(\"--- %s minutes ---\" % (time.time()/60 - start_time/60))\n",
    "    bin = Bin(contenedor,len(datos))\n",
    "    DBLF2(bin,genetic.Best().genome,datos)\n",
    "    print(\"Cajas empacadas \", len(bin.getBoxes()))\n",
    "    print(\"Mejor individuo \", genetic.Best().fi)\n",
    "    bsx = genetic.fiWorst\n",
    "    bxy = genetic.fiBest\n",
    "    plt.figure(figsize=(15, 10))\n",
    "    plt.plot([i for i in range(len(bxy))],bxy,label=\"Best\")\n",
    "    plt.plot([i for i in range(len(bsx))],bsx,label=\"Worst\")\n",
    "    plt.title(\"Instancia\"+str(1)+\"  | \"+\"|No. Cajas: \"+str(len(datos))+\"|Contenedor: (\"+str(contenedor[0])+\",\"+str(contenedor[1])+\",\"+str(contenedor[2])+\")\") \n",
    "    plt.xlabel(\"No. Generaciones\\n Mejor individuo:\"+str(genetic.Best().fi)+\", cajas: \"+str(len(bin.getBoxes())))\n",
    "    plt.ylabel(\"Aptitud\")\n",
    "    plt.ylim(0,1)\n",
    "    plt.legend()\n",
    "    nameFIgure = \"2imagesUDL224/\"+str(i)\n",
    "    plt.savefig(nameFIgure+'.png')\n",
    "    plt.show()\n",
    "   # ExpotarJSON(\"C:/Users/nicoo/BPP/Assets/bpp.json\",bin.getBoxes(),bin.dimensions)"
   ]
  }
 ],
 "metadata": {
  "colab": {
   "collapsed_sections": [],
   "name": "bpp.ipynb",
   "provenance": []
  },
  "kernelspec": {
   "display_name": "Python 3 (ipykernel)",
   "language": "python",
   "name": "python3"
  },
  "language_info": {
   "codemirror_mode": {
    "name": "ipython",
    "version": 3
   },
   "file_extension": ".py",
   "mimetype": "text/x-python",
   "name": "python",
   "nbconvert_exporter": "python",
   "pygments_lexer": "ipython3",
   "version": "3.9.7"
  }
 },
 "nbformat": 4,
 "nbformat_minor": 5
}
