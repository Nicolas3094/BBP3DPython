{
 "cells": [
  {
   "cell_type": "code",
   "execution_count": null,
   "metadata": {},
   "outputs": [],
   "source": [
    "import numpy as np\n",
    "import random\n",
    "from numba.typed import List as NumbaList\n",
    "from BPnumba.NumAG import InstancePob,TrainAG\n",
    "from BPmodule.BPGen  import PROBLEM2,PROBLEM3,PROBLEM4,PROBLEM5\n",
    "from BPnumba.NumFun import CreatePoblation\n",
    "from numba import types, prange,njit,deferred_type\n",
    "from typing import List\n",
    "from collections import OrderedDict\n",
    "from numba.experimental import jitclass\n",
    "from BPnumba.DFFAnumba import DFFtrain\n"
   ]
  },
  {
   "cell_type": "code",
   "execution_count": null,
   "metadata": {},
   "outputs": [],
   "source": [
    "P2A1 = PROBLEM2[0]\n",
    "P2A2 = PROBLEM2[1]\n",
    "P3A1 = PROBLEM3[0]\n",
    "P3A2 = PROBLEM3[1]\n",
    "P4A1 = PROBLEM4[0]\n",
    "P4A2 = PROBLEM4[1]\n",
    "P5A1 = PROBLEM5[0]\n",
    "P5A2 = PROBLEM5[1]"
   ]
  },
  {
   "cell_type": "code",
   "execution_count": null,
   "metadata": {},
   "outputs": [],
   "source": [
    "gamma=0.0004\n"
   ]
  },
  {
   "cell_type": "code",
   "execution_count": null,
   "metadata": {},
   "outputs": [],
   "source": [
    "contenedor =np.asanyarray( P2A2[0],dtype=np.int64)\n",
    "datos =np.asanyarray(P2A2[1],dtype=np.int64)\n",
    "n = len(datos)\n",
    "IniPob = CreatePoblation(1, datos)\n",
    "fireflyPob = InstancePob(NumbaList(IniPob),NumbaList(datos),NumbaList(contenedor))\n",
    "ind  =DFFtrain(1,NumbaList(fireflyPob),gamma,datos,contenedor)"
   ]
  },
  {
   "cell_type": "code",
   "execution_count": null,
   "metadata": {},
   "outputs": [],
   "source": [
    "@njit(parallel=True)\n",
    "def TestAlg(maxTest, maxItr,pop,datos, contenedor):\n",
    "    initial = CreatePoblation(pop,datos)\n",
    "    for _ in prange(maxTest):\n",
    "        Pob = InstancePob(NumbaList(initial.copy()),datos,contenedor)\n",
    "        best =DFFtrain(maxItr,NumbaList(Pob),0.004,NumbaList(datos),NumbaList(contenedor))\n",
    "        print(best.fi,len(datos)-best.load)"
   ]
  },
  {
   "cell_type": "code",
   "execution_count": 21,
   "metadata": {},
   "outputs": [],
   "source": [
    "TestAlg(100,500,50,P5A1[1],P5A1[0])"
   ]
  },
  {
   "cell_type": "code",
   "execution_count": null,
   "metadata": {},
   "outputs": [],
   "source": [
    "TestAlg(100,500,50,P4A1[1],P4A1[0])"
   ]
  },
  {
   "cell_type": "code",
   "execution_count": null,
   "metadata": {},
   "outputs": [],
   "source": [
    "TestAlg(100,500,50,P4A2[1],P4A2[0])"
   ]
  },
  {
   "cell_type": "code",
   "execution_count": null,
   "metadata": {},
   "outputs": [],
   "source": []
  }
 ],
 "metadata": {
  "interpreter": {
   "hash": "6161e517c3d4b81215da96e8bcd392bc9974967b9dec3b65fc82e2786b592859"
  },
  "kernelspec": {
   "display_name": "Python 3.9.7 ('base')",
   "language": "python",
   "name": "python3"
  },
  "language_info": {
   "codemirror_mode": {
    "name": "ipython",
    "version": 3
   },
   "file_extension": ".py",
   "mimetype": "text/x-python",
   "name": "python",
   "nbconvert_exporter": "python",
   "pygments_lexer": "ipython3",
   "version": "3.9.7"
  },
  "orig_nbformat": 4
 },
 "nbformat": 4,
 "nbformat_minor": 2
}
