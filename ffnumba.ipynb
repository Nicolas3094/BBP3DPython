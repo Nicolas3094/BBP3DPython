{
 "cells": [
  {
   "cell_type": "code",
   "execution_count": 1,
   "metadata": {},
   "outputs": [
    {
     "ename": "ImportError",
     "evalue": "cannot import name 'ind_type' from partially initialized module 'BPnumba.NumAG' (most likely due to a circular import) (c:\\Users\\nicoo\\Desktop\\BPP3Dpython\\BPnumba\\NumAG.py)",
     "output_type": "error",
     "traceback": [
      "\u001b[1;31m---------------------------------------------------------------------------\u001b[0m",
      "\u001b[1;31mImportError\u001b[0m                               Traceback (most recent call last)",
      "\u001b[1;32m~\\AppData\\Local\\Temp/ipykernel_18356/2841649379.py\u001b[0m in \u001b[0;36m<module>\u001b[1;34m\u001b[0m\n\u001b[0;32m      1\u001b[0m \u001b[1;32mimport\u001b[0m \u001b[0mnumpy\u001b[0m \u001b[1;32mas\u001b[0m \u001b[0mnp\u001b[0m\u001b[1;33m\u001b[0m\u001b[1;33m\u001b[0m\u001b[0m\n\u001b[0;32m      2\u001b[0m \u001b[1;32mfrom\u001b[0m \u001b[0mnumba\u001b[0m\u001b[1;33m.\u001b[0m\u001b[0mtyped\u001b[0m \u001b[1;32mimport\u001b[0m \u001b[0mList\u001b[0m \u001b[1;32mas\u001b[0m \u001b[0mNumbaList\u001b[0m\u001b[1;33m\u001b[0m\u001b[1;33m\u001b[0m\u001b[0m\n\u001b[1;32m----> 3\u001b[1;33m \u001b[1;32mfrom\u001b[0m \u001b[0mBPnumba\u001b[0m\u001b[1;33m.\u001b[0m\u001b[0mNumAG\u001b[0m \u001b[1;32mimport\u001b[0m \u001b[0mInstancePob\u001b[0m\u001b[1;33m,\u001b[0m\u001b[0mTrainAG\u001b[0m\u001b[1;33m,\u001b[0m\u001b[0mTrainAGV2\u001b[0m\u001b[1;33m\u001b[0m\u001b[1;33m\u001b[0m\u001b[0m\n\u001b[0m\u001b[0;32m      4\u001b[0m \u001b[1;32mfrom\u001b[0m \u001b[0mBPmodule\u001b[0m\u001b[1;33m.\u001b[0m\u001b[0mBPGen\u001b[0m  \u001b[1;32mimport\u001b[0m \u001b[0mPROBLEM2\u001b[0m\u001b[1;33m,\u001b[0m\u001b[0mPROBLEM3\u001b[0m\u001b[1;33m,\u001b[0m\u001b[0mPROBLEM4\u001b[0m\u001b[1;33m,\u001b[0m\u001b[0mPROBLEM5\u001b[0m\u001b[1;33m\u001b[0m\u001b[1;33m\u001b[0m\u001b[0m\n\u001b[0;32m      5\u001b[0m \u001b[1;32mfrom\u001b[0m \u001b[0mBPnumba\u001b[0m\u001b[1;33m.\u001b[0m\u001b[0mNumFun\u001b[0m \u001b[1;32mimport\u001b[0m \u001b[0mCreatePoblation\u001b[0m\u001b[1;33m\u001b[0m\u001b[1;33m\u001b[0m\u001b[0m\n",
      "\u001b[1;32mc:\\Users\\nicoo\\Desktop\\BPP3Dpython\\BPnumba\\NumAG.py\u001b[0m in \u001b[0;36m<module>\u001b[1;34m\u001b[0m\n\u001b[0;32m     10\u001b[0m \u001b[1;32mfrom\u001b[0m \u001b[0mBPnumba\u001b[0m\u001b[1;33m.\u001b[0m\u001b[0mGOnumba\u001b[0m \u001b[1;32mimport\u001b[0m \u001b[0mInverseMutation\u001b[0m\u001b[1;33m\u001b[0m\u001b[1;33m\u001b[0m\u001b[0m\n\u001b[0;32m     11\u001b[0m \u001b[1;32mfrom\u001b[0m \u001b[0mBPnumba\u001b[0m\u001b[1;33m.\u001b[0m\u001b[0mNumFun\u001b[0m \u001b[1;32mimport\u001b[0m \u001b[0mcreate_Bin\u001b[0m\u001b[1;33m,\u001b[0m\u001b[0mNumDBLF\u001b[0m\u001b[1;33m,\u001b[0m\u001b[0mCreatePoblation\u001b[0m\u001b[1;33m\u001b[0m\u001b[1;33m\u001b[0m\u001b[0m\n\u001b[1;32m---> 12\u001b[1;33m \u001b[1;32mfrom\u001b[0m \u001b[0mBPnumba\u001b[0m\u001b[1;33m.\u001b[0m\u001b[0mIndPqueue\u001b[0m \u001b[1;32mimport\u001b[0m \u001b[0mCreateGenPriorityQueue\u001b[0m\u001b[1;33m,\u001b[0m\u001b[0mGPQueue\u001b[0m\u001b[1;33m\u001b[0m\u001b[1;33m\u001b[0m\u001b[0m\n\u001b[0m\u001b[0;32m     13\u001b[0m \u001b[1;33m\u001b[0m\u001b[0m\n\u001b[0;32m     14\u001b[0m \u001b[0msepecInd\u001b[0m \u001b[1;33m=\u001b[0m \u001b[0mOrderedDict\u001b[0m\u001b[1;33m(\u001b[0m\u001b[1;33m)\u001b[0m\u001b[1;33m\u001b[0m\u001b[1;33m\u001b[0m\u001b[0m\n",
      "\u001b[1;32mc:\\Users\\nicoo\\Desktop\\BPP3Dpython\\BPnumba\\IndPqueue.py\u001b[0m in \u001b[0;36m<module>\u001b[1;34m\u001b[0m\n\u001b[0;32m      6\u001b[0m \u001b[1;32mfrom\u001b[0m \u001b[0msqlalchemy\u001b[0m \u001b[1;32mimport\u001b[0m \u001b[0mnull\u001b[0m\u001b[1;33m\u001b[0m\u001b[1;33m\u001b[0m\u001b[0m\n\u001b[0;32m      7\u001b[0m \u001b[1;32mfrom\u001b[0m \u001b[0msympy\u001b[0m \u001b[1;32mimport\u001b[0m \u001b[0mQ\u001b[0m\u001b[1;33m,\u001b[0m \u001b[0mpreview\u001b[0m\u001b[1;33m\u001b[0m\u001b[1;33m\u001b[0m\u001b[0m\n\u001b[1;32m----> 8\u001b[1;33m \u001b[1;32mfrom\u001b[0m \u001b[0mBPnumba\u001b[0m\u001b[1;33m.\u001b[0m\u001b[0mNumAG\u001b[0m \u001b[1;32mimport\u001b[0m \u001b[0mind_type\u001b[0m\u001b[1;33m,\u001b[0m\u001b[0mInd\u001b[0m\u001b[1;33m\u001b[0m\u001b[1;33m\u001b[0m\u001b[0m\n\u001b[0m\u001b[0;32m      9\u001b[0m \u001b[1;32mimport\u001b[0m \u001b[0mnumpy\u001b[0m \u001b[1;32mas\u001b[0m \u001b[0mnp\u001b[0m\u001b[1;33m\u001b[0m\u001b[1;33m\u001b[0m\u001b[0m\n\u001b[0;32m     10\u001b[0m \u001b[1;32mfrom\u001b[0m \u001b[0mnumba\u001b[0m\u001b[1;33m.\u001b[0m\u001b[0mtyped\u001b[0m \u001b[1;32mimport\u001b[0m \u001b[0mList\u001b[0m \u001b[1;32mas\u001b[0m \u001b[0mNumbaList\u001b[0m\u001b[1;33m\u001b[0m\u001b[1;33m\u001b[0m\u001b[0m\n",
      "\u001b[1;31mImportError\u001b[0m: cannot import name 'ind_type' from partially initialized module 'BPnumba.NumAG' (most likely due to a circular import) (c:\\Users\\nicoo\\Desktop\\BPP3Dpython\\BPnumba\\NumAG.py)"
     ]
    }
   ],
   "source": [
    "import numpy as np\n",
    "from numba.typed import List as NumbaList\n",
    "from BPnumba.NumAG import InstancePob,TrainAG\n",
    "from BPmodule.BPGen  import PROBLEM2,PROBLEM3,PROBLEM4,PROBLEM5\n",
    "from BPnumba.NumFun import CreatePoblation\n",
    "from numba import njit,prange,objmode\n",
    "from typing import List\n",
    "from BPnumba.DFFAnumba import DFFtrain\n",
    "import time"
   ]
  },
  {
   "cell_type": "code",
   "execution_count": 2,
   "metadata": {},
   "outputs": [],
   "source": [
    "P2A1 = PROBLEM2[0]\n",
    "P2A2 = PROBLEM2[1]\n",
    "P3A1 = PROBLEM3[0]\n",
    "P3A2 = PROBLEM3[1]\n",
    "P4A1 = PROBLEM4[0]\n",
    "P4A2 = PROBLEM4[1]\n",
    "P5A1 = PROBLEM5[0]\n",
    "P5A2 = PROBLEM5[1]"
   ]
  },
  {
   "cell_type": "code",
   "execution_count": 3,
   "metadata": {},
   "outputs": [],
   "source": [
    "gamma=0.0004"
   ]
  },
  {
   "cell_type": "code",
   "execution_count": 4,
   "metadata": {},
   "outputs": [
    {
     "name": "stderr",
     "output_type": "stream",
     "text": [
      "c:\\Users\\nicoo\\Anaconda3\\lib\\site-packages\\numba\\typed\\typedlist.py:83: NumbaPendingDeprecationWarning: \u001b[1m\u001b[1m\n",
      "Encountered the use of a type that is scheduled for deprecation: type 'reflected list' found for argument 'item' of function 'impl_append.<locals>.impl'.\n",
      "\n",
      "For more information visit https://numba.pydata.org/numba-doc/latest/reference/deprecation.html#deprecation-of-reflection-for-list-and-set-types\n",
      "\u001b[1m\n",
      "File \"..\\..\\Anaconda3\\lib\\site-packages\\numba\\typed\\listobject.py\", line 599:\u001b[0m\n",
      "\u001b[1m\n",
      "\u001b[1m    def impl(l, item):\n",
      "\u001b[0m    \u001b[1m^\u001b[0m\u001b[0m\n",
      "\u001b[0m\u001b[0m\n",
      "  l.append(item)\n",
      "c:\\Users\\nicoo\\Anaconda3\\lib\\site-packages\\numba\\core\\ir_utils.py:2139: NumbaPendingDeprecationWarning: \u001b[1m\n",
      "Encountered the use of a type that is scheduled for deprecation: type 'reflected list' found for argument 'item' of function '_append'.\n",
      "\n",
      "For more information visit https://numba.pydata.org/numba-doc/latest/reference/deprecation.html#deprecation-of-reflection-for-list-and-set-types\n",
      "\u001b[1m\n",
      "File \"..\\..\\Anaconda3\\lib\\site-packages\\numba\\typed\\typedlist.py\", line 82:\u001b[0m\n",
      "\u001b[1m@njit\n",
      "\u001b[1mdef _append(l, item):\n",
      "\u001b[0m\u001b[1m^\u001b[0m\u001b[0m\n",
      "\u001b[0m\n",
      "  warnings.warn(NumbaPendingDeprecationWarning(msg, loc=loc))\n"
     ]
    },
    {
     "name": "stdout",
     "output_type": "stream",
     "text": [
      "--- 16.40111494064331 seconds ---\n"
     ]
    }
   ],
   "source": [
    "contenedor =np.asanyarray( P2A2[0],dtype=np.int64)\n",
    "datos =np.asanyarray(P2A2[1],dtype=np.int64)\n",
    "n = len(datos)\n",
    "IniPob = CreatePoblation(1, datos)\n",
    "fireflyPob = InstancePob(NumbaList(IniPob),NumbaList(datos),NumbaList(contenedor))\n",
    "ind  =DFFtrain(1,NumbaList(fireflyPob),gamma,datos,contenedor)\n",
    "contenedor = np.asanyarray(P2A1[0],dtype=np.int64)\n",
    "datos =np.asanyarray(P2A1[1],dtype=np.int64)\n",
    "initial = CreatePoblation(1,datos)\n",
    "start_time = time.time()\n",
    "Pob =InstancePob(NumbaList(initial),datos,contenedor)\n",
    "TrainAG(2,NumbaList(Pob),0.85,0.75,0.2,NumbaList(datos),NumbaList(contenedor))\n",
    "print(\"--- %s seconds ---\" % (time.time() - start_time))\n"
   ]
  },
  {
   "cell_type": "code",
   "execution_count": 5,
   "metadata": {},
   "outputs": [],
   "source": [
    "@njit(parallel=True)\n",
    "def TestAlg(maxTest, maxItr,pop,datos, contenedor):\n",
    "    initial = CreatePoblation(pop,datos)\n",
    "    print('Inicia DFF')\n",
    "    for _ in prange(maxTest):\n",
    "        with objmode(time1='f8'):\n",
    "            time1 = time.perf_counter()\n",
    "        Pob = InstancePob(NumbaList(initial.copy()),datos,contenedor)\n",
    "        best =DFFtrain(maxItr,NumbaList(Pob),0.004,NumbaList(datos),NumbaList(contenedor))\n",
    "        print(best.fi,len(datos)-best.load)\n",
    "        with objmode():\n",
    "            print('time: {}'.format(time.perf_counter() - time1))\n",
    "    print('Inicia GA')\n",
    "    for _ in prange(maxTest):\n",
    "        with objmode(time1='f8'):\n",
    "            time1 = time.perf_counter()\n",
    "        Pob = InstancePob(NumbaList(initial.copy()),datos,contenedor)\n",
    "        best =TrainAG(maxItr,NumbaList(Pob),0.85,0.75,0.2,NumbaList(datos),NumbaList(contenedor))\n",
    "        print(best.fi,len(datos)-best.load)\n",
    "        with objmode():\n",
    "            print('time: {}'.format(time.perf_counter() - time1))\n",
    "    print('')"
   ]
  },
  {
   "cell_type": "code",
   "execution_count": 6,
   "metadata": {},
   "outputs": [
    {
     "name": "stdout",
     "output_type": "stream",
     "text": [
      "Inicia DFF\n",
      "1.0 0\n",
      "time: 120.844815\n",
      "1.0 0\n",
      "time: 121.40723720000001\n",
      "1.0 0\n",
      "time: 122.10542410000001\n",
      "1.0 0\n",
      "time: 122.24582899999999\n",
      "1.0 0\n",
      "time: 124.1021784\n",
      "Inicia GA\n",
      "0.9928 1\n",
      "time: 6.1241986\n",
      "0.9928 1\n",
      "time: 6.4563402\n",
      "0.9928 1\n",
      "time: 8.599726400000009\n",
      "0.9928 1\n",
      "time: 9.600072600000004\n",
      "0.99916 1\n",
      "time: 14.354832600000009\n",
      "\n"
     ]
    }
   ],
   "source": [
    "contenedor =np.asanyarray( P2A2[0],dtype=np.int64)\n",
    "datos =np.asanyarray(P2A2[1],dtype=np.int64)\n",
    "TestAlg(5,500,50,datos,contenedor)"
   ]
  },
  {
   "cell_type": "code",
   "execution_count": 7,
   "metadata": {},
   "outputs": [
    {
     "name": "stdout",
     "output_type": "stream",
     "text": [
      "Inicia DFF\n",
      "0.998144 1\n",
      "time: 534.2750293\n",
      "1.0 0\n",
      "time: 535.1940917\n",
      "1.0 0\n",
      "time: 536.1779841\n",
      "1.0 0\n",
      "time: 538.5974747\n",
      "1.0 0\n",
      "time: 540.4451273000001\n",
      "Inicia GA\n",
      "0.995392 1\n",
      "time: 93.39071430000001\n",
      "0.998144 1\n",
      "time: 102.63342599999999\n",
      "1.0 0\n",
      "time: 104.64341750000006\n",
      "0.994896 1\n",
      "time: 109.6629279\n",
      "0.999472 1\n",
      "time: 111.42524490000005\n",
      "\n"
     ]
    }
   ],
   "source": [
    "contenedor =np.asanyarray( P2A1[0],dtype=np.int64)\n",
    "datos =np.asanyarray(P2A1[1],dtype=np.int64)\n",
    "TestAlg(5,500,50,datos,contenedor)"
   ]
  },
  {
   "cell_type": "code",
   "execution_count": 8,
   "metadata": {},
   "outputs": [
    {
     "name": "stdout",
     "output_type": "stream",
     "text": [
      "Inicia DFF\n",
      "0.891892 2\n",
      "time: 98.75465670000006\n",
      "Inicia GA\n",
      "0.987697 2\n",
      "time: 541.0805544\n",
      "\n"
     ]
    }
   ],
   "source": [
    "contenedor =np.asanyarray( P3A1[0],dtype=np.int64)\n",
    "datos =np.asanyarray(P3A1[1],dtype=np.int64)\n",
    "TestAlg(1,500,50,datos,contenedor)"
   ]
  },
  {
   "cell_type": "code",
   "execution_count": 9,
   "metadata": {},
   "outputs": [
    {
     "name": "stdout",
     "output_type": "stream",
     "text": [
      "Inicia DFF\n",
      "0.96216 6\n",
      "time: 477.2970568999999\n",
      "Inicia GA\n",
      "0.922 1\n",
      "time: 536.9404608\n",
      "\n"
     ]
    }
   ],
   "source": [
    "contenedor =np.asanyarray( P3A2[0],dtype=np.int64)\n",
    "datos =np.asanyarray(P3A2[1],dtype=np.int64)\n",
    "TestAlg(1,500,50,datos,contenedor)"
   ]
  },
  {
   "cell_type": "code",
   "execution_count": null,
   "metadata": {},
   "outputs": [],
   "source": []
  }
 ],
 "metadata": {
  "interpreter": {
   "hash": "6161e517c3d4b81215da96e8bcd392bc9974967b9dec3b65fc82e2786b592859"
  },
  "kernelspec": {
   "display_name": "Python 3.9.7 ('base')",
   "language": "python",
   "name": "python3"
  },
  "language_info": {
   "codemirror_mode": {
    "name": "ipython",
    "version": 3
   },
   "file_extension": ".py",
   "mimetype": "text/x-python",
   "name": "python",
   "nbconvert_exporter": "python",
   "pygments_lexer": "ipython3",
   "version": "3.9.7"
  },
  "orig_nbformat": 4
 },
 "nbformat": 4,
 "nbformat_minor": 2
}
