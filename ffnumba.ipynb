{
 "cells": [
  {
   "cell_type": "code",
   "execution_count": null,
   "metadata": {},
   "outputs": [],
   "source": [
    "import numpy as np\n",
    "import random\n",
    "from NumfaFun import CreatePoblation,NumDBLF,create_Bin,NumDBLF\n",
    "from numba.typed import List as NumbaList\n",
    "from BPGen import UDLPROBLEM,PROBLEM4\n",
    "from numba import types, prange,njit,deferred_type\n",
    "from typing import List\n",
    "from collections import OrderedDict\n",
    "from numba.experimental import jitclass\n"
   ]
  },
  {
   "cell_type": "code",
   "execution_count": null,
   "metadata": {},
   "outputs": [],
   "source": [
    "specff = OrderedDict()\n",
    "specff['brightness'] = types.float64\n",
    "specff['position'] = types.ListType(types.int64)\n",
    "@jitclass(specff)\n",
    "class DFF:\n",
    "    def __init__(self,genome:List[int] ):\n",
    "         self.brightness = 0\n",
    "         self.position = genome\n",
    "ff_type = deferred_type()\n",
    "ff_type.define(DFF.class_type.instance_type)\n",
    "@njit\n",
    "def make_firefly(data:List[int]):\n",
    "    return DFF(data)\n"
   ]
  },
  {
   "cell_type": "code",
   "execution_count": null,
   "metadata": {},
   "outputs": [],
   "source": [
    "@njit(nogil=True)\n",
    "def CalcFi(gene:List[int], boxesData:List[List[int]], container:List[int])->float:\n",
    "    bin = create_Bin(NumbaList(container))\n",
    "    boxesData = NumbaList(boxesData)\n",
    "    gene = NumbaList(gene)\n",
    "    NumDBLF(bin,gene,boxesData)\n",
    "    resp = (bin.getLoadVol()/(container[0]*container[1]*container[2]))*bin.getN()\n",
    "    return resp"
   ]
  },
  {
   "cell_type": "code",
   "execution_count": null,
   "metadata": {},
   "outputs": [],
   "source": [
    "@njit\n",
    "def Hamming(ff1:DFF,ff2:DFF)->int:\n",
    "    count =0\n",
    "    n = len(ff1.position)\n",
    "    for i in np.arange(n):\n",
    "        if ff1.position[i] != ff2.position[i]:\n",
    "            count +=1\n",
    "    return count"
   ]
  },
  {
   "cell_type": "code",
   "execution_count": null,
   "metadata": {},
   "outputs": [],
   "source": [
    "@njit(nogil=True)\n",
    "def LightInt(f1:DFF,f2:DFF,ganna:float)->float:\n",
    "    d = Hamming(f1,f2)\n",
    "    return f1.brightness/(1+ganna*d*d)"
   ]
  },
  {
   "cell_type": "code",
   "execution_count": null,
   "metadata": {},
   "outputs": [],
   "source": [
    "@jitclass\n",
    "class DRandMovement(object):\n",
    "    def __init__(self):\n",
    "        pass\n",
    "    def InversionMut(self,fi_pos:List[int])->List[int]:\n",
    "        n = len(fi_pos)\n",
    "        step = int(n/3)\n",
    "        rn = random.randint(3,n-step)\n",
    "        tmp = fi_pos.copy\n",
    "        tmp= tmp[0:rn]+tmp[rn:rn+step][::-1]+tmp[rn+step:n]\n",
    "        return tmp\n",
    "    def AlphaFF(self,fi:DFF,alpha:int)->List[List[int]]:\n",
    "        newPositions = list()\n",
    "        for i in np.arange(alpha):\n",
    "            newPositions.append(self.InversionMut(fi.position))\n",
    "        return newPositions\n",
    "ranMov_type = deferred_type()\n",
    "ranMov_type.define(DRandMovement.class_type.instance_type)\n",
    "@njit\n",
    "def instanceRanMov():\n",
    "    return DRandMovement()"
   ]
  },
  {
   "cell_type": "code",
   "execution_count": null,
   "metadata": {},
   "outputs": [],
   "source": [
    "@njit(parallel=True)\n",
    "def InstanceFFn(pob:List[List[int]],boxesData:List[List[int]], container:List[int]):\n",
    "    lst = []\n",
    "    for i in np.arange(len(pob)):\n",
    "        ff = make_firefly(NumbaList(pob[i]))\n",
    "        ff.brightness = CalcFi(ff.position,boxesData,container)\n",
    "        lst.append(ff)\n",
    "    return lst"
   ]
  },
  {
   "cell_type": "code",
   "execution_count": null,
   "metadata": {},
   "outputs": [],
   "source": [
    "@njit(parallel=True)\n",
    "def RandomMov(firefly:DFF,alpha:int,DataBoxes:List[List[int]],BinData:List[int]):\n",
    "    AlphaStep(firefly,alpha) # n2\n",
    "    firefly.brightness = CalcFi(firefly.position,DataBoxes,BinData)"
   ]
  },
  {
   "cell_type": "code",
   "execution_count": null,
   "metadata": {},
   "outputs": [],
   "source": [
    "@njit(parallel=True) #n2 \n",
    "def BettaStep(f1:DFF,f2:DFF,gamma:float,hamming:int):\n",
    "    n = len(f1.position)\n",
    "    noneNumber = n\n",
    "    res = [-1 for i in np.arange(n) ]\n",
    "    visited =  [False for i in np.arange(n+1)]\n",
    "    for i in np.arange(n):\n",
    "        if f1.position[i] == f2.position[i]:\n",
    "            res[i] = f1.position[i]\n",
    "            noneNumber -=1 \n",
    "            visited[f1.position[i]]=True\n",
    "        else:\n",
    "            visited[res[i]]=False\n",
    "    betta = 1/(1+gamma*(hamming**2)) #probabilidad de que tanto ''ataree'' esto, porcentaje que se van a duplicar por cada ff\n",
    "    for i in np.arange(n):\n",
    "        if res[i] == -1:\n",
    "            pr = random.random()\n",
    "            if pr < betta:\n",
    "                for j in range(n):\n",
    "                    if not visited[f2.position[j]]:\n",
    "                        res[i]=f2.position[j]\n",
    "                        visited[f2.position[j]]=True\n",
    "                        break\n",
    "            else:\n",
    "                for j in range(n):\n",
    "                    if not visited[f1.position[j]]:\n",
    "                        res[i]=f1.position[j]\n",
    "                        visited[f1.position[j]]=True\n",
    "                        break\n",
    "    return res"
   ]
  },
  {
   "cell_type": "code",
   "execution_count": null,
   "metadata": {},
   "outputs": [],
   "source": [
    "@njit(parallel=True)\n",
    "def AlphaRandMov(firefly:DFF,alpha:int):\n",
    "    movement = instanceRanMov()\n",
    "    newFFs = movement.AlphaFF(firefly,alpha)\n",
    "    return newFFs"
   ]
  },
  {
   "cell_type": "code",
   "execution_count": null,
   "metadata": {},
   "outputs": [],
   "source": [
    "@njit(parallel=True)\n",
    "def AlphaStep(ff:DFF,alpha:int):\n",
    "    pos = ff.position.copy()\n",
    "    n = len(pos)\n",
    "    for i in np.arange(n):\n",
    "        tmp = pos[i]\n",
    "        pos[i] = round(pos[i] + alpha*(random.random()-0.5))\n",
    "        if pos[i] < 1:\n",
    "            pos[i] = 1\n",
    "        elif pos[i] > n:\n",
    "            pos[i]=n\n",
    "        for j in np.arange(n):\n",
    "            if i != j and pos[j]==pos[i]:\n",
    "                pos[j] = tmp\n",
    "                break\n",
    "    ff.position = NumbaList(pos)\n",
    "    "
   ]
  },
  {
   "cell_type": "code",
   "execution_count": null,
   "metadata": {},
   "outputs": [],
   "source": [
    "@njit\n",
    "def train(num_pop:int,gamma:float,Maxitr:int,DataBoxes:list[list[int]],BinData:list[int]):\n",
    "    n = len(DataBoxes)\n",
    "    IniPob = CreatePoblation(num_pop, DataBoxes)\n",
    "    fireflyPob:List[DFF] = InstanceFFn(NumbaList(IniPob),datos,contenedor)\n",
    "    for _ in np.arange(Maxitr):\n",
    "        alpha = np.floor(n-((_)/Maxitr)*(n))\n",
    "        fnum = len(fireflyPob)\n",
    "        for i in np.arange(fnum-1):\n",
    "            for j in np.arange(i+1,fnum):\n",
    "                Ii = LightInt(fireflyPob[i],fireflyPob[j],gamma)\n",
    "                Ij = LightInt(fireflyPob[j],fireflyPob[i],gamma) \n",
    "                if Ij < Ii:\n",
    "                    fireflyPob[j].position= NumbaList(BettaStep(fireflyPob[j],fireflyPob[i],gamma,Hamming(fireflyPob[j],fireflyPob[i])))\n",
    "                    RandomMov(fireflyPob[j],alpha,DataBoxes,BinData)\n",
    "        RandomMov(fireflyPob[0],alpha,DataBoxes,BinData)                   \n",
    "        fireflyPob.sort(key=lambda x:x.brightness,reverse=True)\n",
    "    print(fireflyPob[0].brightness/n,fireflyPob[0].position)\n",
    "    return fireflyPob[0]\n"
   ]
  },
  {
   "cell_type": "code",
   "execution_count": null,
   "metadata": {},
   "outputs": [],
   "source": [
    "@njit(parallel=True)\n",
    "def Train(Maxitr,fireflyPob,gamma):\n",
    "    fnum = len(fireflyPob)\n",
    "    for _ in np.arange(Maxitr):\n",
    "        alpha = np.floor(n-((_)/Maxitr)*(n))\n",
    "        for i in np.arange(fnum-1):\n",
    "            for j in prange(i+1,fnum):\n",
    "                dust = Hamming(fireflyPob[i],fireflyPob[j])\n",
    "                Ii = LightInt(fireflyPob[i],fireflyPob[j],gamma)\n",
    "                Ij = LightInt(fireflyPob[j],fireflyPob[i],gamma) \n",
    "                if Ij < Ii:\n",
    "                    fireflyPob[j].position= NumbaList( BettaStep( fireflyPob[j], fireflyPob[i], gamma, Hamming ( fireflyPob[j] , fireflyPob[i] ) ))\n",
    "                    RandomMov(fireflyPob[j],alpha,datos,contenedor)\n",
    "        RandomMov(fireflyPob[0],alpha,datos,contenedor)                   \n",
    "        fireflyPob.sort(key=lambda x:x.brightness,reverse=True)\n",
    "    return fireflyPob[0]"
   ]
  },
  {
   "cell_type": "code",
   "execution_count": null,
   "metadata": {},
   "outputs": [],
   "source": [
    "P4A2 = PROBLEM4[1]\n",
    "contenedor = UDLPROBLEM[\"UDL2\"][\"dimension\"]\n",
    "datos =UDLPROBLEM[\"UDL2\"][\"24boxes\"][2]"
   ]
  },
  {
   "cell_type": "code",
   "execution_count": null,
   "metadata": {},
   "outputs": [],
   "source": [
    "contenedor =np.asanyarray( P4A2[0],dtype=np.int64)\n",
    "datos =np.asanyarray(P4A2[1],dtype=np.int64)\n",
    "gamma=0.0004\n",
    "Maxitr = 500\n",
    "n = len(datos)"
   ]
  },
  {
   "cell_type": "code",
   "execution_count": null,
   "metadata": {},
   "outputs": [],
   "source": [
    "IniPob = CreatePoblation(50, datos)\n",
    "fireflyPob = InstanceFFn(NumbaList(IniPob),NumbaList(datos),NumbaList(contenedor))\n",
    "Train(1,NumbaList(fireflyPob),gamma)"
   ]
  },
  {
   "cell_type": "code",
   "execution_count": null,
   "metadata": {},
   "outputs": [],
   "source": [
    "bestff = Train(500,fireflyPob,gamma)"
   ]
  },
  {
   "cell_type": "code",
   "execution_count": null,
   "metadata": {},
   "outputs": [],
   "source": [
    "from Contenedor import Bin\n",
    "from PackingH import DBLF2\n",
    "bin = Bin(contenedor,len(datos))\n",
    "boxesData = datos\n",
    "DBLF2(bin,bestff.position,boxesData)\n",
    "print(bestff.position, bestff.brightness)\n",
    "print([item.id for item in bin.getBoxes()])\n",
    "print(bin._loaded_volume/np.prod(contenedor), bin.getN(), len(boxesData))"
   ]
  },
  {
   "cell_type": "code",
   "execution_count": null,
   "metadata": {},
   "outputs": [],
   "source": [
    "from DataLecture import ExpotarJSON\n",
    "\n",
    "ExpotarJSON(\"C:/Users/nicoo/BPP/Assets/bbp.json\",bin.getBoxes(),bin.dimensions)"
   ]
  },
  {
   "cell_type": "code",
   "execution_count": null,
   "metadata": {},
   "outputs": [],
   "source": []
  }
 ],
 "metadata": {
  "interpreter": {
   "hash": "6161e517c3d4b81215da96e8bcd392bc9974967b9dec3b65fc82e2786b592859"
  },
  "kernelspec": {
   "display_name": "Python 3.9.7 ('base')",
   "language": "python",
   "name": "python3"
  },
  "language_info": {
   "codemirror_mode": {
    "name": "ipython",
    "version": 3
   },
   "file_extension": ".py",
   "mimetype": "text/x-python",
   "name": "python",
   "nbconvert_exporter": "python",
   "pygments_lexer": "ipython3",
   "version": "3.9.7"
  },
  "orig_nbformat": 4
 },
 "nbformat": 4,
 "nbformat_minor": 2
}
