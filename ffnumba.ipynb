{
 "cells": [
  {
   "cell_type": "code",
   "execution_count": null,
   "metadata": {},
   "outputs": [],
   "source": [
    "import numpy as np\n",
    "import random\n",
    "from numba.typed import List as NumbaList\n",
    "from BPnumba.NumAG import InstancePob,TrainAG\n",
    "from BPmodule.BPGen  import PROBLEM2,PROBLEM3,PROBLEM4,PROBLEM5\n",
    "from BPnumba.NumFun import CreatePoblation\n",
    "from numba import types, prange,njit,deferred_type\n",
    "from typing import List\n",
    "from collections import OrderedDict\n",
    "from numba.experimental import jitclass\n",
    "from BPnumba.DFFAnumba import DFFtrain\n"
   ]
  },
  {
   "cell_type": "code",
   "execution_count": null,
   "metadata": {},
   "outputs": [],
   "source": [
    "P2A2 = PROBLEM2[1]\n",
    "#contenedor = UDLPROBLEM[\"UDL2\"][\"dimension\"]\n",
    "#datos =UDLPROBLEM[\"UDL2\"][\"24boxes\"][2]"
   ]
  },
  {
   "cell_type": "code",
   "execution_count": null,
   "metadata": {},
   "outputs": [],
   "source": [
    "contenedor =np.asanyarray( P2A2[0],dtype=np.int64)\n",
    "datos =np.asanyarray(P2A2[1],dtype=np.int64)\n",
    "gamma=0.0004\n",
    "Maxitr = 500\n",
    "n = len(datos)"
   ]
  },
  {
   "cell_type": "code",
   "execution_count": null,
   "metadata": {},
   "outputs": [],
   "source": [
    "IniPob = CreatePoblation(10, datos)\n",
    "fireflyPob = InstancePob(NumbaList(IniPob),NumbaList(datos),NumbaList(contenedor))\n",
    "DFFtrain(1,NumbaList(fireflyPob),gamma,datos,contenedor)"
   ]
  },
  {
   "cell_type": "code",
   "execution_count": 16,
   "metadata": {},
   "outputs": [],
   "source": [
    "IniPob = CreatePoblation(50, datos)\n",
    "fireflyPob = InstanceFFn(NumbaList(IniPob),NumbaList(datos),NumbaList(contenedor))\n",
    "bestff = Train(500,fireflyPob,gamma)"
   ]
  },
  {
   "cell_type": "code",
   "execution_count": null,
   "metadata": {},
   "outputs": [],
   "source": [
    "IniPob = CreatePoblation(50, datos)\n",
    "fireflyPob = InstanceFFn(NumbaList(IniPob),NumbaList(datos),NumbaList(contenedor))\n",
    "bestff = Train(500,fireflyPob,gamma)"
   ]
  },
  {
   "cell_type": "code",
   "execution_count": null,
   "metadata": {},
   "outputs": [],
   "source": []
  }
 ],
 "metadata": {
  "interpreter": {
   "hash": "6161e517c3d4b81215da96e8bcd392bc9974967b9dec3b65fc82e2786b592859"
  },
  "kernelspec": {
   "display_name": "Python 3.9.7 ('base')",
   "language": "python",
   "name": "python3"
  },
  "language_info": {
   "codemirror_mode": {
    "name": "ipython",
    "version": 3
   },
   "file_extension": ".py",
   "mimetype": "text/x-python",
   "name": "python",
   "nbconvert_exporter": "python",
   "pygments_lexer": "ipython3",
   "version": "3.9.7"
  },
  "orig_nbformat": 4
 },
 "nbformat": 4,
 "nbformat_minor": 2
}
