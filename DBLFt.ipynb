{
 "cells": [
  {
   "cell_type": "code",
   "execution_count": 19,
   "metadata": {},
   "outputs": [],
   "source": [
    "import numpy as np\n",
    "from BPmodule.BPGen import CreateData\n",
    "from BPnumba.GeneticOperators import CreateHeuristicPob,Ind\n",
    "from BPnumba.BPPH import DBLF2,create_Bin, Bin, Placement, Overlap, AddBox\n",
    "from numba import njit, objmode, prange\n",
    "import time\n",
    "from numba.typed import List as NumbaList\n",
    "from typing import List\n",
    "from BPmodule.DataLecture import ExpotarJSON,PossiblePositions\n",
    "from BPnumba.PqueueNumba import CreatePriorityQueue,PQVector,listP_type\n"
   ]
  },
  {
   "cell_type": "code",
   "execution_count": 28,
   "metadata": {},
   "outputs": [],
   "source": [
    "contenedor,data = CreateData(algorithm=2,problem=2)\n",
    "\n",
    "PATHBOX = \"C:/Users/nicoo/BPP/Assets/bpp.json\"\n",
    "PATHPOINT = \"C:/Users/nicoo/BPP/Assets/points.json\""
   ]
  },
  {
   "cell_type": "code",
   "execution_count": 16,
   "metadata": {},
   "outputs": [
    {
     "data": {
      "text/plain": [
       "25"
      ]
     },
     "execution_count": 16,
     "metadata": {},
     "output_type": "execute_result"
    }
   ],
   "source": [
    "datos = data[10]\n",
    "n = len(datos)\n",
    "sameInstance = CreateHeuristicPob(50,datos,True)\n",
    "n"
   ]
  },
  {
   "cell_type": "code",
   "execution_count": 37,
   "metadata": {},
   "outputs": [
    {
     "data": {
      "text/plain": [
       "ListType[int64]([3, 2, 5, 4, 10, 1, 8, 16, 14, 9, 12, 21, 13, 23, 25, 6, 11, 20, 7, 15, 17, 22, 24, 19, 18, ...])"
      ]
     },
     "execution_count": 37,
     "metadata": {},
     "output_type": "execute_result"
    }
   ],
   "source": [
    "ind = Ind(NumbaList(sameInstance[0]))\n",
    "ind.genome"
   ]
  },
  {
   "cell_type": "code",
   "execution_count": 45,
   "metadata": {},
   "outputs": [],
   "source": [
    "@njit\n",
    "def DBLF(bin:Bin, itemsToPack:List[int], BoxesData:List[List[int]], maxIter:int=0):\n",
    "    lstP = CreatePriorityQueue(NumbaList([0,2,1]))\n",
    "    lstP.push(NumbaList([0,0,0]))\n",
    "    for i in np.arange(len(itemsToPack)):\n",
    "        for j in np.arange(lstP.size()):\n",
    "            pt = lstP.getPt(j)\n",
    "            boxID = itemsToPack[i]\n",
    "            itemV = BoxesData[boxID-1]\n",
    "            if  Placement(bin.dimensions,NumbaList([pt[0]+itemV[0],pt[1]+itemV[1],pt[2]+itemV[2]])):\n",
    "                overlap = Overlap(pt,boxID,BoxesData, bin.getBoxes(),bin.getPositions())\n",
    "                if not overlap:\n",
    "                    lstP.delPt(j)\n",
    "                    AddBox(lstP,bin,pt,boxID,itemV,BoxesData)           \n",
    "                    break\n",
    "        if i == maxIter:\n",
    "            break\n",
    "    print(lstP.ToList())\n",
    "    with objmode():\n",
    "        PossiblePositions(PATHPOINT,lstP.ToList())"
   ]
  },
  {
   "cell_type": "code",
   "execution_count": 53,
   "metadata": {},
   "outputs": [
    {
     "name": "stdout",
     "output_type": "stream",
     "text": [
      "[[0, 38, 42, ...], [0, 47, 45, ...], [0, 0, 47, ...], [35, 19, 45, ...], ...]\n",
      "0.91648\n",
      "5 [3, 2, 5, 4, 10, ...]\n"
     ]
    }
   ],
   "source": [
    "bin = create_Bin(NumbaList(contenedor))\n",
    "DBLF(bin,ind.genome,datos,4)\n",
    "print(bin.getLoadVol()/np.prod(contenedor))\n",
    "print(bin.getN(),bin.getBoxes())\n",
    "ExpotarJSON(PATHBOX,bin.getPositions(),bin.getBoxes(),datos,contenedor)"
   ]
  },
  {
   "cell_type": "code",
   "execution_count": 40,
   "metadata": {},
   "outputs": [],
   "source": [
    "\n"
   ]
  },
  {
   "cell_type": "code",
   "execution_count": null,
   "metadata": {},
   "outputs": [],
   "source": []
  }
 ],
 "metadata": {
  "kernelspec": {
   "display_name": "Python 3.9.12 ('base')",
   "language": "python",
   "name": "python3"
  },
  "language_info": {
   "codemirror_mode": {
    "name": "ipython",
    "version": 3
   },
   "file_extension": ".py",
   "mimetype": "text/x-python",
   "name": "python",
   "nbconvert_exporter": "python",
   "pygments_lexer": "ipython3",
   "version": "3.9.12"
  },
  "orig_nbformat": 4,
  "vscode": {
   "interpreter": {
    "hash": "c9548d78abac3d9c949fbd3fd187a460132993a1944635464947e6b8db26d483"
   }
  }
 },
 "nbformat": 4,
 "nbformat_minor": 2
}
