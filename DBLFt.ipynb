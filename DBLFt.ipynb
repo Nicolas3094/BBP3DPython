{
 "cells": [
  {
   "cell_type": "code",
   "execution_count": 2,
   "metadata": {},
   "outputs": [],
   "source": [
    "import numpy as np\n",
    "from BPnumba.Individual import Ind,CalcFi,create_intidivual,createR_intidivual\n",
    "from BPnumba.BPPH import create_Bin,DBLF\n",
    "from BPmodule.BPGen import GetInstance\n",
    "from BPnumba.AGH import GASearch\n",
    "import matplotlib.pyplot as plt\n",
    "from numba import types, njit,int64,jit,cuda,prange,vectorize\n",
    "from numba.typed import List as NumbaList\n",
    "from BPnumba.Poblation import CreateRotHPob,EvalPob,SortPoblationCode\n",
    "from BPnumba.BoxN import create_ItemBin,ItemBin,InstaceBoxes\n",
    "from BPnumba.GeneticOperators import CrossOX,MutateInversion,RepairRan\n",
    "import math\n",
    "from BPmodule.DataLecture import ExpotarJSON,PossiblePositions"
   ]
  },
  {
   "cell_type": "code",
   "execution_count": 4,
   "metadata": {},
   "outputs": [
    {
     "data": {
      "text/plain": [
       "<numba.cuda.cudadrv.devices._DeviceList at 0x1f68c529f70>"
      ]
     },
     "execution_count": 4,
     "metadata": {},
     "output_type": "execute_result"
    }
   ],
   "source": [
    "cuda.cudadrv.devices.gpus"
   ]
  },
  {
   "cell_type": "code",
   "execution_count": 25,
   "metadata": {},
   "outputs": [
    {
     "name": "stderr",
     "output_type": "stream",
     "text": [
      "a:\\Documents\\python\\BPP3D\\BPmodule\\BPGen.py:405: VisibleDeprecationWarning: Creating an ndarray from ragged nested sequences (which is a list-or-tuple of lists-or-tuples-or ndarrays with different lengths or shapes) is deprecated. If you meant to do this, you must specify 'dtype=object' when creating the ndarray.\n",
      "  bx= np.array(totalboxes)\n"
     ]
    }
   ],
   "source": [
    "BR1 = GetInstance(\"BR1\")"
   ]
  },
  {
   "cell_type": "code",
   "execution_count": 26,
   "metadata": {},
   "outputs": [],
   "source": [
    "UBOXES = InstaceBoxes(BR1[1][0])"
   ]
  },
  {
   "cell_type": "code",
   "execution_count": 27,
   "metadata": {},
   "outputs": [],
   "source": [
    "rot=6\n",
    "Pob = CreateRotHPob(pop =10, ITEMS = UBOXES.copy(), rotType=rot)"
   ]
  },
  {
   "cell_type": "code",
   "execution_count": 28,
   "metadata": {},
   "outputs": [],
   "source": [
    "ind=Pob[5]"
   ]
  },
  {
   "cell_type": "code",
   "execution_count": 29,
   "metadata": {},
   "outputs": [],
   "source": [
    "#gen = np.array([3, 9, 4, 15, 5, 13, 17, 17, 14, 11, 1, 2, 8, 16, 16, 10, 18, 18, 12, 6, 6, 7, 7, 7, 7],dtype=np.int64)\n",
    "#genrot = np.array([5, 5, 2, 4, 2, 3, 4, 1, 5, 3, 1, 2, 3, 0, 4, 1, 4, 2, 4, 0, 5, 2, 0, 0, 1],dtype=np.int64)"
   ]
  },
  {
   "cell_type": "code",
   "execution_count": 30,
   "metadata": {},
   "outputs": [],
   "source": [
    "#ind = createR_intidivual(NumbaList(gen),genrot)"
   ]
  },
  {
   "cell_type": "code",
   "execution_count": 31,
   "metadata": {},
   "outputs": [
    {
     "data": {
      "text/plain": [
       "(ListType[int64]([3, 2, 3, 1, 2, 1, 1, 3, 3, 2, 2, 1, 1, 3, 2, 3, 1, 3, 3, 2, 2, 2, 2, 1, 3, 3, 2, 1, 1, 3, 1, 1, 1, 2, 3, 2, 3, 2, 2, 1, 3, 3, 3, 2, 1, 1, 3, 1, 3, 1, 1, 2, 2, 2, 2, 2, 3, 3, 3, 2, 3, 1, 1, 1, 3, 2, 2, 3, 2, 3, 2, 3, 1, 3, 1, 3, 1, 2, 2, 1, 3, 2, 3, 2, 3, 1, 1, 2, 1, 2, 2, 1, 1, 1, 3, 2, 3, 1, 1, 3, 2, 3, 2, 1, 3, 2, 1, 2, 1, 1, 2, 1, 3, 2, 3, 3, 1, 3, 1, 2, 1, 1, 3, 3, 3, 1, 2, 1, 3, 2, 2, 1, 1, 3, 2, 3, 3, 2, 2, 2, 2, 2, 3, 2, 2, 3, 3, 3, 3, 3, 1, 2, 1, 1, 2, 3, 2, 1, 1, 2, 1, 1, 2, 3, 3, 1, 1, 3, 1, 2, 2, 3, 3, 3, 1, 3, 2, 3, 3, 3, 3, 1, 3, 3, 3, 2, 1, 2, 3, 1, 3, 1, 1, 3, 1, 2, 1, 3, 3, 3, 3, 1, 3, 2, 1, 2, 1, 3, 3, 1, 1, 2, 2, 1, 1, 1, 2, 2, 1, 2, 2, 3, 2, 1, 1, 2, 3, 1, 3, 3, 2, 2, 2, 1, 3, 1, 1, 1, 1, 2, 3, 3, 3, 1, 1, 1, 1, 3, 1, 3, 3, 3, 1, 2, 1, 1, 3, 2, 1, 2, 2, 3, 1, 3, 2, 1, 3, 3, 2, 2, 3, 3, 1, 2, 3, 3, 3, 1, 3, 3, 1, 2, 3, 1, 1, 3, 2, 1, 1, 3, 2, 1, 1, 2, 1, 1, 2, 2, 3, 2, 1, 3, 1, 1, 3, 2, 1, 3, 1, 3, ...]),\n",
       " ListType[int64]([0, 0, 1, 0, 1, 0, 0, 1, 0, 2, 1, 0, 2, 2, 1, 0, 0, 4, 1, 5, 2, 5, 1, 2, 2, 2, 3, 2, 2, 0, 0, 2, 2, 1, 1, 3, 4, 2, 3, 0, 4, 2, 0, 5, 2, 0, 2, 2, 4, 2, 0, 5, 3, 3, 4, 3, 0, 1, 2, 5, 4, 2, 2, 2, 0, 0, 3, 2, 3, 0, 0, 0, 2, 4, 0, 4, 0, 1, 1, 2, 2, 2, 0, 2, 2, 0, 2, 0, 0, 1, 2, 2, 0, 0, 0, 2, 2, 2, 0, 4, 0, 4, 0, 0, 1, 3, 2, 1, 2, 0, 1, 0, 0, 5, 2, 1, 2, 4, 2, 1, 0, 2, 0, 0, 1, 2, 3, 0, 2, 2, 4, 2, 2, 0, 4, 1, 4, 5, 1, 0, 3, 3, 2, 3, 0, 4, 4, 2, 2, 4, 2, 4, 0, 0, 2, 0, 0, 2, 0, 4, 2, 2, 4, 4, 1, 2, 0, 0, 0, 3, 4, 1, 0, 1, 2, 4, 5, 2, 0, 0, 4, 2, 1, 0, 4, 5, 2, 2, 4, 2, 4, 2, 2, 2, 2, 5, 0, 0, 0, 2, 4, 0, 2, 3, 0, 2, 0, 0, 2, 0, 2, 3, 5, 2, 2, 0, 3, 4, 0, 3, 1, 1, 0, 0, 0, 5, 0, 2, 2, 0, 5, 2, 5, 0, 2, 2, 2, 2, 2, 3, 2, 2, 0, 0, 0, 2, 2, 2, 0, 1, 1, 0, 0, 5, 2, 0, 1, 2, 2, 5, 0, 4, 0, 0, 1, 0, 2, 2, 2, 1, 4, 4, 0, 4, 0, 4, 0, 0, 2, 0, 0, 5, 0, 2, 0, 2, 2, 2, 0, 2, 0, 0, 0, 1, 2, 0, 1, 1, 1, 0, 2, 2, 2, 2, 1, 1, 0, 1, 2, 1, ...]))"
      ]
     },
     "execution_count": 31,
     "metadata": {},
     "output_type": "execute_result"
    }
   ],
   "source": [
    "ind.genome,ind.genome_r"
   ]
  },
  {
   "cell_type": "code",
   "execution_count": 32,
   "metadata": {},
   "outputs": [],
   "source": [
    "RepairRan(ind)"
   ]
  },
  {
   "cell_type": "code",
   "execution_count": 33,
   "metadata": {},
   "outputs": [
    {
     "data": {
      "text/plain": [
       "(ListType[int64]([1, 1, 1, 1, 1, 1, 1, 1, 1, 1, 1, 1, 1, 1, 1, 1, 1, 1, 1, 1, 1, 1, 1, 1, 1, 1, 1, 1, 1, 1, 1, 1, 1, 1, 1, 1, 1, 1, 1, 1, 1, 1, 1, 1, 2, 2, 2, 2, 2, 2, 2, 2, 2, 2, 2, 2, 2, 2, 2, 2, 2, 2, 2, 2, 2, 2, 2, 2, 2, 2, 2, 2, 2, 2, 2, 2, 2, 2, 2, 2, 2, 2, 2, 2, 2, 2, 2, 3, 3, 3, 3, 3, 3, 3, 3, 3, 3, 3, 3, 3, 3, 3, 3, 3, 3, 3, 3, 3, 3, 3, 3, 3, 3, 3, 3, 3, 3, 3, 3, 3, 3, 3, 3, 3, 3, 3, 3, 3, 3, 3, 3, 1, 1, 1, 1, 1, 1, 1, 1, 1, 1, 1, 1, 1, 1, 1, 1, 1, 1, 1, 1, 1, 1, 1, 1, 1, 1, 1, 1, 1, 1, 1, 1, 2, 2, 2, 2, 2, 2, 2, 2, 2, 2, 2, 2, 2, 2, 2, 2, 2, 2, 2, 2, 2, 2, 2, 2, 2, 2, 2, 2, 2, 2, 3, 3, 3, 3, 3, 3, 3, 3, 3, 3, 3, 3, 3, 3, 3, 3, 3, 3, 3, 3, 3, 3, 3, 3, 3, 3, 3, 3, 3, 3, 3, 3, 3, 3, 3, 3, 3, 3, 1, 1, 1, 1, 1, 1, 1, 1, 1, 1, 1, 1, 1, 1, 1, 1, 1, 1, 1, 1, 1, 1, 1, 1, 1, 1, 1, 2, 2, 2, 2, 2, 2, 2, 2, 2, 2, 2, 2, 2, 2, 2, 3, 3, 3, 3, 3, 3, 3, 3, 3, 3, 3, 3, 3, 3, 3, 3, 3, 3, 3, 3, 3, 3, 3, 1, 1, 1, 1, 1, 2, 2, 2, 2, 3, 3, 3, 3, 3, ...]),\n",
       " ListType[int64]([0, 0, 0, 0, 0, 0, 0, 0, 0, 0, 0, 0, 0, 0, 0, 0, 0, 0, 0, 0, 0, 2, 2, 2, 2, 2, 2, 2, 2, 2, 2, 2, 2, 2, 2, 2, 2, 2, 2, 2, 2, 2, 2, 2, 0, 0, 0, 0, 0, 0, 1, 1, 1, 1, 1, 1, 1, 1, 1, 1, 1, 2, 2, 2, 2, 2, 2, 2, 2, 3, 3, 3, 3, 3, 3, 3, 3, 3, 3, 4, 4, 5, 5, 5, 5, 5, 5, 0, 0, 0, 0, 0, 0, 0, 0, 0, 0, 0, 0, 0, 0, 1, 1, 1, 1, 1, 1, 1, 1, 2, 2, 2, 2, 2, 2, 2, 2, 2, 2, 2, 2, 4, 4, 4, 4, 4, 4, 4, 4, 4, 4, 0, 0, 0, 0, 0, 0, 0, 0, 0, 0, 0, 0, 0, 0, 2, 2, 2, 2, 2, 2, 2, 2, 2, 2, 2, 2, 2, 2, 2, 2, 2, 2, 0, 0, 0, 0, 1, 1, 2, 2, 2, 3, 3, 3, 3, 3, 3, 3, 3, 4, 4, 4, 4, 4, 4, 5, 5, 5, 5, 5, 5, 5, 0, 0, 0, 0, 0, 0, 0, 0, 0, 0, 0, 0, 1, 1, 1, 1, 1, 1, 2, 2, 2, 2, 2, 2, 2, 2, 2, 4, 4, 4, 4, 4, 4, 4, 4, 4, 4, 4, 0, 0, 0, 0, 0, 0, 0, 0, 0, 0, 0, 0, 0, 0, 0, 0, 2, 2, 2, 2, 2, 2, 2, 2, 2, 2, 2, 0, 0, 1, 1, 1, 2, 2, 2, 2, 3, 4, 5, 5, 5, 5, 0, 0, 0, 0, 0, 0, 0, 1, 1, 1, 2, 2, 2, 2, 2, 2, 2, 2, 2, 4, 4, 4, 4, 0, 2, 2, 2, 2, 0, 1, 1, 1, 1, 1, 1, 2, 1, ...]))"
      ]
     },
     "execution_count": 33,
     "metadata": {},
     "output_type": "execute_result"
    }
   ],
   "source": [
    "ind.genome,ind.genome_r"
   ]
  },
  {
   "cell_type": "code",
   "execution_count": 34,
   "metadata": {},
   "outputs": [
    {
     "data": {
      "text/plain": [
       "(1, 0)"
      ]
     },
     "execution_count": 34,
     "metadata": {},
     "output_type": "execute_result"
    }
   ],
   "source": [
    "ind.genome[5],ind.genome_r[5]"
   ]
  },
  {
   "cell_type": "code",
   "execution_count": 35,
   "metadata": {},
   "outputs": [],
   "source": [
    "bin = create_Bin(NumbaList(BR1[0])) # Insrancio Contenedor"
   ]
  },
  {
   "cell_type": "code",
   "execution_count": 36,
   "metadata": {},
   "outputs": [],
   "source": [
    "DBLF(\n",
    "        bin = bin, \n",
    "        itemsToPack= ind.genome,\n",
    "        itemsRor= ind.genome_r,\n",
    "        BoxesData = UBOXES.copy(),\n",
    "        wayRotation=rot\n",
    "        ) #Implementa heuristica"
   ]
  },
  {
   "cell_type": "code",
   "execution_count": 37,
   "metadata": {},
   "outputs": [
    {
     "data": {
      "text/plain": [
       "0.7451734186074799"
      ]
     },
     "execution_count": 37,
     "metadata": {},
     "output_type": "execute_result"
    }
   ],
   "source": [
    "bin.getLoadVol()/(bin.dimensions[0]*bin.dimensions[1]*bin.dimensions[2])"
   ]
  },
  {
   "cell_type": "code",
   "execution_count": 38,
   "metadata": {},
   "outputs": [
    {
     "data": {
      "text/plain": [
       "(ListType[int64]([1, 1, 1, 1, 1, 1, 1, 1, 1, 1, 1, 1, 1, 1, 1, 1, 1, 1, 1, 1, 1, 1, 1, 1, 1, 1, 1, 1, 1, 1, 1, 1, 1, 1, 1, 1, 1, 1, 1, 1, 1, 1, 1, 1, 2, 2, 2, 2, 2, 2, 2, 2, 2, 2, 2, 2, 2, 2, 2, 2, 2, 2, 2, 2, 2, 2, 2, 2, 2, 2, 2, 3, 3, 3, 3, 3, 3, 3, 3, 3, 3, 3, 3, 3, 3, 3, 3, 3, 3, 3, 3, 3, 3, 3, 3, 3, 3, 3, 3, 3, 3, 3, 3, 3, 3, 3, 3, 3, 3, 3, 3, 3, 3, 3, 3, 1, 1, 1, 1, 1, 1, 1, 1, 1, 1, 1, 1, 1, 1, 1, 1, 1, 1, 1, 1, 1, 1, 1, 1, 1, 1, 1, 1, 1, 1, 1, 1, 2, 2, 2, 2, 2, 2, 2, 2, 2, 2, 2, 2, 2, 2, 2, 3, 3, 3, 3, 3, 3, 3, 3, 3, 3, 3, 3, 3, 3, 3, 3, 3, 3, 3, 3, 3, 3, 3, 3, 3, 3, 3, 3, 3, 1, 1, 1, 1, 1, 1, 1, 1, 1, 2, 2, 2, 2, 2, 2, 2, 2, 2, 2, 2, 2, 2, 2, ...]),\n",
       " ListType[int64]([0, 0, 0, 0, 0, 0, 0, 0, 0, 0, 0, 0, 0, 0, 0, 0, 0, 0, 0, 0, 0, 2, 2, 2, 2, 2, 2, 2, 2, 2, 2, 2, 2, 2, 2, 2, 2, 2, 2, 2, 2, 2, 2, 2, 0, 0, 0, 0, 0, 0, 1, 1, 1, 1, 1, 1, 1, 1, 1, 1, 1, 2, 2, 2, 2, 2, 2, 2, 2, 4, 4, 0, 0, 0, 0, 0, 0, 0, 0, 0, 0, 0, 0, 0, 0, 1, 1, 1, 1, 1, 1, 1, 1, 2, 2, 2, 2, 2, 2, 2, 2, 2, 2, 2, 2, 4, 4, 4, 4, 4, 4, 4, 4, 4, 4, 0, 0, 0, 0, 0, 0, 0, 0, 0, 0, 0, 0, 0, 0, 2, 2, 2, 2, 2, 2, 2, 2, 2, 2, 2, 2, 2, 2, 2, 2, 2, 2, 0, 0, 0, 0, 1, 1, 2, 2, 2, 4, 4, 4, 4, 4, 4, 0, 0, 0, 0, 0, 0, 0, 0, 0, 0, 0, 0, 1, 1, 1, 1, 1, 1, 2, 2, 2, 2, 2, 2, 2, 2, 2, 4, 4, 0, 0, 0, 0, 0, 0, 2, 2, 2, 0, 0, 1, 1, 1, 2, 2, 2, 2, 4, 0, 1, 1, 1, ...]),\n",
       " 214)"
      ]
     },
     "execution_count": 38,
     "metadata": {},
     "output_type": "execute_result"
    }
   ],
   "source": [
    "bin.getBoxes(),bin.getRot(),bin.getN()"
   ]
  },
  {
   "cell_type": "code",
   "execution_count": 39,
   "metadata": {},
   "outputs": [
    {
     "name": "stdout",
     "output_type": "stream",
     "text": [
      "Done!\n"
     ]
    }
   ],
   "source": [
    "path=r\"A:/Documents/Unity/BPP/Assets/bpp.json\"\n",
    "path2=r\"A:/Documents/Unity/BPP/Assets/points.json\"\n",
    "ExpotarJSON(path=path,rot=rot,Cont=bin,Data=UBOXES)\n",
    "PossiblePositions(path=path2,positions=bin.extrapts)"
   ]
  }
 ],
 "metadata": {
  "kernelspec": {
   "display_name": "Python 3.9.12 ('base')",
   "language": "python",
   "name": "python3"
  },
  "language_info": {
   "codemirror_mode": {
    "name": "ipython",
    "version": 3
   },
   "file_extension": ".py",
   "mimetype": "text/x-python",
   "name": "python",
   "nbconvert_exporter": "python",
   "pygments_lexer": "ipython3",
   "version": "3.9.12"
  },
  "orig_nbformat": 4,
  "vscode": {
   "interpreter": {
    "hash": "c9548d78abac3d9c949fbd3fd187a460132993a1944635464947e6b8db26d483"
   }
  }
 },
 "nbformat": 4,
 "nbformat_minor": 2
}
