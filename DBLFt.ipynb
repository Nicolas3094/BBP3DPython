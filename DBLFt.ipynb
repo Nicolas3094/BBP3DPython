{
 "cells": [
  {
   "cell_type": "code",
   "execution_count": 152,
   "metadata": {},
   "outputs": [],
   "source": [
    "from BPnumba.Individual import Ind,CodeSolution\n",
    "from BPnumba.BPPH import create_Bin,DBLF,Bin\n",
    "from BPnumba.Poblation import EvalPob\n",
    "from BPmodule.BPGen import GetInstance\n",
    "from BPnumba.Poblation import CreateRotHPob\n",
    "from BPnumba.BoxN import InstaceBoxes\n",
    "from numba.typed import List as NumbaList\n",
    "import time\n"
   ]
  },
  {
   "cell_type": "code",
   "execution_count": 160,
   "metadata": {},
   "outputs": [],
   "source": [
    "P5A2 = GetInstance(\"P5A2\")\n",
    "UBOXES = InstaceBoxes(P5A2[1][10])\n",
    "rot = 0\n",
    "Pob = CreateRotHPob(pop =100, ITEMS = UBOXES.copy(), rotType = rot)\n",
    "bin : Bin  = create_Bin(NumbaList(P5A2[0]))"
   ]
  },
  {
   "cell_type": "code",
   "execution_count": 161,
   "metadata": {},
   "outputs": [
    {
     "name": "stdout",
     "output_type": "stream",
     "text": [
      "--- 16.14203453063965 seconds ---\n"
     ]
    }
   ],
   "source": [
    "start_time = time.time()\n",
    "EvalPob(Pob, UBOXES,NumbaList(P5A2[0]), rot)\n",
    "print(\"--- %s seconds ---\" % (time.time() - start_time))"
   ]
  },
  {
   "cell_type": "code",
   "execution_count": 162,
   "metadata": {},
   "outputs": [],
   "source": [
    "ind:Ind =Pob[99]\n"
   ]
  },
  {
   "cell_type": "code",
   "execution_count": 163,
   "metadata": {},
   "outputs": [
    {
     "data": {
      "text/plain": [
       "(0.7113988888888889,\n",
       " ListType[int64]([64, 112, 1, 41, 33, 67, 54, 3, 75, 79, 58, 87, 61, 98, 18, 70, 52, 55, 69, 86, 32, 141, 72, 24, 37, 120, 96, 9, 113, 130, 89, 139, 78, 91, 39, 93, 42, 63, 142, 140, 20, 46, 150, 102, 143, 126, 114, 57, 81, 12, 108, 6, 23, 25, 34, 35, 105, 115, 137, 26, 13, 4, 103, 74, 84, 128, 80, 135, 30, 31, 121, 148, 97, 127, 118, 53, 132, 38, 110, 124, 8, 21, 66, 40, 82, 83, 145, 133, 14, 131, 77, 43, 5, 76, 125, 27, 29, 59, 111, 51, 7, 106, 129, 122, 94, 144, 147, 151, 123, 28, 22, 47, 48, 100, 68, 117, 19, 71, 90, 107, 104, 17, 49, 101, 73, 60, 138, 95, 62, 109, 134, 88, 16, 146, 119, 11, 15, 65, 50, 136, 2, 36, 56, 45, 116, 149, 85, 44, 10, 99, 92, ...]),\n",
       " ListType[int64]([0, 0, 0, 0, 0, 0, 0, 0, 0, 0, 0, 0, 0, 0, 0, 0, 0, 0, 0, 0, 0, 0, 0, 0, 0, 0, 0, 0, 0, 0, 0, 0, 0, 0, 0, 0, 0, 0, 0, 0, 0, 0, 0, 0, 0, 0, 0, 0, 0, 0, 0, 0, 0, 0, 0, 0, 0, 0, 0, 0, 0, 0, 0, 0, 0, 0, 0, 0, 0, 0, 0, 0, 0, 0, 0, 0, 0, 0, 0, 0, 0, 0, 0, 0, 0, 0, 0, 0, 0, 0, 0, 0, 0, 0, 0, 0, 0, 0, 0, 0, 0, 0, 0, 0, 0, 0, 0, 0, 0, 0, 0, 0, 0, 0, 0, 0, 0, 0, 0, 0, 0, 0, 0, 0, 0, 0, 0, 0, 0, 0, 0, 0, 0, 0, 0, 0, 0, 0, 0, 0, 0, 0, 0, 0, 0, 0, 0, 0, 0, 0, 0, ...]))"
      ]
     },
     "execution_count": 163,
     "metadata": {},
     "output_type": "execute_result"
    }
   ],
   "source": [
    "ind.fi, ind.genome, ind.genome_r"
   ]
  },
  {
   "cell_type": "code",
   "execution_count": 164,
   "metadata": {},
   "outputs": [
    {
     "data": {
      "text/plain": [
       "(0.0, '|')"
      ]
     },
     "execution_count": 164,
     "metadata": {},
     "output_type": "execute_result"
    }
   ],
   "source": [
    "ind.fi = bin.getLoadVol() / (bin.dimensions[0]*bin.dimensions[1]*bin.dimensions[2])\n",
    "ind.codeSolution = CodeSolution(bin.getBoxes())\n",
    "ind.fi, ind.codeSolution "
   ]
  },
  {
   "cell_type": "code",
   "execution_count": 165,
   "metadata": {},
   "outputs": [
    {
     "data": {
      "text/plain": [
       "(0, 27000000)"
      ]
     },
     "execution_count": 165,
     "metadata": {},
     "output_type": "execute_result"
    }
   ],
   "source": [
    "bin.getLoadVol() , bin.dimensions[0]*bin.dimensions[1]*bin.dimensions[2]"
   ]
  },
  {
   "cell_type": "code",
   "execution_count": 166,
   "metadata": {},
   "outputs": [],
   "source": [
    "#path=r\"A:/Documents/Unity/BPP/Assets/bpp.json\"\n",
    "#path2=r\"A:/Documents/Unity/BPP/Assets/points.json\"\n",
    "#ExpotarJSON(path=path,rot=rot,Cont=bin,Data=UBOXES)\n",
    "#PossiblePositions(path=path2,positions=bin.extrapts)"
   ]
  },
  {
   "cell_type": "code",
   "execution_count": 170,
   "metadata": {},
   "outputs": [
    {
     "data": {
      "text/plain": [
       "[12]"
      ]
     },
     "execution_count": 170,
     "metadata": {},
     "output_type": "execute_result"
    }
   ],
   "source": [
    "gen = [12,5,13,4,6,7,1,2]\n",
    "\n",
    "gen[:1]"
   ]
  },
  {
   "cell_type": "code",
   "execution_count": null,
   "metadata": {},
   "outputs": [],
   "source": []
  }
 ],
 "metadata": {
  "kernelspec": {
   "display_name": "Python 3.9.12 ('base')",
   "language": "python",
   "name": "python3"
  },
  "language_info": {
   "codemirror_mode": {
    "name": "ipython",
    "version": 3
   },
   "file_extension": ".py",
   "mimetype": "text/x-python",
   "name": "python",
   "nbconvert_exporter": "python",
   "pygments_lexer": "ipython3",
   "version": "3.10.9"
  },
  "orig_nbformat": 4,
  "vscode": {
   "interpreter": {
    "hash": "c9548d78abac3d9c949fbd3fd187a460132993a1944635464947e6b8db26d483"
   }
  }
 },
 "nbformat": 4,
 "nbformat_minor": 2
}
