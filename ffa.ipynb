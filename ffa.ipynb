{
 "cells": [
  {
   "cell_type": "code",
   "execution_count": 1,
   "metadata": {},
   "outputs": [],
   "source": [
    "import numpy as np\n",
    "import random\n",
    "from Contenedor import RandomPoblation,Bin\n",
    "from BPGen import UDLPROBLEM\n",
    "from PackingH import DBLF2,DBLF\n",
    "import time\n"
   ]
  },
  {
   "cell_type": "code",
   "execution_count": 2,
   "metadata": {},
   "outputs": [],
   "source": [
    "class Problem:\n",
    "    def __init__(self, problem:list, id:int, algorithm:int):\n",
    "        self.problem = problem\n",
    "        self.id =id\n",
    "        self.algorithm  = algorithm"
   ]
  },
  {
   "cell_type": "code",
   "execution_count": 3,
   "metadata": {},
   "outputs": [],
   "source": [
    "def CalculateFi(pobl:list,boxes:list[list[int]],cont:list[int])->list[list[float,list[int]]]:\n",
    "    ffs=[]\n",
    "    for ff in pobl:\n",
    "        bin=Bin(cont,len(boxes))\n",
    "        DBLF2(bin=bin,itemsToPack= ff,ITEMSDATA= boxes)\n",
    "        fi =(bin.getLoadVol()/np.prod(cont))**bin.getN()\n",
    "        ffs.append([fi,ff])\n",
    "    return ffs\n",
    "def SingleFi(firefly:list[float,list[int]],boxes,cont):\n",
    "    bin=Bin(cont,len(boxes))\n",
    "    DBLF2(bin,firefly[1],boxes)\n",
    "    fi = (bin.getLoadVol()/np.prod(cont))*bin.getN()\n",
    "    firefly[0] = fi\n"
   ]
  },
  {
   "cell_type": "code",
   "execution_count": 4,
   "metadata": {},
   "outputs": [],
   "source": [
    "class DFFA:\n",
    "    def __init__(self):\n",
    "        self.pob:list[list[int]] = None\n",
    "    def CreatPoblation(self,num_pop:int,discrete_data:list):\n",
    "        self.pob =RandomPoblation(num_pop, np.array(discrete_data))\n",
    "    def Hamming(self,f1,f2):\n",
    "        count =0\n",
    "        n = len(f1)\n",
    "        for i in np.arange(n):\n",
    "            if f1[i] != f2[i]:\n",
    "                count +=1\n",
    "        return count\n",
    "    def Intensity(self,f1:list[float,list[int]],f2:list[float,list[int]],gamma:float):\n",
    "        if f1 == f2:\n",
    "            return f1[0]\n",
    "        dist = self.Hamming(f1[1],f2[1])\n",
    "        return f1[0]/(1+gamma*(dist**2))\n",
    "    def BettaStep(self,f1:list[int],f2:list[int],gamma:float)->list[int]:\n",
    "        n = len(f1)\n",
    "        res = [None for i in np.arange(n) ]\n",
    "        visit = [False for i in np.arange(n+1)]\n",
    "        noneNumber = n\n",
    "        for i in np.arange(n):\n",
    "            if f1[i] == f2[i]:\n",
    "                res[i] = f1[i]\n",
    "                visit[f1[i]] = True\n",
    "        betta = 1/(1+gamma*(self.Hamming(f1,f2)**2))\n",
    "        for i in np.arange(n):\n",
    "            if noneNumber == 0:\n",
    "                break\n",
    "            if res[i] is None:\n",
    "                pr = random.random()\n",
    "                if pr < betta:\n",
    "                    for j in range(n):\n",
    "                        if not visit[f2[j]]:\n",
    "                            res[i]=f2[j]\n",
    "                            visit[f2[j]]=True\n",
    "                            break\n",
    "                else:\n",
    "                     for j in range(n):\n",
    "                        if not visit[f1[j]]:\n",
    "                            res[i]=f1[j]\n",
    "                            visit[f1[j]]=True\n",
    "                            break\n",
    "        return res\n",
    "    def alphaStep(self,alpha:float,fi:list[int])->None:\n",
    "        n = len(fi)\n",
    "        for i in np.arange(n):\n",
    "            prev = fi[i]\n",
    "            num = round(fi[i]+alpha*(random.random()-0.5))\n",
    "            if num < 1:\n",
    "                num=1\n",
    "            elif n < num:\n",
    "                num=n \n",
    "            fi[i] = num \n",
    "            for j in np.arange(n):\n",
    "                if fi[i]==fi[j] and i!=j:\n",
    "                    fi[j]=prev\n",
    "                    break\n",
    "    def RandomMov(self,firefly:list,alpha:float,DataBoxes,BinData):\n",
    "        org = firefly.copy()\n",
    "        self.alphaStep(alpha,firefly[1])\n",
    "        SingleFi(firefly,DataBoxes,BinData)\n",
    "        if org[0]>firefly[0]:\n",
    "           firefly=org\n",
    "    def train(self,num_pop,gamma,Maxitr:int,DataBoxes:list[list[int]],BinData:list[int]):\n",
    "        self.pob =RandomPoblation(num_pop, np.array(DataBoxes))\n",
    "        n = len(DataBoxes)\n",
    "        fireflyPob = CalculateFi(self.pob,DataBoxes,BinData)\n",
    "        fireflyPob.sort(key=lambda x:x[0],reverse=True)\n",
    "        for _ in np.arange(Maxitr):\n",
    "            print(_)\n",
    "            alpha = np.floor(n-((_)/Maxitr)*(n))\n",
    "            fnum = len(fireflyPob)\n",
    "            for i in np.arange(fnum-1):\n",
    "                for j in np.arange(i+1,fnum):\n",
    "                    Ii = self.Intensity(fireflyPob[i],fireflyPob[j],gamma)\n",
    "                    Ij = self.Intensity(fireflyPob[j],fireflyPob[i],gamma) \n",
    "                    if Ii > Ij:\n",
    "                        fireflyPob[j][1] = self.BettaStep(fireflyPob[j][1],fireflyPob[i][1],gamma)\n",
    "                        self.RandomMov(firefly=fireflyPob[j],alpha=alpha,DataBoxes=DataBoxes,BinData=BinData)\n",
    "            self.RandomMov(firefly=fireflyPob[0],alpha=alpha,DataBoxes=DataBoxes,BinData=BinData)\n",
    "            fireflyPob.sort(key=lambda x:x[0],reverse=True)\n",
    "        return fireflyPob[0]"
   ]
  },
  {
   "cell_type": "code",
   "execution_count": 5,
   "metadata": {},
   "outputs": [
    {
     "ename": "KeyboardInterrupt",
     "evalue": "",
     "output_type": "error",
     "traceback": [
      "\u001b[1;31m---------------------------------------------------------------------------\u001b[0m",
      "\u001b[1;31mKeyboardInterrupt\u001b[0m                         Traceback (most recent call last)",
      "\u001b[1;32m~\\AppData\\Local\\Temp/ipykernel_6304/382924987.py\u001b[0m in \u001b[0;36m<module>\u001b[1;34m\u001b[0m\n\u001b[0;32m      3\u001b[0m \u001b[0mgamma\u001b[0m\u001b[1;33m=\u001b[0m\u001b[1;36m0.0004\u001b[0m\u001b[1;33m\u001b[0m\u001b[1;33m\u001b[0m\u001b[0m\n\u001b[0;32m      4\u001b[0m \u001b[0mffly\u001b[0m \u001b[1;33m=\u001b[0m \u001b[0mDFFA\u001b[0m\u001b[1;33m(\u001b[0m\u001b[1;33m)\u001b[0m\u001b[1;33m\u001b[0m\u001b[1;33m\u001b[0m\u001b[0m\n\u001b[1;32m----> 5\u001b[1;33m \u001b[0mbestff\u001b[0m \u001b[1;33m=\u001b[0m \u001b[0mffly\u001b[0m\u001b[1;33m.\u001b[0m\u001b[0mtrain\u001b[0m\u001b[1;33m(\u001b[0m\u001b[0mnum_pop\u001b[0m\u001b[1;33m=\u001b[0m\u001b[1;36m50\u001b[0m\u001b[1;33m,\u001b[0m\u001b[0mMaxitr\u001b[0m\u001b[1;33m=\u001b[0m\u001b[1;36m500\u001b[0m\u001b[1;33m,\u001b[0m\u001b[0mgamma\u001b[0m\u001b[1;33m=\u001b[0m\u001b[0mgamma\u001b[0m\u001b[1;33m,\u001b[0m\u001b[0mDataBoxes\u001b[0m\u001b[1;33m=\u001b[0m\u001b[0mdatos\u001b[0m\u001b[1;33m,\u001b[0m\u001b[0mBinData\u001b[0m\u001b[1;33m=\u001b[0m\u001b[0mcontenedor\u001b[0m\u001b[1;33m)\u001b[0m\u001b[1;33m\u001b[0m\u001b[1;33m\u001b[0m\u001b[0m\n\u001b[0m",
      "\u001b[1;32m~\\AppData\\Local\\Temp/ipykernel_6304/379712473.py\u001b[0m in \u001b[0;36mtrain\u001b[1;34m(self, num_pop, gamma, Maxitr, DataBoxes, BinData)\u001b[0m\n\u001b[0;32m     78\u001b[0m                     \u001b[1;32mif\u001b[0m \u001b[0mIi\u001b[0m \u001b[1;33m>\u001b[0m \u001b[0mIj\u001b[0m\u001b[1;33m:\u001b[0m\u001b[1;33m\u001b[0m\u001b[1;33m\u001b[0m\u001b[0m\n\u001b[0;32m     79\u001b[0m                         \u001b[0mfireflyPob\u001b[0m\u001b[1;33m[\u001b[0m\u001b[0mj\u001b[0m\u001b[1;33m]\u001b[0m\u001b[1;33m[\u001b[0m\u001b[1;36m1\u001b[0m\u001b[1;33m]\u001b[0m \u001b[1;33m=\u001b[0m \u001b[0mself\u001b[0m\u001b[1;33m.\u001b[0m\u001b[0mBettaStep\u001b[0m\u001b[1;33m(\u001b[0m\u001b[0mfireflyPob\u001b[0m\u001b[1;33m[\u001b[0m\u001b[0mj\u001b[0m\u001b[1;33m]\u001b[0m\u001b[1;33m[\u001b[0m\u001b[1;36m1\u001b[0m\u001b[1;33m]\u001b[0m\u001b[1;33m,\u001b[0m\u001b[0mfireflyPob\u001b[0m\u001b[1;33m[\u001b[0m\u001b[0mi\u001b[0m\u001b[1;33m]\u001b[0m\u001b[1;33m[\u001b[0m\u001b[1;36m1\u001b[0m\u001b[1;33m]\u001b[0m\u001b[1;33m,\u001b[0m\u001b[0mgamma\u001b[0m\u001b[1;33m)\u001b[0m\u001b[1;33m\u001b[0m\u001b[1;33m\u001b[0m\u001b[0m\n\u001b[1;32m---> 80\u001b[1;33m                         \u001b[0mself\u001b[0m\u001b[1;33m.\u001b[0m\u001b[0mRandomMov\u001b[0m\u001b[1;33m(\u001b[0m\u001b[0mfirefly\u001b[0m\u001b[1;33m=\u001b[0m\u001b[0mfireflyPob\u001b[0m\u001b[1;33m[\u001b[0m\u001b[0mj\u001b[0m\u001b[1;33m]\u001b[0m\u001b[1;33m,\u001b[0m\u001b[0malpha\u001b[0m\u001b[1;33m=\u001b[0m\u001b[0malpha\u001b[0m\u001b[1;33m,\u001b[0m\u001b[0mDataBoxes\u001b[0m\u001b[1;33m=\u001b[0m\u001b[0mDataBoxes\u001b[0m\u001b[1;33m,\u001b[0m\u001b[0mBinData\u001b[0m\u001b[1;33m=\u001b[0m\u001b[0mBinData\u001b[0m\u001b[1;33m)\u001b[0m\u001b[1;33m\u001b[0m\u001b[1;33m\u001b[0m\u001b[0m\n\u001b[0m\u001b[0;32m     81\u001b[0m             \u001b[0mself\u001b[0m\u001b[1;33m.\u001b[0m\u001b[0mRandomMov\u001b[0m\u001b[1;33m(\u001b[0m\u001b[0mfirefly\u001b[0m\u001b[1;33m=\u001b[0m\u001b[0mfireflyPob\u001b[0m\u001b[1;33m[\u001b[0m\u001b[1;36m0\u001b[0m\u001b[1;33m]\u001b[0m\u001b[1;33m,\u001b[0m\u001b[0malpha\u001b[0m\u001b[1;33m=\u001b[0m\u001b[0malpha\u001b[0m\u001b[1;33m,\u001b[0m\u001b[0mDataBoxes\u001b[0m\u001b[1;33m=\u001b[0m\u001b[0mDataBoxes\u001b[0m\u001b[1;33m,\u001b[0m\u001b[0mBinData\u001b[0m\u001b[1;33m=\u001b[0m\u001b[0mBinData\u001b[0m\u001b[1;33m)\u001b[0m\u001b[1;33m\u001b[0m\u001b[1;33m\u001b[0m\u001b[0m\n\u001b[0;32m     82\u001b[0m             \u001b[0mfireflyPob\u001b[0m\u001b[1;33m.\u001b[0m\u001b[0msort\u001b[0m\u001b[1;33m(\u001b[0m\u001b[0mkey\u001b[0m\u001b[1;33m=\u001b[0m\u001b[1;32mlambda\u001b[0m \u001b[0mx\u001b[0m\u001b[1;33m:\u001b[0m\u001b[0mx\u001b[0m\u001b[1;33m[\u001b[0m\u001b[1;36m0\u001b[0m\u001b[1;33m]\u001b[0m\u001b[1;33m,\u001b[0m\u001b[0mreverse\u001b[0m\u001b[1;33m=\u001b[0m\u001b[1;32mTrue\u001b[0m\u001b[1;33m)\u001b[0m\u001b[1;33m\u001b[0m\u001b[1;33m\u001b[0m\u001b[0m\n",
      "\u001b[1;32m~\\AppData\\Local\\Temp/ipykernel_6304/379712473.py\u001b[0m in \u001b[0;36mRandomMov\u001b[1;34m(self, firefly, alpha, DataBoxes, BinData)\u001b[0m\n\u001b[0;32m     61\u001b[0m         \u001b[0morg\u001b[0m \u001b[1;33m=\u001b[0m \u001b[0mfirefly\u001b[0m\u001b[1;33m.\u001b[0m\u001b[0mcopy\u001b[0m\u001b[1;33m(\u001b[0m\u001b[1;33m)\u001b[0m\u001b[1;33m\u001b[0m\u001b[1;33m\u001b[0m\u001b[0m\n\u001b[0;32m     62\u001b[0m         \u001b[0mself\u001b[0m\u001b[1;33m.\u001b[0m\u001b[0malphaStep\u001b[0m\u001b[1;33m(\u001b[0m\u001b[0malpha\u001b[0m\u001b[1;33m,\u001b[0m\u001b[0mfirefly\u001b[0m\u001b[1;33m[\u001b[0m\u001b[1;36m1\u001b[0m\u001b[1;33m]\u001b[0m\u001b[1;33m)\u001b[0m\u001b[1;33m\u001b[0m\u001b[1;33m\u001b[0m\u001b[0m\n\u001b[1;32m---> 63\u001b[1;33m         \u001b[0mSingleFi\u001b[0m\u001b[1;33m(\u001b[0m\u001b[0mfirefly\u001b[0m\u001b[1;33m,\u001b[0m\u001b[0mDataBoxes\u001b[0m\u001b[1;33m,\u001b[0m\u001b[0mBinData\u001b[0m\u001b[1;33m)\u001b[0m\u001b[1;33m\u001b[0m\u001b[1;33m\u001b[0m\u001b[0m\n\u001b[0m\u001b[0;32m     64\u001b[0m         \u001b[1;32mif\u001b[0m \u001b[0morg\u001b[0m\u001b[1;33m[\u001b[0m\u001b[1;36m0\u001b[0m\u001b[1;33m]\u001b[0m\u001b[1;33m>\u001b[0m\u001b[0mfirefly\u001b[0m\u001b[1;33m[\u001b[0m\u001b[1;36m0\u001b[0m\u001b[1;33m]\u001b[0m\u001b[1;33m:\u001b[0m\u001b[1;33m\u001b[0m\u001b[1;33m\u001b[0m\u001b[0m\n\u001b[0;32m     65\u001b[0m            \u001b[0mfirefly\u001b[0m\u001b[1;33m=\u001b[0m\u001b[0morg\u001b[0m\u001b[1;33m\u001b[0m\u001b[1;33m\u001b[0m\u001b[0m\n",
      "\u001b[1;32m~\\AppData\\Local\\Temp/ipykernel_6304/1153557034.py\u001b[0m in \u001b[0;36mSingleFi\u001b[1;34m(firefly, boxes, cont)\u001b[0m\n\u001b[0;32m      9\u001b[0m \u001b[1;32mdef\u001b[0m \u001b[0mSingleFi\u001b[0m\u001b[1;33m(\u001b[0m\u001b[0mfirefly\u001b[0m\u001b[1;33m:\u001b[0m\u001b[0mlist\u001b[0m\u001b[1;33m[\u001b[0m\u001b[0mfloat\u001b[0m\u001b[1;33m,\u001b[0m\u001b[0mlist\u001b[0m\u001b[1;33m[\u001b[0m\u001b[0mint\u001b[0m\u001b[1;33m]\u001b[0m\u001b[1;33m]\u001b[0m\u001b[1;33m,\u001b[0m\u001b[0mboxes\u001b[0m\u001b[1;33m,\u001b[0m\u001b[0mcont\u001b[0m\u001b[1;33m)\u001b[0m\u001b[1;33m:\u001b[0m\u001b[1;33m\u001b[0m\u001b[1;33m\u001b[0m\u001b[0m\n\u001b[0;32m     10\u001b[0m     \u001b[0mbin\u001b[0m\u001b[1;33m=\u001b[0m\u001b[0mBin\u001b[0m\u001b[1;33m(\u001b[0m\u001b[0mcont\u001b[0m\u001b[1;33m,\u001b[0m\u001b[0mlen\u001b[0m\u001b[1;33m(\u001b[0m\u001b[0mboxes\u001b[0m\u001b[1;33m)\u001b[0m\u001b[1;33m)\u001b[0m\u001b[1;33m\u001b[0m\u001b[1;33m\u001b[0m\u001b[0m\n\u001b[1;32m---> 11\u001b[1;33m     \u001b[0mDBLF2\u001b[0m\u001b[1;33m(\u001b[0m\u001b[0mbin\u001b[0m\u001b[1;33m,\u001b[0m\u001b[0mfirefly\u001b[0m\u001b[1;33m[\u001b[0m\u001b[1;36m1\u001b[0m\u001b[1;33m]\u001b[0m\u001b[1;33m,\u001b[0m\u001b[0mboxes\u001b[0m\u001b[1;33m)\u001b[0m\u001b[1;33m\u001b[0m\u001b[1;33m\u001b[0m\u001b[0m\n\u001b[0m\u001b[0;32m     12\u001b[0m     \u001b[0mfi\u001b[0m \u001b[1;33m=\u001b[0m \u001b[1;33m(\u001b[0m\u001b[0mbin\u001b[0m\u001b[1;33m.\u001b[0m\u001b[0mgetLoadVol\u001b[0m\u001b[1;33m(\u001b[0m\u001b[1;33m)\u001b[0m\u001b[1;33m/\u001b[0m\u001b[0mnp\u001b[0m\u001b[1;33m.\u001b[0m\u001b[0mprod\u001b[0m\u001b[1;33m(\u001b[0m\u001b[0mcont\u001b[0m\u001b[1;33m)\u001b[0m\u001b[1;33m)\u001b[0m\u001b[1;33m*\u001b[0m\u001b[0mbin\u001b[0m\u001b[1;33m.\u001b[0m\u001b[0mgetN\u001b[0m\u001b[1;33m(\u001b[0m\u001b[1;33m)\u001b[0m\u001b[1;33m\u001b[0m\u001b[1;33m\u001b[0m\u001b[0m\n\u001b[0;32m     13\u001b[0m     \u001b[0mfirefly\u001b[0m\u001b[1;33m[\u001b[0m\u001b[1;36m0\u001b[0m\u001b[1;33m]\u001b[0m \u001b[1;33m=\u001b[0m \u001b[0mfi\u001b[0m\u001b[1;33m\u001b[0m\u001b[1;33m\u001b[0m\u001b[0m\n",
      "\u001b[1;32mc:\\Users\\nicoo\\Desktop\\BPP3Dpython\\PackingH.py\u001b[0m in \u001b[0;36mDBLF2\u001b[1;34m(bin, itemsToPack, ITEMSDATA)\u001b[0m\n\u001b[0;32m     59\u001b[0m         \u001b[1;32mfor\u001b[0m \u001b[0mi\u001b[0m\u001b[1;33m,\u001b[0m\u001b[0mitemId\u001b[0m \u001b[1;32min\u001b[0m \u001b[0menumerate\u001b[0m\u001b[1;33m(\u001b[0m\u001b[0mitems\u001b[0m\u001b[1;33m)\u001b[0m\u001b[1;33m:\u001b[0m\u001b[1;33m\u001b[0m\u001b[1;33m\u001b[0m\u001b[0m\n\u001b[0;32m     60\u001b[0m             \u001b[0mitemV\u001b[0m \u001b[1;33m=\u001b[0m \u001b[0mITEMSDATA\u001b[0m\u001b[1;33m[\u001b[0m\u001b[0mitemId\u001b[0m\u001b[1;33m-\u001b[0m\u001b[1;36m1\u001b[0m\u001b[1;33m]\u001b[0m\u001b[1;33m\u001b[0m\u001b[1;33m\u001b[0m\u001b[0m\n\u001b[1;32m---> 61\u001b[1;33m             \u001b[1;32mif\u001b[0m \u001b[0mbin\u001b[0m\u001b[1;33m.\u001b[0m\u001b[0mPlacement\u001b[0m\u001b[1;33m(\u001b[0m \u001b[0mPosiblePoint\u001b[0m\u001b[1;33m=\u001b[0m \u001b[0mnp\u001b[0m\u001b[1;33m.\u001b[0m\u001b[0marray\u001b[0m\u001b[1;33m(\u001b[0m\u001b[0mpoint\u001b[0m\u001b[1;33m)\u001b[0m\u001b[1;33m+\u001b[0m \u001b[0mnp\u001b[0m\u001b[1;33m.\u001b[0m\u001b[0marray\u001b[0m\u001b[1;33m(\u001b[0m\u001b[0mitemV\u001b[0m\u001b[1;33m)\u001b[0m \u001b[1;33m)\u001b[0m\u001b[1;33m:\u001b[0m\u001b[1;33m\u001b[0m\u001b[1;33m\u001b[0m\u001b[0m\n\u001b[0m\u001b[0;32m     62\u001b[0m                 \u001b[1;32mif\u001b[0m \u001b[1;32mnot\u001b[0m \u001b[0mbin\u001b[0m\u001b[1;33m.\u001b[0m\u001b[0mOverlap\u001b[0m\u001b[1;33m(\u001b[0m\u001b[0mpos\u001b[0m\u001b[1;33m=\u001b[0m\u001b[0mpoint\u001b[0m\u001b[1;33m,\u001b[0m \u001b[0mbox\u001b[0m \u001b[1;33m=\u001b[0m  \u001b[0mitemV\u001b[0m\u001b[1;33m)\u001b[0m\u001b[1;33m:\u001b[0m\u001b[1;33m\u001b[0m\u001b[1;33m\u001b[0m\u001b[0m\n\u001b[0;32m     63\u001b[0m                     \u001b[0mIterateDBLF\u001b[0m\u001b[1;33m(\u001b[0m\u001b[0mitemV\u001b[0m\u001b[1;33m,\u001b[0m\u001b[0mpoint\u001b[0m\u001b[1;33m,\u001b[0m\u001b[0mbin\u001b[0m\u001b[1;33m)\u001b[0m\u001b[1;33m\u001b[0m\u001b[1;33m\u001b[0m\u001b[0m\n",
      "\u001b[1;31mKeyboardInterrupt\u001b[0m: "
     ]
    }
   ],
   "source": [
    "contenedor = UDLPROBLEM[\"UDL2\"][\"dimension\"]\n",
    "datos = UDLPROBLEM[\"UDL2\"][\"24boxes\"][2]\n",
    "gamma=0.0004\n",
    "ffly = DFFA()\n",
    "bestff = ffly.train(num_pop=50,Maxitr=500,gamma=gamma,DataBoxes=datos,BinData=contenedor)"
   ]
  },
  {
   "cell_type": "code",
   "execution_count": null,
   "metadata": {},
   "outputs": [],
   "source": [
    "from DataLecture import ExpotarJSON\n",
    "bin = Bin(contenedor,len(datos))\n",
    "DBLF2(bin,bestff[1],datos)\n",
    "print(bin.getN(),len(datos))\n",
    "print(bin.getLoadVol()/np.prod(contenedor))\n",
    "ExpotarJSON(\"C:/Users/nicoo/BPP/Assets/bbp.json\",bin.getBoxes(),bin.dimensions)"
   ]
  },
  {
   "cell_type": "code",
   "execution_count": null,
   "metadata": {},
   "outputs": [],
   "source": [
    "print('Num bjeto emp. ', bin.getN(),' num total: ',len(datos))\n",
    "print('chromosome: ', bestff[1])\n",
    "print(\"solution\" ,[ item.id for item in bin.getBoxes() ])\n",
    "print('Fi: ', bin.getLoadVol()/np.prod(contenedor))"
   ]
  },
  {
   "cell_type": "code",
   "execution_count": null,
   "metadata": {},
   "outputs": [],
   "source": []
  }
 ],
 "metadata": {
  "interpreter": {
   "hash": "6161e517c3d4b81215da96e8bcd392bc9974967b9dec3b65fc82e2786b592859"
  },
  "kernelspec": {
   "display_name": "Python 3.9.7 ('base')",
   "language": "python",
   "name": "python3"
  },
  "language_info": {
   "codemirror_mode": {
    "name": "ipython",
    "version": 3
   },
   "file_extension": ".py",
   "mimetype": "text/x-python",
   "name": "python",
   "nbconvert_exporter": "python",
   "pygments_lexer": "ipython3",
   "version": "3.9.7"
  },
  "orig_nbformat": 4
 },
 "nbformat": 4,
 "nbformat_minor": 2
}
