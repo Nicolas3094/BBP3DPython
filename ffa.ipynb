{
 "cells": [
  {
   "cell_type": "code",
   "execution_count": null,
   "metadata": {},
   "outputs": [],
   "source": [
    "f1 = [1,14,13,12,7,6,15,5,11,9,10,16,3,2,4,8]\n",
    "f2 = [1,14,13,12,15,5,7,6,11,9,10,16,3,2,4,8]\n",
    "def DiscreteDistance(arr1:list[int], arr2:list[int]):\n",
    "    count =0\n",
    "    n = len(arr1)\n",
    "    for i in np.arange(n-1):\n",
    "        if arr1[i] != arr2[i] and arr1[i+1] != arr2[i+1]:\n",
    "            count +=1\n",
    "    return (count/n)*10"
   ]
  },
  {
   "cell_type": "code",
   "execution_count": null,
   "metadata": {},
   "outputs": [],
   "source": [
    "DiscreteDistance(f1,f2)"
   ]
  }
 ],
 "metadata": {
  "language_info": {
   "name": "python"
  },
  "orig_nbformat": 4
 },
 "nbformat": 4,
 "nbformat_minor": 2
}
