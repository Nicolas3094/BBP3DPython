{
 "cells": [
  {
   "cell_type": "code",
   "execution_count": 1,
   "metadata": {},
   "outputs": [],
   "source": [
    "import numpy as np\n",
    "from BPmodule.BPGen import PROBLEM2, PROBLEM3, PROBLEM4, PROBLEM5\n",
    "from BPnumba.GeneticOperators import CreateHeuristicPob,Ind\n",
    "from BPnumba.BPPdat import DBLF,DBLF2,create_Bin\n",
    "from numba import njit, objmode, prange\n",
    "import time\n",
    "from numba.typed import List as NumbaList\n",
    "from typing import List\n",
    "from BPmodule.DataLecture import ExpotarJSON,PossiblePositions"
   ]
  },
  {
   "cell_type": "code",
   "execution_count": 2,
   "metadata": {},
   "outputs": [],
   "source": [
    "P2A1 = PROBLEM2[0]\n",
    "P2A2 = PROBLEM2[1]\n",
    "P3A1 = PROBLEM3[0]\n",
    "P3A2 = PROBLEM3[1]\n",
    "P4A1 = PROBLEM4[0]\n",
    "P4A2 = PROBLEM4[1]\n",
    "P5A1 = PROBLEM5[0]\n",
    "P5A2 = PROBLEM5[1]\n",
    "\n",
    "#PATHBOX = \"C:/Users/nicoo/BPP/Assets/bpp.json\"\n",
    "#PATHPOINT = \"C:/Users/nicoo/BPP/Assets/points.json\""
   ]
  },
  {
   "cell_type": "code",
   "execution_count": 3,
   "metadata": {},
   "outputs": [
    {
     "data": {
      "text/plain": [
       "50"
      ]
     },
     "execution_count": 3,
     "metadata": {},
     "output_type": "execute_result"
    }
   ],
   "source": [
    "contenedor = P3A1[0][0]\n",
    "datos = P3A1[1]\n",
    "n = len(datos)\n",
    "sameInstance = CreateHeuristicPob(20,datos,True)\n",
    "n"
   ]
  },
  {
   "cell_type": "code",
   "execution_count": 4,
   "metadata": {},
   "outputs": [
    {
     "data": {
      "text/plain": [
       "0"
      ]
     },
     "execution_count": 4,
     "metadata": {},
     "output_type": "execute_result"
    }
   ],
   "source": [
    "suma = 0\n",
    "for i in np.arange(n):\n",
    "    suma += np.prod(datos[i])\n",
    "suma-np.prod(contenedor)"
   ]
  },
  {
   "cell_type": "code",
   "execution_count": 5,
   "metadata": {},
   "outputs": [
    {
     "data": {
      "text/plain": [
       "ListType[int64]([3, 4, 1, 2, 6, 7, 5, 11, 12, 24, 26, 23, 25, 16, 15, 14, 13, 19, 18, 17, 31, 32, 33, 34, 21, 20, 22, 9, 8, 10, 45, 49, 46, 50, 43, 47, 44, 48, 27, 28, 29, 30, 35, 39, 37, 41, 36, 40, 38, 42, ...])"
      ]
     },
     "execution_count": 5,
     "metadata": {},
     "output_type": "execute_result"
    }
   ],
   "source": [
    "ind = Ind(NumbaList(sameInstance[1]))\n",
    "ind.genome"
   ]
  },
  {
   "cell_type": "code",
   "execution_count": 6,
   "metadata": {},
   "outputs": [
    {
     "name": "stdout",
     "output_type": "stream",
     "text": [
      "0.999766\n",
      "48 [3, 4, 1, 2, 6, 7, 5, 11, 12, 24, 23, 16, 15, 14, 13, 26, 25, 19, 18, 17, 31, 32, 33, 34, 21, 20, 22, 45, 46, 43, 44, 27, 28, 49, 50, 47, 48, 9, 8, 10, 29, 30, 35, 37, 38, 39, 41, 42, ...]\n"
     ]
    }
   ],
   "source": [
    "bin = create_Bin(NumbaList(contenedor))\n",
    "DBLF2(bin,ind.genome,datos)\n",
    "print(bin.getLoadVol()/np.prod(contenedor))\n",
    "print(bin.getN(),bin.getBoxes())"
   ]
  },
  {
   "cell_type": "code",
   "execution_count": 7,
   "metadata": {},
   "outputs": [
    {
     "name": "stdout",
     "output_type": "stream",
     "text": [
      "0.999766\n",
      "48 [3, 4, 1, 2, 6, 7, 5, 11, 12, 24, 26, 23, 25, 16, 15, 14, 13, 19, 18, 17, 31, 32, 33, 34, 21, 20, 22, 9, 8, 10, 45, 49, 46, 50, 43, 47, 44, 48, 27, 28, 29, 30, 35, 39, 37, 41, 38, 42, ...]\n"
     ]
    }
   ],
   "source": [
    "bin = create_Bin(NumbaList(contenedor))\n",
    "DBLF(bin,ind.genome,datos)\n",
    "print(bin.getLoadVol()/np.prod(contenedor))\n",
    "print(bin.getN(),bin.getBoxes())"
   ]
  },
  {
   "cell_type": "code",
   "execution_count": 8,
   "metadata": {},
   "outputs": [],
   "source": [
    "\n",
    "#ExpotarJSON(PATHBOX,bin.getPositions(),bin.getBoxes(),datos,contenedor)\n",
    "#PossiblePositions(PATHPOINT,bin.getPositions())"
   ]
  },
  {
   "cell_type": "code",
   "execution_count": null,
   "metadata": {},
   "outputs": [],
   "source": []
  }
 ],
 "metadata": {
  "interpreter": {
   "hash": "6161e517c3d4b81215da96e8bcd392bc9974967b9dec3b65fc82e2786b592859"
  },
  "kernelspec": {
   "display_name": "Python 3.9.7 ('base')",
   "language": "python",
   "name": "python3"
  },
  "language_info": {
   "codemirror_mode": {
    "name": "ipython",
    "version": 3
   },
   "file_extension": ".py",
   "mimetype": "text/x-python",
   "name": "python",
   "nbconvert_exporter": "python",
   "pygments_lexer": "ipython3",
   "version": "3.9.7"
  },
  "orig_nbformat": 4
 },
 "nbformat": 4,
 "nbformat_minor": 2
}
