{
 "cells": [
  {
   "cell_type": "code",
   "execution_count": 1,
   "metadata": {},
   "outputs": [],
   "source": [
    "import numpy as np\n",
    "from BPmodule.BPGen import PROBLEM2, PROBLEM3, PROBLEM4, PROBLEM5\n",
    "from BPnumba.GeneticOperators import CreateHeuristicPob,Ind\n",
    "from BPnumba.BPPdat import NumDBLF,create_Bin,Bin,Placement,Overlap,IterateDBLF\n",
    "from BPnumba.PqueueNumba import CreatePriorityQueue\n",
    "from numba import njit, objmode, prange\n",
    "import time\n",
    "from numba.typed import List as NumbaList\n",
    "from typing import List"
   ]
  },
  {
   "cell_type": "code",
   "execution_count": 2,
   "metadata": {},
   "outputs": [],
   "source": [
    "P2A1 = PROBLEM2[0]\n",
    "P2A2 = PROBLEM2[1]\n",
    "P3A1 = PROBLEM3[0]\n",
    "P3A2 = PROBLEM3[1]\n",
    "P4A1 = PROBLEM4[0]\n",
    "P4A2 = PROBLEM4[1]\n",
    "P5A1 = PROBLEM5[0]\n",
    "P5A2 = PROBLEM5[1]"
   ]
  },
  {
   "cell_type": "code",
   "execution_count": 3,
   "metadata": {},
   "outputs": [
    {
     "data": {
      "text/plain": [
       "29"
      ]
     },
     "execution_count": 3,
     "metadata": {},
     "output_type": "execute_result"
    }
   ],
   "source": [
    "contenedor = P2A1[0][0]\n",
    "datos = P2A1[1]\n",
    "n = len(datos)\n",
    "sameInstance = CreateHeuristicPob(20,datos,True)\n",
    "n"
   ]
  },
  {
   "cell_type": "code",
   "execution_count": 4,
   "metadata": {},
   "outputs": [
    {
     "data": {
      "text/plain": [
       "ListType[int64]([3, 2, 5, 4, 1, 26, 28, 27, 29, 19, 21, 18, 20, 6, 8, 7, 9, 10, 12, 11, 13, 22, 24, 23, 25, 15, 17, 14, 16, ...])"
      ]
     },
     "execution_count": 4,
     "metadata": {},
     "output_type": "execute_result"
    }
   ],
   "source": [
    "ind = Ind(NumbaList(sameInstance[1]))\n",
    "ind.genome"
   ]
  },
  {
   "cell_type": "code",
   "execution_count": 5,
   "metadata": {},
   "outputs": [],
   "source": [
    "@njit\n",
    "def DBLF(bin:Bin, itemsToPack:List[int], BoxesData:List[List[int]]):\n",
    "    lstP = CreatePriorityQueue(NumbaList([0,2,1]))\n",
    "    lstP.push(NumbaList([0,0,0]))\n",
    "    for i in np.arange(len(itemsToPack)):\n",
    "        for j in np.arange(lstP.size()):\n",
    "            pt = lstP.getPt(j)\n",
    "            boxID = itemsToPack[i]\n",
    "            itemV = BoxesData[boxID-1]\n",
    "            if  Placement(bin.dimensions,NumbaList([pt[0]+itemV[0],pt[1]+itemV[1],pt[2]+itemV[2]])):\n",
    "                intersect = Overlap(pt,boxID,BoxesData, bin.getBoxes(),bin.getPositions())\n",
    "                if intersect:\n",
    "                    continue\n",
    "                else:\n",
    "                    lstP.delPt(j)\n",
    "                    IterateDBLF(pt,boxID,BoxesData,bin.getBoxes(),bin.getPositions())\n",
    "                    bin.addBox(boxID,pt,itemV)\n",
    "                    for k in np.arange(3):\n",
    "                        if pt[k] + itemV[k] < bin.dimensions[k]:\n",
    "                            pt[k] += itemV[k]\n",
    "                            lstP.push(NumbaList([pt[0],pt[1],pt[2]]))\n",
    "                            pt[k] -= itemV[k]\n",
    "                    lstP.eliminateDuplicates()                   \n",
    "                    break\n",
    "    lstP.printQ()"
   ]
  },
  {
   "cell_type": "code",
   "execution_count": 6,
   "metadata": {},
   "outputs": [
    {
     "name": "stdout",
     "output_type": "stream",
     "text": [
      "[39, 49, 48, ...]\n",
      "[39, 49, 49, ...]\n",
      "[45, 49, 48, ...]\n",
      "[45, 49, 49, ...]\n",
      "[49, 42, 48, ...]\n",
      "[49, 42, 49, ...]\n",
      "0.999808\n",
      "27 [3, 2, 5, 4, 1, 26, 28, 27, 29, 19, 21, 18, 20, 6, 8, 7, 10, 12, 11, 22, 24, 23, 25, 15, 17, 14, 16, ...]\n"
     ]
    }
   ],
   "source": [
    "bin = create_Bin(NumbaList(contenedor))\n",
    "DBLF(bin,ind.genome,datos)\n",
    "print(bin.getLoadVol()/np.prod(contenedor))\n",
    "print(bin.getN(),bin.getBoxes())"
   ]
  },
  {
   "cell_type": "code",
   "execution_count": null,
   "metadata": {},
   "outputs": [],
   "source": []
  }
 ],
 "metadata": {
  "interpreter": {
   "hash": "87e33b45fe6ce535d8335dace4aac9a5bd82763cdf92e61610f46d04c830148b"
  },
  "kernelspec": {
   "display_name": "Python 3.9.7 ('base')",
   "language": "python",
   "name": "python3"
  },
  "language_info": {
   "codemirror_mode": {
    "name": "ipython",
    "version": 3
   },
   "file_extension": ".py",
   "mimetype": "text/x-python",
   "name": "python",
   "nbconvert_exporter": "python",
   "pygments_lexer": "ipython3",
   "version": "3.9.7"
  },
  "orig_nbformat": 4
 },
 "nbformat": 4,
 "nbformat_minor": 2
}
