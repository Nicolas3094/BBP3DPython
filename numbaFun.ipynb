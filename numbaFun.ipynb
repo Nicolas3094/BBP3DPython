{
 "cells": [
  {
   "cell_type": "code",
   "execution_count": null,
   "metadata": {},
   "outputs": [],
   "source": [
    "import numpy as np\n",
    "import random\n",
    "from NumfaFun import CreatePoblation,NumDBLF,create_Bin,NumDBLF\n",
    "from numba.typed import List as NumbaList\n",
    "from BPGen import UDLPROBLEM,PROBLEM2\n",
    "from numba import float64,float32,types,prange ,typed, int32,int64,njit,deferred_type,boolean,vectorize\n",
    "from typing import List\n",
    "from collections import OrderedDict\n",
    "from numba.experimental import jitclass\n",
    "from numba.typed import Dict\n",
    "from collections import OrderedDict\n"
   ]
  },
  {
   "cell_type": "code",
   "execution_count": null,
   "metadata": {},
   "outputs": [],
   "source": [
    "specff = OrderedDict()\n",
    "specff['brightness'] = types.float64\n",
    "specff['position'] = types.ListType(types.int64)\n",
    "@jitclass(specff)\n",
    "class DFF:\n",
    "    def __init__(self,genome:List[int] ):\n",
    "         self.brightness = 0\n",
    "         self.position = genome\n",
    "ff_type = deferred_type()\n",
    "\n",
    "@njit\n",
    "def make_firefly(data:List[int]):\n",
    "    return DFF(data)\n",
    "ff_type.define(DFF.class_type.instance_type)\n",
    "make_firefly(NumbaList([0,0,0]))\n",
    "NumDBLF(create_Bin(NumbaList([0,0,0])),NumbaList([1]),NumbaList([[1,1,1]]))"
   ]
  },
  {
   "cell_type": "code",
   "execution_count": null,
   "metadata": {},
   "outputs": [],
   "source": [
    "@njit(nogil=True)\n",
    "def CalcFi(gene, boxesData, container)->float:\n",
    "    bin = create_Bin(NumbaList(container))\n",
    "    boxesData = NumbaList(boxesData)\n",
    "    gene = NumbaList(gene)\n",
    "    NumDBLF(bin,gene,boxesData)\n",
    "    resp = (bin.getLoadVol()/(container[0]*container[1]*container[2]))*len(boxesData)\n",
    "    return resp\n",
    "CalcFi(NumbaList([1]),NumbaList([[0,0,0]]),NumbaList([1,1,1]))"
   ]
  },
  {
   "cell_type": "code",
   "execution_count": null,
   "metadata": {},
   "outputs": [],
   "source": [
    "@njit(parallel=True)\n",
    "def InstanceFFn(pob:List[List[int]],boxesData:List[List[int]], container:List[int]):\n",
    "    lst = []\n",
    "    for i in prange(len(pob)):\n",
    "        ff = make_firefly(NumbaList(pob[i]))\n",
    "        ff.brightness = CalcFi(ff.position,boxesData,container)\n",
    "        lst.append(ff)\n",
    "    return lst\n",
    "InstanceFFn(NumbaList([[0]]),NumbaList([[0,0,0]]),NumbaList([1,1,1]))"
   ]
  },
  {
   "cell_type": "code",
   "execution_count": null,
   "metadata": {},
   "outputs": [],
   "source": [
    "P2A1 = PROBLEM2[0]\n",
    "P2A2 = PROBLEM2[1]\n",
    "\n",
    "contenedor = P2A1[0]\n",
    "datos = P2A1[1]\n",
    "\n",
    "pob = CreatePoblation(10,NumbaList(datos))"
   ]
  },
  {
   "cell_type": "code",
   "execution_count": null,
   "metadata": {},
   "outputs": [],
   "source": [
    "bst = InstanceFFn(NumbaList(pob),NumbaList(datos),NumbaList(contenedor))\n"
   ]
  },
  {
   "cell_type": "code",
   "execution_count": null,
   "metadata": {},
   "outputs": [],
   "source": []
  }
 ],
 "metadata": {
  "interpreter": {
   "hash": "6161e517c3d4b81215da96e8bcd392bc9974967b9dec3b65fc82e2786b592859"
  },
  "kernelspec": {
   "display_name": "Python 3.9.7 ('base')",
   "language": "python",
   "name": "python3"
  },
  "language_info": {
   "codemirror_mode": {
    "name": "ipython",
    "version": 3
   },
   "file_extension": ".py",
   "mimetype": "text/x-python",
   "name": "python",
   "nbconvert_exporter": "python",
   "pygments_lexer": "ipython3",
   "version": "3.9.7"
  },
  "orig_nbformat": 4
 },
 "nbformat": 4,
 "nbformat_minor": 2
}
